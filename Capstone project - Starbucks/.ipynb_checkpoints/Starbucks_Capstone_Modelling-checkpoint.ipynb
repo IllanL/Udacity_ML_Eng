{
 "cells": [
  {
   "cell_type": "markdown",
   "metadata": {},
   "source": [
    "# Starbucks - Capstone project\n",
    "\n",
    "<br>\n",
    "<br>\n",
    "\n",
    "<img src='images/st02.png' width = 400>\n",
    "\n",
    "<br>\n",
    "\n",
    "\n",
    "# Modelling\n",
    "\n",
    "Along our first script we have explored our data, adapting formats, making it look prettier, and extracting several new features in the process.\n",
    "\n",
    "This first part was more the _\"Data Engineering-like\"_ part of the job.\n",
    "\n",
    "In this second part, we will focus in our models:"
   ]
  },
  {
   "cell_type": "markdown",
   "metadata": {},
   "source": [
    "# 1) Loading required packages and reading in the files"
   ]
  },
  {
   "cell_type": "code",
   "execution_count": 32,
   "metadata": {},
   "outputs": [],
   "source": [
    "import pandas as pd\n",
    "import numpy as np\n",
    "import math\n",
    "import json\n",
    "import os\n",
    "import datetime as dt\n",
    "import matplotlib.pyplot as plt\n",
    "import seaborn as sns\n",
    "%matplotlib inline"
   ]
  },
  {
   "cell_type": "code",
   "execution_count": 33,
   "metadata": {},
   "outputs": [],
   "source": [
    "plt.rcParams['figure.figsize'] = [15, 5]"
   ]
  },
  {
   "cell_type": "code",
   "execution_count": 34,
   "metadata": {},
   "outputs": [],
   "source": [
    "# read in the csv files created along our first script:\n",
    "\n",
    "clean_profile_expanded = pd.read_csv('treated_data/clean_profile_expanded.csv', sep=';', )\n",
    "total_matched_offers = pd.read_csv('treated_data/total_matched_offers.csv', sep=';')"
   ]
  },
  {
   "cell_type": "markdown",
   "metadata": {},
   "source": [
    "# 2) Determining target variable and benchmark model"
   ]
  },
  {
   "cell_type": "markdown",
   "metadata": {},
   "source": [
    "<img src='images/h2.JPG' width=600>\n",
    "\n",
    "That has been a lot of trouble, but for a reason.\n",
    "\n",
    "Now we have several features at our disposal in our clean_profile_expanded dataframe."
   ]
  },
  {
   "cell_type": "markdown",
   "metadata": {},
   "source": [
    "**GENERAL BENCHMARK:**\n",
    "    \n",
    "We will define the current success ratio rate as the following:\n",
    "\n",
    "$SR = n_{offers sent}/n_{offers redeemed}$\n",
    "\n",
    "The first benchmark for our model will be:"
   ]
  },
  {
   "cell_type": "code",
   "execution_count": 35,
   "metadata": {},
   "outputs": [
    {
     "data": {
      "text/plain": [
       "0.6098381609368245"
      ]
     },
     "execution_count": 35,
     "metadata": {},
     "output_type": "execute_result"
    }
   ],
   "source": [
    "total_matched_offers['y'].sum()/total_matched_offers['y'].count()  "
   ]
  },
  {
   "cell_type": "markdown",
   "metadata": {},
   "source": [
    "So, at this moment, the massive emailing campaign is getting a success probability of about 61%."
   ]
  },
  {
   "cell_type": "markdown",
   "metadata": {},
   "source": [
    "## 3) Customer segmentation"
   ]
  },
  {
   "cell_type": "markdown",
   "metadata": {},
   "source": [
    "We could see above a glance of the different success rates the offers have on the customers.\n",
    "\n",
    "At this point, we want to remember that we decided to divide our users in highly succeptible to our offers, somewhat curious and those not at all interested."
   ]
  },
  {
   "cell_type": "code",
   "execution_count": 36,
   "metadata": {},
   "outputs": [
    {
     "data": {
      "image/png": "[encoded data removed]",
      "text/plain": [
       "<Figure size 1080x360 with 1 Axes>"
      ]
     },
     "metadata": {
      "needs_background": "light"
     },
     "output_type": "display_data"
    }
   ],
   "source": [
    "clean_profile_expanded['score'].value_counts().plot('bar');"
   ]
  },
  {
   "cell_type": "markdown",
   "metadata": {},
   "source": [
    "We can see that, in general, our customer base responds well to our offers.\n",
    "\n",
    "Also, the ammount of people we cannot decide whether are interested or not, does not constitute a big group.\n",
    "\n",
    "Now, we are going to check the correlation of the rest of our variables with our target variable.\n",
    "\n",
    "But, before, there are some characteristics that are not properly treated: indeed, sex, or group age have not been numerically defined, so there will be no information on their correlations, although we have seen in our exploration that these variables have an inpact on our target variable (the offer acceptance rate):"
   ]
  },
  {
   "cell_type": "code",
   "execution_count": 37,
   "metadata": {},
   "outputs": [],
   "source": [
    "pos = len(clean_profile_expanded.columns) - 1\n",
    "\n",
    "for col in ['gender', 'age_group']:\n",
    "    col_dict = dict(clean_profile_expanded.groupby(col)['score'].mean())\n",
    "    clean_profile_expanded.insert(pos, col+'_n', clean_profile_expanded[col].apply(lambda x: col_dict[x]))"
   ]
  },
  {
   "cell_type": "code",
   "execution_count": 38,
   "metadata": {},
   "outputs": [
    {
     "data": {
      "text/plain": [
       "age                    0.134886\n",
       "income                 0.293226\n",
       "year_bmo              -0.244421\n",
       "month_bmo              0.031364\n",
       "day_bmo               -0.004198\n",
       "seniority              0.247225\n",
       "tot_offers_received    0.037260\n",
       "tot_am_spent           0.513247\n",
       "mean_resp_t           -0.660342\n",
       "max_resp_t            -0.632907\n",
       "min_resp_t            -0.675990\n",
       "nbr_pur                0.343184\n",
       "tot_am_offers          0.386550\n",
       "pur_interval          -0.257820\n",
       "age_group_n            0.150874\n",
       "gender_n               0.213288\n",
       "score                  1.000000\n",
       "Name: score, dtype: float64"
      ]
     },
     "execution_count": 38,
     "metadata": {},
     "output_type": "execute_result"
    },
    {
     "data": {
      "image/png": "[encoded data removed]",
      "text/plain": [
       "<Figure size 1080x360 with 1 Axes>"
      ]
     },
     "metadata": {
      "needs_background": "light"
     },
     "output_type": "display_data"
    }
   ],
   "source": [
    "clean_profile_expanded.corr()['score'].plot('bar')\n",
    "clean_profile_expanded.corr()['score']"
   ]
  },
  {
   "cell_type": "markdown",
   "metadata": {},
   "source": [
    "We can see that we have several strong correlations, both positive and negative.\n",
    "\n",
    "But also, we suspect many of our variables are intercorrelated. Particularly, the max, min and mean times of response to an offer should be heavily correlated among themselves.\n",
    "\n",
    "Let's check it out:"
   ]
  },
  {
   "cell_type": "code",
   "execution_count": 39,
   "metadata": {},
   "outputs": [
    {
     "data": {
      "text/plain": [
       "<matplotlib.axes._subplots.AxesSubplot at 0x1c86c7da8d0>"
      ]
     },
     "execution_count": 39,
     "metadata": {},
     "output_type": "execute_result"
    },
    {
     "data": {
      "image/png": "[encoded data removed]",
      "text/plain": [
       "<Figure size 864x576 with 2 Axes>"
      ]
     },
     "metadata": {
      "needs_background": "light"
     },
     "output_type": "display_data"
    }
   ],
   "source": [
    "cust_feat_list = list(clean_profile_expanded.columns)\n",
    "cust_feat_list.remove('score')\n",
    "\n",
    "figure1 = plt.figure(figsize = (12,8))\n",
    "cust_corr_matrix_df = clean_profile_expanded[cust_feat_list].corr()\n",
    "sns.heatmap(cust_corr_matrix_df.abs())"
   ]
  },
  {
   "cell_type": "markdown",
   "metadata": {},
   "source": [
    "We can see that we guessed correctly about the max, min and mean response times.\n",
    "\n",
    "But we have also several other high correlations. We are going now to take a closer look, by signaling those correlations that trespass some threshold:"
   ]
  },
  {
   "cell_type": "code",
   "execution_count": 40,
   "metadata": {},
   "outputs": [
    {
     "data": {
      "text/plain": [
       "age                                [age_group_n]\n",
       "income                                        []\n",
       "year_bmo                                      []\n",
       "month_bmo                                     []\n",
       "day_bmo                                       []\n",
       "seniority                              [nbr_pur]\n",
       "tot_offers_received                           []\n",
       "tot_am_spent                     [tot_am_offers]\n",
       "mean_resp_t             [max_resp_t, min_resp_t]\n",
       "max_resp_t             [mean_resp_t, min_resp_t]\n",
       "min_resp_t             [mean_resp_t, max_resp_t]\n",
       "nbr_pur                              [seniority]\n",
       "tot_am_offers                     [tot_am_spent]\n",
       "pur_interval                                  []\n",
       "age_group_n                                [age]\n",
       "gender_n                                      []\n",
       "dtype: object"
      ]
     },
     "execution_count": 40,
     "metadata": {},
     "output_type": "execute_result"
    }
   ],
   "source": [
    "threshold = 0.4\n",
    "cust_corr_matrix_df.apply(lambda x: list(set(x[x>threshold].index) - set([x.name])))                       "
   ]
  },
  {
   "cell_type": "markdown",
   "metadata": {},
   "source": [
    "Appart from those stated above, we have also high correlations between:\n",
    "\n",
    "**age - age_group_n**\n",
    "\n",
    "We were expecting this one. Even when the relationship between these two values is not direct, the second is in some way derived from the first (we have grouped people by age and deducted their behavior from those groups).\n",
    "\n",
    "We will drop the later.\n",
    "    \n",
    "**seniority - nbr_pur**\n",
    "\n",
    "Seems reasonable that a certain correlation exists between the number of years a client has been registered, and the number of purchases the same client has performed. But both variables doesn't share a common origin that could lead us to suspect, both are derived from the same information. We will keep both.\n",
    "\n",
    "**tot_am_spent - tot_am_offers**\n",
    "\n",
    "These variables represent the money a client has spent in general, and the ammount the same client has spent on offers. As before, a certain level of correlation is expected but again, these two pieces of information don't share a common origin.\n",
    "\n",
    "But, perhaps for this case, the substitution of one of the variables (or both) for some combination might be more insightful.\n",
    "We will try:\n",
    "\n",
    "tot_am_spent - tot_am_offers\n",
    "\n",
    "tot_am_offers/tot_am_spent"
   ]
  },
  {
   "cell_type": "code",
   "execution_count": 41,
   "metadata": {},
   "outputs": [],
   "source": [
    "clean_profile_expanded['non_offers_spent'] = clean_profile_expanded['tot_am_spent'] - clean_profile_expanded['tot_am_offers']\n",
    "clean_profile_expanded['offers_spend_share'] = clean_profile_expanded['tot_am_offers'] / clean_profile_expanded['tot_am_spent']"
   ]
  },
  {
   "cell_type": "code",
   "execution_count": 42,
   "metadata": {},
   "outputs": [
    {
     "data": {
      "text/html": [
       "<div>\n",
       "<style scoped>\n",
       "    .dataframe tbody tr th:only-of-type {\n",
       "        vertical-align: middle;\n",
       "    }\n",
       "\n",
       "    .dataframe tbody tr th {\n",
       "        vertical-align: top;\n",
       "    }\n",
       "\n",
       "    .dataframe thead th {\n",
       "        text-align: right;\n",
       "    }\n",
       "</style>\n",
       "<table border=\"1\" class=\"dataframe\">\n",
       "  <thead>\n",
       "    <tr style=\"text-align: right;\">\n",
       "      <th></th>\n",
       "      <th>tot_am_spent</th>\n",
       "      <th>tot_am_offers</th>\n",
       "      <th>non_offers_spent</th>\n",
       "      <th>offers_spend_share</th>\n",
       "      <th>score</th>\n",
       "    </tr>\n",
       "  </thead>\n",
       "  <tbody>\n",
       "    <tr>\n",
       "      <th>tot_am_spent</th>\n",
       "      <td>1.000000</td>\n",
       "      <td>0.647433</td>\n",
       "      <td>0.801806</td>\n",
       "      <td>0.082266</td>\n",
       "      <td>0.513247</td>\n",
       "    </tr>\n",
       "    <tr>\n",
       "      <th>tot_am_offers</th>\n",
       "      <td>0.647433</td>\n",
       "      <td>1.000000</td>\n",
       "      <td>0.063683</td>\n",
       "      <td>0.444984</td>\n",
       "      <td>0.386550</td>\n",
       "    </tr>\n",
       "    <tr>\n",
       "      <th>non_offers_spent</th>\n",
       "      <td>0.801806</td>\n",
       "      <td>0.063683</td>\n",
       "      <td>1.000000</td>\n",
       "      <td>-0.242267</td>\n",
       "      <td>0.368981</td>\n",
       "    </tr>\n",
       "    <tr>\n",
       "      <th>offers_spend_share</th>\n",
       "      <td>0.082266</td>\n",
       "      <td>0.444984</td>\n",
       "      <td>-0.242267</td>\n",
       "      <td>1.000000</td>\n",
       "      <td>0.398587</td>\n",
       "    </tr>\n",
       "    <tr>\n",
       "      <th>score</th>\n",
       "      <td>0.513247</td>\n",
       "      <td>0.386550</td>\n",
       "      <td>0.368981</td>\n",
       "      <td>0.398587</td>\n",
       "      <td>1.000000</td>\n",
       "    </tr>\n",
       "  </tbody>\n",
       "</table>\n",
       "</div>"
      ],
      "text/plain": [
       "                    tot_am_spent  tot_am_offers  non_offers_spent  \\\n",
       "tot_am_spent            1.000000       0.647433          0.801806   \n",
       "tot_am_offers           0.647433       1.000000          0.063683   \n",
       "non_offers_spent        0.801806       0.063683          1.000000   \n",
       "offers_spend_share      0.082266       0.444984         -0.242267   \n",
       "score                   0.513247       0.386550          0.368981   \n",
       "\n",
       "                    offers_spend_share     score  \n",
       "tot_am_spent                  0.082266  0.513247  \n",
       "tot_am_offers                 0.444984  0.386550  \n",
       "non_offers_spent             -0.242267  0.368981  \n",
       "offers_spend_share            1.000000  0.398587  \n",
       "score                         0.398587  1.000000  "
      ]
     },
     "execution_count": 42,
     "metadata": {},
     "output_type": "execute_result"
    }
   ],
   "source": [
    "corr_cols = ['tot_am_spent', 'tot_am_offers', 'non_offers_spent', 'offers_spend_share', 'score']\n",
    "clean_profile_expanded[corr_cols].corr()"
   ]
  },
  {
   "cell_type": "code",
   "execution_count": 91,
   "metadata": {},
   "outputs": [
    {
     "data": {
      "text/plain": [
       "<matplotlib.axes._subplots.AxesSubplot at 0x1c8694762e8>"
      ]
     },
     "execution_count": 91,
     "metadata": {},
     "output_type": "execute_result"
    },
    {
     "data": {
      "image/png": "[encoded data removed]",
      "text/plain": [
       "<Figure size 864x576 with 2 Axes>"
      ]
     },
     "metadata": {
      "needs_background": "light"
     },
     "output_type": "display_data"
    }
   ],
   "source": [
    "dr_cols = ['gender', \n",
    "           'date_bmo', \n",
    "           'year_bmo', \n",
    "           'month_bmo', \n",
    "           'day_bmo',\n",
    "           'age_group',\n",
    "           'mean_resp_t', \n",
    "           'max_resp_t', \n",
    "           'tot_am_spent', \n",
    "           'offers_spend_share',\n",
    "           'age_group_n']\n",
    "\n",
    "clean_profile_for_mod = clean_profile_expanded.drop(dr_cols, axis=1)\n",
    "\n",
    "figure2 = plt.figure(figsize = (12,8))\n",
    "sns.heatmap(clean_profile_for_mod.corr())"
   ]
  },
  {
   "cell_type": "code",
   "execution_count": 92,
   "metadata": {},
   "outputs": [
    {
     "data": {
      "text/plain": [
       "age                             []\n",
       "income                          []\n",
       "seniority                [nbr_pur]\n",
       "tot_offers_received             []\n",
       "min_resp_t                      []\n",
       "nbr_pur                [seniority]\n",
       "tot_am_offers                   []\n",
       "pur_interval                    []\n",
       "gender_n                        []\n",
       "score                           []\n",
       "non_offers_spent                []\n",
       "dtype: object"
      ]
     },
     "execution_count": 92,
     "metadata": {},
     "output_type": "execute_result"
    }
   ],
   "source": [
    "threshold = 0.4\n",
    "clean_profile_for_mod.corr().apply(lambda x: list(set(x[x>threshold].index) - set([x.name])))"
   ]
  },
  {
   "cell_type": "markdown",
   "metadata": {},
   "source": [
    "# 4) Benchmark model"
   ]
  },
  {
   "cell_type": "code",
   "execution_count": 94,
   "metadata": {},
   "outputs": [],
   "source": [
    "from sklearn.linear_model import LinearRegression\n",
    "from sklearn.linear_model import LogisticRegression\n",
    "from sklearn.metrics import confusion_matrix"
   ]
  },
  {
   "cell_type": "code",
   "execution_count": 116,
   "metadata": {},
   "outputs": [],
   "source": [
    "xy = clean_profile_for_mod[clean_profile_for_mod['score']!=0.5]\n",
    "x = xy.drop(['id', 'score'], axis = 1)\n",
    "y = xy['score']"
   ]
  },
  {
   "cell_type": "code",
   "execution_count": 117,
   "metadata": {},
   "outputs": [
    {
     "data": {
      "text/plain": [
       "array([ 9.01292670e-04,  2.25388517e-06,  3.72007988e-05, -3.63574461e-02,\n",
       "       -4.72309026e-04,  1.22628548e-02,  9.27841157e-04,  4.29562839e-05,\n",
       "        3.46073157e-01,  5.12899750e-04])"
      ]
     },
     "execution_count": 117,
     "metadata": {},
     "output_type": "execute_result"
    }
   ],
   "source": [
    "lr = LinearRegression()\n",
    "lr_fitted = lr.fit(x,y)\n",
    "lr_fitted.coef_"
   ]
  },
  {
   "cell_type": "code",
   "execution_count": 130,
   "metadata": {},
   "outputs": [],
   "source": [
    "def bin_scoring_fun(x):\n",
    "    \n",
    "    if x>0.65:\n",
    "        return 1\n",
    "    else:\n",
    "        return 0\n",
    "    \n",
    "y_hat = np.fromiter(map(scoring_fun, lr_fitted.predict(x)), dtype=np.int)"
   ]
  },
  {
   "cell_type": "code",
   "execution_count": 131,
   "metadata": {},
   "outputs": [],
   "source": [
    "lr_cm = confusion_matrix(y, y_hat)\n",
    "norm_lr_cm = lr_cm/lr_cm.sum()"
   ]
  },
  {
   "cell_type": "code",
   "execution_count": 132,
   "metadata": {},
   "outputs": [
    {
     "data": {
      "text/plain": [
       "array([[0.28950612, 0.06245378],\n",
       "       [0.01676391, 0.63127619]])"
      ]
     },
     "execution_count": 132,
     "metadata": {},
     "output_type": "execute_result"
    }
   ],
   "source": [
    "norm_lr_cm"
   ]
  },
  {
   "cell_type": "markdown",
   "metadata": {},
   "source": [
    "## AAAA"
   ]
  },
  {
   "cell_type": "code",
   "execution_count": null,
   "metadata": {},
   "outputs": [],
   "source": [
    "x = clean_profile_for_mod.drop(['id', 'score'], axis = 1)\n",
    "y = clean_profile_for_mod['score']"
   ]
  },
  {
   "cell_type": "code",
   "execution_count": 95,
   "metadata": {},
   "outputs": [],
   "source": [
    "lr = LinearRegression()\n",
    "lr_fitted = lr.fit(x,y)"
   ]
  },
  {
   "cell_type": "code",
   "execution_count": 97,
   "metadata": {},
   "outputs": [
    {
     "data": {
      "text/plain": [
       "array([ 7.79394141e-04,  2.02735719e-06,  2.69005469e-05, -3.55278202e-02,\n",
       "       -4.02479206e-04,  1.19969073e-02,  1.06774890e-03,  2.50085204e-05,\n",
       "        3.35589156e-01,  5.84319190e-04])"
      ]
     },
     "execution_count": 97,
     "metadata": {},
     "output_type": "execute_result"
    }
   ],
   "source": [
    "lr_fitted.coef_"
   ]
  },
  {
   "cell_type": "code",
   "execution_count": 98,
   "metadata": {},
   "outputs": [],
   "source": [
    "def scoring_fun(x):\n",
    "    \n",
    "    if x>0.65:\n",
    "        return 1\n",
    "    elif x<0.35:\n",
    "        return 0\n",
    "    else:\n",
    "        return 0.5\n",
    "    \n",
    "y_hat = np.fromiter(map(scoring_fun, lr_fitted.predict(x)), dtype=np.float)"
   ]
  },
  {
   "cell_type": "code",
   "execution_count": 99,
   "metadata": {},
   "outputs": [
    {
     "data": {
      "text/plain": [
       "1.0    0.531939\n",
       "0.0    0.288904\n",
       "0.5    0.179157\n",
       "Name: score, dtype: float64"
      ]
     },
     "execution_count": 99,
     "metadata": {},
     "output_type": "execute_result"
    }
   ],
   "source": [
    "y.value_counts()/y.value_counts().sum()"
   ]
  },
  {
   "cell_type": "code",
   "execution_count": 100,
   "metadata": {},
   "outputs": [],
   "source": [
    "lr_cm = confusion_matrix(2*y, 2*y_hat)\n",
    "norm_lr_cm = lr_cm/lr_cm.sum()"
   ]
  },
  {
   "cell_type": "code",
   "execution_count": 101,
   "metadata": {},
   "outputs": [
    {
     "data": {
      "text/plain": [
       "array([[0.17315346, 0.08317032, 0.0325801 ],\n",
       "       [0.01996627, 0.05659359, 0.10259696],\n",
       "       [0.        , 0.04006745, 0.49187184]])"
      ]
     },
     "execution_count": 101,
     "metadata": {},
     "output_type": "execute_result"
    }
   ],
   "source": [
    "norm_lr_cm"
   ]
  },
  {
   "cell_type": "code",
   "execution_count": 102,
   "metadata": {},
   "outputs": [
    {
     "data": {
      "text/plain": [
       "0.7216188870151771"
      ]
     },
     "execution_count": 102,
     "metadata": {},
     "output_type": "execute_result"
    }
   ],
   "source": [
    "np.matrix.trace(norm_lr_cm)"
   ]
  },
  {
   "cell_type": "code",
   "execution_count": 107,
   "metadata": {},
   "outputs": [
    {
     "data": {
      "text/plain": [
       "array([[0.21094585, 0.10132303, 0.03969102],\n",
       "       [0.        , 0.04881256, 0.59922755]])"
      ]
     },
     "execution_count": 107,
     "metadata": {},
     "output_type": "execute_result"
    }
   ],
   "source": [
    "norm_lr_cm_binary = norm_lr_cm[[0,2]]/norm_lr_cm[[0,2]].sum()\n",
    "norm_lr_cm_binary"
   ]
  },
  {
   "cell_type": "code",
   "execution_count": 114,
   "metadata": {},
   "outputs": [
    {
     "data": {
      "text/plain": [
       "0.8101733914043883"
      ]
     },
     "execution_count": 114,
     "metadata": {},
     "output_type": "execute_result"
    }
   ],
   "source": [
    "norm_lr_cm_binary[0][0] + norm_lr_cm_binary[1][2]"
   ]
  },
  {
   "cell_type": "code",
   "execution_count": null,
   "metadata": {},
   "outputs": [],
   "source": []
  }
 ],
 "metadata": {
  "kernelspec": {
   "display_name": "Python 3",
   "language": "python",
   "name": "python3"
  },
  "language_info": {
   "codemirror_mode": {
    "name": "ipython",
    "version": 3
   },
   "file_extension": ".py",
   "mimetype": "text/x-python",
   "name": "python",
   "nbconvert_exporter": "python",
   "pygments_lexer": "ipython3",
   "version": "3.7.3"
  }
 },
 "nbformat": 4,
 "nbformat_minor": 2
}
