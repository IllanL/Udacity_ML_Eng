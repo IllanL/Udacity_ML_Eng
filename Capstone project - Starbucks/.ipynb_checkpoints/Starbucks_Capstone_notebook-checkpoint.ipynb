{
 "cells": [
  {
   "cell_type": "markdown",
   "metadata": {},
   "source": [
    "# Starbucks Capstone Challenge\n",
    "\n",
    "### Introduction\n",
    "\n",
    "This data set contains simulated data that mimics customer behavior on the Starbucks rewards mobile app. Once every few days, Starbucks sends out an offer to users of the mobile app. An offer can be merely an advertisement for a drink or an actual offer such as a discount or BOGO (buy one get one free). Some users might not receive any offer during certain weeks. \n",
    "\n",
    "Not all users receive the same offer, and that is the challenge to solve with this data set.\n",
    "\n",
    "Your task is to combine transaction, demographic and offer data to determine which demographic groups respond best to which offer type. This data set is a simplified version of the real Starbucks app because the underlying simulator only has one product whereas Starbucks actually sells dozens of products.\n",
    "\n",
    "Every offer has a validity period before the offer expires. As an example, a BOGO offer might be valid for only 5 days. You'll see in the data set that informational offers have a validity period even though these ads are merely providing information about a product; for example, if an informational offer has 7 days of validity, you can assume the customer is feeling the influence of the offer for 7 days after receiving the advertisement.\n",
    "\n",
    "You'll be given transactional data showing user purchases made on the app including the timestamp of purchase and the amount of money spent on a purchase. This transactional data also has a record for each offer that a user receives as well as a record for when a user actually views the offer. There are also records for when a user completes an offer. \n",
    "\n",
    "Keep in mind as well that someone using the app might make a purchase through the app without having received an offer or seen an offer.\n",
    "\n",
    "### Example\n",
    "\n",
    "To give an example, a user could receive a discount offer buy 10 dollars get 2 off on Monday. The offer is valid for 10 days from receipt. If the customer accumulates at least 10 dollars in purchases during the validity period, the customer completes the offer.\n",
    "\n",
    "However, there are a few things to watch out for in this data set. Customers do not opt into the offers that they receive; in other words, a user can receive an offer, never actually view the offer, and still complete the offer. For example, a user might receive the \"buy 10 dollars get 2 dollars off offer\", but the user never opens the offer during the 10 day validity period. The customer spends 15 dollars during those ten days. There will be an offer completion record in the data set; however, the customer was not influenced by the offer because the customer never viewed the offer.\n",
    "\n",
    "### Cleaning\n",
    "\n",
    "This makes data cleaning especially important and tricky.\n",
    "\n",
    "You'll also want to take into account that some demographic groups will make purchases even if they don't receive an offer. From a business perspective, if a customer is going to make a 10 dollar purchase without an offer anyway, you wouldn't want to send a buy 10 dollars get 2 dollars off offer. You'll want to try to assess what a certain demographic group will buy when not receiving any offers.\n",
    "\n",
    "### Final Advice\n",
    "\n",
    "Because this is a capstone project, you are free to analyze the data any way you see fit. For example, you could build a machine learning model that predicts how much someone will spend based on demographics and offer type. Or you could build a model that predicts whether or not someone will respond to an offer. Or, you don't need to build a machine learning model at all. You could develop a set of heuristics that determine what offer you should send to each customer (i.e., 75 percent of women customers who were 35 years old responded to offer A vs 40 percent from the same demographic to offer B, so send offer A)."
   ]
  },
  {
   "cell_type": "markdown",
   "metadata": {},
   "source": [
    "# Data Sets\n",
    "\n",
    "The data is contained in three files:\n",
    "\n",
    "* portfolio.json - containing offer ids and meta data about each offer (duration, type, etc.)\n",
    "* profile.json - demographic data for each customer\n",
    "* transcript.json - records for transactions, offers received, offers viewed, and offers completed\n",
    "\n",
    "Here is the schema and explanation of each variable in the files:\n",
    "\n",
    "**portfolio.json**\n",
    "* id (string) - offer id\n",
    "* offer_type (string) - type of offer ie BOGO, discount, informational\n",
    "* difficulty (int) - minimum required spend to complete an offer\n",
    "* reward (int) - reward given for completing an offer\n",
    "* duration (int) - time for offer to be open, in days\n",
    "* channels (list of strings)\n",
    "\n",
    "**profile.json**\n",
    "* age (int) - age of the customer \n",
    "* became_member_on (int) - date when customer created an app account\n",
    "* gender (str) - gender of the customer (note some entries contain 'O' for other rather than M or F)\n",
    "* id (str) - customer id\n",
    "* income (float) - customer's income\n",
    "\n",
    "**transcript.json**\n",
    "* event (str) - record description (ie transaction, offer received, offer viewed, etc.)\n",
    "* person (str) - customer id\n",
    "* time (int) - time in hours since start of test. The data begins at time t=0\n",
    "* value - (dict of strings) - either an offer id or transaction amount depending on the record\n",
    "\n",
    "**Note:** If you are using the workspace, you will need to go to the terminal and run the command `conda update pandas` before reading in the files. This is because the version of pandas in the workspace cannot read in the transcript.json file correctly, but the newest version of pandas can. You can access the termnal from the orange icon in the top left of this notebook.  \n",
    "\n",
    "You can see how to access the terminal and how the install works using the two images below.  First you need to access the terminal:\n",
    "\n",
    "<img src=\"images/pic1.png\"/>\n",
    "\n",
    "Then you will want to run the above command:\n",
    "\n",
    "<img src=\"images/pic2.png\"/>\n",
    "\n",
    "Finally, when you enter back into the notebook (use the jupyter icon again), you should be able to run the below cell without any errors."
   ]
  },
  {
   "cell_type": "markdown",
   "metadata": {},
   "source": [
    "# 1) Loading required packages and reading in the files"
   ]
  },
  {
   "cell_type": "code",
   "execution_count": null,
   "metadata": {},
   "outputs": [],
   "source": [
    "import pandas as pd\n",
    "import numpy as np\n",
    "import math\n",
    "import json\n",
    "import datetime as dt\n",
    "import matplotlib.pyplot as plt\n",
    "import seaborn as sns\n",
    "%matplotlib inline"
   ]
  },
  {
   "cell_type": "code",
   "execution_count": 152,
   "metadata": {},
   "outputs": [],
   "source": [
    "plt.rcParams['figure.figsize'] = [15, 5]"
   ]
  },
  {
   "cell_type": "code",
   "execution_count": 2,
   "metadata": {},
   "outputs": [],
   "source": [
    "# read in the json files\n",
    "portfolio = pd.read_json('data/portfolio.json', orient='records', lines=True)\n",
    "profile = pd.read_json('data/profile.json', orient='records', lines=True)\n",
    "transcript = pd.read_json('data/transcript.json', orient='records', lines=True)"
   ]
  },
  {
   "cell_type": "code",
   "execution_count": 3,
   "metadata": {},
   "outputs": [
    {
     "name": "stdout",
     "output_type": "stream",
     "text": [
      "(10, 6)\n",
      "(17000, 5)\n",
      "(306534, 4)\n"
     ]
    }
   ],
   "source": [
    "print(portfolio.shape)\n",
    "print(profile.shape)\n",
    "print(transcript.shape)"
   ]
  },
  {
   "cell_type": "markdown",
   "metadata": {},
   "source": [
    "# 2) Wrangling data"
   ]
  },
  {
   "cell_type": "markdown",
   "metadata": {},
   "source": [
    "## Portfolio"
   ]
  },
  {
   "cell_type": "markdown",
   "metadata": {},
   "source": [
    "We start by examining portfolio, the smallest of the files:"
   ]
  },
  {
   "cell_type": "code",
   "execution_count": 4,
   "metadata": {
    "scrolled": true
   },
   "outputs": [
    {
     "data": {
      "text/html": [
       "<div>\n",
       "<style scoped>\n",
       "    .dataframe tbody tr th:only-of-type {\n",
       "        vertical-align: middle;\n",
       "    }\n",
       "\n",
       "    .dataframe tbody tr th {\n",
       "        vertical-align: top;\n",
       "    }\n",
       "\n",
       "    .dataframe thead th {\n",
       "        text-align: right;\n",
       "    }\n",
       "</style>\n",
       "<table border=\"1\" class=\"dataframe\">\n",
       "  <thead>\n",
       "    <tr style=\"text-align: right;\">\n",
       "      <th></th>\n",
       "      <th>channels</th>\n",
       "      <th>difficulty</th>\n",
       "      <th>duration</th>\n",
       "      <th>id</th>\n",
       "      <th>offer_type</th>\n",
       "      <th>reward</th>\n",
       "    </tr>\n",
       "  </thead>\n",
       "  <tbody>\n",
       "    <tr>\n",
       "      <th>0</th>\n",
       "      <td>[email, mobile, social]</td>\n",
       "      <td>10</td>\n",
       "      <td>7</td>\n",
       "      <td>ae264e3637204a6fb9bb56bc8210ddfd</td>\n",
       "      <td>bogo</td>\n",
       "      <td>10</td>\n",
       "    </tr>\n",
       "    <tr>\n",
       "      <th>1</th>\n",
       "      <td>[web, email, mobile, social]</td>\n",
       "      <td>10</td>\n",
       "      <td>5</td>\n",
       "      <td>4d5c57ea9a6940dd891ad53e9dbe8da0</td>\n",
       "      <td>bogo</td>\n",
       "      <td>10</td>\n",
       "    </tr>\n",
       "    <tr>\n",
       "      <th>2</th>\n",
       "      <td>[web, email, mobile]</td>\n",
       "      <td>0</td>\n",
       "      <td>4</td>\n",
       "      <td>3f207df678b143eea3cee63160fa8bed</td>\n",
       "      <td>informational</td>\n",
       "      <td>0</td>\n",
       "    </tr>\n",
       "    <tr>\n",
       "      <th>3</th>\n",
       "      <td>[web, email, mobile]</td>\n",
       "      <td>5</td>\n",
       "      <td>7</td>\n",
       "      <td>9b98b8c7a33c4b65b9aebfe6a799e6d9</td>\n",
       "      <td>bogo</td>\n",
       "      <td>5</td>\n",
       "    </tr>\n",
       "    <tr>\n",
       "      <th>4</th>\n",
       "      <td>[web, email]</td>\n",
       "      <td>20</td>\n",
       "      <td>10</td>\n",
       "      <td>0b1e1539f2cc45b7b9fa7c272da2e1d7</td>\n",
       "      <td>discount</td>\n",
       "      <td>5</td>\n",
       "    </tr>\n",
       "    <tr>\n",
       "      <th>5</th>\n",
       "      <td>[web, email, mobile, social]</td>\n",
       "      <td>7</td>\n",
       "      <td>7</td>\n",
       "      <td>2298d6c36e964ae4a3e7e9706d1fb8c2</td>\n",
       "      <td>discount</td>\n",
       "      <td>3</td>\n",
       "    </tr>\n",
       "    <tr>\n",
       "      <th>6</th>\n",
       "      <td>[web, email, mobile, social]</td>\n",
       "      <td>10</td>\n",
       "      <td>10</td>\n",
       "      <td>fafdcd668e3743c1bb461111dcafc2a4</td>\n",
       "      <td>discount</td>\n",
       "      <td>2</td>\n",
       "    </tr>\n",
       "    <tr>\n",
       "      <th>7</th>\n",
       "      <td>[email, mobile, social]</td>\n",
       "      <td>0</td>\n",
       "      <td>3</td>\n",
       "      <td>5a8bc65990b245e5a138643cd4eb9837</td>\n",
       "      <td>informational</td>\n",
       "      <td>0</td>\n",
       "    </tr>\n",
       "    <tr>\n",
       "      <th>8</th>\n",
       "      <td>[web, email, mobile, social]</td>\n",
       "      <td>5</td>\n",
       "      <td>5</td>\n",
       "      <td>f19421c1d4aa40978ebb69ca19b0e20d</td>\n",
       "      <td>bogo</td>\n",
       "      <td>5</td>\n",
       "    </tr>\n",
       "    <tr>\n",
       "      <th>9</th>\n",
       "      <td>[web, email, mobile]</td>\n",
       "      <td>10</td>\n",
       "      <td>7</td>\n",
       "      <td>2906b810c7d4411798c6938adc9daaa5</td>\n",
       "      <td>discount</td>\n",
       "      <td>2</td>\n",
       "    </tr>\n",
       "  </tbody>\n",
       "</table>\n",
       "</div>"
      ],
      "text/plain": [
       "                       channels  difficulty  duration  \\\n",
       "0       [email, mobile, social]          10         7   \n",
       "1  [web, email, mobile, social]          10         5   \n",
       "2          [web, email, mobile]           0         4   \n",
       "3          [web, email, mobile]           5         7   \n",
       "4                  [web, email]          20        10   \n",
       "5  [web, email, mobile, social]           7         7   \n",
       "6  [web, email, mobile, social]          10        10   \n",
       "7       [email, mobile, social]           0         3   \n",
       "8  [web, email, mobile, social]           5         5   \n",
       "9          [web, email, mobile]          10         7   \n",
       "\n",
       "                                 id     offer_type  reward  \n",
       "0  ae264e3637204a6fb9bb56bc8210ddfd           bogo      10  \n",
       "1  4d5c57ea9a6940dd891ad53e9dbe8da0           bogo      10  \n",
       "2  3f207df678b143eea3cee63160fa8bed  informational       0  \n",
       "3  9b98b8c7a33c4b65b9aebfe6a799e6d9           bogo       5  \n",
       "4  0b1e1539f2cc45b7b9fa7c272da2e1d7       discount       5  \n",
       "5  2298d6c36e964ae4a3e7e9706d1fb8c2       discount       3  \n",
       "6  fafdcd668e3743c1bb461111dcafc2a4       discount       2  \n",
       "7  5a8bc65990b245e5a138643cd4eb9837  informational       0  \n",
       "8  f19421c1d4aa40978ebb69ca19b0e20d           bogo       5  \n",
       "9  2906b810c7d4411798c6938adc9daaa5       discount       2  "
      ]
     },
     "execution_count": 4,
     "metadata": {},
     "output_type": "execute_result"
    }
   ],
   "source": [
    "portfolio"
   ]
  },
  {
   "cell_type": "markdown",
   "metadata": {},
   "source": [
    "We see that portfolio only has ten rows of data, corresponding to each different offers clasified in three kind of offers:\n",
    "    \n",
    "* bogo --> buy one, get one. Four offers, divided into two subkinds with different rewards (10 and 5, pressumably corresponding to 1 + 1 for free and 2 + 1 offers)\n",
    "\n",
    "* discount --> Four different kind of offers, with rewards of 5, 3, 2 and 2 again (50, 30 and 20%?)\n",
    "\n",
    "* informational --> two offers, 0 reward (information emails, we pressume)\n",
    "\n",
    "Beyond that, we observe that we have also information on different difficulties and durations for each offer, and also information on which channels was this offer offered.\n",
    "\n",
    "We need little manipulation: we will just divide the channel column into four, with ones when the corresponding channel was used and zeros when it did not:"
   ]
  },
  {
   "cell_type": "code",
   "execution_count": 5,
   "metadata": {},
   "outputs": [],
   "source": [
    "new_columns = ['web', 'email', 'mobile', 'social']\n",
    "\n",
    "for value in new_columns:\n",
    "    portfolio[value] = portfolio['channels'].apply(lambda x: 1 if value in x else 0)"
   ]
  },
  {
   "cell_type": "markdown",
   "metadata": {},
   "source": [
    "And drop the original column:"
   ]
  },
  {
   "cell_type": "code",
   "execution_count": 6,
   "metadata": {},
   "outputs": [],
   "source": [
    "portfolio.drop('channels', axis = 1, inplace = True)"
   ]
  },
  {
   "cell_type": "markdown",
   "metadata": {},
   "source": [
    "## Profile"
   ]
  },
  {
   "cell_type": "markdown",
   "metadata": {},
   "source": [
    "Let's see what Profile has to offer:"
   ]
  },
  {
   "cell_type": "code",
   "execution_count": 7,
   "metadata": {},
   "outputs": [
    {
     "data": {
      "text/html": [
       "<div>\n",
       "<style scoped>\n",
       "    .dataframe tbody tr th:only-of-type {\n",
       "        vertical-align: middle;\n",
       "    }\n",
       "\n",
       "    .dataframe tbody tr th {\n",
       "        vertical-align: top;\n",
       "    }\n",
       "\n",
       "    .dataframe thead th {\n",
       "        text-align: right;\n",
       "    }\n",
       "</style>\n",
       "<table border=\"1\" class=\"dataframe\">\n",
       "  <thead>\n",
       "    <tr style=\"text-align: right;\">\n",
       "      <th></th>\n",
       "      <th>age</th>\n",
       "      <th>became_member_on</th>\n",
       "      <th>gender</th>\n",
       "      <th>id</th>\n",
       "      <th>income</th>\n",
       "    </tr>\n",
       "  </thead>\n",
       "  <tbody>\n",
       "    <tr>\n",
       "      <th>0</th>\n",
       "      <td>118</td>\n",
       "      <td>20170212</td>\n",
       "      <td>None</td>\n",
       "      <td>68be06ca386d4c31939f3a4f0e3dd783</td>\n",
       "      <td>NaN</td>\n",
       "    </tr>\n",
       "    <tr>\n",
       "      <th>1</th>\n",
       "      <td>55</td>\n",
       "      <td>20170715</td>\n",
       "      <td>F</td>\n",
       "      <td>0610b486422d4921ae7d2bf64640c50b</td>\n",
       "      <td>112000.0</td>\n",
       "    </tr>\n",
       "    <tr>\n",
       "      <th>2</th>\n",
       "      <td>118</td>\n",
       "      <td>20180712</td>\n",
       "      <td>None</td>\n",
       "      <td>38fe809add3b4fcf9315a9694bb96ff5</td>\n",
       "      <td>NaN</td>\n",
       "    </tr>\n",
       "    <tr>\n",
       "      <th>3</th>\n",
       "      <td>75</td>\n",
       "      <td>20170509</td>\n",
       "      <td>F</td>\n",
       "      <td>78afa995795e4d85b5d9ceeca43f5fef</td>\n",
       "      <td>100000.0</td>\n",
       "    </tr>\n",
       "    <tr>\n",
       "      <th>4</th>\n",
       "      <td>118</td>\n",
       "      <td>20170804</td>\n",
       "      <td>None</td>\n",
       "      <td>a03223e636434f42ac4c3df47e8bac43</td>\n",
       "      <td>NaN</td>\n",
       "    </tr>\n",
       "  </tbody>\n",
       "</table>\n",
       "</div>"
      ],
      "text/plain": [
       "   age  became_member_on gender                                id    income\n",
       "0  118          20170212   None  68be06ca386d4c31939f3a4f0e3dd783       NaN\n",
       "1   55          20170715      F  0610b486422d4921ae7d2bf64640c50b  112000.0\n",
       "2  118          20180712   None  38fe809add3b4fcf9315a9694bb96ff5       NaN\n",
       "3   75          20170509      F  78afa995795e4d85b5d9ceeca43f5fef  100000.0\n",
       "4  118          20170804   None  a03223e636434f42ac4c3df47e8bac43       NaN"
      ]
     },
     "execution_count": 7,
     "metadata": {},
     "output_type": "execute_result"
    }
   ],
   "source": [
    "profile.head()"
   ]
  },
  {
   "cell_type": "markdown",
   "metadata": {},
   "source": [
    "We define a function that we will use to describe this and the following datasets:"
   ]
  },
  {
   "cell_type": "code",
   "execution_count": null,
   "metadata": {},
   "outputs": [],
   "source": [
    "def describing_fun(df):\n",
    "    print(df.info())\n",
    "    print(df.describe())\n",
    "    \n",
    "    print(\"\\nValue counts:\\n\")\n",
    "    \n",
    "    for col in df:\n",
    "    \n",
    "        length = len(df[col].unique())\n",
    "\n",
    "        if length < 7:\n",
    "            print(col, \":\", length, ', which are:', df[col].unique())\n",
    "        else:\n",
    "            print(col, \":\", length)"
   ]
  },
  {
   "cell_type": "code",
   "execution_count": 68,
   "metadata": {},
   "outputs": [
    {
     "name": "stdout",
     "output_type": "stream",
     "text": [
      "<class 'pandas.core.frame.DataFrame'>\n",
      "RangeIndex: 17000 entries, 0 to 16999\n",
      "Data columns (total 5 columns):\n",
      "age                 17000 non-null int64\n",
      "became_member_on    17000 non-null int64\n",
      "gender              14825 non-null object\n",
      "id                  17000 non-null object\n",
      "income              14825 non-null float64\n",
      "dtypes: float64(1), int64(2), object(2)\n",
      "memory usage: 664.1+ KB\n",
      "None\n",
      "                age  became_member_on         income\n",
      "count  17000.000000      1.700000e+04   14825.000000\n",
      "mean      62.531412      2.016703e+07   65404.991568\n",
      "std       26.738580      1.167750e+04   21598.299410\n",
      "min       18.000000      2.013073e+07   30000.000000\n",
      "25%       45.000000      2.016053e+07   49000.000000\n",
      "50%       58.000000      2.017080e+07   64000.000000\n",
      "75%       73.000000      2.017123e+07   80000.000000\n",
      "max      118.000000      2.018073e+07  120000.000000\n",
      "\n",
      "Value counts:\n",
      "\n",
      "age : 85\n",
      "became_member_on : 1716\n",
      "gender : 4 , which are: [None 'F' 'M' 'O']\n",
      "id : 17000\n",
      "income : 92\n"
     ]
    }
   ],
   "source": [
    "describing_fun(profile)"
   ]
  },
  {
   "cell_type": "markdown",
   "metadata": {},
   "source": [
    "It seems that some values are missing.\n",
    "\n",
    "Let's check those missing values:"
   ]
  },
  {
   "cell_type": "code",
   "execution_count": 9,
   "metadata": {},
   "outputs": [
    {
     "data": {
      "text/plain": [
       "2175"
      ]
     },
     "execution_count": 9,
     "metadata": {},
     "output_type": "execute_result"
    }
   ],
   "source": [
    "profile.isnull().any(axis = 1).sum()"
   ]
  },
  {
   "cell_type": "code",
   "execution_count": 11,
   "metadata": {},
   "outputs": [
    {
     "data": {
      "text/html": [
       "<div>\n",
       "<style scoped>\n",
       "    .dataframe tbody tr th:only-of-type {\n",
       "        vertical-align: middle;\n",
       "    }\n",
       "\n",
       "    .dataframe tbody tr th {\n",
       "        vertical-align: top;\n",
       "    }\n",
       "\n",
       "    .dataframe thead th {\n",
       "        text-align: right;\n",
       "    }\n",
       "</style>\n",
       "<table border=\"1\" class=\"dataframe\">\n",
       "  <thead>\n",
       "    <tr style=\"text-align: right;\">\n",
       "      <th></th>\n",
       "      <th>age</th>\n",
       "      <th>became_member_on</th>\n",
       "      <th>gender</th>\n",
       "      <th>id</th>\n",
       "      <th>income</th>\n",
       "    </tr>\n",
       "  </thead>\n",
       "  <tbody>\n",
       "    <tr>\n",
       "      <th>0</th>\n",
       "      <td>118</td>\n",
       "      <td>20170212</td>\n",
       "      <td>None</td>\n",
       "      <td>68be06ca386d4c31939f3a4f0e3dd783</td>\n",
       "      <td>NaN</td>\n",
       "    </tr>\n",
       "    <tr>\n",
       "      <th>2</th>\n",
       "      <td>118</td>\n",
       "      <td>20180712</td>\n",
       "      <td>None</td>\n",
       "      <td>38fe809add3b4fcf9315a9694bb96ff5</td>\n",
       "      <td>NaN</td>\n",
       "    </tr>\n",
       "    <tr>\n",
       "      <th>4</th>\n",
       "      <td>118</td>\n",
       "      <td>20170804</td>\n",
       "      <td>None</td>\n",
       "      <td>a03223e636434f42ac4c3df47e8bac43</td>\n",
       "      <td>NaN</td>\n",
       "    </tr>\n",
       "    <tr>\n",
       "      <th>6</th>\n",
       "      <td>118</td>\n",
       "      <td>20170925</td>\n",
       "      <td>None</td>\n",
       "      <td>8ec6ce2a7e7949b1bf142def7d0e0586</td>\n",
       "      <td>NaN</td>\n",
       "    </tr>\n",
       "    <tr>\n",
       "      <th>7</th>\n",
       "      <td>118</td>\n",
       "      <td>20171002</td>\n",
       "      <td>None</td>\n",
       "      <td>68617ca6246f4fbc85e91a2a49552598</td>\n",
       "      <td>NaN</td>\n",
       "    </tr>\n",
       "  </tbody>\n",
       "</table>\n",
       "</div>"
      ],
      "text/plain": [
       "   age  became_member_on gender                                id  income\n",
       "0  118          20170212   None  68be06ca386d4c31939f3a4f0e3dd783     NaN\n",
       "2  118          20180712   None  38fe809add3b4fcf9315a9694bb96ff5     NaN\n",
       "4  118          20170804   None  a03223e636434f42ac4c3df47e8bac43     NaN\n",
       "6  118          20170925   None  8ec6ce2a7e7949b1bf142def7d0e0586     NaN\n",
       "7  118          20171002   None  68617ca6246f4fbc85e91a2a49552598     NaN"
      ]
     },
     "execution_count": 11,
     "metadata": {},
     "output_type": "execute_result"
    }
   ],
   "source": [
    "profile[profile.isnull().any(axis = 1)].head()"
   ]
  },
  {
   "cell_type": "code",
   "execution_count": 12,
   "metadata": {},
   "outputs": [
    {
     "data": {
      "text/plain": [
       "array([118], dtype=int64)"
      ]
     },
     "execution_count": 12,
     "metadata": {},
     "output_type": "execute_result"
    }
   ],
   "source": [
    "profile[profile.isnull().any(axis = 1)]['age'].unique()"
   ]
  },
  {
   "cell_type": "markdown",
   "metadata": {},
   "source": [
    "All nulls present in any columns are associated with people 118 years old, probably a code used to describe this people.\n",
    "\n",
    "We will drop this values. But first, we will also parse the dates correctly:"
   ]
  },
  {
   "cell_type": "code",
   "execution_count": 99,
   "metadata": {},
   "outputs": [],
   "source": [
    "profile['date_bmo'] = profile['became_member_on'].apply(lambda x: dt.datetime.strptime(str(x), \"%Y%m%d\"))"
   ]
  },
  {
   "cell_type": "code",
   "execution_count": 109,
   "metadata": {},
   "outputs": [],
   "source": [
    "profile['year_bmo'] = profile['date_bmo'].apply(lambda x: x.year)\n",
    "profile['month_bmo'] = profile['date_bmo'].apply(lambda x: x.month)\n",
    "profile['day_bmo'] = profile['date_bmo'].apply(lambda x: x.day)"
   ]
  },
  {
   "cell_type": "markdown",
   "metadata": {},
   "source": [
    "And now, we drop the NaNs:"
   ]
  },
  {
   "cell_type": "code",
   "execution_count": 110,
   "metadata": {},
   "outputs": [],
   "source": [
    "clean_profile = profile.dropna()"
   ]
  },
  {
   "cell_type": "markdown",
   "metadata": {},
   "source": [
    "Let's see ill all went well (sanity check):"
   ]
  },
  {
   "cell_type": "code",
   "execution_count": 14,
   "metadata": {},
   "outputs": [
    {
     "name": "stdout",
     "output_type": "stream",
     "text": [
      "14825\n"
     ]
    },
    {
     "data": {
      "text/html": [
       "<div>\n",
       "<style scoped>\n",
       "    .dataframe tbody tr th:only-of-type {\n",
       "        vertical-align: middle;\n",
       "    }\n",
       "\n",
       "    .dataframe tbody tr th {\n",
       "        vertical-align: top;\n",
       "    }\n",
       "\n",
       "    .dataframe thead th {\n",
       "        text-align: right;\n",
       "    }\n",
       "</style>\n",
       "<table border=\"1\" class=\"dataframe\">\n",
       "  <thead>\n",
       "    <tr style=\"text-align: right;\">\n",
       "      <th></th>\n",
       "      <th>age</th>\n",
       "      <th>became_member_on</th>\n",
       "      <th>gender</th>\n",
       "      <th>id</th>\n",
       "      <th>income</th>\n",
       "    </tr>\n",
       "  </thead>\n",
       "  <tbody>\n",
       "    <tr>\n",
       "      <th>1</th>\n",
       "      <td>55</td>\n",
       "      <td>20170715</td>\n",
       "      <td>F</td>\n",
       "      <td>0610b486422d4921ae7d2bf64640c50b</td>\n",
       "      <td>112000.0</td>\n",
       "    </tr>\n",
       "    <tr>\n",
       "      <th>3</th>\n",
       "      <td>75</td>\n",
       "      <td>20170509</td>\n",
       "      <td>F</td>\n",
       "      <td>78afa995795e4d85b5d9ceeca43f5fef</td>\n",
       "      <td>100000.0</td>\n",
       "    </tr>\n",
       "    <tr>\n",
       "      <th>5</th>\n",
       "      <td>68</td>\n",
       "      <td>20180426</td>\n",
       "      <td>M</td>\n",
       "      <td>e2127556f4f64592b11af22de27a7932</td>\n",
       "      <td>70000.0</td>\n",
       "    </tr>\n",
       "    <tr>\n",
       "      <th>8</th>\n",
       "      <td>65</td>\n",
       "      <td>20180209</td>\n",
       "      <td>M</td>\n",
       "      <td>389bc3fa690240e798340f5a15918d5c</td>\n",
       "      <td>53000.0</td>\n",
       "    </tr>\n",
       "    <tr>\n",
       "      <th>12</th>\n",
       "      <td>58</td>\n",
       "      <td>20171111</td>\n",
       "      <td>M</td>\n",
       "      <td>2eeac8d8feae4a8cad5a6af0499a211d</td>\n",
       "      <td>51000.0</td>\n",
       "    </tr>\n",
       "  </tbody>\n",
       "</table>\n",
       "</div>"
      ],
      "text/plain": [
       "    age  became_member_on gender                                id    income\n",
       "1    55          20170715      F  0610b486422d4921ae7d2bf64640c50b  112000.0\n",
       "3    75          20170509      F  78afa995795e4d85b5d9ceeca43f5fef  100000.0\n",
       "5    68          20180426      M  e2127556f4f64592b11af22de27a7932   70000.0\n",
       "8    65          20180209      M  389bc3fa690240e798340f5a15918d5c   53000.0\n",
       "12   58          20171111      M  2eeac8d8feae4a8cad5a6af0499a211d   51000.0"
      ]
     },
     "execution_count": 14,
     "metadata": {},
     "output_type": "execute_result"
    }
   ],
   "source": [
    "# Should be 17000 - 2125 = 14825:\n",
    "print(len(clean_profile))\n",
    "\n",
    "clean_profile.head()"
   ]
  },
  {
   "cell_type": "markdown",
   "metadata": {},
   "source": [
    "We do it in a separate table for two reasons:\n",
    "\n",
    "* So we don't mess with our original loaded table.\n",
    "\n",
    "* So we don't loose the information those rows do provide: it shows when they became members.\n",
    "\n",
    "As long as we have enough memory, it feels right to create a new table for this manipulation.\n",
    "\n",
    "We will have to drop all values related to these clients also in the transcript df later.\n",
    "\n",
    "Finally, we will check for duplicates:"
   ]
  },
  {
   "cell_type": "code",
   "execution_count": 15,
   "metadata": {},
   "outputs": [
    {
     "data": {
      "text/html": [
       "<div>\n",
       "<style scoped>\n",
       "    .dataframe tbody tr th:only-of-type {\n",
       "        vertical-align: middle;\n",
       "    }\n",
       "\n",
       "    .dataframe tbody tr th {\n",
       "        vertical-align: top;\n",
       "    }\n",
       "\n",
       "    .dataframe thead th {\n",
       "        text-align: right;\n",
       "    }\n",
       "</style>\n",
       "<table border=\"1\" class=\"dataframe\">\n",
       "  <thead>\n",
       "    <tr style=\"text-align: right;\">\n",
       "      <th></th>\n",
       "      <th>age</th>\n",
       "      <th>became_member_on</th>\n",
       "      <th>gender</th>\n",
       "      <th>id</th>\n",
       "      <th>income</th>\n",
       "    </tr>\n",
       "  </thead>\n",
       "  <tbody>\n",
       "  </tbody>\n",
       "</table>\n",
       "</div>"
      ],
      "text/plain": [
       "Empty DataFrame\n",
       "Columns: [age, became_member_on, gender, id, income]\n",
       "Index: []"
      ]
     },
     "execution_count": 15,
     "metadata": {},
     "output_type": "execute_result"
    }
   ],
   "source": [
    "profile[profile.duplicated()]"
   ]
  },
  {
   "cell_type": "markdown",
   "metadata": {},
   "source": [
    "Perfect, no duplicates."
   ]
  },
  {
   "cell_type": "markdown",
   "metadata": {},
   "source": [
    "## Transcript"
   ]
  },
  {
   "cell_type": "markdown",
   "metadata": {},
   "source": [
    "We now go for transcript. This is the biggest and more complicated df:"
   ]
  },
  {
   "cell_type": "code",
   "execution_count": 16,
   "metadata": {},
   "outputs": [
    {
     "data": {
      "text/html": [
       "<div>\n",
       "<style scoped>\n",
       "    .dataframe tbody tr th:only-of-type {\n",
       "        vertical-align: middle;\n",
       "    }\n",
       "\n",
       "    .dataframe tbody tr th {\n",
       "        vertical-align: top;\n",
       "    }\n",
       "\n",
       "    .dataframe thead th {\n",
       "        text-align: right;\n",
       "    }\n",
       "</style>\n",
       "<table border=\"1\" class=\"dataframe\">\n",
       "  <thead>\n",
       "    <tr style=\"text-align: right;\">\n",
       "      <th></th>\n",
       "      <th>event</th>\n",
       "      <th>person</th>\n",
       "      <th>time</th>\n",
       "      <th>value</th>\n",
       "    </tr>\n",
       "  </thead>\n",
       "  <tbody>\n",
       "    <tr>\n",
       "      <th>0</th>\n",
       "      <td>offer received</td>\n",
       "      <td>78afa995795e4d85b5d9ceeca43f5fef</td>\n",
       "      <td>0</td>\n",
       "      <td>{'offer id': '9b98b8c7a33c4b65b9aebfe6a799e6d9'}</td>\n",
       "    </tr>\n",
       "    <tr>\n",
       "      <th>1</th>\n",
       "      <td>offer received</td>\n",
       "      <td>a03223e636434f42ac4c3df47e8bac43</td>\n",
       "      <td>0</td>\n",
       "      <td>{'offer id': '0b1e1539f2cc45b7b9fa7c272da2e1d7'}</td>\n",
       "    </tr>\n",
       "    <tr>\n",
       "      <th>2</th>\n",
       "      <td>offer received</td>\n",
       "      <td>e2127556f4f64592b11af22de27a7932</td>\n",
       "      <td>0</td>\n",
       "      <td>{'offer id': '2906b810c7d4411798c6938adc9daaa5'}</td>\n",
       "    </tr>\n",
       "    <tr>\n",
       "      <th>3</th>\n",
       "      <td>offer received</td>\n",
       "      <td>8ec6ce2a7e7949b1bf142def7d0e0586</td>\n",
       "      <td>0</td>\n",
       "      <td>{'offer id': 'fafdcd668e3743c1bb461111dcafc2a4'}</td>\n",
       "    </tr>\n",
       "    <tr>\n",
       "      <th>4</th>\n",
       "      <td>offer received</td>\n",
       "      <td>68617ca6246f4fbc85e91a2a49552598</td>\n",
       "      <td>0</td>\n",
       "      <td>{'offer id': '4d5c57ea9a6940dd891ad53e9dbe8da0'}</td>\n",
       "    </tr>\n",
       "  </tbody>\n",
       "</table>\n",
       "</div>"
      ],
      "text/plain": [
       "            event                            person  time  \\\n",
       "0  offer received  78afa995795e4d85b5d9ceeca43f5fef     0   \n",
       "1  offer received  a03223e636434f42ac4c3df47e8bac43     0   \n",
       "2  offer received  e2127556f4f64592b11af22de27a7932     0   \n",
       "3  offer received  8ec6ce2a7e7949b1bf142def7d0e0586     0   \n",
       "4  offer received  68617ca6246f4fbc85e91a2a49552598     0   \n",
       "\n",
       "                                              value  \n",
       "0  {'offer id': '9b98b8c7a33c4b65b9aebfe6a799e6d9'}  \n",
       "1  {'offer id': '0b1e1539f2cc45b7b9fa7c272da2e1d7'}  \n",
       "2  {'offer id': '2906b810c7d4411798c6938adc9daaa5'}  \n",
       "3  {'offer id': 'fafdcd668e3743c1bb461111dcafc2a4'}  \n",
       "4  {'offer id': '4d5c57ea9a6940dd891ad53e9dbe8da0'}  "
      ]
     },
     "execution_count": 16,
     "metadata": {},
     "output_type": "execute_result"
    }
   ],
   "source": [
    "transcript.head()"
   ]
  },
  {
   "cell_type": "markdown",
   "metadata": {},
   "source": [
    "We see we will have to split again those values in a dictionary.\n",
    "\n",
    "But first, let's look for NaN's:"
   ]
  },
  {
   "cell_type": "code",
   "execution_count": 17,
   "metadata": {},
   "outputs": [
    {
     "data": {
      "text/plain": [
       "0"
      ]
     },
     "execution_count": 17,
     "metadata": {},
     "output_type": "execute_result"
    }
   ],
   "source": [
    "transcript.isna().any().sum()"
   ]
  },
  {
   "cell_type": "markdown",
   "metadata": {},
   "source": [
    "And now, we will mark all customers which we already dropped in the cleaned_profile table:"
   ]
  },
  {
   "cell_type": "code",
   "execution_count": 18,
   "metadata": {},
   "outputs": [],
   "source": [
    "# For comfort's sake we will rename the 'person' column to 'id', so merges are faster to write:\n",
    "transcript.rename({'person' : 'id'}, axis = 1, inplace = True)"
   ]
  },
  {
   "cell_type": "markdown",
   "metadata": {},
   "source": [
    "We see that all values in the transcript table pertained to clients of which we had a profile, whether complete or incomplete:"
   ]
  },
  {
   "cell_type": "code",
   "execution_count": 19,
   "metadata": {},
   "outputs": [
    {
     "data": {
      "text/plain": [
       "0.0"
      ]
     },
     "execution_count": 19,
     "metadata": {},
     "output_type": "execute_result"
    }
   ],
   "source": [
    "len(transcript[~transcript['id'].isin(profile['id'])])/len(transcript)"
   ]
  },
  {
   "cell_type": "markdown",
   "metadata": {},
   "source": [
    "Let's see how many rows these customers with missing information represent:"
   ]
  },
  {
   "cell_type": "code",
   "execution_count": 20,
   "metadata": {},
   "outputs": [
    {
     "data": {
      "text/plain": [
       "0.11017374907840566"
      ]
     },
     "execution_count": 20,
     "metadata": {},
     "output_type": "execute_result"
    }
   ],
   "source": [
    "len(transcript[~transcript['id'].isin(cleaned_profile['id'])])/len(transcript)"
   ]
  },
  {
   "cell_type": "markdown",
   "metadata": {},
   "source": [
    "Their weight on the offers is slightly less than average (they represented 12.5% of our customer base)\n",
    "\n",
    "We will also drop those transactions, creating a new table, because of the same reasons stated above, but we will do it a bit later."
   ]
  },
  {
   "cell_type": "markdown",
   "metadata": {},
   "source": [
    "Ok, now we will go for the dictionary:"
   ]
  },
  {
   "cell_type": "code",
   "execution_count": 21,
   "metadata": {},
   "outputs": [],
   "source": [
    "# Let's look at the keys:\n",
    "\n",
    "def mi_keys(x):\n",
    "    for key in x.keys():\n",
    "        return key"
   ]
  },
  {
   "cell_type": "code",
   "execution_count": 22,
   "metadata": {},
   "outputs": [
    {
     "data": {
      "text/plain": [
       "array(['offer id', 'amount', 'offer_id'], dtype=object)"
      ]
     },
     "execution_count": 22,
     "metadata": {},
     "output_type": "execute_result"
    }
   ],
   "source": [
    "transcript['value'].apply(mi_keys).unique()"
   ]
  },
  {
   "cell_type": "markdown",
   "metadata": {},
   "source": [
    "We see there are only 3 different values, that should be 2.\n",
    "\n",
    "We will fix that 'offer id' vs 'offer_id' thing:"
   ]
  },
  {
   "cell_type": "code",
   "execution_count": 23,
   "metadata": {},
   "outputs": [],
   "source": [
    "# This function will clean the dictionary column:\n",
    "def clean_col(x):\n",
    "    for key in x.keys():\n",
    "        if key == 'offer id':\n",
    "            x['offer_id'] = x[key]\n",
    "            del x[key]\n",
    "            return x\n",
    "        else:\n",
    "            return x"
   ]
  },
  {
   "cell_type": "code",
   "execution_count": 24,
   "metadata": {},
   "outputs": [],
   "source": [
    "transcript['value'] = transcript['value'].apply(clean_col)"
   ]
  },
  {
   "cell_type": "markdown",
   "metadata": {},
   "source": [
    "And now, we are going to separate the different values of the dictionary into their own columns:"
   ]
  },
  {
   "cell_type": "code",
   "execution_count": 25,
   "metadata": {},
   "outputs": [],
   "source": [
    "transcript2 = pd.concat([transcript[['event', 'id', 'time']], \n",
    "                         pd.DataFrame((d for idx, d in transcript['value'].iteritems()))], \n",
    "                        axis = 1)"
   ]
  },
  {
   "cell_type": "code",
   "execution_count": 71,
   "metadata": {},
   "outputs": [
    {
     "data": {
      "text/html": [
       "<div>\n",
       "<style scoped>\n",
       "    .dataframe tbody tr th:only-of-type {\n",
       "        vertical-align: middle;\n",
       "    }\n",
       "\n",
       "    .dataframe tbody tr th {\n",
       "        vertical-align: top;\n",
       "    }\n",
       "\n",
       "    .dataframe thead th {\n",
       "        text-align: right;\n",
       "    }\n",
       "</style>\n",
       "<table border=\"1\" class=\"dataframe\">\n",
       "  <thead>\n",
       "    <tr style=\"text-align: right;\">\n",
       "      <th></th>\n",
       "      <th>event</th>\n",
       "      <th>id</th>\n",
       "      <th>time</th>\n",
       "      <th>amount</th>\n",
       "      <th>offer_id</th>\n",
       "      <th>reward</th>\n",
       "      <th>event_num</th>\n",
       "    </tr>\n",
       "  </thead>\n",
       "  <tbody>\n",
       "    <tr>\n",
       "      <th>0</th>\n",
       "      <td>offer received</td>\n",
       "      <td>78afa995795e4d85b5d9ceeca43f5fef</td>\n",
       "      <td>0</td>\n",
       "      <td>NaN</td>\n",
       "      <td>9b98b8c7a33c4b65b9aebfe6a799e6d9</td>\n",
       "      <td>NaN</td>\n",
       "      <td>0</td>\n",
       "    </tr>\n",
       "    <tr>\n",
       "      <th>1</th>\n",
       "      <td>offer received</td>\n",
       "      <td>a03223e636434f42ac4c3df47e8bac43</td>\n",
       "      <td>0</td>\n",
       "      <td>NaN</td>\n",
       "      <td>0b1e1539f2cc45b7b9fa7c272da2e1d7</td>\n",
       "      <td>NaN</td>\n",
       "      <td>0</td>\n",
       "    </tr>\n",
       "    <tr>\n",
       "      <th>2</th>\n",
       "      <td>offer received</td>\n",
       "      <td>e2127556f4f64592b11af22de27a7932</td>\n",
       "      <td>0</td>\n",
       "      <td>NaN</td>\n",
       "      <td>2906b810c7d4411798c6938adc9daaa5</td>\n",
       "      <td>NaN</td>\n",
       "      <td>0</td>\n",
       "    </tr>\n",
       "    <tr>\n",
       "      <th>3</th>\n",
       "      <td>offer received</td>\n",
       "      <td>8ec6ce2a7e7949b1bf142def7d0e0586</td>\n",
       "      <td>0</td>\n",
       "      <td>NaN</td>\n",
       "      <td>fafdcd668e3743c1bb461111dcafc2a4</td>\n",
       "      <td>NaN</td>\n",
       "      <td>0</td>\n",
       "    </tr>\n",
       "    <tr>\n",
       "      <th>4</th>\n",
       "      <td>offer received</td>\n",
       "      <td>68617ca6246f4fbc85e91a2a49552598</td>\n",
       "      <td>0</td>\n",
       "      <td>NaN</td>\n",
       "      <td>4d5c57ea9a6940dd891ad53e9dbe8da0</td>\n",
       "      <td>NaN</td>\n",
       "      <td>0</td>\n",
       "    </tr>\n",
       "  </tbody>\n",
       "</table>\n",
       "</div>"
      ],
      "text/plain": [
       "            event                                id  time  amount  \\\n",
       "0  offer received  78afa995795e4d85b5d9ceeca43f5fef     0     NaN   \n",
       "1  offer received  a03223e636434f42ac4c3df47e8bac43     0     NaN   \n",
       "2  offer received  e2127556f4f64592b11af22de27a7932     0     NaN   \n",
       "3  offer received  8ec6ce2a7e7949b1bf142def7d0e0586     0     NaN   \n",
       "4  offer received  68617ca6246f4fbc85e91a2a49552598     0     NaN   \n",
       "\n",
       "                           offer_id  reward  event_num  \n",
       "0  9b98b8c7a33c4b65b9aebfe6a799e6d9     NaN          0  \n",
       "1  0b1e1539f2cc45b7b9fa7c272da2e1d7     NaN          0  \n",
       "2  2906b810c7d4411798c6938adc9daaa5     NaN          0  \n",
       "3  fafdcd668e3743c1bb461111dcafc2a4     NaN          0  \n",
       "4  4d5c57ea9a6940dd891ad53e9dbe8da0     NaN          0  "
      ]
     },
     "execution_count": 71,
     "metadata": {},
     "output_type": "execute_result"
    }
   ],
   "source": [
    "transcript2.head()"
   ]
  },
  {
   "cell_type": "markdown",
   "metadata": {},
   "source": [
    "Even though it doesn't look like it, it is much better now.\n",
    "\n",
    "We will translate the 'event' column into numbers:"
   ]
  },
  {
   "cell_type": "code",
   "execution_count": 70,
   "metadata": {
    "scrolled": true
   },
   "outputs": [
    {
     "name": "stdout",
     "output_type": "stream",
     "text": [
      "<class 'pandas.core.frame.DataFrame'>\n",
      "RangeIndex: 306534 entries, 0 to 306533\n",
      "Data columns (total 7 columns):\n",
      "event        306534 non-null object\n",
      "id           306534 non-null object\n",
      "time         306534 non-null int64\n",
      "amount       138953 non-null float64\n",
      "offer_id     167581 non-null object\n",
      "reward       33579 non-null float64\n",
      "event_num    306534 non-null int64\n",
      "dtypes: float64(2), int64(2), object(3)\n",
      "memory usage: 16.4+ MB\n",
      "None\n",
      "                time         amount        reward      event_num\n",
      "count  306534.000000  138953.000000  33579.000000  306534.000000\n",
      "mean      366.382940      12.777356      4.904137      -0.045900\n",
      "std       200.326314      30.250529      2.886647       1.038119\n",
      "min         0.000000       0.050000      2.000000      -1.000000\n",
      "25%       186.000000       2.780000      2.000000      -1.000000\n",
      "50%       408.000000       8.890000      5.000000       0.000000\n",
      "75%       528.000000      18.070000      5.000000       1.000000\n",
      "max       714.000000    1062.280000     10.000000       2.000000\n",
      "\n",
      "Value counts:\n",
      "\n",
      "event : 4 , which are: ['offer received' 'offer viewed' 'transaction' 'offer completed']\n",
      "id : 17000\n",
      "time : 120\n",
      "amount : 5104\n",
      "offer_id : 11\n",
      "reward : 5 , which are: [nan  2.  5. 10.  3.]\n",
      "event_num : 4 , which are: [ 0  1 -1  2]\n"
     ]
    }
   ],
   "source": [
    "describing_fun(transcript2)"
   ]
  },
  {
   "cell_type": "markdown",
   "metadata": {},
   "source": [
    "The null values in the amount, offer_id and reward columns are natural.\n",
    "\n",
    "We will not touch the values in the first two columns, but we will set the reward to 0 in all columns where offer_id is not null."
   ]
  },
  {
   "cell_type": "code",
   "execution_count": 402,
   "metadata": {},
   "outputs": [
    {
     "data": {
      "text/plain": [
       "Int64Index([     0,      1,      2,      3,      4,      5,      6,      7,\n",
       "                 8,      9,\n",
       "            ...\n",
       "            306456, 306470, 306475, 306483, 306490, 306497, 306506, 306507,\n",
       "            306509, 306527],\n",
       "           dtype='int64', length=167581)"
      ]
     },
     "execution_count": 402,
     "metadata": {},
     "output_type": "execute_result"
    }
   ],
   "source": []
  },
  {
   "cell_type": "code",
   "execution_count": 403,
   "metadata": {},
   "outputs": [],
   "source": [
    "non_null_offer_id_indexes = transcript2[~transcript2['offer_id'].isna()].index\n",
    "transcript2.loc[non_null_offer_id_indexes, 'reward'] = 0"
   ]
  },
  {
   "cell_type": "code",
   "execution_count": 60,
   "metadata": {},
   "outputs": [],
   "source": [
    "event_dict = dict(zip(transcript2['event'].unique(), [0, 1, -1, 2]))\n",
    "# offer_dict = dict(zip(portfolio['id'], portfolio['offer_type']))\n",
    "\n",
    "# transcript2['offer_type'] = transcript2['offer_id'].apply(lambda x: 0 if x != x else offer_dict[x])\n",
    "transcript2['event_num'] = transcript2['event'].apply(lambda x: 0 if x != x else event_dict[x])"
   ]
  },
  {
   "cell_type": "markdown",
   "metadata": {},
   "source": [
    "We are now going to check for duplicates:"
   ]
  },
  {
   "cell_type": "code",
   "execution_count": 61,
   "metadata": {},
   "outputs": [
    {
     "name": "stdout",
     "output_type": "stream",
     "text": [
      "397\n"
     ]
    },
    {
     "data": {
      "text/html": [
       "<div>\n",
       "<style scoped>\n",
       "    .dataframe tbody tr th:only-of-type {\n",
       "        vertical-align: middle;\n",
       "    }\n",
       "\n",
       "    .dataframe tbody tr th {\n",
       "        vertical-align: top;\n",
       "    }\n",
       "\n",
       "    .dataframe thead th {\n",
       "        text-align: right;\n",
       "    }\n",
       "</style>\n",
       "<table border=\"1\" class=\"dataframe\">\n",
       "  <thead>\n",
       "    <tr style=\"text-align: right;\">\n",
       "      <th></th>\n",
       "      <th>event</th>\n",
       "      <th>id</th>\n",
       "      <th>time</th>\n",
       "      <th>amount</th>\n",
       "      <th>offer_id</th>\n",
       "      <th>reward</th>\n",
       "      <th>event_num</th>\n",
       "    </tr>\n",
       "  </thead>\n",
       "  <tbody>\n",
       "    <tr>\n",
       "      <th>66123</th>\n",
       "      <td>offer completed</td>\n",
       "      <td>3dde94fa581145cb9f206624f1a94d5a</td>\n",
       "      <td>168</td>\n",
       "      <td>NaN</td>\n",
       "      <td>2906b810c7d4411798c6938adc9daaa5</td>\n",
       "      <td>2.0</td>\n",
       "      <td>2</td>\n",
       "    </tr>\n",
       "    <tr>\n",
       "      <th>66783</th>\n",
       "      <td>offer completed</td>\n",
       "      <td>e9fb6ed2cecb4980ba98c86abc9c91e3</td>\n",
       "      <td>168</td>\n",
       "      <td>NaN</td>\n",
       "      <td>ae264e3637204a6fb9bb56bc8210ddfd</td>\n",
       "      <td>10.0</td>\n",
       "      <td>2</td>\n",
       "    </tr>\n",
       "    <tr>\n",
       "      <th>67614</th>\n",
       "      <td>offer completed</td>\n",
       "      <td>a7dc060f6fc94ca7bf71fbb188187dca</td>\n",
       "      <td>168</td>\n",
       "      <td>NaN</td>\n",
       "      <td>9b98b8c7a33c4b65b9aebfe6a799e6d9</td>\n",
       "      <td>5.0</td>\n",
       "      <td>2</td>\n",
       "    </tr>\n",
       "    <tr>\n",
       "      <th>68562</th>\n",
       "      <td>offer completed</td>\n",
       "      <td>30478a4c1e884a63a822aa87b833ed7a</td>\n",
       "      <td>168</td>\n",
       "      <td>NaN</td>\n",
       "      <td>2298d6c36e964ae4a3e7e9706d1fb8c2</td>\n",
       "      <td>3.0</td>\n",
       "      <td>2</td>\n",
       "    </tr>\n",
       "    <tr>\n",
       "      <th>69218</th>\n",
       "      <td>offer completed</td>\n",
       "      <td>84fb57a7fe8045a8bf6236738ee73a0f</td>\n",
       "      <td>168</td>\n",
       "      <td>NaN</td>\n",
       "      <td>ae264e3637204a6fb9bb56bc8210ddfd</td>\n",
       "      <td>10.0</td>\n",
       "      <td>2</td>\n",
       "    </tr>\n",
       "  </tbody>\n",
       "</table>\n",
       "</div>"
      ],
      "text/plain": [
       "                 event                                id  time  amount  \\\n",
       "66123  offer completed  3dde94fa581145cb9f206624f1a94d5a   168     NaN   \n",
       "66783  offer completed  e9fb6ed2cecb4980ba98c86abc9c91e3   168     NaN   \n",
       "67614  offer completed  a7dc060f6fc94ca7bf71fbb188187dca   168     NaN   \n",
       "68562  offer completed  30478a4c1e884a63a822aa87b833ed7a   168     NaN   \n",
       "69218  offer completed  84fb57a7fe8045a8bf6236738ee73a0f   168     NaN   \n",
       "\n",
       "                               offer_id  reward  event_num  \n",
       "66123  2906b810c7d4411798c6938adc9daaa5     2.0          2  \n",
       "66783  ae264e3637204a6fb9bb56bc8210ddfd    10.0          2  \n",
       "67614  9b98b8c7a33c4b65b9aebfe6a799e6d9     5.0          2  \n",
       "68562  2298d6c36e964ae4a3e7e9706d1fb8c2     3.0          2  \n",
       "69218  ae264e3637204a6fb9bb56bc8210ddfd    10.0          2  "
      ]
     },
     "execution_count": 61,
     "metadata": {},
     "output_type": "execute_result"
    }
   ],
   "source": [
    "print(len(transcript2[transcript2.duplicated()]))\n",
    "transcript2[transcript2.duplicated()].head()"
   ]
  },
  {
   "cell_type": "markdown",
   "metadata": {},
   "source": [
    "There are some... Let's put them face:"
   ]
  },
  {
   "cell_type": "code",
   "execution_count": 62,
   "metadata": {},
   "outputs": [
    {
     "data": {
      "text/html": [
       "<div>\n",
       "<style scoped>\n",
       "    .dataframe tbody tr th:only-of-type {\n",
       "        vertical-align: middle;\n",
       "    }\n",
       "\n",
       "    .dataframe tbody tr th {\n",
       "        vertical-align: top;\n",
       "    }\n",
       "\n",
       "    .dataframe thead th {\n",
       "        text-align: right;\n",
       "    }\n",
       "</style>\n",
       "<table border=\"1\" class=\"dataframe\">\n",
       "  <thead>\n",
       "    <tr style=\"text-align: right;\">\n",
       "      <th></th>\n",
       "      <th>event</th>\n",
       "      <th>id</th>\n",
       "      <th>time</th>\n",
       "      <th>amount</th>\n",
       "      <th>offer_id</th>\n",
       "      <th>reward</th>\n",
       "      <th>event_num</th>\n",
       "    </tr>\n",
       "  </thead>\n",
       "  <tbody>\n",
       "    <tr>\n",
       "      <th>1098</th>\n",
       "      <td>offer received</td>\n",
       "      <td>3dde94fa581145cb9f206624f1a94d5a</td>\n",
       "      <td>0</td>\n",
       "      <td>NaN</td>\n",
       "      <td>2906b810c7d4411798c6938adc9daaa5</td>\n",
       "      <td>NaN</td>\n",
       "      <td>0</td>\n",
       "    </tr>\n",
       "    <tr>\n",
       "      <th>54262</th>\n",
       "      <td>offer received</td>\n",
       "      <td>3dde94fa581145cb9f206624f1a94d5a</td>\n",
       "      <td>168</td>\n",
       "      <td>NaN</td>\n",
       "      <td>2906b810c7d4411798c6938adc9daaa5</td>\n",
       "      <td>NaN</td>\n",
       "      <td>0</td>\n",
       "    </tr>\n",
       "    <tr>\n",
       "      <th>66122</th>\n",
       "      <td>offer completed</td>\n",
       "      <td>3dde94fa581145cb9f206624f1a94d5a</td>\n",
       "      <td>168</td>\n",
       "      <td>NaN</td>\n",
       "      <td>2906b810c7d4411798c6938adc9daaa5</td>\n",
       "      <td>2.0</td>\n",
       "      <td>2</td>\n",
       "    </tr>\n",
       "    <tr>\n",
       "      <th>66123</th>\n",
       "      <td>offer completed</td>\n",
       "      <td>3dde94fa581145cb9f206624f1a94d5a</td>\n",
       "      <td>168</td>\n",
       "      <td>NaN</td>\n",
       "      <td>2906b810c7d4411798c6938adc9daaa5</td>\n",
       "      <td>2.0</td>\n",
       "      <td>2</td>\n",
       "    </tr>\n",
       "  </tbody>\n",
       "</table>\n",
       "</div>"
      ],
      "text/plain": [
       "                 event                                id  time  amount  \\\n",
       "1098    offer received  3dde94fa581145cb9f206624f1a94d5a     0     NaN   \n",
       "54262   offer received  3dde94fa581145cb9f206624f1a94d5a   168     NaN   \n",
       "66122  offer completed  3dde94fa581145cb9f206624f1a94d5a   168     NaN   \n",
       "66123  offer completed  3dde94fa581145cb9f206624f1a94d5a   168     NaN   \n",
       "\n",
       "                               offer_id  reward  event_num  \n",
       "1098   2906b810c7d4411798c6938adc9daaa5     NaN          0  \n",
       "54262  2906b810c7d4411798c6938adc9daaa5     NaN          0  \n",
       "66122  2906b810c7d4411798c6938adc9daaa5     2.0          2  \n",
       "66123  2906b810c7d4411798c6938adc9daaa5     2.0          2  "
      ]
     },
     "execution_count": 62,
     "metadata": {},
     "output_type": "execute_result"
    }
   ],
   "source": [
    "transcript2[(transcript2['offer_id'] == '2906b810c7d4411798c6938adc9daaa5')&\n",
    "            (transcript2['id'] == '3dde94fa581145cb9f206624f1a94d5a')]"
   ]
  },
  {
   "cell_type": "code",
   "execution_count": 63,
   "metadata": {},
   "outputs": [
    {
     "data": {
      "text/html": [
       "<div>\n",
       "<style scoped>\n",
       "    .dataframe tbody tr th:only-of-type {\n",
       "        vertical-align: middle;\n",
       "    }\n",
       "\n",
       "    .dataframe tbody tr th {\n",
       "        vertical-align: top;\n",
       "    }\n",
       "\n",
       "    .dataframe thead th {\n",
       "        text-align: right;\n",
       "    }\n",
       "</style>\n",
       "<table border=\"1\" class=\"dataframe\">\n",
       "  <thead>\n",
       "    <tr style=\"text-align: right;\">\n",
       "      <th></th>\n",
       "      <th>event</th>\n",
       "      <th>id</th>\n",
       "      <th>time</th>\n",
       "      <th>amount</th>\n",
       "      <th>offer_id</th>\n",
       "      <th>reward</th>\n",
       "      <th>event_num</th>\n",
       "    </tr>\n",
       "  </thead>\n",
       "  <tbody>\n",
       "    <tr>\n",
       "      <th>3258</th>\n",
       "      <td>offer received</td>\n",
       "      <td>e9fb6ed2cecb4980ba98c86abc9c91e3</td>\n",
       "      <td>0</td>\n",
       "      <td>NaN</td>\n",
       "      <td>ae264e3637204a6fb9bb56bc8210ddfd</td>\n",
       "      <td>NaN</td>\n",
       "      <td>0</td>\n",
       "    </tr>\n",
       "    <tr>\n",
       "      <th>41108</th>\n",
       "      <td>offer viewed</td>\n",
       "      <td>e9fb6ed2cecb4980ba98c86abc9c91e3</td>\n",
       "      <td>96</td>\n",
       "      <td>NaN</td>\n",
       "      <td>ae264e3637204a6fb9bb56bc8210ddfd</td>\n",
       "      <td>NaN</td>\n",
       "      <td>1</td>\n",
       "    </tr>\n",
       "    <tr>\n",
       "      <th>56494</th>\n",
       "      <td>offer received</td>\n",
       "      <td>e9fb6ed2cecb4980ba98c86abc9c91e3</td>\n",
       "      <td>168</td>\n",
       "      <td>NaN</td>\n",
       "      <td>ae264e3637204a6fb9bb56bc8210ddfd</td>\n",
       "      <td>NaN</td>\n",
       "      <td>0</td>\n",
       "    </tr>\n",
       "    <tr>\n",
       "      <th>66782</th>\n",
       "      <td>offer completed</td>\n",
       "      <td>e9fb6ed2cecb4980ba98c86abc9c91e3</td>\n",
       "      <td>168</td>\n",
       "      <td>NaN</td>\n",
       "      <td>ae264e3637204a6fb9bb56bc8210ddfd</td>\n",
       "      <td>10.0</td>\n",
       "      <td>2</td>\n",
       "    </tr>\n",
       "    <tr>\n",
       "      <th>66783</th>\n",
       "      <td>offer completed</td>\n",
       "      <td>e9fb6ed2cecb4980ba98c86abc9c91e3</td>\n",
       "      <td>168</td>\n",
       "      <td>NaN</td>\n",
       "      <td>ae264e3637204a6fb9bb56bc8210ddfd</td>\n",
       "      <td>10.0</td>\n",
       "      <td>2</td>\n",
       "    </tr>\n",
       "    <tr>\n",
       "      <th>81889</th>\n",
       "      <td>offer viewed</td>\n",
       "      <td>e9fb6ed2cecb4980ba98c86abc9c91e3</td>\n",
       "      <td>204</td>\n",
       "      <td>NaN</td>\n",
       "      <td>ae264e3637204a6fb9bb56bc8210ddfd</td>\n",
       "      <td>NaN</td>\n",
       "      <td>1</td>\n",
       "    </tr>\n",
       "  </tbody>\n",
       "</table>\n",
       "</div>"
      ],
      "text/plain": [
       "                 event                                id  time  amount  \\\n",
       "3258    offer received  e9fb6ed2cecb4980ba98c86abc9c91e3     0     NaN   \n",
       "41108     offer viewed  e9fb6ed2cecb4980ba98c86abc9c91e3    96     NaN   \n",
       "56494   offer received  e9fb6ed2cecb4980ba98c86abc9c91e3   168     NaN   \n",
       "66782  offer completed  e9fb6ed2cecb4980ba98c86abc9c91e3   168     NaN   \n",
       "66783  offer completed  e9fb6ed2cecb4980ba98c86abc9c91e3   168     NaN   \n",
       "81889     offer viewed  e9fb6ed2cecb4980ba98c86abc9c91e3   204     NaN   \n",
       "\n",
       "                               offer_id  reward  event_num  \n",
       "3258   ae264e3637204a6fb9bb56bc8210ddfd     NaN          0  \n",
       "41108  ae264e3637204a6fb9bb56bc8210ddfd     NaN          1  \n",
       "56494  ae264e3637204a6fb9bb56bc8210ddfd     NaN          0  \n",
       "66782  ae264e3637204a6fb9bb56bc8210ddfd    10.0          2  \n",
       "66783  ae264e3637204a6fb9bb56bc8210ddfd    10.0          2  \n",
       "81889  ae264e3637204a6fb9bb56bc8210ddfd     NaN          1  "
      ]
     },
     "execution_count": 63,
     "metadata": {},
     "output_type": "execute_result"
    }
   ],
   "source": [
    "transcript2[(transcript2['offer_id'] == 'ae264e3637204a6fb9bb56bc8210ddfd')&\n",
    "            (transcript2['id'] == 'e9fb6ed2cecb4980ba98c86abc9c91e3')]"
   ]
  },
  {
   "cell_type": "markdown",
   "metadata": {},
   "source": [
    "It seems that some users got several offers at differents momments, but they all got cancelled at the same time, and that is what this duplicates make reference to.\n",
    "\n",
    "Let's keep these values for now, and we will see how to deal with them later, if necessary."
   ]
  },
  {
   "cell_type": "markdown",
   "metadata": {},
   "source": [
    "## 3) EDA"
   ]
  },
  {
   "cell_type": "markdown",
   "metadata": {},
   "source": [
    "We will now perform some light exploratory data analysis and present some visualizations:"
   ]
  },
  {
   "cell_type": "code",
   "execution_count": 101,
   "metadata": {},
   "outputs": [
    {
     "data": {
      "text/html": [
       "<div>\n",
       "<style scoped>\n",
       "    .dataframe tbody tr th:only-of-type {\n",
       "        vertical-align: middle;\n",
       "    }\n",
       "\n",
       "    .dataframe tbody tr th {\n",
       "        vertical-align: top;\n",
       "    }\n",
       "\n",
       "    .dataframe thead th {\n",
       "        text-align: right;\n",
       "    }\n",
       "</style>\n",
       "<table border=\"1\" class=\"dataframe\">\n",
       "  <thead>\n",
       "    <tr style=\"text-align: right;\">\n",
       "      <th></th>\n",
       "      <th>age</th>\n",
       "      <th>became_member_on</th>\n",
       "      <th>gender</th>\n",
       "      <th>id</th>\n",
       "      <th>income</th>\n",
       "      <th>date_bmo</th>\n",
       "    </tr>\n",
       "  </thead>\n",
       "  <tbody>\n",
       "    <tr>\n",
       "      <th>1</th>\n",
       "      <td>55</td>\n",
       "      <td>20170715</td>\n",
       "      <td>F</td>\n",
       "      <td>0610b486422d4921ae7d2bf64640c50b</td>\n",
       "      <td>112000.0</td>\n",
       "      <td>2017-07-15</td>\n",
       "    </tr>\n",
       "    <tr>\n",
       "      <th>3</th>\n",
       "      <td>75</td>\n",
       "      <td>20170509</td>\n",
       "      <td>F</td>\n",
       "      <td>78afa995795e4d85b5d9ceeca43f5fef</td>\n",
       "      <td>100000.0</td>\n",
       "      <td>2017-05-09</td>\n",
       "    </tr>\n",
       "    <tr>\n",
       "      <th>5</th>\n",
       "      <td>68</td>\n",
       "      <td>20180426</td>\n",
       "      <td>M</td>\n",
       "      <td>e2127556f4f64592b11af22de27a7932</td>\n",
       "      <td>70000.0</td>\n",
       "      <td>2018-04-26</td>\n",
       "    </tr>\n",
       "    <tr>\n",
       "      <th>8</th>\n",
       "      <td>65</td>\n",
       "      <td>20180209</td>\n",
       "      <td>M</td>\n",
       "      <td>389bc3fa690240e798340f5a15918d5c</td>\n",
       "      <td>53000.0</td>\n",
       "      <td>2018-02-09</td>\n",
       "    </tr>\n",
       "    <tr>\n",
       "      <th>12</th>\n",
       "      <td>58</td>\n",
       "      <td>20171111</td>\n",
       "      <td>M</td>\n",
       "      <td>2eeac8d8feae4a8cad5a6af0499a211d</td>\n",
       "      <td>51000.0</td>\n",
       "      <td>2017-11-11</td>\n",
       "    </tr>\n",
       "  </tbody>\n",
       "</table>\n",
       "</div>"
      ],
      "text/plain": [
       "    age  became_member_on gender                                id    income  \\\n",
       "1    55          20170715      F  0610b486422d4921ae7d2bf64640c50b  112000.0   \n",
       "3    75          20170509      F  78afa995795e4d85b5d9ceeca43f5fef  100000.0   \n",
       "5    68          20180426      M  e2127556f4f64592b11af22de27a7932   70000.0   \n",
       "8    65          20180209      M  389bc3fa690240e798340f5a15918d5c   53000.0   \n",
       "12   58          20171111      M  2eeac8d8feae4a8cad5a6af0499a211d   51000.0   \n",
       "\n",
       "     date_bmo  \n",
       "1  2017-07-15  \n",
       "3  2017-05-09  \n",
       "5  2018-04-26  \n",
       "8  2018-02-09  \n",
       "12 2017-11-11  "
      ]
     },
     "execution_count": 101,
     "metadata": {},
     "output_type": "execute_result"
    }
   ],
   "source": [
    "profile[~profile['gender'].isna()].head()"
   ]
  },
  {
   "cell_type": "code",
   "execution_count": 112,
   "metadata": {},
   "outputs": [
    {
     "data": {
      "text/html": [
       "<div>\n",
       "<style scoped>\n",
       "    .dataframe tbody tr th:only-of-type {\n",
       "        vertical-align: middle;\n",
       "    }\n",
       "\n",
       "    .dataframe tbody tr th {\n",
       "        vertical-align: top;\n",
       "    }\n",
       "\n",
       "    .dataframe thead th {\n",
       "        text-align: right;\n",
       "    }\n",
       "</style>\n",
       "<table border=\"1\" class=\"dataframe\">\n",
       "  <thead>\n",
       "    <tr style=\"text-align: right;\">\n",
       "      <th></th>\n",
       "      <th>age</th>\n",
       "      <th>became_member_on</th>\n",
       "      <th>gender</th>\n",
       "      <th>id</th>\n",
       "      <th>income</th>\n",
       "      <th>date_bmo</th>\n",
       "      <th>year_bmo</th>\n",
       "      <th>month_bmo</th>\n",
       "      <th>day_bmo</th>\n",
       "    </tr>\n",
       "  </thead>\n",
       "  <tbody>\n",
       "    <tr>\n",
       "      <th>0</th>\n",
       "      <td>118</td>\n",
       "      <td>20170212</td>\n",
       "      <td>None</td>\n",
       "      <td>68be06ca386d4c31939f3a4f0e3dd783</td>\n",
       "      <td>NaN</td>\n",
       "      <td>2017-02-12</td>\n",
       "      <td>2017</td>\n",
       "      <td>2</td>\n",
       "      <td>12</td>\n",
       "    </tr>\n",
       "    <tr>\n",
       "      <th>1</th>\n",
       "      <td>55</td>\n",
       "      <td>20170715</td>\n",
       "      <td>F</td>\n",
       "      <td>0610b486422d4921ae7d2bf64640c50b</td>\n",
       "      <td>112000.0</td>\n",
       "      <td>2017-07-15</td>\n",
       "      <td>2017</td>\n",
       "      <td>7</td>\n",
       "      <td>15</td>\n",
       "    </tr>\n",
       "    <tr>\n",
       "      <th>2</th>\n",
       "      <td>118</td>\n",
       "      <td>20180712</td>\n",
       "      <td>None</td>\n",
       "      <td>38fe809add3b4fcf9315a9694bb96ff5</td>\n",
       "      <td>NaN</td>\n",
       "      <td>2018-07-12</td>\n",
       "      <td>2018</td>\n",
       "      <td>7</td>\n",
       "      <td>12</td>\n",
       "    </tr>\n",
       "    <tr>\n",
       "      <th>3</th>\n",
       "      <td>75</td>\n",
       "      <td>20170509</td>\n",
       "      <td>F</td>\n",
       "      <td>78afa995795e4d85b5d9ceeca43f5fef</td>\n",
       "      <td>100000.0</td>\n",
       "      <td>2017-05-09</td>\n",
       "      <td>2017</td>\n",
       "      <td>5</td>\n",
       "      <td>9</td>\n",
       "    </tr>\n",
       "    <tr>\n",
       "      <th>4</th>\n",
       "      <td>118</td>\n",
       "      <td>20170804</td>\n",
       "      <td>None</td>\n",
       "      <td>a03223e636434f42ac4c3df47e8bac43</td>\n",
       "      <td>NaN</td>\n",
       "      <td>2017-08-04</td>\n",
       "      <td>2017</td>\n",
       "      <td>8</td>\n",
       "      <td>4</td>\n",
       "    </tr>\n",
       "  </tbody>\n",
       "</table>\n",
       "</div>"
      ],
      "text/plain": [
       "   age  became_member_on gender                                id    income  \\\n",
       "0  118          20170212   None  68be06ca386d4c31939f3a4f0e3dd783       NaN   \n",
       "1   55          20170715      F  0610b486422d4921ae7d2bf64640c50b  112000.0   \n",
       "2  118          20180712   None  38fe809add3b4fcf9315a9694bb96ff5       NaN   \n",
       "3   75          20170509      F  78afa995795e4d85b5d9ceeca43f5fef  100000.0   \n",
       "4  118          20170804   None  a03223e636434f42ac4c3df47e8bac43       NaN   \n",
       "\n",
       "    date_bmo  year_bmo  month_bmo  day_bmo  \n",
       "0 2017-02-12      2017          2       12  \n",
       "1 2017-07-15      2017          7       15  \n",
       "2 2018-07-12      2018          7       12  \n",
       "3 2017-05-09      2017          5        9  \n",
       "4 2017-08-04      2017          8        4  "
      ]
     },
     "execution_count": 112,
     "metadata": {},
     "output_type": "execute_result"
    }
   ],
   "source": [
    "profile.head()"
   ]
  },
  {
   "cell_type": "markdown",
   "metadata": {},
   "source": [
    "Firstly, we are going to plot the evolution of new monthly users. This is the reason we haven't dropped the users on the original table above:"
   ]
  },
  {
   "cell_type": "code",
   "execution_count": 153,
   "metadata": {},
   "outputs": [
    {
     "data": {
      "image/png": "[encoded data removed]",
      "text/plain": [
       "<Figure size 1080x360 with 1 Axes>"
      ]
     },
     "metadata": {
      "needs_background": "light"
     },
     "output_type": "display_data"
    }
   ],
   "source": [
    "monthly_new_users = profile.groupby(['year_bmo', 'month_bmo'])['age'].count().reset_index()\n",
    "monthly_new_users.rename({'age':'new_users_count'}, axis = 1, inplace = True)\n",
    "monthly_new_users['m/y'] = monthly_new_users['month_bmo'].apply(lambda x: str(x)) + '/' + monthly_new_users['year_bmo'].apply(lambda x: str(x))\n",
    "monthly_new_users.set_index('m/y', inplace = True)\n",
    "\n",
    "monthly_new_users['new_users_count'].plot(figsize = [15,5]);"
   ]
  },
  {
   "cell_type": "code",
   "execution_count": 157,
   "metadata": {},
   "outputs": [
    {
     "data": {
      "image/png": "[encoded data removed]",
      "text/plain": [
       "<Figure size 1080x360 with 1 Axes>"
      ]
     },
     "metadata": {
      "needs_background": "light"
     },
     "output_type": "display_data"
    }
   ],
   "source": [
    "monthly_new_users['7/2017':]['new_users_count'].plot(figsize = [15,5]);"
   ]
  },
  {
   "cell_type": "markdown",
   "metadata": {},
   "source": [
    "We can see a clear spike in the number of new clients from August of 2017 to January of 2018."
   ]
  },
  {
   "cell_type": "code",
   "execution_count": 190,
   "metadata": {},
   "outputs": [
    {
     "data": {
      "text/plain": [
       "<matplotlib.axes._subplots.AxesSubplot at 0x187347f1240>"
      ]
     },
     "execution_count": 190,
     "metadata": {},
     "output_type": "execute_result"
    },
    {
     "data": {
      "image/png": "[encoded data removed]",
      "text/plain": [
       "<Figure size 1080x360 with 1 Axes>"
      ]
     },
     "metadata": {
      "needs_background": "light"
     },
     "output_type": "display_data"
    }
   ],
   "source": [
    "monthly_new_users_bysex = profile.groupby(['year_bmo', 'month_bmo', 'gender'])['age'].count().reset_index()\n",
    "monthly_new_users_bysex.rename({'age':'new_users_count'}, axis = 1, inplace = True)\n",
    "monthly_new_users_bysex['m/y'] = monthly_new_users_bysex['month_bmo'].apply(lambda x: str(x)) + '/' + monthly_new_users_bysex['year_bmo'].apply(lambda x: str(x))\n",
    "monthly_new_users_bysex.set_index('m/y', inplace = True)\n",
    "monthly_new_users_bysex = monthly_new_users_bysex.pivot(columns = 'gender')\n",
    "monthly_new_users_bysex.sort_values([('year_bmo', 'M'), ('month_bmo', 'M')])['new_users_count'].fillna(0).plot()"
   ]
  },
  {
   "cell_type": "markdown",
   "metadata": {},
   "source": [
    "We can see that, appart from a period lasting from mid-2015 to mid-2017, consistently there were more males registering as new customers than females.\n",
    "\n",
    "We can also see that the people we don't have any information of is negligible, specially from mid-2015 on.\n",
    "\n",
    "Now, for the rest of our exploration, we will rely on our clean_profile dataframe, as in the original, there was a lot of information missing."
   ]
  },
  {
   "cell_type": "code",
   "execution_count": 198,
   "metadata": {
    "scrolled": true
   },
   "outputs": [
    {
     "data": {
      "text/plain": [
       "<matplotlib.axes._subplots.AxesSubplot at 0x187348630b8>"
      ]
     },
     "execution_count": 198,
     "metadata": {},
     "output_type": "execute_result"
    },
    {
     "data": {
      "image/png": "[encoded data removed]",
      "text/plain": [
       "<Figure size 1080x360 with 1 Axes>"
      ]
     },
     "metadata": {
      "needs_background": "light"
     },
     "output_type": "display_data"
    }
   ],
   "source": [
    "clean_profile.groupby('gender')['id'].count().plot(kind = 'bar')"
   ]
  },
  {
   "cell_type": "markdown",
   "metadata": {},
   "source": [
    "We can see that, as we expected, there are more men than women registered as client."
   ]
  },
  {
   "cell_type": "code",
   "execution_count": 217,
   "metadata": {},
   "outputs": [
    {
     "data": {
      "image/png": "[encoded data removed]",
      "text/plain": [
       "<Figure size 1080x360 with 1 Axes>"
      ]
     },
     "metadata": {
      "needs_background": "light"
     },
     "output_type": "display_data"
    }
   ],
   "source": [
    "for value in clean_profile['gender'].unique():\n",
    "    sns.kdeplot(clean_profile[clean_profile['gender'] == value]['age'], label = value)"
   ]
  },
  {
   "cell_type": "markdown",
   "metadata": {},
   "source": [
    "The age distributions of our three genders in our dataset peak at around 60 years.\n",
    "\n",
    "Between the men, we can see a plateau around the age of 20, that will probably pull down their average age.\n",
    "\n",
    "Let's check our clients average ages:"
   ]
  },
  {
   "cell_type": "code",
   "execution_count": 225,
   "metadata": {},
   "outputs": [
    {
     "name": "stdout",
     "output_type": "stream",
     "text": [
      "gender\n",
      "F    57.544950\n",
      "M    52.116690\n",
      "O    54.400943\n",
      "Name: age, dtype: float64\n"
     ]
    },
    {
     "data": {
      "text/plain": [
       "<matplotlib.axes._subplots.AxesSubplot at 0x1873500a9b0>"
      ]
     },
     "execution_count": 225,
     "metadata": {},
     "output_type": "execute_result"
    },
    {
     "data": {
      "image/png": "[encoded data removed]",
      "text/plain": [
       "<Figure size 1080x360 with 1 Axes>"
      ]
     },
     "metadata": {
      "needs_background": "light"
     },
     "output_type": "display_data"
    }
   ],
   "source": [
    "age_per_gender_means = clean_profile.groupby('gender')['age'].mean()\n",
    "print(age_per_gender_means)\n",
    "age_per_gender_means.plot(kind='bar')"
   ]
  },
  {
   "cell_type": "markdown",
   "metadata": {},
   "source": [
    "As we suspected, average age of our consumers is just beneath 60 years old, and also we can see that the mean age value of men is slightly less than that of the other two groups."
   ]
  },
  {
   "cell_type": "code",
   "execution_count": 216,
   "metadata": {},
   "outputs": [
    {
     "data": {
      "image/png": "[encoded data removed]",
      "text/plain": [
       "<Figure size 1080x360 with 1 Axes>"
      ]
     },
     "metadata": {
      "needs_background": "light"
     },
     "output_type": "display_data"
    }
   ],
   "source": [
    "for value in clean_profile['gender'].unique():\n",
    "    sns.kdeplot(clean_profile[clean_profile['gender'] == value]['income'], label = value)"
   ]
  },
  {
   "cell_type": "markdown",
   "metadata": {},
   "source": [
    "We can see that, from our clients, females earn the most, the other, and then, the males."
   ]
  },
  {
   "cell_type": "code",
   "execution_count": 226,
   "metadata": {},
   "outputs": [
    {
     "name": "stdout",
     "output_type": "stream",
     "text": [
      "gender\n",
      "F    71306.412139\n",
      "M    61194.601603\n",
      "O    63287.735849\n",
      "Name: income, dtype: float64\n"
     ]
    },
    {
     "data": {
      "text/plain": [
       "<matplotlib.axes._subplots.AxesSubplot at 0x18735002320>"
      ]
     },
     "execution_count": 226,
     "metadata": {},
     "output_type": "execute_result"
    },
    {
     "data": {
      "image/png": "[encoded data removed]",
      "text/plain": [
       "<Figure size 1080x360 with 1 Axes>"
      ]
     },
     "metadata": {
      "needs_background": "light"
     },
     "output_type": "display_data"
    }
   ],
   "source": [
    "income_per_gender_means = clean_profile.groupby('gender')['income'].mean()\n",
    "print(income_per_gender_means)\n",
    "income_per_gender_means.plot(kind='bar')"
   ]
  },
  {
   "cell_type": "markdown",
   "metadata": {},
   "source": [
    "Females earn the most, followed by others, and lastly, the men.\n",
    "\n",
    "Now, let's check transactions:\n",
    "\n",
    "Let's see how many rows we have per user:"
   ]
  },
  {
   "cell_type": "code",
   "execution_count": 234,
   "metadata": {},
   "outputs": [
    {
     "data": {
      "text/plain": [
       "id\n",
       "94de646f7b6041228ca7dec82adb97d2    51\n",
       "8dbfa485249f409aa223a2130f40634a    49\n",
       "79d9d4f86aca4bed9290350fb43817c2    48\n",
       "d0a80415b84c4df4908b8403b19765e3    48\n",
       "5e60c6aa3b834e44b822ea43a3efea26    48\n",
       "a42ed50acc4d4b25bca647c9e0b916ad    46\n",
       "b1f4ece7d49342628a9ed77aee2cde58    46\n",
       "28681c16026943e68f26feaccab0907f    46\n",
       "bd2cdd691aca4bb0a0e039979ee5de5c    46\n",
       "ab25fd6fbd5040f880751921e4029757    44\n",
       "Name: value, dtype: int64"
      ]
     },
     "execution_count": 234,
     "metadata": {},
     "output_type": "execute_result"
    }
   ],
   "source": [
    "total_offers_per_user = transcript.groupby(['id'])['value'].count().sort_values(ascending = False)\n",
    "total_offers_per_user.head(10)"
   ]
  },
  {
   "cell_type": "markdown",
   "metadata": {},
   "source": [
    "Let's see the distribution:"
   ]
  },
  {
   "cell_type": "code",
   "execution_count": 235,
   "metadata": {},
   "outputs": [
    {
     "data": {
      "image/png": "[encoded data removed]",
      "text/plain": [
       "<Figure size 1080x360 with 1 Axes>"
      ]
     },
     "metadata": {
      "needs_background": "light"
     },
     "output_type": "display_data"
    }
   ],
   "source": [
    "total_offers_per_user.plot(figsize = (15,5));"
   ]
  },
  {
   "cell_type": "markdown",
   "metadata": {},
   "source": [
    "Let's check a couple of examples:"
   ]
  },
  {
   "cell_type": "code",
   "execution_count": 240,
   "metadata": {},
   "outputs": [
    {
     "data": {
      "text/html": [
       "<div>\n",
       "<style scoped>\n",
       "    .dataframe tbody tr th:only-of-type {\n",
       "        vertical-align: middle;\n",
       "    }\n",
       "\n",
       "    .dataframe tbody tr th {\n",
       "        vertical-align: top;\n",
       "    }\n",
       "\n",
       "    .dataframe thead th {\n",
       "        text-align: right;\n",
       "    }\n",
       "</style>\n",
       "<table border=\"1\" class=\"dataframe\">\n",
       "  <thead>\n",
       "    <tr style=\"text-align: right;\">\n",
       "      <th></th>\n",
       "      <th>event</th>\n",
       "      <th>id</th>\n",
       "      <th>time</th>\n",
       "      <th>amount</th>\n",
       "      <th>offer_id</th>\n",
       "      <th>reward</th>\n",
       "      <th>event_num</th>\n",
       "    </tr>\n",
       "  </thead>\n",
       "  <tbody>\n",
       "    <tr>\n",
       "      <th>2276</th>\n",
       "      <td>offer received</td>\n",
       "      <td>94de646f7b6041228ca7dec82adb97d2</td>\n",
       "      <td>0</td>\n",
       "      <td>NaN</td>\n",
       "      <td>f19421c1d4aa40978ebb69ca19b0e20d</td>\n",
       "      <td>NaN</td>\n",
       "      <td>0</td>\n",
       "    </tr>\n",
       "    <tr>\n",
       "      <th>16010</th>\n",
       "      <td>offer viewed</td>\n",
       "      <td>94de646f7b6041228ca7dec82adb97d2</td>\n",
       "      <td>6</td>\n",
       "      <td>NaN</td>\n",
       "      <td>f19421c1d4aa40978ebb69ca19b0e20d</td>\n",
       "      <td>NaN</td>\n",
       "      <td>1</td>\n",
       "    </tr>\n",
       "    <tr>\n",
       "      <th>24531</th>\n",
       "      <td>transaction</td>\n",
       "      <td>94de646f7b6041228ca7dec82adb97d2</td>\n",
       "      <td>30</td>\n",
       "      <td>7.41</td>\n",
       "      <td>NaN</td>\n",
       "      <td>NaN</td>\n",
       "      <td>-1</td>\n",
       "    </tr>\n",
       "    <tr>\n",
       "      <th>24532</th>\n",
       "      <td>offer completed</td>\n",
       "      <td>94de646f7b6041228ca7dec82adb97d2</td>\n",
       "      <td>30</td>\n",
       "      <td>NaN</td>\n",
       "      <td>f19421c1d4aa40978ebb69ca19b0e20d</td>\n",
       "      <td>5.0</td>\n",
       "      <td>2</td>\n",
       "    </tr>\n",
       "    <tr>\n",
       "      <th>42252</th>\n",
       "      <td>transaction</td>\n",
       "      <td>94de646f7b6041228ca7dec82adb97d2</td>\n",
       "      <td>102</td>\n",
       "      <td>1.47</td>\n",
       "      <td>NaN</td>\n",
       "      <td>NaN</td>\n",
       "      <td>-1</td>\n",
       "    </tr>\n",
       "    <tr>\n",
       "      <th>55475</th>\n",
       "      <td>offer received</td>\n",
       "      <td>94de646f7b6041228ca7dec82adb97d2</td>\n",
       "      <td>168</td>\n",
       "      <td>NaN</td>\n",
       "      <td>9b98b8c7a33c4b65b9aebfe6a799e6d9</td>\n",
       "      <td>NaN</td>\n",
       "      <td>0</td>\n",
       "    </tr>\n",
       "    <tr>\n",
       "      <th>75256</th>\n",
       "      <td>offer viewed</td>\n",
       "      <td>94de646f7b6041228ca7dec82adb97d2</td>\n",
       "      <td>186</td>\n",
       "      <td>NaN</td>\n",
       "      <td>9b98b8c7a33c4b65b9aebfe6a799e6d9</td>\n",
       "      <td>NaN</td>\n",
       "      <td>1</td>\n",
       "    </tr>\n",
       "    <tr>\n",
       "      <th>77624</th>\n",
       "      <td>transaction</td>\n",
       "      <td>94de646f7b6041228ca7dec82adb97d2</td>\n",
       "      <td>192</td>\n",
       "      <td>2.62</td>\n",
       "      <td>NaN</td>\n",
       "      <td>NaN</td>\n",
       "      <td>-1</td>\n",
       "    </tr>\n",
       "    <tr>\n",
       "      <th>81725</th>\n",
       "      <td>transaction</td>\n",
       "      <td>94de646f7b6041228ca7dec82adb97d2</td>\n",
       "      <td>204</td>\n",
       "      <td>0.59</td>\n",
       "      <td>NaN</td>\n",
       "      <td>NaN</td>\n",
       "      <td>-1</td>\n",
       "    </tr>\n",
       "    <tr>\n",
       "      <th>93913</th>\n",
       "      <td>transaction</td>\n",
       "      <td>94de646f7b6041228ca7dec82adb97d2</td>\n",
       "      <td>246</td>\n",
       "      <td>2.28</td>\n",
       "      <td>NaN</td>\n",
       "      <td>NaN</td>\n",
       "      <td>-1</td>\n",
       "    </tr>\n",
       "  </tbody>\n",
       "</table>\n",
       "</div>"
      ],
      "text/plain": [
       "                 event                                id  time  amount  \\\n",
       "2276    offer received  94de646f7b6041228ca7dec82adb97d2     0     NaN   \n",
       "16010     offer viewed  94de646f7b6041228ca7dec82adb97d2     6     NaN   \n",
       "24531      transaction  94de646f7b6041228ca7dec82adb97d2    30    7.41   \n",
       "24532  offer completed  94de646f7b6041228ca7dec82adb97d2    30     NaN   \n",
       "42252      transaction  94de646f7b6041228ca7dec82adb97d2   102    1.47   \n",
       "55475   offer received  94de646f7b6041228ca7dec82adb97d2   168     NaN   \n",
       "75256     offer viewed  94de646f7b6041228ca7dec82adb97d2   186     NaN   \n",
       "77624      transaction  94de646f7b6041228ca7dec82adb97d2   192    2.62   \n",
       "81725      transaction  94de646f7b6041228ca7dec82adb97d2   204    0.59   \n",
       "93913      transaction  94de646f7b6041228ca7dec82adb97d2   246    2.28   \n",
       "\n",
       "                               offer_id  reward  event_num  \n",
       "2276   f19421c1d4aa40978ebb69ca19b0e20d     NaN          0  \n",
       "16010  f19421c1d4aa40978ebb69ca19b0e20d     NaN          1  \n",
       "24531                               NaN     NaN         -1  \n",
       "24532  f19421c1d4aa40978ebb69ca19b0e20d     5.0          2  \n",
       "42252                               NaN     NaN         -1  \n",
       "55475  9b98b8c7a33c4b65b9aebfe6a799e6d9     NaN          0  \n",
       "75256  9b98b8c7a33c4b65b9aebfe6a799e6d9     NaN          1  \n",
       "77624                               NaN     NaN         -1  \n",
       "81725                               NaN     NaN         -1  \n",
       "93913                               NaN     NaN         -1  "
      ]
     },
     "execution_count": 240,
     "metadata": {},
     "output_type": "execute_result"
    }
   ],
   "source": [
    "transcript2[transcript2['id'] == total_offers_per_user.index[0]].sort_values('time').head(10)"
   ]
  },
  {
   "cell_type": "markdown",
   "metadata": {},
   "source": [
    "We can see here that we have offers and transactions mixed.\n",
    "\n",
    "Perhaps is better to separate both concepts in separate tables, although having all the information in the same table is convenient.\n",
    "\n",
    "We well check the information on the least represented customers:"
   ]
  },
  {
   "cell_type": "code",
   "execution_count": 241,
   "metadata": {},
   "outputs": [
    {
     "data": {
      "text/html": [
       "<div>\n",
       "<style scoped>\n",
       "    .dataframe tbody tr th:only-of-type {\n",
       "        vertical-align: middle;\n",
       "    }\n",
       "\n",
       "    .dataframe tbody tr th {\n",
       "        vertical-align: top;\n",
       "    }\n",
       "\n",
       "    .dataframe thead th {\n",
       "        text-align: right;\n",
       "    }\n",
       "</style>\n",
       "<table border=\"1\" class=\"dataframe\">\n",
       "  <thead>\n",
       "    <tr style=\"text-align: right;\">\n",
       "      <th></th>\n",
       "      <th>event</th>\n",
       "      <th>id</th>\n",
       "      <th>time</th>\n",
       "      <th>amount</th>\n",
       "      <th>offer_id</th>\n",
       "      <th>reward</th>\n",
       "      <th>event_num</th>\n",
       "    </tr>\n",
       "  </thead>\n",
       "  <tbody>\n",
       "    <tr>\n",
       "      <th>116832</th>\n",
       "      <td>offer received</td>\n",
       "      <td>1bfe13d2453c4185a6486c6817e0d568</td>\n",
       "      <td>336</td>\n",
       "      <td>NaN</td>\n",
       "      <td>ae264e3637204a6fb9bb56bc8210ddfd</td>\n",
       "      <td>NaN</td>\n",
       "      <td>0</td>\n",
       "    </tr>\n",
       "    <tr>\n",
       "      <th>144455</th>\n",
       "      <td>offer viewed</td>\n",
       "      <td>1bfe13d2453c4185a6486c6817e0d568</td>\n",
       "      <td>384</td>\n",
       "      <td>NaN</td>\n",
       "      <td>ae264e3637204a6fb9bb56bc8210ddfd</td>\n",
       "      <td>NaN</td>\n",
       "      <td>1</td>\n",
       "    </tr>\n",
       "    <tr>\n",
       "      <th>201981</th>\n",
       "      <td>offer received</td>\n",
       "      <td>22617705eec442e0b7b43e5c5f56fb17</td>\n",
       "      <td>504</td>\n",
       "      <td>NaN</td>\n",
       "      <td>f19421c1d4aa40978ebb69ca19b0e20d</td>\n",
       "      <td>NaN</td>\n",
       "      <td>0</td>\n",
       "    </tr>\n",
       "    <tr>\n",
       "      <th>214403</th>\n",
       "      <td>offer viewed</td>\n",
       "      <td>22617705eec442e0b7b43e5c5f56fb17</td>\n",
       "      <td>504</td>\n",
       "      <td>NaN</td>\n",
       "      <td>f19421c1d4aa40978ebb69ca19b0e20d</td>\n",
       "      <td>NaN</td>\n",
       "      <td>1</td>\n",
       "    </tr>\n",
       "    <tr>\n",
       "      <th>253904</th>\n",
       "      <td>offer received</td>\n",
       "      <td>3045af4e98794a04a5542d3eac939b1f</td>\n",
       "      <td>576</td>\n",
       "      <td>NaN</td>\n",
       "      <td>4d5c57ea9a6940dd891ad53e9dbe8da0</td>\n",
       "      <td>NaN</td>\n",
       "      <td>0</td>\n",
       "    </tr>\n",
       "    <tr>\n",
       "      <th>260855</th>\n",
       "      <td>offer viewed</td>\n",
       "      <td>3045af4e98794a04a5542d3eac939b1f</td>\n",
       "      <td>576</td>\n",
       "      <td>NaN</td>\n",
       "      <td>4d5c57ea9a6940dd891ad53e9dbe8da0</td>\n",
       "      <td>NaN</td>\n",
       "      <td>1</td>\n",
       "    </tr>\n",
       "    <tr>\n",
       "      <th>112524</th>\n",
       "      <td>offer received</td>\n",
       "      <td>3a4e53046c544134bb1e7782248631d1</td>\n",
       "      <td>336</td>\n",
       "      <td>NaN</td>\n",
       "      <td>9b98b8c7a33c4b65b9aebfe6a799e6d9</td>\n",
       "      <td>NaN</td>\n",
       "      <td>0</td>\n",
       "    </tr>\n",
       "    <tr>\n",
       "      <th>203287</th>\n",
       "      <td>offer received</td>\n",
       "      <td>3a4e53046c544134bb1e7782248631d1</td>\n",
       "      <td>504</td>\n",
       "      <td>NaN</td>\n",
       "      <td>9b98b8c7a33c4b65b9aebfe6a799e6d9</td>\n",
       "      <td>NaN</td>\n",
       "      <td>0</td>\n",
       "    </tr>\n",
       "    <tr>\n",
       "      <th>121670</th>\n",
       "      <td>offer received</td>\n",
       "      <td>7ecfc592171f4844bdc05bdbb48d3847</td>\n",
       "      <td>336</td>\n",
       "      <td>NaN</td>\n",
       "      <td>5a8bc65990b245e5a138643cd4eb9837</td>\n",
       "      <td>NaN</td>\n",
       "      <td>0</td>\n",
       "    </tr>\n",
       "    <tr>\n",
       "      <th>126662</th>\n",
       "      <td>offer viewed</td>\n",
       "      <td>7ecfc592171f4844bdc05bdbb48d3847</td>\n",
       "      <td>336</td>\n",
       "      <td>NaN</td>\n",
       "      <td>5a8bc65990b245e5a138643cd4eb9837</td>\n",
       "      <td>NaN</td>\n",
       "      <td>1</td>\n",
       "    </tr>\n",
       "    <tr>\n",
       "      <th>249251</th>\n",
       "      <td>offer received</td>\n",
       "      <td>912b9f623b9e4b4eb99b6dc919f09a93</td>\n",
       "      <td>576</td>\n",
       "      <td>NaN</td>\n",
       "      <td>4d5c57ea9a6940dd891ad53e9dbe8da0</td>\n",
       "      <td>NaN</td>\n",
       "      <td>0</td>\n",
       "    </tr>\n",
       "    <tr>\n",
       "      <th>269722</th>\n",
       "      <td>offer viewed</td>\n",
       "      <td>912b9f623b9e4b4eb99b6dc919f09a93</td>\n",
       "      <td>594</td>\n",
       "      <td>NaN</td>\n",
       "      <td>4d5c57ea9a6940dd891ad53e9dbe8da0</td>\n",
       "      <td>NaN</td>\n",
       "      <td>1</td>\n",
       "    </tr>\n",
       "    <tr>\n",
       "      <th>159562</th>\n",
       "      <td>offer received</td>\n",
       "      <td>afd41b230f924f9ca8f5ed6249616114</td>\n",
       "      <td>408</td>\n",
       "      <td>NaN</td>\n",
       "      <td>0b1e1539f2cc45b7b9fa7c272da2e1d7</td>\n",
       "      <td>NaN</td>\n",
       "      <td>0</td>\n",
       "    </tr>\n",
       "    <tr>\n",
       "      <th>254042</th>\n",
       "      <td>offer received</td>\n",
       "      <td>afd41b230f924f9ca8f5ed6249616114</td>\n",
       "      <td>576</td>\n",
       "      <td>NaN</td>\n",
       "      <td>ae264e3637204a6fb9bb56bc8210ddfd</td>\n",
       "      <td>NaN</td>\n",
       "      <td>0</td>\n",
       "    </tr>\n",
       "    <tr>\n",
       "      <th>161100</th>\n",
       "      <td>offer received</td>\n",
       "      <td>cae5e211053f4121a389a7da4d631f7f</td>\n",
       "      <td>408</td>\n",
       "      <td>NaN</td>\n",
       "      <td>fafdcd668e3743c1bb461111dcafc2a4</td>\n",
       "      <td>NaN</td>\n",
       "      <td>0</td>\n",
       "    </tr>\n",
       "    <tr>\n",
       "      <th>173847</th>\n",
       "      <td>offer viewed</td>\n",
       "      <td>cae5e211053f4121a389a7da4d631f7f</td>\n",
       "      <td>420</td>\n",
       "      <td>NaN</td>\n",
       "      <td>fafdcd668e3743c1bb461111dcafc2a4</td>\n",
       "      <td>NaN</td>\n",
       "      <td>1</td>\n",
       "    </tr>\n",
       "    <tr>\n",
       "      <th>263150</th>\n",
       "      <td>transaction</td>\n",
       "      <td>da7a7c0dcfcb41a8acc7864a53cf60fb</td>\n",
       "      <td>582</td>\n",
       "      <td>0.35</td>\n",
       "      <td>NaN</td>\n",
       "      <td>NaN</td>\n",
       "      <td>-1</td>\n",
       "    </tr>\n",
       "    <tr>\n",
       "      <th>56114</th>\n",
       "      <td>offer received</td>\n",
       "      <td>df9fc9a86ca84ef5aedde8925d5838ba</td>\n",
       "      <td>168</td>\n",
       "      <td>NaN</td>\n",
       "      <td>2906b810c7d4411798c6938adc9daaa5</td>\n",
       "      <td>NaN</td>\n",
       "      <td>0</td>\n",
       "    </tr>\n",
       "    <tr>\n",
       "      <th>204485</th>\n",
       "      <td>offer received</td>\n",
       "      <td>df9fc9a86ca84ef5aedde8925d5838ba</td>\n",
       "      <td>504</td>\n",
       "      <td>NaN</td>\n",
       "      <td>3f207df678b143eea3cee63160fa8bed</td>\n",
       "      <td>NaN</td>\n",
       "      <td>0</td>\n",
       "    </tr>\n",
       "    <tr>\n",
       "      <th>162890</th>\n",
       "      <td>offer received</td>\n",
       "      <td>e63e42480aae4ede9f07cac49c8c3f78</td>\n",
       "      <td>408</td>\n",
       "      <td>NaN</td>\n",
       "      <td>2906b810c7d4411798c6938adc9daaa5</td>\n",
       "      <td>NaN</td>\n",
       "      <td>0</td>\n",
       "    </tr>\n",
       "    <tr>\n",
       "      <th>257415</th>\n",
       "      <td>offer received</td>\n",
       "      <td>e63e42480aae4ede9f07cac49c8c3f78</td>\n",
       "      <td>576</td>\n",
       "      <td>NaN</td>\n",
       "      <td>2906b810c7d4411798c6938adc9daaa5</td>\n",
       "      <td>NaN</td>\n",
       "      <td>0</td>\n",
       "    </tr>\n",
       "    <tr>\n",
       "      <th>201922</th>\n",
       "      <td>offer received</td>\n",
       "      <td>fccc9279ba56411f80ffe8ce7e0935cd</td>\n",
       "      <td>504</td>\n",
       "      <td>NaN</td>\n",
       "      <td>2906b810c7d4411798c6938adc9daaa5</td>\n",
       "      <td>NaN</td>\n",
       "      <td>0</td>\n",
       "    </tr>\n",
       "    <tr>\n",
       "      <th>232509</th>\n",
       "      <td>offer viewed</td>\n",
       "      <td>fccc9279ba56411f80ffe8ce7e0935cd</td>\n",
       "      <td>534</td>\n",
       "      <td>NaN</td>\n",
       "      <td>2906b810c7d4411798c6938adc9daaa5</td>\n",
       "      <td>NaN</td>\n",
       "      <td>1</td>\n",
       "    </tr>\n",
       "  </tbody>\n",
       "</table>\n",
       "</div>"
      ],
      "text/plain": [
       "                 event                                id  time  amount  \\\n",
       "116832  offer received  1bfe13d2453c4185a6486c6817e0d568   336     NaN   \n",
       "144455    offer viewed  1bfe13d2453c4185a6486c6817e0d568   384     NaN   \n",
       "201981  offer received  22617705eec442e0b7b43e5c5f56fb17   504     NaN   \n",
       "214403    offer viewed  22617705eec442e0b7b43e5c5f56fb17   504     NaN   \n",
       "253904  offer received  3045af4e98794a04a5542d3eac939b1f   576     NaN   \n",
       "260855    offer viewed  3045af4e98794a04a5542d3eac939b1f   576     NaN   \n",
       "112524  offer received  3a4e53046c544134bb1e7782248631d1   336     NaN   \n",
       "203287  offer received  3a4e53046c544134bb1e7782248631d1   504     NaN   \n",
       "121670  offer received  7ecfc592171f4844bdc05bdbb48d3847   336     NaN   \n",
       "126662    offer viewed  7ecfc592171f4844bdc05bdbb48d3847   336     NaN   \n",
       "249251  offer received  912b9f623b9e4b4eb99b6dc919f09a93   576     NaN   \n",
       "269722    offer viewed  912b9f623b9e4b4eb99b6dc919f09a93   594     NaN   \n",
       "159562  offer received  afd41b230f924f9ca8f5ed6249616114   408     NaN   \n",
       "254042  offer received  afd41b230f924f9ca8f5ed6249616114   576     NaN   \n",
       "161100  offer received  cae5e211053f4121a389a7da4d631f7f   408     NaN   \n",
       "173847    offer viewed  cae5e211053f4121a389a7da4d631f7f   420     NaN   \n",
       "263150     transaction  da7a7c0dcfcb41a8acc7864a53cf60fb   582    0.35   \n",
       "56114   offer received  df9fc9a86ca84ef5aedde8925d5838ba   168     NaN   \n",
       "204485  offer received  df9fc9a86ca84ef5aedde8925d5838ba   504     NaN   \n",
       "162890  offer received  e63e42480aae4ede9f07cac49c8c3f78   408     NaN   \n",
       "257415  offer received  e63e42480aae4ede9f07cac49c8c3f78   576     NaN   \n",
       "201922  offer received  fccc9279ba56411f80ffe8ce7e0935cd   504     NaN   \n",
       "232509    offer viewed  fccc9279ba56411f80ffe8ce7e0935cd   534     NaN   \n",
       "\n",
       "                                offer_id  reward  event_num  \n",
       "116832  ae264e3637204a6fb9bb56bc8210ddfd     NaN          0  \n",
       "144455  ae264e3637204a6fb9bb56bc8210ddfd     NaN          1  \n",
       "201981  f19421c1d4aa40978ebb69ca19b0e20d     NaN          0  \n",
       "214403  f19421c1d4aa40978ebb69ca19b0e20d     NaN          1  \n",
       "253904  4d5c57ea9a6940dd891ad53e9dbe8da0     NaN          0  \n",
       "260855  4d5c57ea9a6940dd891ad53e9dbe8da0     NaN          1  \n",
       "112524  9b98b8c7a33c4b65b9aebfe6a799e6d9     NaN          0  \n",
       "203287  9b98b8c7a33c4b65b9aebfe6a799e6d9     NaN          0  \n",
       "121670  5a8bc65990b245e5a138643cd4eb9837     NaN          0  \n",
       "126662  5a8bc65990b245e5a138643cd4eb9837     NaN          1  \n",
       "249251  4d5c57ea9a6940dd891ad53e9dbe8da0     NaN          0  \n",
       "269722  4d5c57ea9a6940dd891ad53e9dbe8da0     NaN          1  \n",
       "159562  0b1e1539f2cc45b7b9fa7c272da2e1d7     NaN          0  \n",
       "254042  ae264e3637204a6fb9bb56bc8210ddfd     NaN          0  \n",
       "161100  fafdcd668e3743c1bb461111dcafc2a4     NaN          0  \n",
       "173847  fafdcd668e3743c1bb461111dcafc2a4     NaN          1  \n",
       "263150                               NaN     NaN         -1  \n",
       "56114   2906b810c7d4411798c6938adc9daaa5     NaN          0  \n",
       "204485  3f207df678b143eea3cee63160fa8bed     NaN          0  \n",
       "162890  2906b810c7d4411798c6938adc9daaa5     NaN          0  \n",
       "257415  2906b810c7d4411798c6938adc9daaa5     NaN          0  \n",
       "201922  2906b810c7d4411798c6938adc9daaa5     NaN          0  \n",
       "232509  2906b810c7d4411798c6938adc9daaa5     NaN          1  "
      ]
     },
     "execution_count": 241,
     "metadata": {},
     "output_type": "execute_result"
    }
   ],
   "source": [
    "transcript2[transcript2['id'].isin(total_offers_per_user[total_offers_per_user <= 2].index)].sort_values(['id', 'time'])"
   ]
  },
  {
   "cell_type": "markdown",
   "metadata": {},
   "source": [
    "In this case, we can see that, from the tail of the distributions, there are a lot of offers but just one transaction.\n",
    "\n",
    "At least for EDA seems convenient to segregate the table in transactions and offers: "
   ]
  },
  {
   "cell_type": "code",
   "execution_count": 247,
   "metadata": {},
   "outputs": [
    {
     "data": {
      "text/html": [
       "<div>\n",
       "<style scoped>\n",
       "    .dataframe tbody tr th:only-of-type {\n",
       "        vertical-align: middle;\n",
       "    }\n",
       "\n",
       "    .dataframe tbody tr th {\n",
       "        vertical-align: top;\n",
       "    }\n",
       "\n",
       "    .dataframe thead th {\n",
       "        text-align: right;\n",
       "    }\n",
       "</style>\n",
       "<table border=\"1\" class=\"dataframe\">\n",
       "  <thead>\n",
       "    <tr style=\"text-align: right;\">\n",
       "      <th></th>\n",
       "      <th>event</th>\n",
       "      <th>id</th>\n",
       "      <th>time</th>\n",
       "      <th>amount</th>\n",
       "      <th>event_num</th>\n",
       "    </tr>\n",
       "  </thead>\n",
       "  <tbody>\n",
       "    <tr>\n",
       "      <th>12654</th>\n",
       "      <td>transaction</td>\n",
       "      <td>02c083884c7d45b39cc68e1314fec56c</td>\n",
       "      <td>0</td>\n",
       "      <td>0.83</td>\n",
       "      <td>-1</td>\n",
       "    </tr>\n",
       "    <tr>\n",
       "      <th>12657</th>\n",
       "      <td>transaction</td>\n",
       "      <td>9fa9ae8f57894cc9a3b8a9bbe0fc1b2f</td>\n",
       "      <td>0</td>\n",
       "      <td>34.56</td>\n",
       "      <td>-1</td>\n",
       "    </tr>\n",
       "    <tr>\n",
       "      <th>12659</th>\n",
       "      <td>transaction</td>\n",
       "      <td>54890f68699049c2a04d415abc25e717</td>\n",
       "      <td>0</td>\n",
       "      <td>13.23</td>\n",
       "      <td>-1</td>\n",
       "    </tr>\n",
       "    <tr>\n",
       "      <th>12670</th>\n",
       "      <td>transaction</td>\n",
       "      <td>b2f1cd155b864803ad8334cdf13c4bd2</td>\n",
       "      <td>0</td>\n",
       "      <td>19.51</td>\n",
       "      <td>-1</td>\n",
       "    </tr>\n",
       "    <tr>\n",
       "      <th>12671</th>\n",
       "      <td>transaction</td>\n",
       "      <td>fe97aa22dd3e48c8b143116a8403dd52</td>\n",
       "      <td>0</td>\n",
       "      <td>18.97</td>\n",
       "      <td>-1</td>\n",
       "    </tr>\n",
       "  </tbody>\n",
       "</table>\n",
       "</div>"
      ],
      "text/plain": [
       "             event                                id  time  amount  event_num\n",
       "12654  transaction  02c083884c7d45b39cc68e1314fec56c     0    0.83         -1\n",
       "12657  transaction  9fa9ae8f57894cc9a3b8a9bbe0fc1b2f     0   34.56         -1\n",
       "12659  transaction  54890f68699049c2a04d415abc25e717     0   13.23         -1\n",
       "12670  transaction  b2f1cd155b864803ad8334cdf13c4bd2     0   19.51         -1\n",
       "12671  transaction  fe97aa22dd3e48c8b143116a8403dd52     0   18.97         -1"
      ]
     },
     "execution_count": 247,
     "metadata": {},
     "output_type": "execute_result"
    }
   ],
   "source": [
    "transactions = transcript2[~transcript2['amount'].isna()]\n",
    "transactions.drop(['offer_id', 'reward'], axis = 1, inplace = True)\n",
    "transactions.head()"
   ]
  },
  {
   "cell_type": "code",
   "execution_count": 249,
   "metadata": {},
   "outputs": [
    {
     "data": {
      "text/html": [
       "<div>\n",
       "<style scoped>\n",
       "    .dataframe tbody tr th:only-of-type {\n",
       "        vertical-align: middle;\n",
       "    }\n",
       "\n",
       "    .dataframe tbody tr th {\n",
       "        vertical-align: top;\n",
       "    }\n",
       "\n",
       "    .dataframe thead th {\n",
       "        text-align: right;\n",
       "    }\n",
       "</style>\n",
       "<table border=\"1\" class=\"dataframe\">\n",
       "  <thead>\n",
       "    <tr style=\"text-align: right;\">\n",
       "      <th></th>\n",
       "      <th>event</th>\n",
       "      <th>id</th>\n",
       "      <th>time</th>\n",
       "      <th>offer_id</th>\n",
       "      <th>reward</th>\n",
       "      <th>event_num</th>\n",
       "    </tr>\n",
       "  </thead>\n",
       "  <tbody>\n",
       "    <tr>\n",
       "      <th>0</th>\n",
       "      <td>offer received</td>\n",
       "      <td>78afa995795e4d85b5d9ceeca43f5fef</td>\n",
       "      <td>0</td>\n",
       "      <td>9b98b8c7a33c4b65b9aebfe6a799e6d9</td>\n",
       "      <td>NaN</td>\n",
       "      <td>0</td>\n",
       "    </tr>\n",
       "    <tr>\n",
       "      <th>1</th>\n",
       "      <td>offer received</td>\n",
       "      <td>a03223e636434f42ac4c3df47e8bac43</td>\n",
       "      <td>0</td>\n",
       "      <td>0b1e1539f2cc45b7b9fa7c272da2e1d7</td>\n",
       "      <td>NaN</td>\n",
       "      <td>0</td>\n",
       "    </tr>\n",
       "    <tr>\n",
       "      <th>2</th>\n",
       "      <td>offer received</td>\n",
       "      <td>e2127556f4f64592b11af22de27a7932</td>\n",
       "      <td>0</td>\n",
       "      <td>2906b810c7d4411798c6938adc9daaa5</td>\n",
       "      <td>NaN</td>\n",
       "      <td>0</td>\n",
       "    </tr>\n",
       "    <tr>\n",
       "      <th>3</th>\n",
       "      <td>offer received</td>\n",
       "      <td>8ec6ce2a7e7949b1bf142def7d0e0586</td>\n",
       "      <td>0</td>\n",
       "      <td>fafdcd668e3743c1bb461111dcafc2a4</td>\n",
       "      <td>NaN</td>\n",
       "      <td>0</td>\n",
       "    </tr>\n",
       "    <tr>\n",
       "      <th>4</th>\n",
       "      <td>offer received</td>\n",
       "      <td>68617ca6246f4fbc85e91a2a49552598</td>\n",
       "      <td>0</td>\n",
       "      <td>4d5c57ea9a6940dd891ad53e9dbe8da0</td>\n",
       "      <td>NaN</td>\n",
       "      <td>0</td>\n",
       "    </tr>\n",
       "  </tbody>\n",
       "</table>\n",
       "</div>"
      ],
      "text/plain": [
       "            event                                id  time  \\\n",
       "0  offer received  78afa995795e4d85b5d9ceeca43f5fef     0   \n",
       "1  offer received  a03223e636434f42ac4c3df47e8bac43     0   \n",
       "2  offer received  e2127556f4f64592b11af22de27a7932     0   \n",
       "3  offer received  8ec6ce2a7e7949b1bf142def7d0e0586     0   \n",
       "4  offer received  68617ca6246f4fbc85e91a2a49552598     0   \n",
       "\n",
       "                           offer_id  reward  event_num  \n",
       "0  9b98b8c7a33c4b65b9aebfe6a799e6d9     NaN          0  \n",
       "1  0b1e1539f2cc45b7b9fa7c272da2e1d7     NaN          0  \n",
       "2  2906b810c7d4411798c6938adc9daaa5     NaN          0  \n",
       "3  fafdcd668e3743c1bb461111dcafc2a4     NaN          0  \n",
       "4  4d5c57ea9a6940dd891ad53e9dbe8da0     NaN          0  "
      ]
     },
     "execution_count": 249,
     "metadata": {},
     "output_type": "execute_result"
    }
   ],
   "source": [
    "offers = transcript2[~transcript2['offer_id'].isna()]\n",
    "offers.drop('amount', axis = 1, inplace = True)\n",
    "offers.head()"
   ]
  },
  {
   "cell_type": "code",
   "execution_count": 259,
   "metadata": {},
   "outputs": [
    {
     "data": {
      "text/html": [
       "<div>\n",
       "<style scoped>\n",
       "    .dataframe tbody tr th:only-of-type {\n",
       "        vertical-align: middle;\n",
       "    }\n",
       "\n",
       "    .dataframe tbody tr th {\n",
       "        vertical-align: top;\n",
       "    }\n",
       "\n",
       "    .dataframe thead th {\n",
       "        text-align: right;\n",
       "    }\n",
       "</style>\n",
       "<table border=\"1\" class=\"dataframe\">\n",
       "  <thead>\n",
       "    <tr style=\"text-align: right;\">\n",
       "      <th></th>\n",
       "      <th>id</th>\n",
       "      <th>amount</th>\n",
       "    </tr>\n",
       "  </thead>\n",
       "  <tbody>\n",
       "    <tr>\n",
       "      <th>3929</th>\n",
       "      <td>3c8d541112a74af99e88abbd0692f00e</td>\n",
       "      <td>1608.69</td>\n",
       "    </tr>\n",
       "    <tr>\n",
       "      <th>15693</th>\n",
       "      <td>f1d65ae63f174b8f80fa063adcaa63b7</td>\n",
       "      <td>1365.66</td>\n",
       "    </tr>\n",
       "    <tr>\n",
       "      <th>11422</th>\n",
       "      <td>ae6f43089b674728a50b8727252d3305</td>\n",
       "      <td>1327.74</td>\n",
       "    </tr>\n",
       "    <tr>\n",
       "      <th>6366</th>\n",
       "      <td>626df8678e2a4953b9098246418c9cfa</td>\n",
       "      <td>1321.42</td>\n",
       "    </tr>\n",
       "    <tr>\n",
       "      <th>7492</th>\n",
       "      <td>73afdeca19e349b98f09e928644610f8</td>\n",
       "      <td>1319.97</td>\n",
       "    </tr>\n",
       "    <tr>\n",
       "      <th>5358</th>\n",
       "      <td>52959f19113e4241a8cb3bef486c6412</td>\n",
       "      <td>1292.86</td>\n",
       "    </tr>\n",
       "    <tr>\n",
       "      <th>11334</th>\n",
       "      <td>ad1f0a409ae642bc9a43f31f56c130fc</td>\n",
       "      <td>1258.19</td>\n",
       "    </tr>\n",
       "    <tr>\n",
       "      <th>13672</th>\n",
       "      <td>d240308de0ee4cf8bb6072816268582b</td>\n",
       "      <td>1251.99</td>\n",
       "    </tr>\n",
       "    <tr>\n",
       "      <th>9673</th>\n",
       "      <td>946fc0d3ecc4492aa4cc06cf6b1492c3</td>\n",
       "      <td>1232.40</td>\n",
       "    </tr>\n",
       "    <tr>\n",
       "      <th>6484</th>\n",
       "      <td>6406abad8e2c4b8584e4f68003de148d</td>\n",
       "      <td>1211.76</td>\n",
       "    </tr>\n",
       "  </tbody>\n",
       "</table>\n",
       "</div>"
      ],
      "text/plain": [
       "                                     id   amount\n",
       "3929   3c8d541112a74af99e88abbd0692f00e  1608.69\n",
       "15693  f1d65ae63f174b8f80fa063adcaa63b7  1365.66\n",
       "11422  ae6f43089b674728a50b8727252d3305  1327.74\n",
       "6366   626df8678e2a4953b9098246418c9cfa  1321.42\n",
       "7492   73afdeca19e349b98f09e928644610f8  1319.97\n",
       "5358   52959f19113e4241a8cb3bef486c6412  1292.86\n",
       "11334  ad1f0a409ae642bc9a43f31f56c130fc  1258.19\n",
       "13672  d240308de0ee4cf8bb6072816268582b  1251.99\n",
       "9673   946fc0d3ecc4492aa4cc06cf6b1492c3  1232.40\n",
       "6484   6406abad8e2c4b8584e4f68003de148d  1211.76"
      ]
     },
     "execution_count": 259,
     "metadata": {},
     "output_type": "execute_result"
    }
   ],
   "source": [
    "spend_per_user = transactions.groupby('id')['amount'].sum().reset_index().sort_values('amount', ascending = False)\n",
    "spend_per_user.head(10)"
   ]
  },
  {
   "cell_type": "code",
   "execution_count": 305,
   "metadata": {},
   "outputs": [
    {
     "name": "stdout",
     "output_type": "stream",
     "text": [
      "1608.69\n",
      "107.0968735673784\n"
     ]
    }
   ],
   "source": [
    "print(spend_per_user['amount'].max())\n",
    "print(spend_per_user['amount'].mean())"
   ]
  },
  {
   "cell_type": "code",
   "execution_count": 274,
   "metadata": {},
   "outputs": [
    {
     "data": {
      "image/png": "[encoded data removed]",
      "text/plain": [
       "<Figure size 1080x360 with 1 Axes>"
      ]
     },
     "metadata": {
      "needs_background": "light"
     },
     "output_type": "display_data"
    }
   ],
   "source": [
    "plt.bar(range(0,100), spend_per_user[:100]['amount'])\n",
    "plt.ylim(ymax = spend_per_user['amount'].max(), ymin = 0)\n",
    "plt.title('Top 100 spenders');"
   ]
  },
  {
   "cell_type": "code",
   "execution_count": 277,
   "metadata": {},
   "outputs": [
    {
     "data": {
      "text/html": [
       "<div>\n",
       "<style scoped>\n",
       "    .dataframe tbody tr th:only-of-type {\n",
       "        vertical-align: middle;\n",
       "    }\n",
       "\n",
       "    .dataframe tbody tr th {\n",
       "        vertical-align: top;\n",
       "    }\n",
       "\n",
       "    .dataframe thead th {\n",
       "        text-align: right;\n",
       "    }\n",
       "</style>\n",
       "<table border=\"1\" class=\"dataframe\">\n",
       "  <thead>\n",
       "    <tr style=\"text-align: right;\">\n",
       "      <th></th>\n",
       "      <th>id</th>\n",
       "      <th>offer_id</th>\n",
       "    </tr>\n",
       "  </thead>\n",
       "  <tbody>\n",
       "    <tr>\n",
       "      <th>16993</th>\n",
       "      <td>ffff82501cea40309d5fdd7edcca4a07</td>\n",
       "      <td>6</td>\n",
       "    </tr>\n",
       "    <tr>\n",
       "      <th>13132</th>\n",
       "      <td>c509fe1f9c464c4881d158f453491d23</td>\n",
       "      <td>6</td>\n",
       "    </tr>\n",
       "    <tr>\n",
       "      <th>5222</th>\n",
       "      <td>4e61c5266747430e950bbdb0e522722b</td>\n",
       "      <td>6</td>\n",
       "    </tr>\n",
       "    <tr>\n",
       "      <th>2642</th>\n",
       "      <td>295698c734bb4aa9a77b8986670d723f</td>\n",
       "      <td>6</td>\n",
       "    </tr>\n",
       "    <tr>\n",
       "      <th>12794</th>\n",
       "      <td>bf6849a39d3640069a65f44f8b01f5da</td>\n",
       "      <td>6</td>\n",
       "    </tr>\n",
       "    <tr>\n",
       "      <th>8839</th>\n",
       "      <td>84f92efc819047ec88e3544570c8da30</td>\n",
       "      <td>6</td>\n",
       "    </tr>\n",
       "    <tr>\n",
       "      <th>2647</th>\n",
       "      <td>29655cba61a04d079efde18203b4f232</td>\n",
       "      <td>6</td>\n",
       "    </tr>\n",
       "    <tr>\n",
       "      <th>12782</th>\n",
       "      <td>bf4798648cf446e6b0e8d6ead888aacd</td>\n",
       "      <td>6</td>\n",
       "    </tr>\n",
       "    <tr>\n",
       "      <th>8843</th>\n",
       "      <td>850e5abd6b5346708926727e82579e94</td>\n",
       "      <td>6</td>\n",
       "    </tr>\n",
       "    <tr>\n",
       "      <th>12777</th>\n",
       "      <td>bf3292eafc2f468ea68d4f5b0e8fa35a</td>\n",
       "      <td>6</td>\n",
       "    </tr>\n",
       "  </tbody>\n",
       "</table>\n",
       "</div>"
      ],
      "text/plain": [
       "                                     id  offer_id\n",
       "16993  ffff82501cea40309d5fdd7edcca4a07         6\n",
       "13132  c509fe1f9c464c4881d158f453491d23         6\n",
       "5222   4e61c5266747430e950bbdb0e522722b         6\n",
       "2642   295698c734bb4aa9a77b8986670d723f         6\n",
       "12794  bf6849a39d3640069a65f44f8b01f5da         6\n",
       "8839   84f92efc819047ec88e3544570c8da30         6\n",
       "2647   29655cba61a04d079efde18203b4f232         6\n",
       "12782  bf4798648cf446e6b0e8d6ead888aacd         6\n",
       "8843   850e5abd6b5346708926727e82579e94         6\n",
       "12777  bf3292eafc2f468ea68d4f5b0e8fa35a         6"
      ]
     },
     "execution_count": 277,
     "metadata": {},
     "output_type": "execute_result"
    }
   ],
   "source": [
    "# offers include all the evolution of every offer. So we are interested in the offers sent:\n",
    "offers_per_user = offers[offers['event_num']==0].groupby('id')['offer_id'].count().reset_index().sort_values('offer_id', ascending = False)\n",
    "offers_per_user.head(10)"
   ]
  },
  {
   "cell_type": "code",
   "execution_count": 307,
   "metadata": {},
   "outputs": [
    {
     "name": "stdout",
     "output_type": "stream",
     "text": [
      "6\n",
      "4.488466517594445\n"
     ]
    }
   ],
   "source": [
    "print(offers_per_user['offer_id'].max())\n",
    "print(offers_per_user['offer_id'].mean())"
   ]
  },
  {
   "cell_type": "code",
   "execution_count": 278,
   "metadata": {},
   "outputs": [
    {
     "data": {
      "image/png": "[encoded data removed]",
      "text/plain": [
       "<Figure size 1080x360 with 1 Axes>"
      ]
     },
     "metadata": {
      "needs_background": "light"
     },
     "output_type": "display_data"
    }
   ],
   "source": [
    "plt.bar(range(0,100), offers_per_user[:100]['offer_id'])\n",
    "plt.ylim(ymax = offers_per_user['offer_id'].max(), ymin = 0)\n",
    "plt.title('Top 100 users with most offers');"
   ]
  },
  {
   "cell_type": "markdown",
   "metadata": {},
   "source": [
    "Now, we are going to calculate the successful offers per user:"
   ]
  },
  {
   "cell_type": "code",
   "execution_count": 281,
   "metadata": {
    "scrolled": true
   },
   "outputs": [],
   "source": [
    "# Successful offers per user:\n",
    "succ_offers_per_user = offers[offers['event_num']==2].groupby('id')['offer_id'].count().reset_index().sort_values('offer_id', ascending = False)"
   ]
  },
  {
   "cell_type": "markdown",
   "metadata": {
    "scrolled": true
   },
   "source": [
    "Let's merge those tables and get new insights:"
   ]
  },
  {
   "cell_type": "code",
   "execution_count": 286,
   "metadata": {},
   "outputs": [
    {
     "data": {
      "text/plain": [
       "12774"
      ]
     },
     "execution_count": 286,
     "metadata": {},
     "output_type": "execute_result"
    }
   ],
   "source": [
    "len(succ_offers_per_user)"
   ]
  },
  {
   "cell_type": "code",
   "execution_count": 301,
   "metadata": {},
   "outputs": [],
   "source": [
    "aux1 = pd.merge(offers_per_user, spend_per_user, on=['id'], how='left').fillna(0)\n",
    "totals_per_user = pd.merge(aux1, succ_offers_per_user, on=['id'], how='left').fillna(0)\n",
    "totals_per_user.rename({'offer_id_x':'tot_offers_received', 'offer_id_y':'tot_offers_succesful'}, axis = 1, inplace = True)\n",
    "totals_per_user['offer_success_ratio'] = totals_per_user['tot_offers_succesful']/ totals_per_user['tot_offers_received']"
   ]
  },
  {
   "cell_type": "markdown",
   "metadata": {},
   "source": [
    "Now, let's see whether there is a relationship between the number of offers received and the mean amount spent by each user:"
   ]
  },
  {
   "cell_type": "code",
   "execution_count": 316,
   "metadata": {},
   "outputs": [
    {
     "data": {
      "text/html": [
       "<div>\n",
       "<style scoped>\n",
       "    .dataframe tbody tr th:only-of-type {\n",
       "        vertical-align: middle;\n",
       "    }\n",
       "\n",
       "    .dataframe tbody tr th {\n",
       "        vertical-align: top;\n",
       "    }\n",
       "\n",
       "    .dataframe thead th {\n",
       "        text-align: right;\n",
       "    }\n",
       "</style>\n",
       "<table border=\"1\" class=\"dataframe\">\n",
       "  <thead>\n",
       "    <tr style=\"text-align: right;\">\n",
       "      <th></th>\n",
       "      <th>tot_offers_received</th>\n",
       "      <th>mean_amount</th>\n",
       "    </tr>\n",
       "  </thead>\n",
       "  <tbody>\n",
       "    <tr>\n",
       "      <th>0</th>\n",
       "      <td>1</td>\n",
       "      <td>84.697671</td>\n",
       "    </tr>\n",
       "    <tr>\n",
       "      <th>1</th>\n",
       "      <td>2</td>\n",
       "      <td>78.617705</td>\n",
       "    </tr>\n",
       "    <tr>\n",
       "      <th>2</th>\n",
       "      <td>3</td>\n",
       "      <td>91.533398</td>\n",
       "    </tr>\n",
       "    <tr>\n",
       "      <th>3</th>\n",
       "      <td>4</td>\n",
       "      <td>96.830233</td>\n",
       "    </tr>\n",
       "    <tr>\n",
       "      <th>4</th>\n",
       "      <td>5</td>\n",
       "      <td>112.394866</td>\n",
       "    </tr>\n",
       "    <tr>\n",
       "      <th>5</th>\n",
       "      <td>6</td>\n",
       "      <td>116.936201</td>\n",
       "    </tr>\n",
       "  </tbody>\n",
       "</table>\n",
       "</div>"
      ],
      "text/plain": [
       "   tot_offers_received  mean_amount\n",
       "0                    1    84.697671\n",
       "1                    2    78.617705\n",
       "2                    3    91.533398\n",
       "3                    4    96.830233\n",
       "4                    5   112.394866\n",
       "5                    6   116.936201"
      ]
     },
     "execution_count": 316,
     "metadata": {},
     "output_type": "execute_result"
    }
   ],
   "source": [
    "totals_per_user.groupby(['tot_offers_received'])['amount'].mean().reset_index().rename({'amount':'mean_amount'}, axis=1)"
   ]
  },
  {
   "cell_type": "code",
   "execution_count": 335,
   "metadata": {},
   "outputs": [
    {
     "data": {
      "image/png": "[encoded data removed]",
      "text/plain": [
       "<Figure size 1080x504 with 1 Axes>"
      ]
     },
     "metadata": {
      "needs_background": "light"
     },
     "output_type": "display_data"
    }
   ],
   "source": [
    "fig_boxplot = plt.figure(figsize=[15,7])\n",
    "a = sns.boxplot(totals_per_user['amount'], totals_per_user['tot_offers_received'], orient = 'h')\n",
    "plt.title('Boxplot of offers received and amount spent per user');"
   ]
  },
  {
   "cell_type": "markdown",
   "metadata": {},
   "source": [
    "Now, let's see if sending more or less offers to the user has an inpact on the offer success ratio:"
   ]
  },
  {
   "cell_type": "code",
   "execution_count": 340,
   "metadata": {},
   "outputs": [
    {
     "name": "stdout",
     "output_type": "stream",
     "text": [
      "   tot_offers_received  mean_offer_success_ratio\n",
      "0                    1                  0.465753\n",
      "1                    2                  0.439344\n",
      "2                    3                  0.435556\n",
      "3                    4                  0.436197\n",
      "4                    5                  0.446603\n",
      "5                    6                  0.436040\n"
     ]
    },
    {
     "data": {
      "text/plain": [
       "Text(0.5, 1.0, 'Offer success ratio per number of offers received')"
      ]
     },
     "execution_count": 340,
     "metadata": {},
     "output_type": "execute_result"
    },
    {
     "data": {
      "image/png": "[encoded data removed]",
      "text/plain": [
       "<Figure size 1080x360 with 1 Axes>"
      ]
     },
     "metadata": {
      "needs_background": "light"
     },
     "output_type": "display_data"
    }
   ],
   "source": [
    "offer_success_ratio = (totals_per_user.groupby(['tot_offers_received'])['offer_success_ratio']\n",
    "                                       .mean()\n",
    "                                       .reset_index()\n",
    "                                       .rename({'offer_success_ratio':'mean_offer_success_ratio'}, axis=1)\n",
    "                      )\n",
    "print(offer_success_ratio)\n",
    "plt.bar(offer_success_ratio['tot_offers_received'], offer_success_ratio['mean_offer_success_ratio'])\n",
    "plt.title('Offer success ratio per number of offers received')"
   ]
  },
  {
   "cell_type": "markdown",
   "metadata": {},
   "source": [
    "It seems that the number of offers sent has no impact on the success ratio of the offers.\n",
    "\n",
    "Finally, we will check if there is a relationship between the success ratio of the offers sent to a client and their spending:"
   ]
  },
  {
   "cell_type": "code",
   "execution_count": 343,
   "metadata": {},
   "outputs": [
    {
     "data": {
      "text/html": [
       "<div>\n",
       "<style scoped>\n",
       "    .dataframe tbody tr th:only-of-type {\n",
       "        vertical-align: middle;\n",
       "    }\n",
       "\n",
       "    .dataframe tbody tr th {\n",
       "        vertical-align: top;\n",
       "    }\n",
       "\n",
       "    .dataframe thead th {\n",
       "        text-align: right;\n",
       "    }\n",
       "</style>\n",
       "<table border=\"1\" class=\"dataframe\">\n",
       "  <thead>\n",
       "    <tr style=\"text-align: right;\">\n",
       "      <th></th>\n",
       "      <th>offer_success_ratio</th>\n",
       "      <th>mean_amount</th>\n",
       "    </tr>\n",
       "  </thead>\n",
       "  <tbody>\n",
       "    <tr>\n",
       "      <th>0</th>\n",
       "      <td>0.000000</td>\n",
       "      <td>18.005384</td>\n",
       "    </tr>\n",
       "    <tr>\n",
       "      <th>1</th>\n",
       "      <td>0.166667</td>\n",
       "      <td>38.733157</td>\n",
       "    </tr>\n",
       "    <tr>\n",
       "      <th>2</th>\n",
       "      <td>0.200000</td>\n",
       "      <td>41.879913</td>\n",
       "    </tr>\n",
       "    <tr>\n",
       "      <th>3</th>\n",
       "      <td>0.250000</td>\n",
       "      <td>52.363485</td>\n",
       "    </tr>\n",
       "    <tr>\n",
       "      <th>4</th>\n",
       "      <td>0.333333</td>\n",
       "      <td>76.521486</td>\n",
       "    </tr>\n",
       "    <tr>\n",
       "      <th>5</th>\n",
       "      <td>0.400000</td>\n",
       "      <td>90.789097</td>\n",
       "    </tr>\n",
       "    <tr>\n",
       "      <th>6</th>\n",
       "      <td>0.500000</td>\n",
       "      <td>106.754453</td>\n",
       "    </tr>\n",
       "    <tr>\n",
       "      <th>7</th>\n",
       "      <td>0.600000</td>\n",
       "      <td>152.902212</td>\n",
       "    </tr>\n",
       "    <tr>\n",
       "      <th>8</th>\n",
       "      <td>0.666667</td>\n",
       "      <td>151.674906</td>\n",
       "    </tr>\n",
       "    <tr>\n",
       "      <th>9</th>\n",
       "      <td>0.750000</td>\n",
       "      <td>158.982255</td>\n",
       "    </tr>\n",
       "    <tr>\n",
       "      <th>10</th>\n",
       "      <td>0.800000</td>\n",
       "      <td>204.536745</td>\n",
       "    </tr>\n",
       "    <tr>\n",
       "      <th>11</th>\n",
       "      <td>0.833333</td>\n",
       "      <td>225.532357</td>\n",
       "    </tr>\n",
       "    <tr>\n",
       "      <th>12</th>\n",
       "      <td>1.000000</td>\n",
       "      <td>212.549410</td>\n",
       "    </tr>\n",
       "  </tbody>\n",
       "</table>\n",
       "</div>"
      ],
      "text/plain": [
       "    offer_success_ratio  mean_amount\n",
       "0              0.000000    18.005384\n",
       "1              0.166667    38.733157\n",
       "2              0.200000    41.879913\n",
       "3              0.250000    52.363485\n",
       "4              0.333333    76.521486\n",
       "5              0.400000    90.789097\n",
       "6              0.500000   106.754453\n",
       "7              0.600000   152.902212\n",
       "8              0.666667   151.674906\n",
       "9              0.750000   158.982255\n",
       "10             0.800000   204.536745\n",
       "11             0.833333   225.532357\n",
       "12             1.000000   212.549410"
      ]
     },
     "execution_count": 343,
     "metadata": {},
     "output_type": "execute_result"
    }
   ],
   "source": [
    "totals_per_user.groupby(['offer_success_ratio'])['amount'].mean().reset_index().rename({'amount':'mean_amount'}, axis=1)"
   ]
  },
  {
   "cell_type": "code",
   "execution_count": 344,
   "metadata": {},
   "outputs": [
    {
     "data": {
      "image/png": "[encoded data removed]",
      "text/plain": [
       "<Figure size 1080x504 with 1 Axes>"
      ]
     },
     "metadata": {
      "needs_background": "light"
     },
     "output_type": "display_data"
    }
   ],
   "source": [
    "fig_boxplot = plt.figure(figsize=[15,7])\n",
    "a = sns.boxplot(totals_per_user['amount'], totals_per_user['offer_success_ratio'], orient = 'h')\n",
    "plt.title('Boxplot of offers success ratio and amount spent per user');"
   ]
  },
  {
   "cell_type": "markdown",
   "metadata": {},
   "source": [
    "We can also see here a strong positive correlation between the offer success ratio and the mean amount spent.\n",
    "\n",
    "These conclussions can be sumarized by studying the correlations among the variables of this table:"
   ]
  },
  {
   "cell_type": "code",
   "execution_count": 348,
   "metadata": {},
   "outputs": [
    {
     "name": "stdout",
     "output_type": "stream",
     "text": [
      "                      tot_offers_received    amount  tot_offers_succesful  \\\n",
      "tot_offers_received              1.000000  0.082519              0.296437   \n",
      "amount                           0.082519  1.000000              0.572703   \n",
      "tot_offers_succesful             0.296437  0.572703              1.000000   \n",
      "offer_success_ratio              0.003354  0.565365              0.925888   \n",
      "\n",
      "                      offer_success_ratio  \n",
      "tot_offers_received              0.003354  \n",
      "amount                           0.565365  \n",
      "tot_offers_succesful             0.925888  \n",
      "offer_success_ratio              1.000000  \n"
     ]
    },
    {
     "data": {
      "image/png": "[encoded data removed]",
      "text/plain": [
       "<Figure size 1080x360 with 2 Axes>"
      ]
     },
     "metadata": {
      "needs_background": "light"
     },
     "output_type": "display_data"
    }
   ],
   "source": [
    "correlations = totals_per_user.corr()\n",
    "print(correlations)\n",
    "sns.heatmap(correlations)\n",
    "plt.title('Existing correlations between offers sent, offers successful, offer success ratio and amount spent by customer');"
   ]
  },
  {
   "cell_type": "markdown",
   "metadata": {},
   "source": [
    "This is useful information, so we will anex it to our clean_profile dataframe:"
   ]
  },
  {
   "cell_type": "code",
   "execution_count": 350,
   "metadata": {},
   "outputs": [],
   "source": [
    "clean_profile_expanded = pd.merge(clean_profile, totals_per_user, on='id', how='left')"
   ]
  },
  {
   "cell_type": "markdown",
   "metadata": {},
   "source": [
    "There are five customers with no info on this regard:"
   ]
  },
  {
   "cell_type": "code",
   "execution_count": 352,
   "metadata": {},
   "outputs": [
    {
     "data": {
      "text/html": [
       "<div>\n",
       "<style scoped>\n",
       "    .dataframe tbody tr th:only-of-type {\n",
       "        vertical-align: middle;\n",
       "    }\n",
       "\n",
       "    .dataframe tbody tr th {\n",
       "        vertical-align: top;\n",
       "    }\n",
       "\n",
       "    .dataframe thead th {\n",
       "        text-align: right;\n",
       "    }\n",
       "</style>\n",
       "<table border=\"1\" class=\"dataframe\">\n",
       "  <thead>\n",
       "    <tr style=\"text-align: right;\">\n",
       "      <th></th>\n",
       "      <th>age</th>\n",
       "      <th>became_member_on</th>\n",
       "      <th>gender</th>\n",
       "      <th>id</th>\n",
       "      <th>income</th>\n",
       "      <th>date_bmo</th>\n",
       "      <th>year_bmo</th>\n",
       "      <th>month_bmo</th>\n",
       "      <th>day_bmo</th>\n",
       "      <th>tot_offers_received</th>\n",
       "      <th>amount</th>\n",
       "      <th>tot_offers_succesful</th>\n",
       "      <th>offer_success_ratio</th>\n",
       "    </tr>\n",
       "  </thead>\n",
       "  <tbody>\n",
       "    <tr>\n",
       "      <th>745</th>\n",
       "      <td>72</td>\n",
       "      <td>20171014</td>\n",
       "      <td>F</td>\n",
       "      <td>c6e579c6821c41d1a7a6a9cf936e91bb</td>\n",
       "      <td>35000.0</td>\n",
       "      <td>2017-10-14</td>\n",
       "      <td>2017</td>\n",
       "      <td>10</td>\n",
       "      <td>14</td>\n",
       "      <td>NaN</td>\n",
       "      <td>NaN</td>\n",
       "      <td>NaN</td>\n",
       "      <td>NaN</td>\n",
       "    </tr>\n",
       "    <tr>\n",
       "      <th>4921</th>\n",
       "      <td>66</td>\n",
       "      <td>20170929</td>\n",
       "      <td>F</td>\n",
       "      <td>eb540099db834cf59001f83a4561aef3</td>\n",
       "      <td>34000.0</td>\n",
       "      <td>2017-09-29</td>\n",
       "      <td>2017</td>\n",
       "      <td>9</td>\n",
       "      <td>29</td>\n",
       "      <td>NaN</td>\n",
       "      <td>NaN</td>\n",
       "      <td>NaN</td>\n",
       "      <td>NaN</td>\n",
       "    </tr>\n",
       "    <tr>\n",
       "      <th>5933</th>\n",
       "      <td>55</td>\n",
       "      <td>20160816</td>\n",
       "      <td>F</td>\n",
       "      <td>3a4874d8f0ef42b9a1b72294902afea9</td>\n",
       "      <td>88000.0</td>\n",
       "      <td>2016-08-16</td>\n",
       "      <td>2016</td>\n",
       "      <td>8</td>\n",
       "      <td>16</td>\n",
       "      <td>NaN</td>\n",
       "      <td>NaN</td>\n",
       "      <td>NaN</td>\n",
       "      <td>NaN</td>\n",
       "    </tr>\n",
       "    <tr>\n",
       "      <th>12891</th>\n",
       "      <td>54</td>\n",
       "      <td>20170106</td>\n",
       "      <td>F</td>\n",
       "      <td>ae8111e7e8cd4b60a8d35c42c1110555</td>\n",
       "      <td>72000.0</td>\n",
       "      <td>2017-01-06</td>\n",
       "      <td>2017</td>\n",
       "      <td>1</td>\n",
       "      <td>6</td>\n",
       "      <td>NaN</td>\n",
       "      <td>NaN</td>\n",
       "      <td>NaN</td>\n",
       "      <td>NaN</td>\n",
       "    </tr>\n",
       "    <tr>\n",
       "      <th>13442</th>\n",
       "      <td>91</td>\n",
       "      <td>20151005</td>\n",
       "      <td>M</td>\n",
       "      <td>12ede229379747bd8d74ccdc20097ca3</td>\n",
       "      <td>70000.0</td>\n",
       "      <td>2015-10-05</td>\n",
       "      <td>2015</td>\n",
       "      <td>10</td>\n",
       "      <td>5</td>\n",
       "      <td>NaN</td>\n",
       "      <td>NaN</td>\n",
       "      <td>NaN</td>\n",
       "      <td>NaN</td>\n",
       "    </tr>\n",
       "  </tbody>\n",
       "</table>\n",
       "</div>"
      ],
      "text/plain": [
       "       age  became_member_on gender                                id  \\\n",
       "745     72          20171014      F  c6e579c6821c41d1a7a6a9cf936e91bb   \n",
       "4921    66          20170929      F  eb540099db834cf59001f83a4561aef3   \n",
       "5933    55          20160816      F  3a4874d8f0ef42b9a1b72294902afea9   \n",
       "12891   54          20170106      F  ae8111e7e8cd4b60a8d35c42c1110555   \n",
       "13442   91          20151005      M  12ede229379747bd8d74ccdc20097ca3   \n",
       "\n",
       "        income   date_bmo  year_bmo  month_bmo  day_bmo  tot_offers_received  \\\n",
       "745    35000.0 2017-10-14      2017         10       14                  NaN   \n",
       "4921   34000.0 2017-09-29      2017          9       29                  NaN   \n",
       "5933   88000.0 2016-08-16      2016          8       16                  NaN   \n",
       "12891  72000.0 2017-01-06      2017          1        6                  NaN   \n",
       "13442  70000.0 2015-10-05      2015         10        5                  NaN   \n",
       "\n",
       "       amount  tot_offers_succesful  offer_success_ratio  \n",
       "745       NaN                   NaN                  NaN  \n",
       "4921      NaN                   NaN                  NaN  \n",
       "5933      NaN                   NaN                  NaN  \n",
       "12891     NaN                   NaN                  NaN  \n",
       "13442     NaN                   NaN                  NaN  "
      ]
     },
     "execution_count": 352,
     "metadata": {},
     "output_type": "execute_result"
    }
   ],
   "source": [
    "clean_profile_expanded[clean_profile_expanded['amount'].isna()]"
   ]
  },
  {
   "cell_type": "code",
   "execution_count": 355,
   "metadata": {},
   "outputs": [],
   "source": [
    "customer_wo_info = list(clean_profile_expanded[clean_profile_expanded['amount'].isna()]['id'])"
   ]
  },
  {
   "cell_type": "code",
   "execution_count": 356,
   "metadata": {},
   "outputs": [
    {
     "data": {
      "text/html": [
       "<div>\n",
       "<style scoped>\n",
       "    .dataframe tbody tr th:only-of-type {\n",
       "        vertical-align: middle;\n",
       "    }\n",
       "\n",
       "    .dataframe tbody tr th {\n",
       "        vertical-align: top;\n",
       "    }\n",
       "\n",
       "    .dataframe thead th {\n",
       "        text-align: right;\n",
       "    }\n",
       "</style>\n",
       "<table border=\"1\" class=\"dataframe\">\n",
       "  <thead>\n",
       "    <tr style=\"text-align: right;\">\n",
       "      <th></th>\n",
       "      <th>event</th>\n",
       "      <th>id</th>\n",
       "      <th>time</th>\n",
       "      <th>amount</th>\n",
       "      <th>offer_id</th>\n",
       "      <th>reward</th>\n",
       "      <th>event_num</th>\n",
       "    </tr>\n",
       "  </thead>\n",
       "  <tbody>\n",
       "    <tr>\n",
       "      <th>16379</th>\n",
       "      <td>transaction</td>\n",
       "      <td>eb540099db834cf59001f83a4561aef3</td>\n",
       "      <td>6</td>\n",
       "      <td>4.74</td>\n",
       "      <td>NaN</td>\n",
       "      <td>NaN</td>\n",
       "      <td>-1</td>\n",
       "    </tr>\n",
       "    <tr>\n",
       "      <th>22092</th>\n",
       "      <td>transaction</td>\n",
       "      <td>12ede229379747bd8d74ccdc20097ca3</td>\n",
       "      <td>18</td>\n",
       "      <td>16.62</td>\n",
       "      <td>NaN</td>\n",
       "      <td>NaN</td>\n",
       "      <td>-1</td>\n",
       "    </tr>\n",
       "    <tr>\n",
       "      <th>69477</th>\n",
       "      <td>transaction</td>\n",
       "      <td>c6e579c6821c41d1a7a6a9cf936e91bb</td>\n",
       "      <td>174</td>\n",
       "      <td>0.65</td>\n",
       "      <td>NaN</td>\n",
       "      <td>NaN</td>\n",
       "      <td>-1</td>\n",
       "    </tr>\n",
       "    <tr>\n",
       "      <th>87239</th>\n",
       "      <td>transaction</td>\n",
       "      <td>c6e579c6821c41d1a7a6a9cf936e91bb</td>\n",
       "      <td>222</td>\n",
       "      <td>1.91</td>\n",
       "      <td>NaN</td>\n",
       "      <td>NaN</td>\n",
       "      <td>-1</td>\n",
       "    </tr>\n",
       "    <tr>\n",
       "      <th>106812</th>\n",
       "      <td>transaction</td>\n",
       "      <td>ae8111e7e8cd4b60a8d35c42c1110555</td>\n",
       "      <td>306</td>\n",
       "      <td>17.51</td>\n",
       "      <td>NaN</td>\n",
       "      <td>NaN</td>\n",
       "      <td>-1</td>\n",
       "    </tr>\n",
       "    <tr>\n",
       "      <th>108268</th>\n",
       "      <td>transaction</td>\n",
       "      <td>eb540099db834cf59001f83a4561aef3</td>\n",
       "      <td>318</td>\n",
       "      <td>5.09</td>\n",
       "      <td>NaN</td>\n",
       "      <td>NaN</td>\n",
       "      <td>-1</td>\n",
       "    </tr>\n",
       "    <tr>\n",
       "      <th>109340</th>\n",
       "      <td>transaction</td>\n",
       "      <td>3a4874d8f0ef42b9a1b72294902afea9</td>\n",
       "      <td>324</td>\n",
       "      <td>22.75</td>\n",
       "      <td>NaN</td>\n",
       "      <td>NaN</td>\n",
       "      <td>-1</td>\n",
       "    </tr>\n",
       "    <tr>\n",
       "      <th>109815</th>\n",
       "      <td>transaction</td>\n",
       "      <td>12ede229379747bd8d74ccdc20097ca3</td>\n",
       "      <td>324</td>\n",
       "      <td>27.60</td>\n",
       "      <td>NaN</td>\n",
       "      <td>NaN</td>\n",
       "      <td>-1</td>\n",
       "    </tr>\n",
       "    <tr>\n",
       "      <th>110707</th>\n",
       "      <td>transaction</td>\n",
       "      <td>ae8111e7e8cd4b60a8d35c42c1110555</td>\n",
       "      <td>330</td>\n",
       "      <td>28.70</td>\n",
       "      <td>NaN</td>\n",
       "      <td>NaN</td>\n",
       "      <td>-1</td>\n",
       "    </tr>\n",
       "    <tr>\n",
       "      <th>142347</th>\n",
       "      <td>transaction</td>\n",
       "      <td>3a4874d8f0ef42b9a1b72294902afea9</td>\n",
       "      <td>378</td>\n",
       "      <td>27.20</td>\n",
       "      <td>NaN</td>\n",
       "      <td>NaN</td>\n",
       "      <td>-1</td>\n",
       "    </tr>\n",
       "    <tr>\n",
       "      <th>163610</th>\n",
       "      <td>transaction</td>\n",
       "      <td>c6e579c6821c41d1a7a6a9cf936e91bb</td>\n",
       "      <td>408</td>\n",
       "      <td>1.25</td>\n",
       "      <td>NaN</td>\n",
       "      <td>NaN</td>\n",
       "      <td>-1</td>\n",
       "    </tr>\n",
       "    <tr>\n",
       "      <th>184609</th>\n",
       "      <td>transaction</td>\n",
       "      <td>ae8111e7e8cd4b60a8d35c42c1110555</td>\n",
       "      <td>444</td>\n",
       "      <td>11.53</td>\n",
       "      <td>NaN</td>\n",
       "      <td>NaN</td>\n",
       "      <td>-1</td>\n",
       "    </tr>\n",
       "    <tr>\n",
       "      <th>228700</th>\n",
       "      <td>transaction</td>\n",
       "      <td>eb540099db834cf59001f83a4561aef3</td>\n",
       "      <td>528</td>\n",
       "      <td>7.40</td>\n",
       "      <td>NaN</td>\n",
       "      <td>NaN</td>\n",
       "      <td>-1</td>\n",
       "    </tr>\n",
       "    <tr>\n",
       "      <th>243317</th>\n",
       "      <td>transaction</td>\n",
       "      <td>c6e579c6821c41d1a7a6a9cf936e91bb</td>\n",
       "      <td>570</td>\n",
       "      <td>3.14</td>\n",
       "      <td>NaN</td>\n",
       "      <td>NaN</td>\n",
       "      <td>-1</td>\n",
       "    </tr>\n",
       "    <tr>\n",
       "      <th>259644</th>\n",
       "      <td>transaction</td>\n",
       "      <td>3a4874d8f0ef42b9a1b72294902afea9</td>\n",
       "      <td>576</td>\n",
       "      <td>17.67</td>\n",
       "      <td>NaN</td>\n",
       "      <td>NaN</td>\n",
       "      <td>-1</td>\n",
       "    </tr>\n",
       "    <tr>\n",
       "      <th>269818</th>\n",
       "      <td>transaction</td>\n",
       "      <td>eb540099db834cf59001f83a4561aef3</td>\n",
       "      <td>594</td>\n",
       "      <td>8.78</td>\n",
       "      <td>NaN</td>\n",
       "      <td>NaN</td>\n",
       "      <td>-1</td>\n",
       "    </tr>\n",
       "    <tr>\n",
       "      <th>287598</th>\n",
       "      <td>transaction</td>\n",
       "      <td>ae8111e7e8cd4b60a8d35c42c1110555</td>\n",
       "      <td>636</td>\n",
       "      <td>9.72</td>\n",
       "      <td>NaN</td>\n",
       "      <td>NaN</td>\n",
       "      <td>-1</td>\n",
       "    </tr>\n",
       "    <tr>\n",
       "      <th>292894</th>\n",
       "      <td>transaction</td>\n",
       "      <td>ae8111e7e8cd4b60a8d35c42c1110555</td>\n",
       "      <td>654</td>\n",
       "      <td>18.97</td>\n",
       "      <td>NaN</td>\n",
       "      <td>NaN</td>\n",
       "      <td>-1</td>\n",
       "    </tr>\n",
       "    <tr>\n",
       "      <th>292962</th>\n",
       "      <td>transaction</td>\n",
       "      <td>12ede229379747bd8d74ccdc20097ca3</td>\n",
       "      <td>654</td>\n",
       "      <td>19.03</td>\n",
       "      <td>NaN</td>\n",
       "      <td>NaN</td>\n",
       "      <td>-1</td>\n",
       "    </tr>\n",
       "  </tbody>\n",
       "</table>\n",
       "</div>"
      ],
      "text/plain": [
       "              event                                id  time  amount offer_id  \\\n",
       "16379   transaction  eb540099db834cf59001f83a4561aef3     6    4.74      NaN   \n",
       "22092   transaction  12ede229379747bd8d74ccdc20097ca3    18   16.62      NaN   \n",
       "69477   transaction  c6e579c6821c41d1a7a6a9cf936e91bb   174    0.65      NaN   \n",
       "87239   transaction  c6e579c6821c41d1a7a6a9cf936e91bb   222    1.91      NaN   \n",
       "106812  transaction  ae8111e7e8cd4b60a8d35c42c1110555   306   17.51      NaN   \n",
       "108268  transaction  eb540099db834cf59001f83a4561aef3   318    5.09      NaN   \n",
       "109340  transaction  3a4874d8f0ef42b9a1b72294902afea9   324   22.75      NaN   \n",
       "109815  transaction  12ede229379747bd8d74ccdc20097ca3   324   27.60      NaN   \n",
       "110707  transaction  ae8111e7e8cd4b60a8d35c42c1110555   330   28.70      NaN   \n",
       "142347  transaction  3a4874d8f0ef42b9a1b72294902afea9   378   27.20      NaN   \n",
       "163610  transaction  c6e579c6821c41d1a7a6a9cf936e91bb   408    1.25      NaN   \n",
       "184609  transaction  ae8111e7e8cd4b60a8d35c42c1110555   444   11.53      NaN   \n",
       "228700  transaction  eb540099db834cf59001f83a4561aef3   528    7.40      NaN   \n",
       "243317  transaction  c6e579c6821c41d1a7a6a9cf936e91bb   570    3.14      NaN   \n",
       "259644  transaction  3a4874d8f0ef42b9a1b72294902afea9   576   17.67      NaN   \n",
       "269818  transaction  eb540099db834cf59001f83a4561aef3   594    8.78      NaN   \n",
       "287598  transaction  ae8111e7e8cd4b60a8d35c42c1110555   636    9.72      NaN   \n",
       "292894  transaction  ae8111e7e8cd4b60a8d35c42c1110555   654   18.97      NaN   \n",
       "292962  transaction  12ede229379747bd8d74ccdc20097ca3   654   19.03      NaN   \n",
       "\n",
       "        reward  event_num  \n",
       "16379      NaN         -1  \n",
       "22092      NaN         -1  \n",
       "69477      NaN         -1  \n",
       "87239      NaN         -1  \n",
       "106812     NaN         -1  \n",
       "108268     NaN         -1  \n",
       "109340     NaN         -1  \n",
       "109815     NaN         -1  \n",
       "110707     NaN         -1  \n",
       "142347     NaN         -1  \n",
       "163610     NaN         -1  \n",
       "184609     NaN         -1  \n",
       "228700     NaN         -1  \n",
       "243317     NaN         -1  \n",
       "259644     NaN         -1  \n",
       "269818     NaN         -1  \n",
       "287598     NaN         -1  \n",
       "292894     NaN         -1  \n",
       "292962     NaN         -1  "
      ]
     },
     "execution_count": 356,
     "metadata": {},
     "output_type": "execute_result"
    }
   ],
   "source": [
    "transcript2[transcript2['id'].isin(customer_wo_info)]"
   ]
  },
  {
   "cell_type": "markdown",
   "metadata": {},
   "source": [
    "We see that those customers spent some money, but didn't receive any offers. Let's fix this in our table:"
   ]
  },
  {
   "cell_type": "code",
   "execution_count": 376,
   "metadata": {},
   "outputs": [
    {
     "data": {
      "text/plain": [
       "Series([], Name: amount, dtype: float64)"
      ]
     },
     "execution_count": 376,
     "metadata": {},
     "output_type": "execute_result"
    }
   ],
   "source": [
    "transcript_missing_custs = transcript2[transcript2['id'].isin(customer_wo_info)]\n",
    "missing_custs_dict = dict(transcript_missing_custs.groupby('id')['amount'].sum())\n",
    "\n",
    "missing_index = clean_profile_expanded[clean_profile_expanded['amount'].isna()].index\n",
    "clean_profile_expanded.loc[missing_index,'amount'] = clean_profile_expanded['id'].apply(lambda x: missing_custs_dict[x] if x in missing_custs_dict.keys() else 0)\n",
    "\n",
    "clean_profile_expanded.loc[missing_index,'amount']"
   ]
  },
  {
   "cell_type": "markdown",
   "metadata": {},
   "source": [
    "Finally, we now replace the offer values of those lines with zeroes:"
   ]
  },
  {
   "cell_type": "code",
   "execution_count": 381,
   "metadata": {},
   "outputs": [],
   "source": [
    "clean_profile_expanded.fillna(0, inplace = True)"
   ]
  },
  {
   "cell_type": "markdown",
   "metadata": {},
   "source": [
    "Now, as we remember from earlier exploration, not all users from our clean_profile table did match our transcript tables, as we dropped some users without information on some vital regards.\n",
    "\n",
    "As we have abundant data, let's filter it by those customers from whom we have all the information:"
   ]
  },
  {
   "cell_type": "code",
   "execution_count": 384,
   "metadata": {},
   "outputs": [
    {
     "name": "stdout",
     "output_type": "stream",
     "text": [
      "272762\n",
      "123957\n",
      "148805\n",
      "272762\n"
     ]
    }
   ],
   "source": [
    "clean_transcript = transcript2[transcript2['id'].isin(clean_profile_expanded['id'])]\n",
    "clean_transactions = transactions[transactions['id'].isin(clean_profile_expanded['id'])]\n",
    "clean_offers = offers[offers['id'].isin(clean_profile_expanded['id'])]\n",
    "\n",
    "print(len(clean_transcript))\n",
    "print(len(clean_transactions))\n",
    "print(len(clean_offers))\n",
    "print(len(clean_transactions) + len(clean_offers))"
   ]
  },
  {
   "cell_type": "code",
   "execution_count": 385,
   "metadata": {},
   "outputs": [
    {
     "name": "stdout",
     "output_type": "stream",
     "text": [
      "14825\n",
      "14492\n",
      "14820\n"
     ]
    }
   ],
   "source": [
    "print(len(clean_transcript['id'].unique()))\n",
    "print(len(clean_transactions['id'].unique()))\n",
    "print(len(clean_offers['id'].unique()))"
   ]
  },
  {
   "cell_type": "markdown",
   "metadata": {},
   "source": [
    "Those sanity checks confirm all is OK. \n",
    "\n",
    "If using clean_transactions and clean_offers, we have to keep in mind that not all clients received offers, neither all of them performed transactions."
   ]
  },
  {
   "cell_type": "markdown",
   "metadata": {},
   "source": [
    "## 4) Merging"
   ]
  },
  {
   "cell_type": "code",
   "execution_count": 398,
   "metadata": {},
   "outputs": [
    {
     "data": {
      "text/html": [
       "<div>\n",
       "<style scoped>\n",
       "    .dataframe tbody tr th:only-of-type {\n",
       "        vertical-align: middle;\n",
       "    }\n",
       "\n",
       "    .dataframe tbody tr th {\n",
       "        vertical-align: top;\n",
       "    }\n",
       "\n",
       "    .dataframe thead th {\n",
       "        text-align: right;\n",
       "    }\n",
       "</style>\n",
       "<table border=\"1\" class=\"dataframe\">\n",
       "  <thead>\n",
       "    <tr style=\"text-align: right;\">\n",
       "      <th></th>\n",
       "      <th>id</th>\n",
       "      <th>offer_id</th>\n",
       "      <th>event_num</th>\n",
       "    </tr>\n",
       "  </thead>\n",
       "  <tbody>\n",
       "    <tr>\n",
       "      <th>23531</th>\n",
       "      <td>6d2db3aad94648259e539920fc2cf2a6</td>\n",
       "      <td>f19421c1d4aa40978ebb69ca19b0e20d</td>\n",
       "      <td>12</td>\n",
       "    </tr>\n",
       "    <tr>\n",
       "      <th>1492</th>\n",
       "      <td>073fce5708884b30a28b65b3cb15a919</td>\n",
       "      <td>9b98b8c7a33c4b65b9aebfe6a799e6d9</td>\n",
       "      <td>12</td>\n",
       "    </tr>\n",
       "    <tr>\n",
       "      <th>21082</th>\n",
       "      <td>61f661b7070c4063880a85b22f1fe0e4</td>\n",
       "      <td>2906b810c7d4411798c6938adc9daaa5</td>\n",
       "      <td>12</td>\n",
       "    </tr>\n",
       "    <tr>\n",
       "      <th>37494</th>\n",
       "      <td>ac3b8c9879304a9db841fa510d931ea7</td>\n",
       "      <td>2906b810c7d4411798c6938adc9daaa5</td>\n",
       "      <td>12</td>\n",
       "    </tr>\n",
       "    <tr>\n",
       "      <th>45655</th>\n",
       "      <td>d3209835a40a423fbf2c967218d00bcd</td>\n",
       "      <td>ae264e3637204a6fb9bb56bc8210ddfd</td>\n",
       "      <td>12</td>\n",
       "    </tr>\n",
       "  </tbody>\n",
       "</table>\n",
       "</div>"
      ],
      "text/plain": [
       "                                     id                          offer_id  \\\n",
       "23531  6d2db3aad94648259e539920fc2cf2a6  f19421c1d4aa40978ebb69ca19b0e20d   \n",
       "1492   073fce5708884b30a28b65b3cb15a919  9b98b8c7a33c4b65b9aebfe6a799e6d9   \n",
       "21082  61f661b7070c4063880a85b22f1fe0e4  2906b810c7d4411798c6938adc9daaa5   \n",
       "37494  ac3b8c9879304a9db841fa510d931ea7  2906b810c7d4411798c6938adc9daaa5   \n",
       "45655  d3209835a40a423fbf2c967218d00bcd  ae264e3637204a6fb9bb56bc8210ddfd   \n",
       "\n",
       "       event_num  \n",
       "23531         12  \n",
       "1492          12  \n",
       "21082         12  \n",
       "37494         12  \n",
       "45655         12  "
      ]
     },
     "execution_count": 398,
     "metadata": {},
     "output_type": "execute_result"
    }
   ],
   "source": [
    "clean_offers.groupby(['id', 'offer_id'])['event_num'].count().reset_index().sort_values('event_num', ascending = False).head()"
   ]
  },
  {
   "cell_type": "code",
   "execution_count": 407,
   "metadata": {},
   "outputs": [
    {
     "data": {
      "text/html": [
       "<div>\n",
       "<style scoped>\n",
       "    .dataframe tbody tr th:only-of-type {\n",
       "        vertical-align: middle;\n",
       "    }\n",
       "\n",
       "    .dataframe tbody tr th {\n",
       "        vertical-align: top;\n",
       "    }\n",
       "\n",
       "    .dataframe thead th {\n",
       "        text-align: right;\n",
       "    }\n",
       "</style>\n",
       "<table border=\"1\" class=\"dataframe\">\n",
       "  <thead>\n",
       "    <tr style=\"text-align: right;\">\n",
       "      <th></th>\n",
       "      <th>event</th>\n",
       "      <th>id</th>\n",
       "      <th>time</th>\n",
       "      <th>offer_id</th>\n",
       "      <th>reward</th>\n",
       "      <th>event_num</th>\n",
       "    </tr>\n",
       "  </thead>\n",
       "  <tbody>\n",
       "    <tr>\n",
       "      <th>4301</th>\n",
       "      <td>offer received</td>\n",
       "      <td>d3209835a40a423fbf2c967218d00bcd</td>\n",
       "      <td>0</td>\n",
       "      <td>ae264e3637204a6fb9bb56bc8210ddfd</td>\n",
       "      <td>NaN</td>\n",
       "      <td>0</td>\n",
       "    </tr>\n",
       "    <tr>\n",
       "      <th>26706</th>\n",
       "      <td>offer viewed</td>\n",
       "      <td>d3209835a40a423fbf2c967218d00bcd</td>\n",
       "      <td>36</td>\n",
       "      <td>ae264e3637204a6fb9bb56bc8210ddfd</td>\n",
       "      <td>NaN</td>\n",
       "      <td>1</td>\n",
       "    </tr>\n",
       "    <tr>\n",
       "      <th>35998</th>\n",
       "      <td>offer completed</td>\n",
       "      <td>d3209835a40a423fbf2c967218d00bcd</td>\n",
       "      <td>72</td>\n",
       "      <td>ae264e3637204a6fb9bb56bc8210ddfd</td>\n",
       "      <td>10.0</td>\n",
       "      <td>2</td>\n",
       "    </tr>\n",
       "    <tr>\n",
       "      <th>57537</th>\n",
       "      <td>offer received</td>\n",
       "      <td>d3209835a40a423fbf2c967218d00bcd</td>\n",
       "      <td>168</td>\n",
       "      <td>ae264e3637204a6fb9bb56bc8210ddfd</td>\n",
       "      <td>NaN</td>\n",
       "      <td>0</td>\n",
       "    </tr>\n",
       "    <tr>\n",
       "      <th>84070</th>\n",
       "      <td>offer viewed</td>\n",
       "      <td>d3209835a40a423fbf2c967218d00bcd</td>\n",
       "      <td>210</td>\n",
       "      <td>ae264e3637204a6fb9bb56bc8210ddfd</td>\n",
       "      <td>NaN</td>\n",
       "      <td>1</td>\n",
       "    </tr>\n",
       "    <tr>\n",
       "      <th>92637</th>\n",
       "      <td>offer completed</td>\n",
       "      <td>d3209835a40a423fbf2c967218d00bcd</td>\n",
       "      <td>240</td>\n",
       "      <td>ae264e3637204a6fb9bb56bc8210ddfd</td>\n",
       "      <td>10.0</td>\n",
       "      <td>2</td>\n",
       "    </tr>\n",
       "    <tr>\n",
       "      <th>205881</th>\n",
       "      <td>offer received</td>\n",
       "      <td>d3209835a40a423fbf2c967218d00bcd</td>\n",
       "      <td>504</td>\n",
       "      <td>ae264e3637204a6fb9bb56bc8210ddfd</td>\n",
       "      <td>NaN</td>\n",
       "      <td>0</td>\n",
       "    </tr>\n",
       "    <tr>\n",
       "      <th>219621</th>\n",
       "      <td>offer viewed</td>\n",
       "      <td>d3209835a40a423fbf2c967218d00bcd</td>\n",
       "      <td>510</td>\n",
       "      <td>ae264e3637204a6fb9bb56bc8210ddfd</td>\n",
       "      <td>NaN</td>\n",
       "      <td>1</td>\n",
       "    </tr>\n",
       "    <tr>\n",
       "      <th>249451</th>\n",
       "      <td>offer received</td>\n",
       "      <td>d3209835a40a423fbf2c967218d00bcd</td>\n",
       "      <td>576</td>\n",
       "      <td>ae264e3637204a6fb9bb56bc8210ddfd</td>\n",
       "      <td>NaN</td>\n",
       "      <td>0</td>\n",
       "    </tr>\n",
       "    <tr>\n",
       "      <th>275441</th>\n",
       "      <td>offer viewed</td>\n",
       "      <td>d3209835a40a423fbf2c967218d00bcd</td>\n",
       "      <td>606</td>\n",
       "      <td>ae264e3637204a6fb9bb56bc8210ddfd</td>\n",
       "      <td>NaN</td>\n",
       "      <td>1</td>\n",
       "    </tr>\n",
       "    <tr>\n",
       "      <th>277897</th>\n",
       "      <td>offer completed</td>\n",
       "      <td>d3209835a40a423fbf2c967218d00bcd</td>\n",
       "      <td>612</td>\n",
       "      <td>ae264e3637204a6fb9bb56bc8210ddfd</td>\n",
       "      <td>10.0</td>\n",
       "      <td>2</td>\n",
       "    </tr>\n",
       "    <tr>\n",
       "      <th>277898</th>\n",
       "      <td>offer completed</td>\n",
       "      <td>d3209835a40a423fbf2c967218d00bcd</td>\n",
       "      <td>612</td>\n",
       "      <td>ae264e3637204a6fb9bb56bc8210ddfd</td>\n",
       "      <td>10.0</td>\n",
       "      <td>2</td>\n",
       "    </tr>\n",
       "  </tbody>\n",
       "</table>\n",
       "</div>"
      ],
      "text/plain": [
       "                  event                                id  time  \\\n",
       "4301     offer received  d3209835a40a423fbf2c967218d00bcd     0   \n",
       "26706      offer viewed  d3209835a40a423fbf2c967218d00bcd    36   \n",
       "35998   offer completed  d3209835a40a423fbf2c967218d00bcd    72   \n",
       "57537    offer received  d3209835a40a423fbf2c967218d00bcd   168   \n",
       "84070      offer viewed  d3209835a40a423fbf2c967218d00bcd   210   \n",
       "92637   offer completed  d3209835a40a423fbf2c967218d00bcd   240   \n",
       "205881   offer received  d3209835a40a423fbf2c967218d00bcd   504   \n",
       "219621     offer viewed  d3209835a40a423fbf2c967218d00bcd   510   \n",
       "249451   offer received  d3209835a40a423fbf2c967218d00bcd   576   \n",
       "275441     offer viewed  d3209835a40a423fbf2c967218d00bcd   606   \n",
       "277897  offer completed  d3209835a40a423fbf2c967218d00bcd   612   \n",
       "277898  offer completed  d3209835a40a423fbf2c967218d00bcd   612   \n",
       "\n",
       "                                offer_id  reward  event_num  \n",
       "4301    ae264e3637204a6fb9bb56bc8210ddfd     NaN          0  \n",
       "26706   ae264e3637204a6fb9bb56bc8210ddfd     NaN          1  \n",
       "35998   ae264e3637204a6fb9bb56bc8210ddfd    10.0          2  \n",
       "57537   ae264e3637204a6fb9bb56bc8210ddfd     NaN          0  \n",
       "84070   ae264e3637204a6fb9bb56bc8210ddfd     NaN          1  \n",
       "92637   ae264e3637204a6fb9bb56bc8210ddfd    10.0          2  \n",
       "205881  ae264e3637204a6fb9bb56bc8210ddfd     NaN          0  \n",
       "219621  ae264e3637204a6fb9bb56bc8210ddfd     NaN          1  \n",
       "249451  ae264e3637204a6fb9bb56bc8210ddfd     NaN          0  \n",
       "275441  ae264e3637204a6fb9bb56bc8210ddfd     NaN          1  \n",
       "277897  ae264e3637204a6fb9bb56bc8210ddfd    10.0          2  \n",
       "277898  ae264e3637204a6fb9bb56bc8210ddfd    10.0          2  "
      ]
     },
     "execution_count": 407,
     "metadata": {},
     "output_type": "execute_result"
    }
   ],
   "source": [
    "clean_offers[(clean_offers['id'] == 'd3209835a40a423fbf2c967218d00bcd')&\n",
    "             (clean_offers['offer_id'] == 'ae264e3637204a6fb9bb56bc8210ddfd')]"
   ]
  },
  {
   "cell_type": "code",
   "execution_count": 690,
   "metadata": {},
   "outputs": [],
   "source": [
    "clean_offers_rec = clean_offers[clean_offers['event_num'] == 0].sort_values(['time', 'id','offer_id'])\n",
    "clean_offers_rec.drop('reward', axis=1, inplace=True)\n",
    "clean_offers_completed = clean_offers[clean_offers['event_num'] == 2].sort_values(['time','id','offer_id'])"
   ]
  },
  {
   "cell_type": "code",
   "execution_count": 691,
   "metadata": {},
   "outputs": [],
   "source": [
    "for df in [clean_offers_rec, clean_offers_completed]:\n",
    "    df['cust_offer_id'] = df['id'] + '_' + df['offer_id'].apply(lambda x: x[-5:])\n",
    "    df['aux'] = df.groupby(['cust_offer_id']).cumcount()\n",
    "    df['aux'] = df['aux'].apply(lambda x: str(x))\n",
    "    df['cust_offer_id'] = df['cust_offer_id'] +\"_\" + df['aux']\n",
    "    df.drop('aux', axis = 1, inplace = True)"
   ]
  },
  {
   "cell_type": "code",
   "execution_count": 717,
   "metadata": {},
   "outputs": [],
   "source": [
    "matched_offers = pd.merge(clean_offers_rec, clean_offers_completed[['cust_offer_id', 'reward', 'time', 'event_num']], on=['cust_offer_id'], how='left')"
   ]
  },
  {
   "cell_type": "code",
   "execution_count": 718,
   "metadata": {},
   "outputs": [],
   "source": [
    "assert clean_offers_rec.shape[0] == matched_offers[matched_offers['reward'].isna()].shape[0] + clean_offers_completed.shape[0]"
   ]
  },
  {
   "cell_type": "code",
   "execution_count": 719,
   "metadata": {},
   "outputs": [],
   "source": [
    "matched_offers.rename({'time_x':'time_sent', 'time_y':'time_comp', 'event_num_x':'event_sent', 'event_num_y': 'event_c'},\n",
    "                      axis = 1,\n",
    "                      inplace = True)"
   ]
  },
  {
   "cell_type": "code",
   "execution_count": 720,
   "metadata": {},
   "outputs": [],
   "source": [
    "matched_offers['time_diff'] = matched_offers['time_comp'] - matched_offers['time_sent']"
   ]
  },
  {
   "cell_type": "code",
   "execution_count": 721,
   "metadata": {
    "scrolled": true
   },
   "outputs": [
    {
     "data": {
      "text/plain": [
       "0"
      ]
     },
     "execution_count": 721,
     "metadata": {},
     "output_type": "execute_result"
    }
   ],
   "source": [
    "len(matched_offers[matched_offers['time_diff']<0])"
   ]
  },
  {
   "cell_type": "code",
   "execution_count": 722,
   "metadata": {},
   "outputs": [
    {
     "name": "stdout",
     "output_type": "stream",
     "text": [
      "[714. 708. 696. 690. 684.]\n"
     ]
    },
    {
     "data": {
      "text/html": [
       "<div>\n",
       "<style scoped>\n",
       "    .dataframe tbody tr th:only-of-type {\n",
       "        vertical-align: middle;\n",
       "    }\n",
       "\n",
       "    .dataframe tbody tr th {\n",
       "        vertical-align: top;\n",
       "    }\n",
       "\n",
       "    .dataframe thead th {\n",
       "        text-align: right;\n",
       "    }\n",
       "</style>\n",
       "<table border=\"1\" class=\"dataframe\">\n",
       "  <thead>\n",
       "    <tr style=\"text-align: right;\">\n",
       "      <th></th>\n",
       "      <th>event</th>\n",
       "      <th>id</th>\n",
       "      <th>time_sent</th>\n",
       "      <th>offer_id</th>\n",
       "      <th>event_sent</th>\n",
       "      <th>cust_offer_id</th>\n",
       "      <th>reward</th>\n",
       "      <th>time_comp</th>\n",
       "      <th>event_c</th>\n",
       "      <th>time_diff</th>\n",
       "    </tr>\n",
       "  </thead>\n",
       "  <tbody>\n",
       "    <tr>\n",
       "      <th>676</th>\n",
       "      <td>offer received</td>\n",
       "      <td>0ff34474e5b245b79f396d4c5ddef96c</td>\n",
       "      <td>0</td>\n",
       "      <td>2298d6c36e964ae4a3e7e9706d1fb8c2</td>\n",
       "      <td>0</td>\n",
       "      <td>0ff34474e5b245b79f396d4c5ddef96c_fb8c2_0</td>\n",
       "      <td>3.0</td>\n",
       "      <td>708.0</td>\n",
       "      <td>2.0</td>\n",
       "      <td>708.0</td>\n",
       "    </tr>\n",
       "    <tr>\n",
       "      <th>1425</th>\n",
       "      <td>offer received</td>\n",
       "      <td>231e1e33467647bbba31f6ba36d88541</td>\n",
       "      <td>0</td>\n",
       "      <td>0b1e1539f2cc45b7b9fa7c272da2e1d7</td>\n",
       "      <td>0</td>\n",
       "      <td>231e1e33467647bbba31f6ba36d88541_2e1d7_0</td>\n",
       "      <td>5.0</td>\n",
       "      <td>708.0</td>\n",
       "      <td>2.0</td>\n",
       "      <td>708.0</td>\n",
       "    </tr>\n",
       "    <tr>\n",
       "      <th>2133</th>\n",
       "      <td>offer received</td>\n",
       "      <td>329b390a8e19481ab081d99e4e813835</td>\n",
       "      <td>0</td>\n",
       "      <td>fafdcd668e3743c1bb461111dcafc2a4</td>\n",
       "      <td>0</td>\n",
       "      <td>329b390a8e19481ab081d99e4e813835_fc2a4_0</td>\n",
       "      <td>2.0</td>\n",
       "      <td>690.0</td>\n",
       "      <td>2.0</td>\n",
       "      <td>690.0</td>\n",
       "    </tr>\n",
       "    <tr>\n",
       "      <th>3073</th>\n",
       "      <td>offer received</td>\n",
       "      <td>46c68b0d9eb74bff8666bdb2f86a620d</td>\n",
       "      <td>0</td>\n",
       "      <td>0b1e1539f2cc45b7b9fa7c272da2e1d7</td>\n",
       "      <td>0</td>\n",
       "      <td>46c68b0d9eb74bff8666bdb2f86a620d_2e1d7_0</td>\n",
       "      <td>5.0</td>\n",
       "      <td>690.0</td>\n",
       "      <td>2.0</td>\n",
       "      <td>690.0</td>\n",
       "    </tr>\n",
       "    <tr>\n",
       "      <th>3503</th>\n",
       "      <td>offer received</td>\n",
       "      <td>512191a2ec58463fafd3fd544bf7bed6</td>\n",
       "      <td>0</td>\n",
       "      <td>2298d6c36e964ae4a3e7e9706d1fb8c2</td>\n",
       "      <td>0</td>\n",
       "      <td>512191a2ec58463fafd3fd544bf7bed6_fb8c2_0</td>\n",
       "      <td>3.0</td>\n",
       "      <td>708.0</td>\n",
       "      <td>2.0</td>\n",
       "      <td>708.0</td>\n",
       "    </tr>\n",
       "  </tbody>\n",
       "</table>\n",
       "</div>"
      ],
      "text/plain": [
       "               event                                id  time_sent  \\\n",
       "676   offer received  0ff34474e5b245b79f396d4c5ddef96c          0   \n",
       "1425  offer received  231e1e33467647bbba31f6ba36d88541          0   \n",
       "2133  offer received  329b390a8e19481ab081d99e4e813835          0   \n",
       "3073  offer received  46c68b0d9eb74bff8666bdb2f86a620d          0   \n",
       "3503  offer received  512191a2ec58463fafd3fd544bf7bed6          0   \n",
       "\n",
       "                              offer_id  event_sent  \\\n",
       "676   2298d6c36e964ae4a3e7e9706d1fb8c2           0   \n",
       "1425  0b1e1539f2cc45b7b9fa7c272da2e1d7           0   \n",
       "2133  fafdcd668e3743c1bb461111dcafc2a4           0   \n",
       "3073  0b1e1539f2cc45b7b9fa7c272da2e1d7           0   \n",
       "3503  2298d6c36e964ae4a3e7e9706d1fb8c2           0   \n",
       "\n",
       "                                 cust_offer_id  reward  time_comp  event_c  \\\n",
       "676   0ff34474e5b245b79f396d4c5ddef96c_fb8c2_0     3.0      708.0      2.0   \n",
       "1425  231e1e33467647bbba31f6ba36d88541_2e1d7_0     5.0      708.0      2.0   \n",
       "2133  329b390a8e19481ab081d99e4e813835_fc2a4_0     2.0      690.0      2.0   \n",
       "3073  46c68b0d9eb74bff8666bdb2f86a620d_2e1d7_0     5.0      690.0      2.0   \n",
       "3503  512191a2ec58463fafd3fd544bf7bed6_fb8c2_0     3.0      708.0      2.0   \n",
       "\n",
       "      time_diff  \n",
       "676       708.0  \n",
       "1425      708.0  \n",
       "2133      690.0  \n",
       "3073      690.0  \n",
       "3503      708.0  "
      ]
     },
     "execution_count": 722,
     "metadata": {},
     "output_type": "execute_result"
    }
   ],
   "source": [
    "max_vals = matched_offers['time_diff'].sort_values(ascending = False).unique()[:5]\n",
    "print(max_vals)\n",
    "matched_offers[matched_offers['time_diff'].isin(max_vals)].head()"
   ]
  },
  {
   "cell_type": "code",
   "execution_count": 737,
   "metadata": {},
   "outputs": [],
   "source": [
    "dict_to_fill = {'reward':0,\n",
    "               'time_comp':2000,\n",
    "               'event_c':0}\n",
    "\n",
    "for key in dict_to_fill.keys():\n",
    "    matched_offers[key].fillna(dict_to_fill[key], inplace = True)\n",
    "    \n",
    "matched_offers['time_diff'] = matched_offers['time_comp'] - matched_offers['time_sent']"
   ]
  },
  {
   "cell_type": "code",
   "execution_count": 738,
   "metadata": {},
   "outputs": [
    {
     "data": {
      "text/plain": [
       "Index(['event', 'id', 'time_sent', 'offer_id', 'event_sent', 'cust_offer_id',\n",
       "       'reward', 'time_comp', 'event_c', 'time_diff'],\n",
       "      dtype='object')"
      ]
     },
     "execution_count": 738,
     "metadata": {},
     "output_type": "execute_result"
    }
   ],
   "source": [
    "matched_offers.columns"
   ]
  },
  {
   "cell_type": "code",
   "execution_count": 750,
   "metadata": {},
   "outputs": [],
   "source": [
    "reply_times_per_user = matched_offers.groupby('id')['time_diff'].agg(['mean', 'max', 'min']).reset_index()\n",
    "\n",
    "renaming_cols_dict = dict(zip(['mean', 'max', 'min'], ['mean_resp_t', 'max_resp_t', 'min_resp_t']))\n",
    "\n",
    "reply_times_per_user.rename(renaming_cols_dict, axis = 1, inplace = True)"
   ]
  },
  {
   "cell_type": "code",
   "execution_count": 751,
   "metadata": {},
   "outputs": [],
   "source": [
    "clean_profile_expanded =pd.merge(clean_profile_expanded,\n",
    "                                 reply_times_per_user,\n",
    "                                 on = 'id',\n",
    "                                 how = 'left')"
   ]
  },
  {
   "cell_type": "code",
   "execution_count": 752,
   "metadata": {},
   "outputs": [
    {
     "data": {
      "text/plain": [
       "Index(['age', 'became_member_on', 'gender', 'id', 'income', 'date_bmo',\n",
       "       'year_bmo', 'month_bmo', 'day_bmo', 'tot_offers_received', 'amount',\n",
       "       'tot_offers_succesful', 'offer_success_ratio', 'mean', 'max', 'min',\n",
       "       'mean_resp_t', 'max_resp_t', 'min_resp_t'],\n",
       "      dtype='object')"
      ]
     },
     "execution_count": 752,
     "metadata": {},
     "output_type": "execute_result"
    }
   ],
   "source": [
    "clean_profile_expanded.columns"
   ]
  },
  {
   "cell_type": "code",
   "execution_count": 753,
   "metadata": {},
   "outputs": [
    {
     "data": {
      "text/html": [
       "<div>\n",
       "<style scoped>\n",
       "    .dataframe tbody tr th:only-of-type {\n",
       "        vertical-align: middle;\n",
       "    }\n",
       "\n",
       "    .dataframe tbody tr th {\n",
       "        vertical-align: top;\n",
       "    }\n",
       "\n",
       "    .dataframe thead th {\n",
       "        text-align: right;\n",
       "    }\n",
       "</style>\n",
       "<table border=\"1\" class=\"dataframe\">\n",
       "  <thead>\n",
       "    <tr style=\"text-align: right;\">\n",
       "      <th></th>\n",
       "      <th>age</th>\n",
       "      <th>became_member_on</th>\n",
       "      <th>gender</th>\n",
       "      <th>id</th>\n",
       "      <th>income</th>\n",
       "      <th>date_bmo</th>\n",
       "      <th>year_bmo</th>\n",
       "      <th>month_bmo</th>\n",
       "      <th>day_bmo</th>\n",
       "      <th>tot_offers_received</th>\n",
       "      <th>amount</th>\n",
       "      <th>tot_offers_succesful</th>\n",
       "      <th>offer_success_ratio</th>\n",
       "      <th>mean</th>\n",
       "      <th>max</th>\n",
       "      <th>min</th>\n",
       "      <th>mean_resp_t</th>\n",
       "      <th>max_resp_t</th>\n",
       "      <th>min_resp_t</th>\n",
       "    </tr>\n",
       "  </thead>\n",
       "  <tbody>\n",
       "    <tr>\n",
       "      <th>745</th>\n",
       "      <td>72</td>\n",
       "      <td>20171014</td>\n",
       "      <td>F</td>\n",
       "      <td>c6e579c6821c41d1a7a6a9cf936e91bb</td>\n",
       "      <td>35000.0</td>\n",
       "      <td>2017-10-14</td>\n",
       "      <td>2017</td>\n",
       "      <td>10</td>\n",
       "      <td>14</td>\n",
       "      <td>0.0</td>\n",
       "      <td>6.95</td>\n",
       "      <td>0.0</td>\n",
       "      <td>0.0</td>\n",
       "      <td>NaN</td>\n",
       "      <td>NaN</td>\n",
       "      <td>NaN</td>\n",
       "      <td>NaN</td>\n",
       "      <td>NaN</td>\n",
       "      <td>NaN</td>\n",
       "    </tr>\n",
       "    <tr>\n",
       "      <th>4921</th>\n",
       "      <td>66</td>\n",
       "      <td>20170929</td>\n",
       "      <td>F</td>\n",
       "      <td>eb540099db834cf59001f83a4561aef3</td>\n",
       "      <td>34000.0</td>\n",
       "      <td>2017-09-29</td>\n",
       "      <td>2017</td>\n",
       "      <td>9</td>\n",
       "      <td>29</td>\n",
       "      <td>0.0</td>\n",
       "      <td>26.01</td>\n",
       "      <td>0.0</td>\n",
       "      <td>0.0</td>\n",
       "      <td>NaN</td>\n",
       "      <td>NaN</td>\n",
       "      <td>NaN</td>\n",
       "      <td>NaN</td>\n",
       "      <td>NaN</td>\n",
       "      <td>NaN</td>\n",
       "    </tr>\n",
       "    <tr>\n",
       "      <th>5933</th>\n",
       "      <td>55</td>\n",
       "      <td>20160816</td>\n",
       "      <td>F</td>\n",
       "      <td>3a4874d8f0ef42b9a1b72294902afea9</td>\n",
       "      <td>88000.0</td>\n",
       "      <td>2016-08-16</td>\n",
       "      <td>2016</td>\n",
       "      <td>8</td>\n",
       "      <td>16</td>\n",
       "      <td>0.0</td>\n",
       "      <td>67.62</td>\n",
       "      <td>0.0</td>\n",
       "      <td>0.0</td>\n",
       "      <td>NaN</td>\n",
       "      <td>NaN</td>\n",
       "      <td>NaN</td>\n",
       "      <td>NaN</td>\n",
       "      <td>NaN</td>\n",
       "      <td>NaN</td>\n",
       "    </tr>\n",
       "    <tr>\n",
       "      <th>12891</th>\n",
       "      <td>54</td>\n",
       "      <td>20170106</td>\n",
       "      <td>F</td>\n",
       "      <td>ae8111e7e8cd4b60a8d35c42c1110555</td>\n",
       "      <td>72000.0</td>\n",
       "      <td>2017-01-06</td>\n",
       "      <td>2017</td>\n",
       "      <td>1</td>\n",
       "      <td>6</td>\n",
       "      <td>0.0</td>\n",
       "      <td>86.43</td>\n",
       "      <td>0.0</td>\n",
       "      <td>0.0</td>\n",
       "      <td>NaN</td>\n",
       "      <td>NaN</td>\n",
       "      <td>NaN</td>\n",
       "      <td>NaN</td>\n",
       "      <td>NaN</td>\n",
       "      <td>NaN</td>\n",
       "    </tr>\n",
       "    <tr>\n",
       "      <th>13442</th>\n",
       "      <td>91</td>\n",
       "      <td>20151005</td>\n",
       "      <td>M</td>\n",
       "      <td>12ede229379747bd8d74ccdc20097ca3</td>\n",
       "      <td>70000.0</td>\n",
       "      <td>2015-10-05</td>\n",
       "      <td>2015</td>\n",
       "      <td>10</td>\n",
       "      <td>5</td>\n",
       "      <td>0.0</td>\n",
       "      <td>63.25</td>\n",
       "      <td>0.0</td>\n",
       "      <td>0.0</td>\n",
       "      <td>NaN</td>\n",
       "      <td>NaN</td>\n",
       "      <td>NaN</td>\n",
       "      <td>NaN</td>\n",
       "      <td>NaN</td>\n",
       "      <td>NaN</td>\n",
       "    </tr>\n",
       "  </tbody>\n",
       "</table>\n",
       "</div>"
      ],
      "text/plain": [
       "       age  became_member_on gender                                id  \\\n",
       "745     72          20171014      F  c6e579c6821c41d1a7a6a9cf936e91bb   \n",
       "4921    66          20170929      F  eb540099db834cf59001f83a4561aef3   \n",
       "5933    55          20160816      F  3a4874d8f0ef42b9a1b72294902afea9   \n",
       "12891   54          20170106      F  ae8111e7e8cd4b60a8d35c42c1110555   \n",
       "13442   91          20151005      M  12ede229379747bd8d74ccdc20097ca3   \n",
       "\n",
       "        income   date_bmo  year_bmo  month_bmo  day_bmo  tot_offers_received  \\\n",
       "745    35000.0 2017-10-14      2017         10       14                  0.0   \n",
       "4921   34000.0 2017-09-29      2017          9       29                  0.0   \n",
       "5933   88000.0 2016-08-16      2016          8       16                  0.0   \n",
       "12891  72000.0 2017-01-06      2017          1        6                  0.0   \n",
       "13442  70000.0 2015-10-05      2015         10        5                  0.0   \n",
       "\n",
       "       amount  tot_offers_succesful  offer_success_ratio  mean  max  min  \\\n",
       "745      6.95                   0.0                  0.0   NaN  NaN  NaN   \n",
       "4921    26.01                   0.0                  0.0   NaN  NaN  NaN   \n",
       "5933    67.62                   0.0                  0.0   NaN  NaN  NaN   \n",
       "12891   86.43                   0.0                  0.0   NaN  NaN  NaN   \n",
       "13442   63.25                   0.0                  0.0   NaN  NaN  NaN   \n",
       "\n",
       "       mean_resp_t  max_resp_t  min_resp_t  \n",
       "745            NaN         NaN         NaN  \n",
       "4921           NaN         NaN         NaN  \n",
       "5933           NaN         NaN         NaN  \n",
       "12891          NaN         NaN         NaN  \n",
       "13442          NaN         NaN         NaN  "
      ]
     },
     "execution_count": 753,
     "metadata": {},
     "output_type": "execute_result"
    }
   ],
   "source": [
    "clean_profile_expanded[clean_profile_expanded['mean_resp_t'].isna()]"
   ]
  },
  {
   "cell_type": "code",
   "execution_count": 754,
   "metadata": {},
   "outputs": [
    {
     "data": {
      "text/html": [
       "<div>\n",
       "<style scoped>\n",
       "    .dataframe tbody tr th:only-of-type {\n",
       "        vertical-align: middle;\n",
       "    }\n",
       "\n",
       "    .dataframe tbody tr th {\n",
       "        vertical-align: top;\n",
       "    }\n",
       "\n",
       "    .dataframe thead th {\n",
       "        text-align: right;\n",
       "    }\n",
       "</style>\n",
       "<table border=\"1\" class=\"dataframe\">\n",
       "  <thead>\n",
       "    <tr style=\"text-align: right;\">\n",
       "      <th></th>\n",
       "      <th>event</th>\n",
       "      <th>id</th>\n",
       "      <th>time</th>\n",
       "      <th>amount</th>\n",
       "      <th>event_num</th>\n",
       "    </tr>\n",
       "  </thead>\n",
       "  <tbody>\n",
       "    <tr>\n",
       "      <th>12654</th>\n",
       "      <td>transaction</td>\n",
       "      <td>02c083884c7d45b39cc68e1314fec56c</td>\n",
       "      <td>0</td>\n",
       "      <td>0.83</td>\n",
       "      <td>-1</td>\n",
       "    </tr>\n",
       "    <tr>\n",
       "      <th>12657</th>\n",
       "      <td>transaction</td>\n",
       "      <td>9fa9ae8f57894cc9a3b8a9bbe0fc1b2f</td>\n",
       "      <td>0</td>\n",
       "      <td>34.56</td>\n",
       "      <td>-1</td>\n",
       "    </tr>\n",
       "    <tr>\n",
       "      <th>12659</th>\n",
       "      <td>transaction</td>\n",
       "      <td>54890f68699049c2a04d415abc25e717</td>\n",
       "      <td>0</td>\n",
       "      <td>13.23</td>\n",
       "      <td>-1</td>\n",
       "    </tr>\n",
       "    <tr>\n",
       "      <th>12670</th>\n",
       "      <td>transaction</td>\n",
       "      <td>b2f1cd155b864803ad8334cdf13c4bd2</td>\n",
       "      <td>0</td>\n",
       "      <td>19.51</td>\n",
       "      <td>-1</td>\n",
       "    </tr>\n",
       "    <tr>\n",
       "      <th>12671</th>\n",
       "      <td>transaction</td>\n",
       "      <td>fe97aa22dd3e48c8b143116a8403dd52</td>\n",
       "      <td>0</td>\n",
       "      <td>18.97</td>\n",
       "      <td>-1</td>\n",
       "    </tr>\n",
       "  </tbody>\n",
       "</table>\n",
       "</div>"
      ],
      "text/plain": [
       "             event                                id  time  amount  event_num\n",
       "12654  transaction  02c083884c7d45b39cc68e1314fec56c     0    0.83         -1\n",
       "12657  transaction  9fa9ae8f57894cc9a3b8a9bbe0fc1b2f     0   34.56         -1\n",
       "12659  transaction  54890f68699049c2a04d415abc25e717     0   13.23         -1\n",
       "12670  transaction  b2f1cd155b864803ad8334cdf13c4bd2     0   19.51         -1\n",
       "12671  transaction  fe97aa22dd3e48c8b143116a8403dd52     0   18.97         -1"
      ]
     },
     "execution_count": 754,
     "metadata": {},
     "output_type": "execute_result"
    }
   ],
   "source": [
    "clean_transactions.head()"
   ]
  },
  {
   "cell_type": "code",
   "execution_count": 789,
   "metadata": {},
   "outputs": [
    {
     "data": {
      "text/html": [
       "<div>\n",
       "<style scoped>\n",
       "    .dataframe tbody tr th:only-of-type {\n",
       "        vertical-align: middle;\n",
       "    }\n",
       "\n",
       "    .dataframe tbody tr th {\n",
       "        vertical-align: top;\n",
       "    }\n",
       "\n",
       "    .dataframe thead th {\n",
       "        text-align: right;\n",
       "    }\n",
       "</style>\n",
       "<table border=\"1\" class=\"dataframe\">\n",
       "  <thead>\n",
       "    <tr style=\"text-align: right;\">\n",
       "      <th></th>\n",
       "      <th>event</th>\n",
       "      <th>id</th>\n",
       "      <th>time_sent</th>\n",
       "      <th>offer_id</th>\n",
       "      <th>event_sent</th>\n",
       "      <th>cust_offer_id</th>\n",
       "      <th>reward</th>\n",
       "      <th>time_comp</th>\n",
       "      <th>event_c</th>\n",
       "      <th>time_diff</th>\n",
       "      <th>amount</th>\n",
       "    </tr>\n",
       "  </thead>\n",
       "  <tbody>\n",
       "    <tr>\n",
       "      <th>0</th>\n",
       "      <td>offer received</td>\n",
       "      <td>0011e0d4e6b944f998e987f904e8c1e5</td>\n",
       "      <td>0</td>\n",
       "      <td>3f207df678b143eea3cee63160fa8bed</td>\n",
       "      <td>0</td>\n",
       "      <td>0011e0d4e6b944f998e987f904e8c1e5_a8bed_0</td>\n",
       "      <td>0.0</td>\n",
       "      <td>2000.0</td>\n",
       "      <td>0.0</td>\n",
       "      <td>2000.0</td>\n",
       "      <td>0.00</td>\n",
       "    </tr>\n",
       "    <tr>\n",
       "      <th>1</th>\n",
       "      <td>offer received</td>\n",
       "      <td>0020c2b971eb4e9188eac86d93036a77</td>\n",
       "      <td>0</td>\n",
       "      <td>fafdcd668e3743c1bb461111dcafc2a4</td>\n",
       "      <td>0</td>\n",
       "      <td>0020c2b971eb4e9188eac86d93036a77_fc2a4_0</td>\n",
       "      <td>2.0</td>\n",
       "      <td>54.0</td>\n",
       "      <td>2.0</td>\n",
       "      <td>54.0</td>\n",
       "      <td>17.63</td>\n",
       "    </tr>\n",
       "    <tr>\n",
       "      <th>2</th>\n",
       "      <td>offer received</td>\n",
       "      <td>003d66b6608740288d6cc97a6903f4f0</td>\n",
       "      <td>0</td>\n",
       "      <td>5a8bc65990b245e5a138643cd4eb9837</td>\n",
       "      <td>0</td>\n",
       "      <td>003d66b6608740288d6cc97a6903f4f0_b9837_0</td>\n",
       "      <td>0.0</td>\n",
       "      <td>2000.0</td>\n",
       "      <td>0.0</td>\n",
       "      <td>2000.0</td>\n",
       "      <td>0.00</td>\n",
       "    </tr>\n",
       "    <tr>\n",
       "      <th>3</th>\n",
       "      <td>offer received</td>\n",
       "      <td>00426fe3ffde4c6b9cb9ad6d077a13ea</td>\n",
       "      <td>0</td>\n",
       "      <td>5a8bc65990b245e5a138643cd4eb9837</td>\n",
       "      <td>0</td>\n",
       "      <td>00426fe3ffde4c6b9cb9ad6d077a13ea_b9837_0</td>\n",
       "      <td>0.0</td>\n",
       "      <td>2000.0</td>\n",
       "      <td>0.0</td>\n",
       "      <td>2000.0</td>\n",
       "      <td>0.00</td>\n",
       "    </tr>\n",
       "    <tr>\n",
       "      <th>4</th>\n",
       "      <td>offer received</td>\n",
       "      <td>005500a7188546ff8a767329a2f7c76a</td>\n",
       "      <td>0</td>\n",
       "      <td>ae264e3637204a6fb9bb56bc8210ddfd</td>\n",
       "      <td>0</td>\n",
       "      <td>005500a7188546ff8a767329a2f7c76a_0ddfd_0</td>\n",
       "      <td>0.0</td>\n",
       "      <td>2000.0</td>\n",
       "      <td>0.0</td>\n",
       "      <td>2000.0</td>\n",
       "      <td>0.00</td>\n",
       "    </tr>\n",
       "  </tbody>\n",
       "</table>\n",
       "</div>"
      ],
      "text/plain": [
       "            event                                id  time_sent  \\\n",
       "0  offer received  0011e0d4e6b944f998e987f904e8c1e5          0   \n",
       "1  offer received  0020c2b971eb4e9188eac86d93036a77          0   \n",
       "2  offer received  003d66b6608740288d6cc97a6903f4f0          0   \n",
       "3  offer received  00426fe3ffde4c6b9cb9ad6d077a13ea          0   \n",
       "4  offer received  005500a7188546ff8a767329a2f7c76a          0   \n",
       "\n",
       "                           offer_id  event_sent  \\\n",
       "0  3f207df678b143eea3cee63160fa8bed           0   \n",
       "1  fafdcd668e3743c1bb461111dcafc2a4           0   \n",
       "2  5a8bc65990b245e5a138643cd4eb9837           0   \n",
       "3  5a8bc65990b245e5a138643cd4eb9837           0   \n",
       "4  ae264e3637204a6fb9bb56bc8210ddfd           0   \n",
       "\n",
       "                              cust_offer_id  reward  time_comp  event_c  \\\n",
       "0  0011e0d4e6b944f998e987f904e8c1e5_a8bed_0     0.0     2000.0      0.0   \n",
       "1  0020c2b971eb4e9188eac86d93036a77_fc2a4_0     2.0       54.0      2.0   \n",
       "2  003d66b6608740288d6cc97a6903f4f0_b9837_0     0.0     2000.0      0.0   \n",
       "3  00426fe3ffde4c6b9cb9ad6d077a13ea_b9837_0     0.0     2000.0      0.0   \n",
       "4  005500a7188546ff8a767329a2f7c76a_0ddfd_0     0.0     2000.0      0.0   \n",
       "\n",
       "   time_diff  amount  \n",
       "0     2000.0    0.00  \n",
       "1       54.0   17.63  \n",
       "2     2000.0    0.00  \n",
       "3     2000.0    0.00  \n",
       "4     2000.0    0.00  "
      ]
     },
     "execution_count": 789,
     "metadata": {},
     "output_type": "execute_result"
    }
   ],
   "source": [
    "aaa = pd.merge(matched_offers,\n",
    "        clean_transactions[['id', 'time', 'amount']],\n",
    "        left_on = ['id', 'time_comp'],\n",
    "        right_on = ['id', 'time'],\n",
    "        how = 'left')\n",
    "\n",
    "aaa.drop('time', axis = 1, inplace = True)\n",
    "\n",
    "aaa['amount'].fillna(0, inplace = True)\n",
    "\n",
    "assert aaa.shape[0] == matched_offers.shape[0]\n",
    "\n",
    "aaa.head()"
   ]
  },
  {
   "cell_type": "code",
   "execution_count": 802,
   "metadata": {},
   "outputs": [
    {
     "data": {
      "text/html": [
       "<div>\n",
       "<style scoped>\n",
       "    .dataframe tbody tr th:only-of-type {\n",
       "        vertical-align: middle;\n",
       "    }\n",
       "\n",
       "    .dataframe tbody tr th {\n",
       "        vertical-align: top;\n",
       "    }\n",
       "\n",
       "    .dataframe thead th {\n",
       "        text-align: right;\n",
       "    }\n",
       "</style>\n",
       "<table border=\"1\" class=\"dataframe\">\n",
       "  <thead>\n",
       "    <tr style=\"text-align: right;\">\n",
       "      <th></th>\n",
       "      <th>age</th>\n",
       "      <th>became_member_on</th>\n",
       "      <th>gender</th>\n",
       "      <th>id</th>\n",
       "      <th>income</th>\n",
       "      <th>date_bmo</th>\n",
       "      <th>year_bmo</th>\n",
       "      <th>month_bmo</th>\n",
       "      <th>day_bmo</th>\n",
       "      <th>tot_offers_received</th>\n",
       "      <th>...</th>\n",
       "      <th>tot_offers_succesful</th>\n",
       "      <th>offer_success_ratio</th>\n",
       "      <th>mean</th>\n",
       "      <th>max</th>\n",
       "      <th>min</th>\n",
       "      <th>mean_resp_t</th>\n",
       "      <th>max_resp_t</th>\n",
       "      <th>min_resp_t</th>\n",
       "      <th>tot_offers_spent</th>\n",
       "      <th>amount</th>\n",
       "    </tr>\n",
       "  </thead>\n",
       "  <tbody>\n",
       "    <tr>\n",
       "      <th>745</th>\n",
       "      <td>72</td>\n",
       "      <td>20171014</td>\n",
       "      <td>F</td>\n",
       "      <td>c6e579c6821c41d1a7a6a9cf936e91bb</td>\n",
       "      <td>35000.0</td>\n",
       "      <td>2017-10-14</td>\n",
       "      <td>2017</td>\n",
       "      <td>10</td>\n",
       "      <td>14</td>\n",
       "      <td>0.0</td>\n",
       "      <td>...</td>\n",
       "      <td>0.0</td>\n",
       "      <td>0.0</td>\n",
       "      <td>NaN</td>\n",
       "      <td>NaN</td>\n",
       "      <td>NaN</td>\n",
       "      <td>NaN</td>\n",
       "      <td>NaN</td>\n",
       "      <td>NaN</td>\n",
       "      <td>NaN</td>\n",
       "      <td>NaN</td>\n",
       "    </tr>\n",
       "    <tr>\n",
       "      <th>4921</th>\n",
       "      <td>66</td>\n",
       "      <td>20170929</td>\n",
       "      <td>F</td>\n",
       "      <td>eb540099db834cf59001f83a4561aef3</td>\n",
       "      <td>34000.0</td>\n",
       "      <td>2017-09-29</td>\n",
       "      <td>2017</td>\n",
       "      <td>9</td>\n",
       "      <td>29</td>\n",
       "      <td>0.0</td>\n",
       "      <td>...</td>\n",
       "      <td>0.0</td>\n",
       "      <td>0.0</td>\n",
       "      <td>NaN</td>\n",
       "      <td>NaN</td>\n",
       "      <td>NaN</td>\n",
       "      <td>NaN</td>\n",
       "      <td>NaN</td>\n",
       "      <td>NaN</td>\n",
       "      <td>NaN</td>\n",
       "      <td>NaN</td>\n",
       "    </tr>\n",
       "    <tr>\n",
       "      <th>5933</th>\n",
       "      <td>55</td>\n",
       "      <td>20160816</td>\n",
       "      <td>F</td>\n",
       "      <td>3a4874d8f0ef42b9a1b72294902afea9</td>\n",
       "      <td>88000.0</td>\n",
       "      <td>2016-08-16</td>\n",
       "      <td>2016</td>\n",
       "      <td>8</td>\n",
       "      <td>16</td>\n",
       "      <td>0.0</td>\n",
       "      <td>...</td>\n",
       "      <td>0.0</td>\n",
       "      <td>0.0</td>\n",
       "      <td>NaN</td>\n",
       "      <td>NaN</td>\n",
       "      <td>NaN</td>\n",
       "      <td>NaN</td>\n",
       "      <td>NaN</td>\n",
       "      <td>NaN</td>\n",
       "      <td>NaN</td>\n",
       "      <td>NaN</td>\n",
       "    </tr>\n",
       "    <tr>\n",
       "      <th>12891</th>\n",
       "      <td>54</td>\n",
       "      <td>20170106</td>\n",
       "      <td>F</td>\n",
       "      <td>ae8111e7e8cd4b60a8d35c42c1110555</td>\n",
       "      <td>72000.0</td>\n",
       "      <td>2017-01-06</td>\n",
       "      <td>2017</td>\n",
       "      <td>1</td>\n",
       "      <td>6</td>\n",
       "      <td>0.0</td>\n",
       "      <td>...</td>\n",
       "      <td>0.0</td>\n",
       "      <td>0.0</td>\n",
       "      <td>NaN</td>\n",
       "      <td>NaN</td>\n",
       "      <td>NaN</td>\n",
       "      <td>NaN</td>\n",
       "      <td>NaN</td>\n",
       "      <td>NaN</td>\n",
       "      <td>NaN</td>\n",
       "      <td>NaN</td>\n",
       "    </tr>\n",
       "    <tr>\n",
       "      <th>13442</th>\n",
       "      <td>91</td>\n",
       "      <td>20151005</td>\n",
       "      <td>M</td>\n",
       "      <td>12ede229379747bd8d74ccdc20097ca3</td>\n",
       "      <td>70000.0</td>\n",
       "      <td>2015-10-05</td>\n",
       "      <td>2015</td>\n",
       "      <td>10</td>\n",
       "      <td>5</td>\n",
       "      <td>0.0</td>\n",
       "      <td>...</td>\n",
       "      <td>0.0</td>\n",
       "      <td>0.0</td>\n",
       "      <td>NaN</td>\n",
       "      <td>NaN</td>\n",
       "      <td>NaN</td>\n",
       "      <td>NaN</td>\n",
       "      <td>NaN</td>\n",
       "      <td>NaN</td>\n",
       "      <td>NaN</td>\n",
       "      <td>NaN</td>\n",
       "    </tr>\n",
       "  </tbody>\n",
       "</table>\n",
       "<p>5 rows × 21 columns</p>\n",
       "</div>"
      ],
      "text/plain": [
       "       age  became_member_on gender                                id  \\\n",
       "745     72          20171014      F  c6e579c6821c41d1a7a6a9cf936e91bb   \n",
       "4921    66          20170929      F  eb540099db834cf59001f83a4561aef3   \n",
       "5933    55          20160816      F  3a4874d8f0ef42b9a1b72294902afea9   \n",
       "12891   54          20170106      F  ae8111e7e8cd4b60a8d35c42c1110555   \n",
       "13442   91          20151005      M  12ede229379747bd8d74ccdc20097ca3   \n",
       "\n",
       "        income   date_bmo  year_bmo  month_bmo  day_bmo  tot_offers_received  \\\n",
       "745    35000.0 2017-10-14      2017         10       14                  0.0   \n",
       "4921   34000.0 2017-09-29      2017          9       29                  0.0   \n",
       "5933   88000.0 2016-08-16      2016          8       16                  0.0   \n",
       "12891  72000.0 2017-01-06      2017          1        6                  0.0   \n",
       "13442  70000.0 2015-10-05      2015         10        5                  0.0   \n",
       "\n",
       "       ...  tot_offers_succesful  offer_success_ratio  mean  max  min  \\\n",
       "745    ...                   0.0                  0.0   NaN  NaN  NaN   \n",
       "4921   ...                   0.0                  0.0   NaN  NaN  NaN   \n",
       "5933   ...                   0.0                  0.0   NaN  NaN  NaN   \n",
       "12891  ...                   0.0                  0.0   NaN  NaN  NaN   \n",
       "13442  ...                   0.0                  0.0   NaN  NaN  NaN   \n",
       "\n",
       "       mean_resp_t  max_resp_t  min_resp_t  tot_offers_spent  amount  \n",
       "745            NaN         NaN         NaN               NaN     NaN  \n",
       "4921           NaN         NaN         NaN               NaN     NaN  \n",
       "5933           NaN         NaN         NaN               NaN     NaN  \n",
       "12891          NaN         NaN         NaN               NaN     NaN  \n",
       "13442          NaN         NaN         NaN               NaN     NaN  \n",
       "\n",
       "[5 rows x 21 columns]"
      ]
     },
     "execution_count": 802,
     "metadata": {},
     "output_type": "execute_result"
    }
   ],
   "source": [
    "clean_profile_expanded = pd.merge(clean_profile_expanded,\n",
    "                                  aaa.groupby('id')['amount'].sum().reset_index(),\n",
    "                                  on = ['id'],\n",
    "                                  how = 'left')\n",
    "\n",
    "clean_profile_expanded.rename({'amount_x':'tot_spent','amount_y':'tot_offers_spent' }, axis = 1, inplace = True)\n",
    "\n",
    "clean_profile_expanded[clean_profile_expanded['amount'].isna()]"
   ]
  },
  {
   "cell_type": "code",
   "execution_count": 801,
   "metadata": {},
   "outputs": [],
   "source": []
  },
  {
   "cell_type": "code",
   "execution_count": null,
   "metadata": {},
   "outputs": [],
   "source": []
  },
  {
   "cell_type": "code",
   "execution_count": null,
   "metadata": {},
   "outputs": [],
   "source": []
  },
  {
   "cell_type": "code",
   "execution_count": null,
   "metadata": {},
   "outputs": [],
   "source": []
  }
 ],
 "metadata": {
  "kernelspec": {
   "display_name": "Python 3",
   "language": "python",
   "name": "python3"
  },
  "language_info": {
   "codemirror_mode": {
    "name": "ipython",
    "version": 3
   },
   "file_extension": ".py",
   "mimetype": "text/x-python",
   "name": "python",
   "nbconvert_exporter": "python",
   "pygments_lexer": "ipython3",
   "version": "3.7.3"
  }
 },
 "nbformat": 4,
 "nbformat_minor": 2
}
