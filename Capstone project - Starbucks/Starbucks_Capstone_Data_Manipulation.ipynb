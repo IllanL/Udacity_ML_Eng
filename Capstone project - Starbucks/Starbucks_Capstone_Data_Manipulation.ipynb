{
 "cells": [
  {
   "cell_type": "markdown",
   "metadata": {},
   "source": [
    "# Starbucks Capstone Challenge\n",
    "\n",
    "<br>\n",
    "<br>\n",
    "\n",
    "<img src='images/st02.png' width = 400>\n",
    "\n",
    "<br>\n",
    "\n",
    "### Introduction\n",
    "\n",
    "This data set contains simulated data that mimics customer behavior on the Starbucks rewards mobile app. Once every few days, Starbucks sends out an offer to users of the mobile app. An offer can be merely an advertisement for a drink or an actual offer such as a discount or BOGO (buy one get one free). Some users might not receive any offer during certain weeks. \n",
    "\n",
    "Not all users receive the same offer, and that is the challenge to solve with this data set.\n",
    "\n",
    "Your task is to combine transaction, demographic and offer data to determine which demographic groups respond best to which offer type. This data set is a simplified version of the real Starbucks app because the underlying simulator only has one product whereas Starbucks actually sells dozens of products.\n",
    "\n",
    "Every offer has a validity period before the offer expires. As an example, a BOGO offer might be valid for only 5 days. You'll see in the data set that informational offers have a validity period even though these ads are merely providing information about a product; for example, if an informational offer has 7 days of validity, you can assume the customer is feeling the influence of the offer for 7 days after receiving the advertisement.\n",
    "\n",
    "You'll be given transactional data showing user purchases made on the app including the timestamp of purchase and the amount of money spent on a purchase. This transactional data also has a record for each offer that a user receives as well as a record for when a user actually views the offer. There are also records for when a user completes an offer. \n",
    "\n",
    "Keep in mind as well that someone using the app might make a purchase through the app without having received an offer or seen an offer.\n",
    "\n",
    "<br>\n",
    "\n",
    "<img src='images/st04.jpg' width = 700>\n",
    "\n",
    "<br>\n",
    "\n",
    "### Example\n",
    "\n",
    "To give an example, a user could receive a discount offer buy 10 dollars get 2 off on Monday. The offer is valid for 10 days from receipt. If the customer accumulates at least 10 dollars in purchases during the validity period, the customer completes the offer.\n",
    "\n",
    "However, there are a few things to watch out for in this data set. Customers do not opt into the offers that they receive; in other words, a user can receive an offer, never actually view the offer, and still complete the offer. For example, a user might receive the \"buy 10 dollars get 2 dollars off offer\", but the user never opens the offer during the 10 day validity period. The customer spends 15 dollars during those ten days. There will be an offer completion record in the data set; however, the customer was not influenced by the offer because the customer never viewed the offer.\n",
    "\n",
    "### Cleaning\n",
    "\n",
    "This makes data cleaning especially important and tricky.\n",
    "\n",
    "You'll also want to take into account that some demographic groups will make purchases even if they don't receive an offer. From a business perspective, if a customer is going to make a 10 dollar purchase without an offer anyway, you wouldn't want to send a buy 10 dollars get 2 dollars off offer. You'll want to try to assess what a certain demographic group will buy when not receiving any offers.\n",
    "\n",
    "### Final Advice\n",
    "\n",
    "Because this is a capstone project, you are free to analyze the data any way you see fit. For example, you could build a machine learning model that predicts how much someone will spend based on demographics and offer type. Or you could build a model that predicts whether or not someone will respond to an offer. Or, you don't need to build a machine learning model at all. You could develop a set of heuristics that determine what offer you should send to each customer (i.e., 75 percent of women customers who were 35 years old responded to offer A vs 40 percent from the same demographic to offer B, so send offer A)."
   ]
  },
  {
   "cell_type": "markdown",
   "metadata": {},
   "source": [
    "# Data Sets\n",
    "\n",
    "The data is contained in three files:\n",
    "\n",
    "* portfolio.json - containing offer ids and meta data about each offer (duration, type, etc.)\n",
    "* profile.json - demographic data for each customer\n",
    "* transcript.json - records for transactions, offers received, offers viewed, and offers completed\n",
    "\n",
    "Here is the schema and explanation of each variable in the files:\n",
    "\n",
    "**portfolio.json**\n",
    "* id (string) - offer id\n",
    "* offer_type (string) - type of offer ie BOGO, discount, informational\n",
    "* difficulty (int) - minimum required spend to complete an offer\n",
    "* reward (int) - reward given for completing an offer\n",
    "* duration (int) - time for offer to be open, in days\n",
    "* channels (list of strings)\n",
    "\n",
    "**profile.json**\n",
    "* age (int) - age of the customer \n",
    "* became_member_on (int) - date when customer created an app account\n",
    "* gender (str) - gender of the customer (note some entries contain 'O' for other rather than M or F)\n",
    "* id (str) - customer id\n",
    "* income (float) - customer's income\n",
    "\n",
    "**transcript.json**\n",
    "* event (str) - record description (ie transaction, offer received, offer viewed, etc.)\n",
    "* person (str) - customer id\n",
    "* time (int) - time in hours since start of test. The data begins at time t=0\n",
    "* value - (dict of strings) - either an offer id or transaction amount depending on the record\n",
    "\n",
    "**Note:** If you are using the workspace, you will need to go to the terminal and run the command `conda update pandas` before reading in the files. This is because the version of pandas in the workspace cannot read in the transcript.json file correctly, but the newest version of pandas can. You can access the termnal from the orange icon in the top left of this notebook.  \n",
    "\n",
    "You can see how to access the terminal and how the install works using the two images below.  First you need to access the terminal:\n",
    "\n",
    "<img src=\"images/pic1.png\"/>\n",
    "\n",
    "Then you will want to run the above command:\n",
    "\n",
    "<img src=\"images/pic2.png\"/>\n",
    "\n",
    "Finally, when you enter back into the notebook (use the jupyter icon again), you should be able to run the below cell without any errors."
   ]
  },
  {
   "cell_type": "markdown",
   "metadata": {},
   "source": [
    "# 1) Loading required packages and reading in the files"
   ]
  },
  {
   "cell_type": "code",
   "execution_count": 1,
   "metadata": {},
   "outputs": [],
   "source": [
    "import pandas as pd\n",
    "import numpy as np\n",
    "import math\n",
    "import json\n",
    "import os\n",
    "import datetime as dt\n",
    "import matplotlib.pyplot as plt\n",
    "import seaborn as sns\n",
    "%matplotlib inline"
   ]
  },
  {
   "cell_type": "code",
   "execution_count": 2,
   "metadata": {},
   "outputs": [],
   "source": [
    "plt.rcParams['figure.figsize'] = [15, 5]"
   ]
  },
  {
   "cell_type": "code",
   "execution_count": 3,
   "metadata": {},
   "outputs": [],
   "source": [
    "# read in the json files\n",
    "portfolio = pd.read_json('data/portfolio.json', orient='records', lines=True)\n",
    "profile = pd.read_json('data/profile.json', orient='records', lines=True)\n",
    "transcript = pd.read_json('data/transcript.json', orient='records', lines=True)"
   ]
  },
  {
   "cell_type": "code",
   "execution_count": 4,
   "metadata": {},
   "outputs": [
    {
     "name": "stdout",
     "output_type": "stream",
     "text": [
      "(10, 6)\n",
      "(17000, 5)\n",
      "(306534, 4)\n"
     ]
    }
   ],
   "source": [
    "print(portfolio.shape)\n",
    "print(profile.shape)\n",
    "print(transcript.shape)"
   ]
  },
  {
   "cell_type": "markdown",
   "metadata": {},
   "source": [
    "# 2) Data wrangling"
   ]
  },
  {
   "cell_type": "markdown",
   "metadata": {},
   "source": [
    "<img src=\"images/woolball.jpg\" width = 500/>"
   ]
  },
  {
   "cell_type": "markdown",
   "metadata": {},
   "source": [
    "## Portfolio"
   ]
  },
  {
   "cell_type": "markdown",
   "metadata": {},
   "source": [
    "We start by examining portfolio, the smallest of the files:"
   ]
  },
  {
   "cell_type": "code",
   "execution_count": 5,
   "metadata": {
    "scrolled": true
   },
   "outputs": [
    {
     "data": {
      "text/html": [
       "<div>\n",
       "<style scoped>\n",
       "    .dataframe tbody tr th:only-of-type {\n",
       "        vertical-align: middle;\n",
       "    }\n",
       "\n",
       "    .dataframe tbody tr th {\n",
       "        vertical-align: top;\n",
       "    }\n",
       "\n",
       "    .dataframe thead th {\n",
       "        text-align: right;\n",
       "    }\n",
       "</style>\n",
       "<table border=\"1\" class=\"dataframe\">\n",
       "  <thead>\n",
       "    <tr style=\"text-align: right;\">\n",
       "      <th></th>\n",
       "      <th>channels</th>\n",
       "      <th>difficulty</th>\n",
       "      <th>duration</th>\n",
       "      <th>id</th>\n",
       "      <th>offer_type</th>\n",
       "      <th>reward</th>\n",
       "    </tr>\n",
       "  </thead>\n",
       "  <tbody>\n",
       "    <tr>\n",
       "      <th>0</th>\n",
       "      <td>[email, mobile, social]</td>\n",
       "      <td>10</td>\n",
       "      <td>7</td>\n",
       "      <td>ae264e3637204a6fb9bb56bc8210ddfd</td>\n",
       "      <td>bogo</td>\n",
       "      <td>10</td>\n",
       "    </tr>\n",
       "    <tr>\n",
       "      <th>1</th>\n",
       "      <td>[web, email, mobile, social]</td>\n",
       "      <td>10</td>\n",
       "      <td>5</td>\n",
       "      <td>4d5c57ea9a6940dd891ad53e9dbe8da0</td>\n",
       "      <td>bogo</td>\n",
       "      <td>10</td>\n",
       "    </tr>\n",
       "    <tr>\n",
       "      <th>2</th>\n",
       "      <td>[web, email, mobile]</td>\n",
       "      <td>0</td>\n",
       "      <td>4</td>\n",
       "      <td>3f207df678b143eea3cee63160fa8bed</td>\n",
       "      <td>informational</td>\n",
       "      <td>0</td>\n",
       "    </tr>\n",
       "    <tr>\n",
       "      <th>3</th>\n",
       "      <td>[web, email, mobile]</td>\n",
       "      <td>5</td>\n",
       "      <td>7</td>\n",
       "      <td>9b98b8c7a33c4b65b9aebfe6a799e6d9</td>\n",
       "      <td>bogo</td>\n",
       "      <td>5</td>\n",
       "    </tr>\n",
       "    <tr>\n",
       "      <th>4</th>\n",
       "      <td>[web, email]</td>\n",
       "      <td>20</td>\n",
       "      <td>10</td>\n",
       "      <td>0b1e1539f2cc45b7b9fa7c272da2e1d7</td>\n",
       "      <td>discount</td>\n",
       "      <td>5</td>\n",
       "    </tr>\n",
       "    <tr>\n",
       "      <th>5</th>\n",
       "      <td>[web, email, mobile, social]</td>\n",
       "      <td>7</td>\n",
       "      <td>7</td>\n",
       "      <td>2298d6c36e964ae4a3e7e9706d1fb8c2</td>\n",
       "      <td>discount</td>\n",
       "      <td>3</td>\n",
       "    </tr>\n",
       "    <tr>\n",
       "      <th>6</th>\n",
       "      <td>[web, email, mobile, social]</td>\n",
       "      <td>10</td>\n",
       "      <td>10</td>\n",
       "      <td>fafdcd668e3743c1bb461111dcafc2a4</td>\n",
       "      <td>discount</td>\n",
       "      <td>2</td>\n",
       "    </tr>\n",
       "    <tr>\n",
       "      <th>7</th>\n",
       "      <td>[email, mobile, social]</td>\n",
       "      <td>0</td>\n",
       "      <td>3</td>\n",
       "      <td>5a8bc65990b245e5a138643cd4eb9837</td>\n",
       "      <td>informational</td>\n",
       "      <td>0</td>\n",
       "    </tr>\n",
       "    <tr>\n",
       "      <th>8</th>\n",
       "      <td>[web, email, mobile, social]</td>\n",
       "      <td>5</td>\n",
       "      <td>5</td>\n",
       "      <td>f19421c1d4aa40978ebb69ca19b0e20d</td>\n",
       "      <td>bogo</td>\n",
       "      <td>5</td>\n",
       "    </tr>\n",
       "    <tr>\n",
       "      <th>9</th>\n",
       "      <td>[web, email, mobile]</td>\n",
       "      <td>10</td>\n",
       "      <td>7</td>\n",
       "      <td>2906b810c7d4411798c6938adc9daaa5</td>\n",
       "      <td>discount</td>\n",
       "      <td>2</td>\n",
       "    </tr>\n",
       "  </tbody>\n",
       "</table>\n",
       "</div>"
      ],
      "text/plain": [
       "                       channels  difficulty  duration  \\\n",
       "0       [email, mobile, social]          10         7   \n",
       "1  [web, email, mobile, social]          10         5   \n",
       "2          [web, email, mobile]           0         4   \n",
       "3          [web, email, mobile]           5         7   \n",
       "4                  [web, email]          20        10   \n",
       "5  [web, email, mobile, social]           7         7   \n",
       "6  [web, email, mobile, social]          10        10   \n",
       "7       [email, mobile, social]           0         3   \n",
       "8  [web, email, mobile, social]           5         5   \n",
       "9          [web, email, mobile]          10         7   \n",
       "\n",
       "                                 id     offer_type  reward  \n",
       "0  ae264e3637204a6fb9bb56bc8210ddfd           bogo      10  \n",
       "1  4d5c57ea9a6940dd891ad53e9dbe8da0           bogo      10  \n",
       "2  3f207df678b143eea3cee63160fa8bed  informational       0  \n",
       "3  9b98b8c7a33c4b65b9aebfe6a799e6d9           bogo       5  \n",
       "4  0b1e1539f2cc45b7b9fa7c272da2e1d7       discount       5  \n",
       "5  2298d6c36e964ae4a3e7e9706d1fb8c2       discount       3  \n",
       "6  fafdcd668e3743c1bb461111dcafc2a4       discount       2  \n",
       "7  5a8bc65990b245e5a138643cd4eb9837  informational       0  \n",
       "8  f19421c1d4aa40978ebb69ca19b0e20d           bogo       5  \n",
       "9  2906b810c7d4411798c6938adc9daaa5       discount       2  "
      ]
     },
     "execution_count": 5,
     "metadata": {},
     "output_type": "execute_result"
    }
   ],
   "source": [
    "portfolio"
   ]
  },
  {
   "cell_type": "markdown",
   "metadata": {},
   "source": [
    "We see that portfolio only has ten rows of data, corresponding to each different offers clasified in three kind of offers:\n",
    "    \n",
    "* bogo --> buy one, get one. Four offers, divided into two subkinds with different rewards (10 and 5, pressumably corresponding to 1 + 1 for free and 2 + 1 offers)\n",
    "\n",
    "* discount --> Four different kind of offers, with rewards of 5, 3, 2 and 2 again (50, 30 and 20%?)\n",
    "\n",
    "* informational --> two offers, 0 reward (information emails, we pressume)\n",
    "\n",
    "Beyond that, we observe that we have also information on different difficulties and durations for each offer, and also information on which channels was this offer offered.\n",
    "\n",
    "We need little manipulation: we will just divide the channel column into four, with ones when the corresponding channel was used and zeros when it did not:"
   ]
  },
  {
   "cell_type": "code",
   "execution_count": 6,
   "metadata": {},
   "outputs": [],
   "source": [
    "new_columns = ['web', 'email', 'mobile', 'social']\n",
    "\n",
    "for value in new_columns:\n",
    "    portfolio[value] = portfolio['channels'].apply(lambda x: 1 if value in x else 0)"
   ]
  },
  {
   "cell_type": "markdown",
   "metadata": {},
   "source": [
    "And drop the original column:"
   ]
  },
  {
   "cell_type": "code",
   "execution_count": 7,
   "metadata": {},
   "outputs": [],
   "source": [
    "portfolio.drop('channels', axis = 1, inplace = True)"
   ]
  },
  {
   "cell_type": "markdown",
   "metadata": {},
   "source": [
    "## Profile"
   ]
  },
  {
   "cell_type": "markdown",
   "metadata": {},
   "source": [
    "Let's see what Profile has to offer:"
   ]
  },
  {
   "cell_type": "code",
   "execution_count": 8,
   "metadata": {},
   "outputs": [
    {
     "data": {
      "text/html": [
       "<div>\n",
       "<style scoped>\n",
       "    .dataframe tbody tr th:only-of-type {\n",
       "        vertical-align: middle;\n",
       "    }\n",
       "\n",
       "    .dataframe tbody tr th {\n",
       "        vertical-align: top;\n",
       "    }\n",
       "\n",
       "    .dataframe thead th {\n",
       "        text-align: right;\n",
       "    }\n",
       "</style>\n",
       "<table border=\"1\" class=\"dataframe\">\n",
       "  <thead>\n",
       "    <tr style=\"text-align: right;\">\n",
       "      <th></th>\n",
       "      <th>age</th>\n",
       "      <th>became_member_on</th>\n",
       "      <th>gender</th>\n",
       "      <th>id</th>\n",
       "      <th>income</th>\n",
       "    </tr>\n",
       "  </thead>\n",
       "  <tbody>\n",
       "    <tr>\n",
       "      <th>0</th>\n",
       "      <td>118</td>\n",
       "      <td>20170212</td>\n",
       "      <td>None</td>\n",
       "      <td>68be06ca386d4c31939f3a4f0e3dd783</td>\n",
       "      <td>NaN</td>\n",
       "    </tr>\n",
       "    <tr>\n",
       "      <th>1</th>\n",
       "      <td>55</td>\n",
       "      <td>20170715</td>\n",
       "      <td>F</td>\n",
       "      <td>0610b486422d4921ae7d2bf64640c50b</td>\n",
       "      <td>112000.0</td>\n",
       "    </tr>\n",
       "    <tr>\n",
       "      <th>2</th>\n",
       "      <td>118</td>\n",
       "      <td>20180712</td>\n",
       "      <td>None</td>\n",
       "      <td>38fe809add3b4fcf9315a9694bb96ff5</td>\n",
       "      <td>NaN</td>\n",
       "    </tr>\n",
       "    <tr>\n",
       "      <th>3</th>\n",
       "      <td>75</td>\n",
       "      <td>20170509</td>\n",
       "      <td>F</td>\n",
       "      <td>78afa995795e4d85b5d9ceeca43f5fef</td>\n",
       "      <td>100000.0</td>\n",
       "    </tr>\n",
       "    <tr>\n",
       "      <th>4</th>\n",
       "      <td>118</td>\n",
       "      <td>20170804</td>\n",
       "      <td>None</td>\n",
       "      <td>a03223e636434f42ac4c3df47e8bac43</td>\n",
       "      <td>NaN</td>\n",
       "    </tr>\n",
       "  </tbody>\n",
       "</table>\n",
       "</div>"
      ],
      "text/plain": [
       "   age  became_member_on gender                                id    income\n",
       "0  118          20170212   None  68be06ca386d4c31939f3a4f0e3dd783       NaN\n",
       "1   55          20170715      F  0610b486422d4921ae7d2bf64640c50b  112000.0\n",
       "2  118          20180712   None  38fe809add3b4fcf9315a9694bb96ff5       NaN\n",
       "3   75          20170509      F  78afa995795e4d85b5d9ceeca43f5fef  100000.0\n",
       "4  118          20170804   None  a03223e636434f42ac4c3df47e8bac43       NaN"
      ]
     },
     "execution_count": 8,
     "metadata": {},
     "output_type": "execute_result"
    }
   ],
   "source": [
    "profile.head()"
   ]
  },
  {
   "cell_type": "markdown",
   "metadata": {},
   "source": [
    "We define a function that we will use to describe this and the following datasets:"
   ]
  },
  {
   "cell_type": "code",
   "execution_count": 9,
   "metadata": {},
   "outputs": [],
   "source": [
    "def describing_fun(df):\n",
    "    print(df.info())\n",
    "    print(df.describe())\n",
    "    \n",
    "    print(\"\\nValue counts:\\n\")\n",
    "    \n",
    "    for col in df:\n",
    "    \n",
    "        length = len(df[col].unique())\n",
    "\n",
    "        if length < 7:\n",
    "            print(col, \":\", length, ', which are:', df[col].unique())\n",
    "        else:\n",
    "            print(col, \":\", length)"
   ]
  },
  {
   "cell_type": "code",
   "execution_count": 10,
   "metadata": {},
   "outputs": [
    {
     "name": "stdout",
     "output_type": "stream",
     "text": [
      "<class 'pandas.core.frame.DataFrame'>\n",
      "RangeIndex: 17000 entries, 0 to 16999\n",
      "Data columns (total 5 columns):\n",
      "age                 17000 non-null int64\n",
      "became_member_on    17000 non-null int64\n",
      "gender              14825 non-null object\n",
      "id                  17000 non-null object\n",
      "income              14825 non-null float64\n",
      "dtypes: float64(1), int64(2), object(2)\n",
      "memory usage: 664.1+ KB\n",
      "None\n",
      "                age  became_member_on         income\n",
      "count  17000.000000      1.700000e+04   14825.000000\n",
      "mean      62.531412      2.016703e+07   65404.991568\n",
      "std       26.738580      1.167750e+04   21598.299410\n",
      "min       18.000000      2.013073e+07   30000.000000\n",
      "25%       45.000000      2.016053e+07   49000.000000\n",
      "50%       58.000000      2.017080e+07   64000.000000\n",
      "75%       73.000000      2.017123e+07   80000.000000\n",
      "max      118.000000      2.018073e+07  120000.000000\n",
      "\n",
      "Value counts:\n",
      "\n",
      "age : 85\n",
      "became_member_on : 1716\n",
      "gender : 4 , which are: [None 'F' 'M' 'O']\n",
      "id : 17000\n",
      "income : 92\n"
     ]
    }
   ],
   "source": [
    "describing_fun(profile)"
   ]
  },
  {
   "cell_type": "markdown",
   "metadata": {},
   "source": [
    "It seems that some values are missing.\n",
    "\n",
    "Let's check those missing values:"
   ]
  },
  {
   "cell_type": "code",
   "execution_count": 11,
   "metadata": {},
   "outputs": [
    {
     "data": {
      "text/plain": [
       "2175"
      ]
     },
     "execution_count": 11,
     "metadata": {},
     "output_type": "execute_result"
    }
   ],
   "source": [
    "profile.isnull().any(axis = 1).sum()"
   ]
  },
  {
   "cell_type": "code",
   "execution_count": 12,
   "metadata": {},
   "outputs": [
    {
     "data": {
      "text/html": [
       "<div>\n",
       "<style scoped>\n",
       "    .dataframe tbody tr th:only-of-type {\n",
       "        vertical-align: middle;\n",
       "    }\n",
       "\n",
       "    .dataframe tbody tr th {\n",
       "        vertical-align: top;\n",
       "    }\n",
       "\n",
       "    .dataframe thead th {\n",
       "        text-align: right;\n",
       "    }\n",
       "</style>\n",
       "<table border=\"1\" class=\"dataframe\">\n",
       "  <thead>\n",
       "    <tr style=\"text-align: right;\">\n",
       "      <th></th>\n",
       "      <th>age</th>\n",
       "      <th>became_member_on</th>\n",
       "      <th>gender</th>\n",
       "      <th>id</th>\n",
       "      <th>income</th>\n",
       "    </tr>\n",
       "  </thead>\n",
       "  <tbody>\n",
       "    <tr>\n",
       "      <th>0</th>\n",
       "      <td>118</td>\n",
       "      <td>20170212</td>\n",
       "      <td>None</td>\n",
       "      <td>68be06ca386d4c31939f3a4f0e3dd783</td>\n",
       "      <td>NaN</td>\n",
       "    </tr>\n",
       "    <tr>\n",
       "      <th>2</th>\n",
       "      <td>118</td>\n",
       "      <td>20180712</td>\n",
       "      <td>None</td>\n",
       "      <td>38fe809add3b4fcf9315a9694bb96ff5</td>\n",
       "      <td>NaN</td>\n",
       "    </tr>\n",
       "    <tr>\n",
       "      <th>4</th>\n",
       "      <td>118</td>\n",
       "      <td>20170804</td>\n",
       "      <td>None</td>\n",
       "      <td>a03223e636434f42ac4c3df47e8bac43</td>\n",
       "      <td>NaN</td>\n",
       "    </tr>\n",
       "    <tr>\n",
       "      <th>6</th>\n",
       "      <td>118</td>\n",
       "      <td>20170925</td>\n",
       "      <td>None</td>\n",
       "      <td>8ec6ce2a7e7949b1bf142def7d0e0586</td>\n",
       "      <td>NaN</td>\n",
       "    </tr>\n",
       "    <tr>\n",
       "      <th>7</th>\n",
       "      <td>118</td>\n",
       "      <td>20171002</td>\n",
       "      <td>None</td>\n",
       "      <td>68617ca6246f4fbc85e91a2a49552598</td>\n",
       "      <td>NaN</td>\n",
       "    </tr>\n",
       "  </tbody>\n",
       "</table>\n",
       "</div>"
      ],
      "text/plain": [
       "   age  became_member_on gender                                id  income\n",
       "0  118          20170212   None  68be06ca386d4c31939f3a4f0e3dd783     NaN\n",
       "2  118          20180712   None  38fe809add3b4fcf9315a9694bb96ff5     NaN\n",
       "4  118          20170804   None  a03223e636434f42ac4c3df47e8bac43     NaN\n",
       "6  118          20170925   None  8ec6ce2a7e7949b1bf142def7d0e0586     NaN\n",
       "7  118          20171002   None  68617ca6246f4fbc85e91a2a49552598     NaN"
      ]
     },
     "execution_count": 12,
     "metadata": {},
     "output_type": "execute_result"
    }
   ],
   "source": [
    "profile[profile.isnull().any(axis = 1)].head()"
   ]
  },
  {
   "cell_type": "code",
   "execution_count": 13,
   "metadata": {},
   "outputs": [
    {
     "data": {
      "text/plain": [
       "array([118], dtype=int64)"
      ]
     },
     "execution_count": 13,
     "metadata": {},
     "output_type": "execute_result"
    }
   ],
   "source": [
    "profile[profile.isnull().any(axis = 1)]['age'].unique()"
   ]
  },
  {
   "cell_type": "markdown",
   "metadata": {},
   "source": [
    "All nulls present in any columns are associated with people 118 years old, probably a code used to describe this people.\n",
    "\n",
    "We will drop this values. But first, we will also parse the dates correctly:"
   ]
  },
  {
   "cell_type": "code",
   "execution_count": 14,
   "metadata": {},
   "outputs": [],
   "source": [
    "profile['date_bmo'] = profile['became_member_on'].apply(lambda x: dt.datetime.strptime(str(x), \"%Y%m%d\"))"
   ]
  },
  {
   "cell_type": "code",
   "execution_count": 15,
   "metadata": {},
   "outputs": [],
   "source": [
    "profile['year_bmo'] = profile['date_bmo'].apply(lambda x: x.year)\n",
    "profile['month_bmo'] = profile['date_bmo'].apply(lambda x: x.month)\n",
    "profile['day_bmo'] = profile['date_bmo'].apply(lambda x: x.day)\n",
    "\n",
    "# Removing the original untreated column:\n",
    "profile.drop('became_member_on', axis=1, inplace=True)\n",
    "\n",
    "# Extracting a new feature: client's seniority:\n",
    "# We assume the date of the latest client as point of origin:\n",
    "profile['seniority'] = (profile['date_bmo'].max() - profile['date_bmo']).dt.days"
   ]
  },
  {
   "cell_type": "markdown",
   "metadata": {},
   "source": [
    "And now, we drop the NaNs:"
   ]
  },
  {
   "cell_type": "code",
   "execution_count": 16,
   "metadata": {},
   "outputs": [],
   "source": [
    "clean_profile = profile.dropna()"
   ]
  },
  {
   "cell_type": "markdown",
   "metadata": {},
   "source": [
    "Let's see ill all went well (sanity check):"
   ]
  },
  {
   "cell_type": "code",
   "execution_count": 17,
   "metadata": {},
   "outputs": [
    {
     "name": "stdout",
     "output_type": "stream",
     "text": [
      "14825\n"
     ]
    },
    {
     "data": {
      "text/html": [
       "<div>\n",
       "<style scoped>\n",
       "    .dataframe tbody tr th:only-of-type {\n",
       "        vertical-align: middle;\n",
       "    }\n",
       "\n",
       "    .dataframe tbody tr th {\n",
       "        vertical-align: top;\n",
       "    }\n",
       "\n",
       "    .dataframe thead th {\n",
       "        text-align: right;\n",
       "    }\n",
       "</style>\n",
       "<table border=\"1\" class=\"dataframe\">\n",
       "  <thead>\n",
       "    <tr style=\"text-align: right;\">\n",
       "      <th></th>\n",
       "      <th>age</th>\n",
       "      <th>gender</th>\n",
       "      <th>id</th>\n",
       "      <th>income</th>\n",
       "      <th>date_bmo</th>\n",
       "      <th>year_bmo</th>\n",
       "      <th>month_bmo</th>\n",
       "      <th>day_bmo</th>\n",
       "      <th>seniority</th>\n",
       "    </tr>\n",
       "  </thead>\n",
       "  <tbody>\n",
       "    <tr>\n",
       "      <th>1</th>\n",
       "      <td>55</td>\n",
       "      <td>F</td>\n",
       "      <td>0610b486422d4921ae7d2bf64640c50b</td>\n",
       "      <td>112000.0</td>\n",
       "      <td>2017-07-15</td>\n",
       "      <td>2017</td>\n",
       "      <td>7</td>\n",
       "      <td>15</td>\n",
       "      <td>376</td>\n",
       "    </tr>\n",
       "    <tr>\n",
       "      <th>3</th>\n",
       "      <td>75</td>\n",
       "      <td>F</td>\n",
       "      <td>78afa995795e4d85b5d9ceeca43f5fef</td>\n",
       "      <td>100000.0</td>\n",
       "      <td>2017-05-09</td>\n",
       "      <td>2017</td>\n",
       "      <td>5</td>\n",
       "      <td>9</td>\n",
       "      <td>443</td>\n",
       "    </tr>\n",
       "    <tr>\n",
       "      <th>5</th>\n",
       "      <td>68</td>\n",
       "      <td>M</td>\n",
       "      <td>e2127556f4f64592b11af22de27a7932</td>\n",
       "      <td>70000.0</td>\n",
       "      <td>2018-04-26</td>\n",
       "      <td>2018</td>\n",
       "      <td>4</td>\n",
       "      <td>26</td>\n",
       "      <td>91</td>\n",
       "    </tr>\n",
       "    <tr>\n",
       "      <th>8</th>\n",
       "      <td>65</td>\n",
       "      <td>M</td>\n",
       "      <td>389bc3fa690240e798340f5a15918d5c</td>\n",
       "      <td>53000.0</td>\n",
       "      <td>2018-02-09</td>\n",
       "      <td>2018</td>\n",
       "      <td>2</td>\n",
       "      <td>9</td>\n",
       "      <td>167</td>\n",
       "    </tr>\n",
       "    <tr>\n",
       "      <th>12</th>\n",
       "      <td>58</td>\n",
       "      <td>M</td>\n",
       "      <td>2eeac8d8feae4a8cad5a6af0499a211d</td>\n",
       "      <td>51000.0</td>\n",
       "      <td>2017-11-11</td>\n",
       "      <td>2017</td>\n",
       "      <td>11</td>\n",
       "      <td>11</td>\n",
       "      <td>257</td>\n",
       "    </tr>\n",
       "  </tbody>\n",
       "</table>\n",
       "</div>"
      ],
      "text/plain": [
       "    age gender                                id    income   date_bmo  \\\n",
       "1    55      F  0610b486422d4921ae7d2bf64640c50b  112000.0 2017-07-15   \n",
       "3    75      F  78afa995795e4d85b5d9ceeca43f5fef  100000.0 2017-05-09   \n",
       "5    68      M  e2127556f4f64592b11af22de27a7932   70000.0 2018-04-26   \n",
       "8    65      M  389bc3fa690240e798340f5a15918d5c   53000.0 2018-02-09   \n",
       "12   58      M  2eeac8d8feae4a8cad5a6af0499a211d   51000.0 2017-11-11   \n",
       "\n",
       "    year_bmo  month_bmo  day_bmo  seniority  \n",
       "1       2017          7       15        376  \n",
       "3       2017          5        9        443  \n",
       "5       2018          4       26         91  \n",
       "8       2018          2        9        167  \n",
       "12      2017         11       11        257  "
      ]
     },
     "execution_count": 17,
     "metadata": {},
     "output_type": "execute_result"
    }
   ],
   "source": [
    "# Should be 17000 - 2125 = 14825:\n",
    "print(len(clean_profile))\n",
    "\n",
    "clean_profile.head()"
   ]
  },
  {
   "cell_type": "markdown",
   "metadata": {},
   "source": [
    "We do it in a separate table for two reasons:\n",
    "\n",
    "* So we don't mess with our original loaded table.\n",
    "\n",
    "* So we don't loose the information those rows do provide: it shows when they became members.\n",
    "\n",
    "As long as we have enough memory, it feels right to create a new table for this manipulation.\n",
    "\n",
    "We will have to drop all values related to these clients also in the transcript df later.\n",
    "\n",
    "Finally, we will check for duplicates:"
   ]
  },
  {
   "cell_type": "code",
   "execution_count": 18,
   "metadata": {},
   "outputs": [
    {
     "data": {
      "text/html": [
       "<div>\n",
       "<style scoped>\n",
       "    .dataframe tbody tr th:only-of-type {\n",
       "        vertical-align: middle;\n",
       "    }\n",
       "\n",
       "    .dataframe tbody tr th {\n",
       "        vertical-align: top;\n",
       "    }\n",
       "\n",
       "    .dataframe thead th {\n",
       "        text-align: right;\n",
       "    }\n",
       "</style>\n",
       "<table border=\"1\" class=\"dataframe\">\n",
       "  <thead>\n",
       "    <tr style=\"text-align: right;\">\n",
       "      <th></th>\n",
       "      <th>age</th>\n",
       "      <th>gender</th>\n",
       "      <th>id</th>\n",
       "      <th>income</th>\n",
       "      <th>date_bmo</th>\n",
       "      <th>year_bmo</th>\n",
       "      <th>month_bmo</th>\n",
       "      <th>day_bmo</th>\n",
       "      <th>seniority</th>\n",
       "    </tr>\n",
       "  </thead>\n",
       "  <tbody>\n",
       "  </tbody>\n",
       "</table>\n",
       "</div>"
      ],
      "text/plain": [
       "Empty DataFrame\n",
       "Columns: [age, gender, id, income, date_bmo, year_bmo, month_bmo, day_bmo, seniority]\n",
       "Index: []"
      ]
     },
     "execution_count": 18,
     "metadata": {},
     "output_type": "execute_result"
    }
   ],
   "source": [
    "profile[profile.duplicated()]"
   ]
  },
  {
   "cell_type": "markdown",
   "metadata": {},
   "source": [
    "Perfect, no duplicates."
   ]
  },
  {
   "cell_type": "markdown",
   "metadata": {},
   "source": [
    "## Transcript"
   ]
  },
  {
   "cell_type": "markdown",
   "metadata": {},
   "source": [
    "We now go for transcript. This is the biggest and more complicated df:"
   ]
  },
  {
   "cell_type": "code",
   "execution_count": 19,
   "metadata": {},
   "outputs": [
    {
     "data": {
      "text/html": [
       "<div>\n",
       "<style scoped>\n",
       "    .dataframe tbody tr th:only-of-type {\n",
       "        vertical-align: middle;\n",
       "    }\n",
       "\n",
       "    .dataframe tbody tr th {\n",
       "        vertical-align: top;\n",
       "    }\n",
       "\n",
       "    .dataframe thead th {\n",
       "        text-align: right;\n",
       "    }\n",
       "</style>\n",
       "<table border=\"1\" class=\"dataframe\">\n",
       "  <thead>\n",
       "    <tr style=\"text-align: right;\">\n",
       "      <th></th>\n",
       "      <th>event</th>\n",
       "      <th>person</th>\n",
       "      <th>time</th>\n",
       "      <th>value</th>\n",
       "    </tr>\n",
       "  </thead>\n",
       "  <tbody>\n",
       "    <tr>\n",
       "      <th>0</th>\n",
       "      <td>offer received</td>\n",
       "      <td>78afa995795e4d85b5d9ceeca43f5fef</td>\n",
       "      <td>0</td>\n",
       "      <td>{'offer id': '9b98b8c7a33c4b65b9aebfe6a799e6d9'}</td>\n",
       "    </tr>\n",
       "    <tr>\n",
       "      <th>1</th>\n",
       "      <td>offer received</td>\n",
       "      <td>a03223e636434f42ac4c3df47e8bac43</td>\n",
       "      <td>0</td>\n",
       "      <td>{'offer id': '0b1e1539f2cc45b7b9fa7c272da2e1d7'}</td>\n",
       "    </tr>\n",
       "    <tr>\n",
       "      <th>2</th>\n",
       "      <td>offer received</td>\n",
       "      <td>e2127556f4f64592b11af22de27a7932</td>\n",
       "      <td>0</td>\n",
       "      <td>{'offer id': '2906b810c7d4411798c6938adc9daaa5'}</td>\n",
       "    </tr>\n",
       "    <tr>\n",
       "      <th>3</th>\n",
       "      <td>offer received</td>\n",
       "      <td>8ec6ce2a7e7949b1bf142def7d0e0586</td>\n",
       "      <td>0</td>\n",
       "      <td>{'offer id': 'fafdcd668e3743c1bb461111dcafc2a4'}</td>\n",
       "    </tr>\n",
       "    <tr>\n",
       "      <th>4</th>\n",
       "      <td>offer received</td>\n",
       "      <td>68617ca6246f4fbc85e91a2a49552598</td>\n",
       "      <td>0</td>\n",
       "      <td>{'offer id': '4d5c57ea9a6940dd891ad53e9dbe8da0'}</td>\n",
       "    </tr>\n",
       "  </tbody>\n",
       "</table>\n",
       "</div>"
      ],
      "text/plain": [
       "            event                            person  time  \\\n",
       "0  offer received  78afa995795e4d85b5d9ceeca43f5fef     0   \n",
       "1  offer received  a03223e636434f42ac4c3df47e8bac43     0   \n",
       "2  offer received  e2127556f4f64592b11af22de27a7932     0   \n",
       "3  offer received  8ec6ce2a7e7949b1bf142def7d0e0586     0   \n",
       "4  offer received  68617ca6246f4fbc85e91a2a49552598     0   \n",
       "\n",
       "                                              value  \n",
       "0  {'offer id': '9b98b8c7a33c4b65b9aebfe6a799e6d9'}  \n",
       "1  {'offer id': '0b1e1539f2cc45b7b9fa7c272da2e1d7'}  \n",
       "2  {'offer id': '2906b810c7d4411798c6938adc9daaa5'}  \n",
       "3  {'offer id': 'fafdcd668e3743c1bb461111dcafc2a4'}  \n",
       "4  {'offer id': '4d5c57ea9a6940dd891ad53e9dbe8da0'}  "
      ]
     },
     "execution_count": 19,
     "metadata": {},
     "output_type": "execute_result"
    }
   ],
   "source": [
    "transcript.head()"
   ]
  },
  {
   "cell_type": "markdown",
   "metadata": {},
   "source": [
    "We see we will have to split again those values in a dictionary.\n",
    "\n",
    "But first, let's look for NaN's:"
   ]
  },
  {
   "cell_type": "code",
   "execution_count": 20,
   "metadata": {},
   "outputs": [
    {
     "data": {
      "text/plain": [
       "0"
      ]
     },
     "execution_count": 20,
     "metadata": {},
     "output_type": "execute_result"
    }
   ],
   "source": [
    "transcript.isna().any().sum()"
   ]
  },
  {
   "cell_type": "markdown",
   "metadata": {},
   "source": [
    "And now, we will mark all customers which we already dropped in the clean_profile table:"
   ]
  },
  {
   "cell_type": "code",
   "execution_count": 21,
   "metadata": {},
   "outputs": [],
   "source": [
    "# For comfort's sake we will rename the 'person' column to 'id', so merges are faster to write:\n",
    "transcript.rename({'person' : 'id'}, axis = 1, inplace = True)"
   ]
  },
  {
   "cell_type": "markdown",
   "metadata": {},
   "source": [
    "We see that all values in the transcript table pertained to clients of which we had a profile, whether complete or incomplete:"
   ]
  },
  {
   "cell_type": "code",
   "execution_count": 22,
   "metadata": {},
   "outputs": [
    {
     "data": {
      "text/plain": [
       "0.0"
      ]
     },
     "execution_count": 22,
     "metadata": {},
     "output_type": "execute_result"
    }
   ],
   "source": [
    "len(transcript[~transcript['id'].isin(profile['id'])])/len(transcript)"
   ]
  },
  {
   "cell_type": "markdown",
   "metadata": {},
   "source": [
    "Let's see how many rows these customers with missing information represent:"
   ]
  },
  {
   "cell_type": "code",
   "execution_count": 23,
   "metadata": {},
   "outputs": [
    {
     "data": {
      "text/plain": [
       "0.11017374907840566"
      ]
     },
     "execution_count": 23,
     "metadata": {},
     "output_type": "execute_result"
    }
   ],
   "source": [
    "len(transcript[~transcript['id'].isin(clean_profile['id'])])/len(transcript)"
   ]
  },
  {
   "cell_type": "markdown",
   "metadata": {},
   "source": [
    "Their weight on the offers is slightly less than that of the rest of the users (as they represented 12.5% of our customer base, but only 11% of the transactions).\n",
    "\n",
    "We will also drop those transactions, creating a new table, because of the same reasons stated above, but we will do it a bit later."
   ]
  },
  {
   "cell_type": "markdown",
   "metadata": {},
   "source": [
    "Ok, now we will go for the dictionary:"
   ]
  },
  {
   "cell_type": "code",
   "execution_count": 24,
   "metadata": {},
   "outputs": [],
   "source": [
    "# Let's look at the keys:\n",
    "\n",
    "def mi_keys(x):\n",
    "    for key in x.keys():\n",
    "        return key"
   ]
  },
  {
   "cell_type": "code",
   "execution_count": 25,
   "metadata": {},
   "outputs": [
    {
     "data": {
      "text/plain": [
       "array(['offer id', 'amount', 'offer_id'], dtype=object)"
      ]
     },
     "execution_count": 25,
     "metadata": {},
     "output_type": "execute_result"
    }
   ],
   "source": [
    "transcript['value'].apply(mi_keys).unique()"
   ]
  },
  {
   "cell_type": "markdown",
   "metadata": {},
   "source": [
    "We see there are only 3 different values, that should be 2.\n",
    "\n",
    "We will fix that 'offer id' vs 'offer_id' thing:"
   ]
  },
  {
   "cell_type": "code",
   "execution_count": 26,
   "metadata": {},
   "outputs": [],
   "source": [
    "# This function will clean the dictionary column:\n",
    "def clean_col(x):\n",
    "    for key in x.keys():\n",
    "        if key == 'offer id':\n",
    "            x['offer_id'] = x[key]\n",
    "            del x[key]\n",
    "            return x\n",
    "        else:\n",
    "            return x"
   ]
  },
  {
   "cell_type": "code",
   "execution_count": 27,
   "metadata": {},
   "outputs": [],
   "source": [
    "transcript['value'] = transcript['value'].apply(clean_col)"
   ]
  },
  {
   "cell_type": "markdown",
   "metadata": {},
   "source": [
    "And now, we are going to separate the different values of the dictionary into their own columns:"
   ]
  },
  {
   "cell_type": "code",
   "execution_count": 28,
   "metadata": {},
   "outputs": [],
   "source": [
    "transcript2 = pd.concat([transcript[['event', 'id', 'time']], \n",
    "                         pd.DataFrame((d for idx, d in transcript['value'].iteritems()))], \n",
    "                        axis = 1)"
   ]
  },
  {
   "cell_type": "code",
   "execution_count": 29,
   "metadata": {},
   "outputs": [
    {
     "data": {
      "text/html": [
       "<div>\n",
       "<style scoped>\n",
       "    .dataframe tbody tr th:only-of-type {\n",
       "        vertical-align: middle;\n",
       "    }\n",
       "\n",
       "    .dataframe tbody tr th {\n",
       "        vertical-align: top;\n",
       "    }\n",
       "\n",
       "    .dataframe thead th {\n",
       "        text-align: right;\n",
       "    }\n",
       "</style>\n",
       "<table border=\"1\" class=\"dataframe\">\n",
       "  <thead>\n",
       "    <tr style=\"text-align: right;\">\n",
       "      <th></th>\n",
       "      <th>event</th>\n",
       "      <th>id</th>\n",
       "      <th>time</th>\n",
       "      <th>amount</th>\n",
       "      <th>offer_id</th>\n",
       "      <th>reward</th>\n",
       "    </tr>\n",
       "  </thead>\n",
       "  <tbody>\n",
       "    <tr>\n",
       "      <th>0</th>\n",
       "      <td>offer received</td>\n",
       "      <td>78afa995795e4d85b5d9ceeca43f5fef</td>\n",
       "      <td>0</td>\n",
       "      <td>NaN</td>\n",
       "      <td>9b98b8c7a33c4b65b9aebfe6a799e6d9</td>\n",
       "      <td>NaN</td>\n",
       "    </tr>\n",
       "    <tr>\n",
       "      <th>1</th>\n",
       "      <td>offer received</td>\n",
       "      <td>a03223e636434f42ac4c3df47e8bac43</td>\n",
       "      <td>0</td>\n",
       "      <td>NaN</td>\n",
       "      <td>0b1e1539f2cc45b7b9fa7c272da2e1d7</td>\n",
       "      <td>NaN</td>\n",
       "    </tr>\n",
       "    <tr>\n",
       "      <th>2</th>\n",
       "      <td>offer received</td>\n",
       "      <td>e2127556f4f64592b11af22de27a7932</td>\n",
       "      <td>0</td>\n",
       "      <td>NaN</td>\n",
       "      <td>2906b810c7d4411798c6938adc9daaa5</td>\n",
       "      <td>NaN</td>\n",
       "    </tr>\n",
       "    <tr>\n",
       "      <th>3</th>\n",
       "      <td>offer received</td>\n",
       "      <td>8ec6ce2a7e7949b1bf142def7d0e0586</td>\n",
       "      <td>0</td>\n",
       "      <td>NaN</td>\n",
       "      <td>fafdcd668e3743c1bb461111dcafc2a4</td>\n",
       "      <td>NaN</td>\n",
       "    </tr>\n",
       "    <tr>\n",
       "      <th>4</th>\n",
       "      <td>offer received</td>\n",
       "      <td>68617ca6246f4fbc85e91a2a49552598</td>\n",
       "      <td>0</td>\n",
       "      <td>NaN</td>\n",
       "      <td>4d5c57ea9a6940dd891ad53e9dbe8da0</td>\n",
       "      <td>NaN</td>\n",
       "    </tr>\n",
       "  </tbody>\n",
       "</table>\n",
       "</div>"
      ],
      "text/plain": [
       "            event                                id  time  amount  \\\n",
       "0  offer received  78afa995795e4d85b5d9ceeca43f5fef     0     NaN   \n",
       "1  offer received  a03223e636434f42ac4c3df47e8bac43     0     NaN   \n",
       "2  offer received  e2127556f4f64592b11af22de27a7932     0     NaN   \n",
       "3  offer received  8ec6ce2a7e7949b1bf142def7d0e0586     0     NaN   \n",
       "4  offer received  68617ca6246f4fbc85e91a2a49552598     0     NaN   \n",
       "\n",
       "                           offer_id  reward  \n",
       "0  9b98b8c7a33c4b65b9aebfe6a799e6d9     NaN  \n",
       "1  0b1e1539f2cc45b7b9fa7c272da2e1d7     NaN  \n",
       "2  2906b810c7d4411798c6938adc9daaa5     NaN  \n",
       "3  fafdcd668e3743c1bb461111dcafc2a4     NaN  \n",
       "4  4d5c57ea9a6940dd891ad53e9dbe8da0     NaN  "
      ]
     },
     "execution_count": 29,
     "metadata": {},
     "output_type": "execute_result"
    }
   ],
   "source": [
    "transcript2.head()"
   ]
  },
  {
   "cell_type": "markdown",
   "metadata": {},
   "source": [
    "Even though it doesn't look like it, it is much better now.\n",
    "\n",
    "We will translate the 'event' column into numbers:"
   ]
  },
  {
   "cell_type": "code",
   "execution_count": 30,
   "metadata": {},
   "outputs": [],
   "source": [
    "event_dict = dict(zip(transcript2['event'].unique(), [0, 1, -1, 2]))\n",
    "# offer_dict = dict(zip(portfolio['id'], portfolio['offer_type']))\n",
    "\n",
    "# transcript2['offer_type'] = transcript2['offer_id'].apply(lambda x: 0 if x != x else offer_dict[x])\n",
    "transcript2['event_num'] = transcript2['event'].apply(lambda x: 0 if x != x else event_dict[x])"
   ]
  },
  {
   "cell_type": "markdown",
   "metadata": {},
   "source": [
    "We are now going to check for duplicates:"
   ]
  },
  {
   "cell_type": "code",
   "execution_count": 31,
   "metadata": {},
   "outputs": [
    {
     "name": "stdout",
     "output_type": "stream",
     "text": [
      "397\n"
     ]
    },
    {
     "data": {
      "text/html": [
       "<div>\n",
       "<style scoped>\n",
       "    .dataframe tbody tr th:only-of-type {\n",
       "        vertical-align: middle;\n",
       "    }\n",
       "\n",
       "    .dataframe tbody tr th {\n",
       "        vertical-align: top;\n",
       "    }\n",
       "\n",
       "    .dataframe thead th {\n",
       "        text-align: right;\n",
       "    }\n",
       "</style>\n",
       "<table border=\"1\" class=\"dataframe\">\n",
       "  <thead>\n",
       "    <tr style=\"text-align: right;\">\n",
       "      <th></th>\n",
       "      <th>event</th>\n",
       "      <th>id</th>\n",
       "      <th>time</th>\n",
       "      <th>amount</th>\n",
       "      <th>offer_id</th>\n",
       "      <th>reward</th>\n",
       "      <th>event_num</th>\n",
       "    </tr>\n",
       "  </thead>\n",
       "  <tbody>\n",
       "    <tr>\n",
       "      <th>66123</th>\n",
       "      <td>offer completed</td>\n",
       "      <td>3dde94fa581145cb9f206624f1a94d5a</td>\n",
       "      <td>168</td>\n",
       "      <td>NaN</td>\n",
       "      <td>2906b810c7d4411798c6938adc9daaa5</td>\n",
       "      <td>2.0</td>\n",
       "      <td>2</td>\n",
       "    </tr>\n",
       "    <tr>\n",
       "      <th>66783</th>\n",
       "      <td>offer completed</td>\n",
       "      <td>e9fb6ed2cecb4980ba98c86abc9c91e3</td>\n",
       "      <td>168</td>\n",
       "      <td>NaN</td>\n",
       "      <td>ae264e3637204a6fb9bb56bc8210ddfd</td>\n",
       "      <td>10.0</td>\n",
       "      <td>2</td>\n",
       "    </tr>\n",
       "    <tr>\n",
       "      <th>67614</th>\n",
       "      <td>offer completed</td>\n",
       "      <td>a7dc060f6fc94ca7bf71fbb188187dca</td>\n",
       "      <td>168</td>\n",
       "      <td>NaN</td>\n",
       "      <td>9b98b8c7a33c4b65b9aebfe6a799e6d9</td>\n",
       "      <td>5.0</td>\n",
       "      <td>2</td>\n",
       "    </tr>\n",
       "    <tr>\n",
       "      <th>68562</th>\n",
       "      <td>offer completed</td>\n",
       "      <td>30478a4c1e884a63a822aa87b833ed7a</td>\n",
       "      <td>168</td>\n",
       "      <td>NaN</td>\n",
       "      <td>2298d6c36e964ae4a3e7e9706d1fb8c2</td>\n",
       "      <td>3.0</td>\n",
       "      <td>2</td>\n",
       "    </tr>\n",
       "    <tr>\n",
       "      <th>69218</th>\n",
       "      <td>offer completed</td>\n",
       "      <td>84fb57a7fe8045a8bf6236738ee73a0f</td>\n",
       "      <td>168</td>\n",
       "      <td>NaN</td>\n",
       "      <td>ae264e3637204a6fb9bb56bc8210ddfd</td>\n",
       "      <td>10.0</td>\n",
       "      <td>2</td>\n",
       "    </tr>\n",
       "  </tbody>\n",
       "</table>\n",
       "</div>"
      ],
      "text/plain": [
       "                 event                                id  time  amount  \\\n",
       "66123  offer completed  3dde94fa581145cb9f206624f1a94d5a   168     NaN   \n",
       "66783  offer completed  e9fb6ed2cecb4980ba98c86abc9c91e3   168     NaN   \n",
       "67614  offer completed  a7dc060f6fc94ca7bf71fbb188187dca   168     NaN   \n",
       "68562  offer completed  30478a4c1e884a63a822aa87b833ed7a   168     NaN   \n",
       "69218  offer completed  84fb57a7fe8045a8bf6236738ee73a0f   168     NaN   \n",
       "\n",
       "                               offer_id  reward  event_num  \n",
       "66123  2906b810c7d4411798c6938adc9daaa5     2.0          2  \n",
       "66783  ae264e3637204a6fb9bb56bc8210ddfd    10.0          2  \n",
       "67614  9b98b8c7a33c4b65b9aebfe6a799e6d9     5.0          2  \n",
       "68562  2298d6c36e964ae4a3e7e9706d1fb8c2     3.0          2  \n",
       "69218  ae264e3637204a6fb9bb56bc8210ddfd    10.0          2  "
      ]
     },
     "execution_count": 31,
     "metadata": {},
     "output_type": "execute_result"
    }
   ],
   "source": [
    "print(len(transcript2[transcript2.duplicated()]))\n",
    "transcript2[transcript2.duplicated()].head()"
   ]
  },
  {
   "cell_type": "markdown",
   "metadata": {},
   "source": [
    "There are some... Let's put them face:"
   ]
  },
  {
   "cell_type": "code",
   "execution_count": 32,
   "metadata": {},
   "outputs": [
    {
     "data": {
      "text/html": [
       "<div>\n",
       "<style scoped>\n",
       "    .dataframe tbody tr th:only-of-type {\n",
       "        vertical-align: middle;\n",
       "    }\n",
       "\n",
       "    .dataframe tbody tr th {\n",
       "        vertical-align: top;\n",
       "    }\n",
       "\n",
       "    .dataframe thead th {\n",
       "        text-align: right;\n",
       "    }\n",
       "</style>\n",
       "<table border=\"1\" class=\"dataframe\">\n",
       "  <thead>\n",
       "    <tr style=\"text-align: right;\">\n",
       "      <th></th>\n",
       "      <th>event</th>\n",
       "      <th>id</th>\n",
       "      <th>time</th>\n",
       "      <th>amount</th>\n",
       "      <th>offer_id</th>\n",
       "      <th>reward</th>\n",
       "      <th>event_num</th>\n",
       "    </tr>\n",
       "  </thead>\n",
       "  <tbody>\n",
       "    <tr>\n",
       "      <th>1098</th>\n",
       "      <td>offer received</td>\n",
       "      <td>3dde94fa581145cb9f206624f1a94d5a</td>\n",
       "      <td>0</td>\n",
       "      <td>NaN</td>\n",
       "      <td>2906b810c7d4411798c6938adc9daaa5</td>\n",
       "      <td>NaN</td>\n",
       "      <td>0</td>\n",
       "    </tr>\n",
       "    <tr>\n",
       "      <th>54262</th>\n",
       "      <td>offer received</td>\n",
       "      <td>3dde94fa581145cb9f206624f1a94d5a</td>\n",
       "      <td>168</td>\n",
       "      <td>NaN</td>\n",
       "      <td>2906b810c7d4411798c6938adc9daaa5</td>\n",
       "      <td>NaN</td>\n",
       "      <td>0</td>\n",
       "    </tr>\n",
       "    <tr>\n",
       "      <th>66122</th>\n",
       "      <td>offer completed</td>\n",
       "      <td>3dde94fa581145cb9f206624f1a94d5a</td>\n",
       "      <td>168</td>\n",
       "      <td>NaN</td>\n",
       "      <td>2906b810c7d4411798c6938adc9daaa5</td>\n",
       "      <td>2.0</td>\n",
       "      <td>2</td>\n",
       "    </tr>\n",
       "    <tr>\n",
       "      <th>66123</th>\n",
       "      <td>offer completed</td>\n",
       "      <td>3dde94fa581145cb9f206624f1a94d5a</td>\n",
       "      <td>168</td>\n",
       "      <td>NaN</td>\n",
       "      <td>2906b810c7d4411798c6938adc9daaa5</td>\n",
       "      <td>2.0</td>\n",
       "      <td>2</td>\n",
       "    </tr>\n",
       "  </tbody>\n",
       "</table>\n",
       "</div>"
      ],
      "text/plain": [
       "                 event                                id  time  amount  \\\n",
       "1098    offer received  3dde94fa581145cb9f206624f1a94d5a     0     NaN   \n",
       "54262   offer received  3dde94fa581145cb9f206624f1a94d5a   168     NaN   \n",
       "66122  offer completed  3dde94fa581145cb9f206624f1a94d5a   168     NaN   \n",
       "66123  offer completed  3dde94fa581145cb9f206624f1a94d5a   168     NaN   \n",
       "\n",
       "                               offer_id  reward  event_num  \n",
       "1098   2906b810c7d4411798c6938adc9daaa5     NaN          0  \n",
       "54262  2906b810c7d4411798c6938adc9daaa5     NaN          0  \n",
       "66122  2906b810c7d4411798c6938adc9daaa5     2.0          2  \n",
       "66123  2906b810c7d4411798c6938adc9daaa5     2.0          2  "
      ]
     },
     "execution_count": 32,
     "metadata": {},
     "output_type": "execute_result"
    }
   ],
   "source": [
    "transcript2[(transcript2['offer_id'] == '2906b810c7d4411798c6938adc9daaa5')&\n",
    "            (transcript2['id'] == '3dde94fa581145cb9f206624f1a94d5a')]"
   ]
  },
  {
   "cell_type": "code",
   "execution_count": 33,
   "metadata": {},
   "outputs": [
    {
     "data": {
      "text/html": [
       "<div>\n",
       "<style scoped>\n",
       "    .dataframe tbody tr th:only-of-type {\n",
       "        vertical-align: middle;\n",
       "    }\n",
       "\n",
       "    .dataframe tbody tr th {\n",
       "        vertical-align: top;\n",
       "    }\n",
       "\n",
       "    .dataframe thead th {\n",
       "        text-align: right;\n",
       "    }\n",
       "</style>\n",
       "<table border=\"1\" class=\"dataframe\">\n",
       "  <thead>\n",
       "    <tr style=\"text-align: right;\">\n",
       "      <th></th>\n",
       "      <th>event</th>\n",
       "      <th>id</th>\n",
       "      <th>time</th>\n",
       "      <th>amount</th>\n",
       "      <th>offer_id</th>\n",
       "      <th>reward</th>\n",
       "      <th>event_num</th>\n",
       "    </tr>\n",
       "  </thead>\n",
       "  <tbody>\n",
       "    <tr>\n",
       "      <th>3258</th>\n",
       "      <td>offer received</td>\n",
       "      <td>e9fb6ed2cecb4980ba98c86abc9c91e3</td>\n",
       "      <td>0</td>\n",
       "      <td>NaN</td>\n",
       "      <td>ae264e3637204a6fb9bb56bc8210ddfd</td>\n",
       "      <td>NaN</td>\n",
       "      <td>0</td>\n",
       "    </tr>\n",
       "    <tr>\n",
       "      <th>41108</th>\n",
       "      <td>offer viewed</td>\n",
       "      <td>e9fb6ed2cecb4980ba98c86abc9c91e3</td>\n",
       "      <td>96</td>\n",
       "      <td>NaN</td>\n",
       "      <td>ae264e3637204a6fb9bb56bc8210ddfd</td>\n",
       "      <td>NaN</td>\n",
       "      <td>1</td>\n",
       "    </tr>\n",
       "    <tr>\n",
       "      <th>56494</th>\n",
       "      <td>offer received</td>\n",
       "      <td>e9fb6ed2cecb4980ba98c86abc9c91e3</td>\n",
       "      <td>168</td>\n",
       "      <td>NaN</td>\n",
       "      <td>ae264e3637204a6fb9bb56bc8210ddfd</td>\n",
       "      <td>NaN</td>\n",
       "      <td>0</td>\n",
       "    </tr>\n",
       "    <tr>\n",
       "      <th>66782</th>\n",
       "      <td>offer completed</td>\n",
       "      <td>e9fb6ed2cecb4980ba98c86abc9c91e3</td>\n",
       "      <td>168</td>\n",
       "      <td>NaN</td>\n",
       "      <td>ae264e3637204a6fb9bb56bc8210ddfd</td>\n",
       "      <td>10.0</td>\n",
       "      <td>2</td>\n",
       "    </tr>\n",
       "    <tr>\n",
       "      <th>66783</th>\n",
       "      <td>offer completed</td>\n",
       "      <td>e9fb6ed2cecb4980ba98c86abc9c91e3</td>\n",
       "      <td>168</td>\n",
       "      <td>NaN</td>\n",
       "      <td>ae264e3637204a6fb9bb56bc8210ddfd</td>\n",
       "      <td>10.0</td>\n",
       "      <td>2</td>\n",
       "    </tr>\n",
       "    <tr>\n",
       "      <th>81889</th>\n",
       "      <td>offer viewed</td>\n",
       "      <td>e9fb6ed2cecb4980ba98c86abc9c91e3</td>\n",
       "      <td>204</td>\n",
       "      <td>NaN</td>\n",
       "      <td>ae264e3637204a6fb9bb56bc8210ddfd</td>\n",
       "      <td>NaN</td>\n",
       "      <td>1</td>\n",
       "    </tr>\n",
       "  </tbody>\n",
       "</table>\n",
       "</div>"
      ],
      "text/plain": [
       "                 event                                id  time  amount  \\\n",
       "3258    offer received  e9fb6ed2cecb4980ba98c86abc9c91e3     0     NaN   \n",
       "41108     offer viewed  e9fb6ed2cecb4980ba98c86abc9c91e3    96     NaN   \n",
       "56494   offer received  e9fb6ed2cecb4980ba98c86abc9c91e3   168     NaN   \n",
       "66782  offer completed  e9fb6ed2cecb4980ba98c86abc9c91e3   168     NaN   \n",
       "66783  offer completed  e9fb6ed2cecb4980ba98c86abc9c91e3   168     NaN   \n",
       "81889     offer viewed  e9fb6ed2cecb4980ba98c86abc9c91e3   204     NaN   \n",
       "\n",
       "                               offer_id  reward  event_num  \n",
       "3258   ae264e3637204a6fb9bb56bc8210ddfd     NaN          0  \n",
       "41108  ae264e3637204a6fb9bb56bc8210ddfd     NaN          1  \n",
       "56494  ae264e3637204a6fb9bb56bc8210ddfd     NaN          0  \n",
       "66782  ae264e3637204a6fb9bb56bc8210ddfd    10.0          2  \n",
       "66783  ae264e3637204a6fb9bb56bc8210ddfd    10.0          2  \n",
       "81889  ae264e3637204a6fb9bb56bc8210ddfd     NaN          1  "
      ]
     },
     "execution_count": 33,
     "metadata": {},
     "output_type": "execute_result"
    }
   ],
   "source": [
    "transcript2[(transcript2['offer_id'] == 'ae264e3637204a6fb9bb56bc8210ddfd')&\n",
    "            (transcript2['id'] == 'e9fb6ed2cecb4980ba98c86abc9c91e3')]"
   ]
  },
  {
   "cell_type": "markdown",
   "metadata": {},
   "source": [
    "It seems that some users got several offers at differents momments, but they all got cancelled at the same time, and that is what this duplicates make reference to.\n",
    "\n",
    "Let's keep these values for now, and we will see how to deal with them later, if necessary.\n",
    "\n",
    "Now, we are going to check what do the informational offers look like within the transcript dataframe:"
   ]
  },
  {
   "cell_type": "code",
   "execution_count": 34,
   "metadata": {},
   "outputs": [
    {
     "name": "stdout",
     "output_type": "stream",
     "text": [
      "['offer received' 'offer viewed']\n",
      "[nan]\n",
      "26066\n"
     ]
    },
    {
     "data": {
      "text/html": [
       "<div>\n",
       "<style scoped>\n",
       "    .dataframe tbody tr th:only-of-type {\n",
       "        vertical-align: middle;\n",
       "    }\n",
       "\n",
       "    .dataframe tbody tr th {\n",
       "        vertical-align: top;\n",
       "    }\n",
       "\n",
       "    .dataframe thead th {\n",
       "        text-align: right;\n",
       "    }\n",
       "</style>\n",
       "<table border=\"1\" class=\"dataframe\">\n",
       "  <thead>\n",
       "    <tr style=\"text-align: right;\">\n",
       "      <th></th>\n",
       "      <th>event</th>\n",
       "      <th>id</th>\n",
       "      <th>time</th>\n",
       "      <th>amount</th>\n",
       "      <th>offer_id</th>\n",
       "      <th>reward</th>\n",
       "      <th>event_num</th>\n",
       "    </tr>\n",
       "  </thead>\n",
       "  <tbody>\n",
       "    <tr>\n",
       "      <th>7</th>\n",
       "      <td>offer received</td>\n",
       "      <td>2eeac8d8feae4a8cad5a6af0499a211d</td>\n",
       "      <td>0</td>\n",
       "      <td>NaN</td>\n",
       "      <td>3f207df678b143eea3cee63160fa8bed</td>\n",
       "      <td>NaN</td>\n",
       "      <td>0</td>\n",
       "    </tr>\n",
       "    <tr>\n",
       "      <th>13</th>\n",
       "      <td>offer received</td>\n",
       "      <td>c27e0d6ab72c455a8bb66d980963de60</td>\n",
       "      <td>0</td>\n",
       "      <td>NaN</td>\n",
       "      <td>3f207df678b143eea3cee63160fa8bed</td>\n",
       "      <td>NaN</td>\n",
       "      <td>0</td>\n",
       "    </tr>\n",
       "    <tr>\n",
       "      <th>31</th>\n",
       "      <td>offer received</td>\n",
       "      <td>be8a5d1981a2458d90b255ddc7e0d174</td>\n",
       "      <td>0</td>\n",
       "      <td>NaN</td>\n",
       "      <td>5a8bc65990b245e5a138643cd4eb9837</td>\n",
       "      <td>NaN</td>\n",
       "      <td>0</td>\n",
       "    </tr>\n",
       "    <tr>\n",
       "      <th>44</th>\n",
       "      <td>offer received</td>\n",
       "      <td>a5a6ef2b78a04ddc9f374dd7c7f60bff</td>\n",
       "      <td>0</td>\n",
       "      <td>NaN</td>\n",
       "      <td>5a8bc65990b245e5a138643cd4eb9837</td>\n",
       "      <td>NaN</td>\n",
       "      <td>0</td>\n",
       "    </tr>\n",
       "    <tr>\n",
       "      <th>53</th>\n",
       "      <td>offer received</td>\n",
       "      <td>6e04a90a0e074496b5f229eb1f553433</td>\n",
       "      <td>0</td>\n",
       "      <td>NaN</td>\n",
       "      <td>5a8bc65990b245e5a138643cd4eb9837</td>\n",
       "      <td>NaN</td>\n",
       "      <td>0</td>\n",
       "    </tr>\n",
       "  </tbody>\n",
       "</table>\n",
       "</div>"
      ],
      "text/plain": [
       "             event                                id  time  amount  \\\n",
       "7   offer received  2eeac8d8feae4a8cad5a6af0499a211d     0     NaN   \n",
       "13  offer received  c27e0d6ab72c455a8bb66d980963de60     0     NaN   \n",
       "31  offer received  be8a5d1981a2458d90b255ddc7e0d174     0     NaN   \n",
       "44  offer received  a5a6ef2b78a04ddc9f374dd7c7f60bff     0     NaN   \n",
       "53  offer received  6e04a90a0e074496b5f229eb1f553433     0     NaN   \n",
       "\n",
       "                            offer_id  reward  event_num  \n",
       "7   3f207df678b143eea3cee63160fa8bed     NaN          0  \n",
       "13  3f207df678b143eea3cee63160fa8bed     NaN          0  \n",
       "31  5a8bc65990b245e5a138643cd4eb9837     NaN          0  \n",
       "44  5a8bc65990b245e5a138643cd4eb9837     NaN          0  \n",
       "53  5a8bc65990b245e5a138643cd4eb9837     NaN          0  "
      ]
     },
     "execution_count": 34,
     "metadata": {},
     "output_type": "execute_result"
    }
   ],
   "source": [
    "informational_offers = transcript2[transcript2['offer_id'].isin(portfolio[portfolio['offer_type']=='informational']['id'])]\n",
    "\n",
    "print(informational_offers['event'].unique())\n",
    "print(informational_offers['reward'].unique())\n",
    "print(informational_offers['event'].count())\n",
    "informational_offers.head()"
   ]
  },
  {
   "cell_type": "markdown",
   "metadata": {},
   "source": [
    "As we can see, and accordingly with the spirit of those offers (just informational communications), not a single one of them has an associated 'offer completed' status nor a reward, meaning those offers cannot be completed.\n",
    "\n",
    "As we are interested in calculating percentage ratios or offers redeemed, it seems misleading to keep these kind of offers, that are not intended to neither cannot be redeemed, and perform calculations with them.\n",
    "\n",
    "Now we take the design decission of not bringing these offers into our models, and so, we will drop them:"
   ]
  },
  {
   "cell_type": "code",
   "execution_count": 35,
   "metadata": {},
   "outputs": [],
   "source": [
    "transcript2 = transcript2[~transcript2['offer_id'].isin(portfolio[portfolio['offer_type']=='informational']['id'])]"
   ]
  },
  {
   "cell_type": "markdown",
   "metadata": {},
   "source": [
    "Finally... It makes sense that the amount and offer_id present lots of values (in fact, where there is an amount there isn't an offer).\n",
    "\n",
    "This is because it has been packed together two kind of operations of different nature.\n",
    "\n",
    "Instead, some of the NaNs in the reward column make less sense. Those associated with an offer_id will be replaced by zeroes (but not those corresponding to transactions):"
   ]
  },
  {
   "cell_type": "code",
   "execution_count": 36,
   "metadata": {},
   "outputs": [],
   "source": [
    "non_null_offer_id_indexes = transcript2[~transcript2['offer_id'].isna()].index\n",
    "transcript2.loc[non_null_offer_id_indexes, 'reward'] = 0"
   ]
  },
  {
   "cell_type": "markdown",
   "metadata": {},
   "source": [
    "## 3) EDA"
   ]
  },
  {
   "cell_type": "markdown",
   "metadata": {},
   "source": [
    "<img src=\"images/detective.jpeg\" width = 500/>\n",
    "\n",
    "Up to this point, we have made some arrangements, which enable us to extract our first insights from the data.\n",
    "\n",
    "Thus, we will now perform now some light exploratory data analysis and present some visualizations.\n",
    "\n",
    "Firstly, we are going to plot the evolution of new monthly users. This is the reason we haven't dropped the users on the original table above:"
   ]
  },
  {
   "cell_type": "code",
   "execution_count": 37,
   "metadata": {},
   "outputs": [
    {
     "data": {
      "image/png": "[encoded data removed]",
      "text/plain": [
       "<Figure size 1080x360 with 1 Axes>"
      ]
     },
     "metadata": {
      "needs_background": "light"
     },
     "output_type": "display_data"
    }
   ],
   "source": [
    "monthly_new_users = profile.groupby(['year_bmo', 'month_bmo'])['age'].count().reset_index()\n",
    "monthly_new_users.rename({'age':'new_users_count'}, axis = 1, inplace = True)\n",
    "monthly_new_users['m/y'] = monthly_new_users['month_bmo'].apply(lambda x: str(x)) + '/' + monthly_new_users['year_bmo'].apply(lambda x: str(x))\n",
    "monthly_new_users.set_index('m/y', inplace = True)\n",
    "\n",
    "monthly_new_users['new_users_count'].plot(figsize = [15,5]);"
   ]
  },
  {
   "cell_type": "code",
   "execution_count": 38,
   "metadata": {},
   "outputs": [
    {
     "data": {
      "image/png": "[encoded data removed]",
      "text/plain": [
       "<Figure size 1080x360 with 1 Axes>"
      ]
     },
     "metadata": {
      "needs_background": "light"
     },
     "output_type": "display_data"
    }
   ],
   "source": [
    "monthly_new_users['7/2017':]['new_users_count'].plot(figsize = [15,5]);"
   ]
  },
  {
   "cell_type": "markdown",
   "metadata": {},
   "source": [
    "We can see that there have been four different phases in our customer base growth:\n",
    "\n",
    "* one initial phase, long ago, in which few people registered\n",
    "* one intermediate phase, from about year -3 to year -1, with bigger growth\n",
    "* continued by a phase of explosion\n",
    "* and a last phase of less great growth, but bigger than in phases 1 and 2\n",
    "\n",
    "We can see a clear spike or explosion in the number of new clients during our third phase from August of 2017 to January of 2018."
   ]
  },
  {
   "cell_type": "code",
   "execution_count": 39,
   "metadata": {},
   "outputs": [
    {
     "data": {
      "text/plain": [
       "<matplotlib.axes._subplots.AxesSubplot at 0x24839aac320>"
      ]
     },
     "execution_count": 39,
     "metadata": {},
     "output_type": "execute_result"
    },
    {
     "data": {
      "image/png": "[encoded data removed]",
      "text/plain": [
       "<Figure size 1080x360 with 1 Axes>"
      ]
     },
     "metadata": {
      "needs_background": "light"
     },
     "output_type": "display_data"
    }
   ],
   "source": [
    "monthly_new_users_bysex = profile.groupby(['year_bmo', 'month_bmo', 'gender'])['age'].count().reset_index()\n",
    "monthly_new_users_bysex.rename({'age':'new_users_count'}, axis = 1, inplace = True)\n",
    "monthly_new_users_bysex['m/y'] = monthly_new_users_bysex['month_bmo'].apply(lambda x: str(x)) + '/' + monthly_new_users_bysex['year_bmo'].apply(lambda x: str(x))\n",
    "monthly_new_users_bysex.set_index('m/y', inplace = True)\n",
    "monthly_new_users_bysex = monthly_new_users_bysex.pivot(columns = 'gender')\n",
    "monthly_new_users_bysex.sort_values([('year_bmo', 'M'), ('month_bmo', 'M')])['new_users_count'].fillna(0).plot()"
   ]
  },
  {
   "cell_type": "markdown",
   "metadata": {},
   "source": [
    "We can see that, appart from a period lasting from mid-2015 to mid-2017, consistently there were more males registering as new customers than females.\n",
    "\n",
    "We can also see that the people we don't have any information of is negligible, specially from mid-2015 on.\n",
    "\n",
    "Now, for the rest of our exploration, we will rely on our clean_profile dataframe, as in the original, there was a lot of information missing.\n",
    "\n",
    "<br>\n",
    "\n",
    "<img src='images/demography.png' width=400>\n",
    "\n",
    "<br>\n",
    "\n",
    "Let's take a look on our profiles, and examine the economic characteristics of our customer base:"
   ]
  },
  {
   "cell_type": "code",
   "execution_count": 40,
   "metadata": {
    "scrolled": true
   },
   "outputs": [
    {
     "data": {
      "text/plain": [
       "<matplotlib.axes._subplots.AxesSubplot at 0x24839af3550>"
      ]
     },
     "execution_count": 40,
     "metadata": {},
     "output_type": "execute_result"
    },
    {
     "data": {
      "image/png": "[encoded data removed]",
      "text/plain": [
       "<Figure size 1080x360 with 1 Axes>"
      ]
     },
     "metadata": {
      "needs_background": "light"
     },
     "output_type": "display_data"
    }
   ],
   "source": [
    "clean_profile.groupby('gender')['id'].count().plot(kind = 'bar', color=['b', 'orange', 'g'])"
   ]
  },
  {
   "cell_type": "markdown",
   "metadata": {},
   "source": [
    "We can see that, as we expected, there are more men than women registered as client."
   ]
  },
  {
   "cell_type": "code",
   "execution_count": 41,
   "metadata": {},
   "outputs": [
    {
     "data": {
      "image/png": "[encoded data removed]",
      "text/plain": [
       "<Figure size 1080x360 with 1 Axes>"
      ]
     },
     "metadata": {
      "needs_background": "light"
     },
     "output_type": "display_data"
    }
   ],
   "source": [
    "for value in clean_profile['gender'].unique():\n",
    "    sns.kdeplot(clean_profile[clean_profile['gender'] == value]['age'], label = value)"
   ]
  },
  {
   "cell_type": "markdown",
   "metadata": {},
   "source": [
    "The age distributions of our three genders in our dataset peak at around 60 years.\n",
    "\n",
    "Between the men, we can see a plateau around the age of 20, that will probably pull down their average age.\n",
    "\n",
    "Let's check our clients average ages:"
   ]
  },
  {
   "cell_type": "code",
   "execution_count": 42,
   "metadata": {},
   "outputs": [
    {
     "name": "stdout",
     "output_type": "stream",
     "text": [
      "gender\n",
      "F    57.544950\n",
      "M    52.116690\n",
      "O    54.400943\n",
      "Name: age, dtype: float64\n"
     ]
    },
    {
     "data": {
      "text/plain": [
       "<matplotlib.axes._subplots.AxesSubplot at 0x24839b57ba8>"
      ]
     },
     "execution_count": 42,
     "metadata": {},
     "output_type": "execute_result"
    },
    {
     "data": {
      "image/png": "[encoded data removed]",
      "text/plain": [
       "<Figure size 1080x360 with 1 Axes>"
      ]
     },
     "metadata": {
      "needs_background": "light"
     },
     "output_type": "display_data"
    }
   ],
   "source": [
    "age_per_gender_means = clean_profile.groupby('gender')['age'].mean()\n",
    "print(age_per_gender_means)\n",
    "age_per_gender_means.plot(kind='bar',  color=['b', 'orange', 'g'])"
   ]
  },
  {
   "cell_type": "markdown",
   "metadata": {},
   "source": [
    "As we suspected, average age of our consumers is just beneath 60 years old, and also we can see that the mean age value of men is slightly less than that of the other two groups."
   ]
  },
  {
   "cell_type": "code",
   "execution_count": 43,
   "metadata": {},
   "outputs": [
    {
     "data": {
      "image/png": "[encoded data removed]",
      "text/plain": [
       "<Figure size 1080x360 with 1 Axes>"
      ]
     },
     "metadata": {
      "needs_background": "light"
     },
     "output_type": "display_data"
    }
   ],
   "source": [
    "for value in clean_profile['gender'].unique():\n",
    "    sns.kdeplot(clean_profile[clean_profile['gender'] == value]['income'], label = value)"
   ]
  },
  {
   "cell_type": "markdown",
   "metadata": {},
   "source": [
    "We can see that, from our clients, females earn the most, the other, and then, the males."
   ]
  },
  {
   "cell_type": "code",
   "execution_count": 44,
   "metadata": {},
   "outputs": [
    {
     "name": "stdout",
     "output_type": "stream",
     "text": [
      "gender\n",
      "F    71306.412139\n",
      "M    61194.601603\n",
      "O    63287.735849\n",
      "Name: income, dtype: float64\n"
     ]
    },
    {
     "data": {
      "text/plain": [
       "<matplotlib.axes._subplots.AxesSubplot at 0x24839bb8b70>"
      ]
     },
     "execution_count": 44,
     "metadata": {},
     "output_type": "execute_result"
    },
    {
     "data": {
      "image/png": "[encoded data removed]",
      "text/plain": [
       "<Figure size 1080x360 with 1 Axes>"
      ]
     },
     "metadata": {
      "needs_background": "light"
     },
     "output_type": "display_data"
    }
   ],
   "source": [
    "income_per_gender_means = clean_profile.groupby('gender')['income'].mean()\n",
    "print(income_per_gender_means)\n",
    "income_per_gender_means.plot(kind='bar',  color=['b', 'orange', 'g'])"
   ]
  },
  {
   "cell_type": "markdown",
   "metadata": {},
   "source": [
    "Finally, let's check the distribution of incomes per age:"
   ]
  },
  {
   "cell_type": "code",
   "execution_count": 45,
   "metadata": {},
   "outputs": [
    {
     "data": {
      "text/plain": [
       "Text(0.5, 1.0, 'Income distribution by age')"
      ]
     },
     "execution_count": 45,
     "metadata": {},
     "output_type": "execute_result"
    },
    {
     "data": {
      "image/png": "[encoded data removed]",
      "text/plain": [
       "<Figure size 1080x360 with 1 Axes>"
      ]
     },
     "metadata": {
      "needs_background": "light"
     },
     "output_type": "display_data"
    }
   ],
   "source": [
    "plt.scatter(clean_profile['age'], clean_profile['income'], label = value)\n",
    "plt.title('Income distribution by age')"
   ]
  },
  {
   "cell_type": "markdown",
   "metadata": {},
   "source": [
    "Aha! Seems very clear that some kind of random algorithm was used to randomly assign incomes in the dataset, and that for different age groups, a different upper limit was stablished.\n",
    "\n",
    "...adding the sex to the equation:"
   ]
  },
  {
   "cell_type": "code",
   "execution_count": 46,
   "metadata": {},
   "outputs": [
    {
     "data": {
      "image/png": "[encoded data removed]",
      "text/plain": [
       "<Figure size 1080x360 with 1 Axes>"
      ]
     },
     "metadata": {
      "needs_background": "light"
     },
     "output_type": "display_data"
    }
   ],
   "source": [
    "for value in clean_profile['gender'].unique():\n",
    "    plt.scatter(clean_profile[clean_profile['gender'] == value]['age'],\n",
    "                clean_profile[clean_profile['gender'] == value]['income'],\n",
    "                label = value)\n",
    "    plt.legend()\n",
    "    plt.title('Income distribution by age and sex')"
   ]
  },
  {
   "cell_type": "markdown",
   "metadata": {},
   "source": [
    "...doesn't seem to change our results... but it seems clear that, as a result of this, a relationship exists between age and income."
   ]
  },
  {
   "cell_type": "code",
   "execution_count": 47,
   "metadata": {},
   "outputs": [
    {
     "data": {
      "text/plain": [
       "age\n",
       "36      92000.0\n",
       "37     100000.0\n",
       "48     119000.0\n",
       "99     111000.0\n",
       "100    118000.0\n",
       "Name: income, dtype: float64"
      ]
     },
     "execution_count": 47,
     "metadata": {},
     "output_type": "execute_result"
    }
   ],
   "source": [
    "max_inc_per_age = clean_profile.groupby('age')['income'].max()\n",
    "max_inc_per_age[max_inc_per_age.diff()>5000]"
   ]
  },
  {
   "cell_type": "code",
   "execution_count": 48,
   "metadata": {},
   "outputs": [
    {
     "data": {
      "text/plain": [
       "array([31000., 30000., 36000., 32000., 35000., 55000., 37000., 74000.,\n",
       "       42000., 43000.])"
      ]
     },
     "execution_count": 48,
     "metadata": {},
     "output_type": "execute_result"
    }
   ],
   "source": [
    "clean_profile.groupby('age')['income'].min().unique()"
   ]
  },
  {
   "cell_type": "markdown",
   "metadata": {},
   "source": [
    "We will create different categories based in this discovery:"
   ]
  },
  {
   "cell_type": "code",
   "execution_count": 49,
   "metadata": {
    "scrolled": true
   },
   "outputs": [
    {
     "name": "stderr",
     "output_type": "stream",
     "text": [
      "C:\\ProgramData\\Anaconda3\\lib\\site-packages\\ipykernel_launcher.py:1: SettingWithCopyWarning: \n",
      "A value is trying to be set on a copy of a slice from a DataFrame.\n",
      "Try using .loc[row_indexer,col_indexer] = value instead\n",
      "\n",
      "See the caveats in the documentation: http://pandas.pydata.org/pandas-docs/stable/indexing.html#indexing-view-versus-copy\n",
      "  \"\"\"Entry point for launching an IPython kernel.\n"
     ]
    }
   ],
   "source": [
    "clean_profile['age_group'] = clean_profile['age'].apply(lambda x: 'young' if x<36 else ('prime' if x<48 else 'wise'))"
   ]
  },
  {
   "cell_type": "markdown",
   "metadata": {},
   "source": [
    "Now, we can take a look at the different income distributions of the different groups:"
   ]
  },
  {
   "cell_type": "code",
   "execution_count": 50,
   "metadata": {},
   "outputs": [
    {
     "data": {
      "text/plain": [
       "age_group\n",
       "prime    58883.759275\n",
       "wise     70431.122195\n",
       "young    50844.566133\n",
       "Name: income, dtype: float64"
      ]
     },
     "execution_count": 50,
     "metadata": {},
     "output_type": "execute_result"
    }
   ],
   "source": [
    "clean_profile.groupby('age_group')['income'].mean()"
   ]
  },
  {
   "cell_type": "code",
   "execution_count": 51,
   "metadata": {},
   "outputs": [
    {
     "data": {
      "image/png": "[encoded data removed]",
      "text/plain": [
       "<Figure size 1080x360 with 1 Axes>"
      ]
     },
     "metadata": {
      "needs_background": "light"
     },
     "output_type": "display_data"
    }
   ],
   "source": [
    "a = sns.boxplot(clean_profile['income'], clean_profile['age_group'], orient = 'h')\n",
    "plt.title('Boxplot of income per age group');"
   ]
  },
  {
   "cell_type": "code",
   "execution_count": 52,
   "metadata": {},
   "outputs": [
    {
     "data": {
      "image/png": "[encoded data removed]",
      "text/plain": [
       "<Figure size 1080x360 with 1 Axes>"
      ]
     },
     "metadata": {
      "needs_background": "light"
     },
     "output_type": "display_data"
    }
   ],
   "source": [
    "for value in clean_profile['age_group'].unique():\n",
    "    sns.kdeplot(clean_profile[clean_profile['age_group'] == value]['income'], label = value)"
   ]
  },
  {
   "cell_type": "markdown",
   "metadata": {},
   "source": [
    "Now, let's check transactions: \n",
    "\n",
    "\n",
    "<img src='images/transactions.png' width = 200 align='left'>"
   ]
  },
  {
   "cell_type": "markdown",
   "metadata": {},
   "source": [
    "Let's see how much information we have per user:"
   ]
  },
  {
   "cell_type": "code",
   "execution_count": 53,
   "metadata": {},
   "outputs": [
    {
     "data": {
      "text/plain": [
       "id\n",
       "94de646f7b6041228ca7dec82adb97d2    51\n",
       "8dbfa485249f409aa223a2130f40634a    49\n",
       "79d9d4f86aca4bed9290350fb43817c2    48\n",
       "d0a80415b84c4df4908b8403b19765e3    48\n",
       "5e60c6aa3b834e44b822ea43a3efea26    48\n",
       "a42ed50acc4d4b25bca647c9e0b916ad    46\n",
       "b1f4ece7d49342628a9ed77aee2cde58    46\n",
       "28681c16026943e68f26feaccab0907f    46\n",
       "bd2cdd691aca4bb0a0e039979ee5de5c    46\n",
       "ab25fd6fbd5040f880751921e4029757    44\n",
       "Name: value, dtype: int64"
      ]
     },
     "execution_count": 53,
     "metadata": {},
     "output_type": "execute_result"
    }
   ],
   "source": [
    "total_offers_per_user = transcript.groupby(['id'])['value'].count().sort_values(ascending = False)\n",
    "total_offers_per_user.head(10)"
   ]
  },
  {
   "cell_type": "markdown",
   "metadata": {},
   "source": [
    "Let's see the distribution:"
   ]
  },
  {
   "cell_type": "code",
   "execution_count": 54,
   "metadata": {},
   "outputs": [
    {
     "data": {
      "image/png": "[encoded data removed]",
      "text/plain": [
       "<Figure size 1080x360 with 1 Axes>"
      ]
     },
     "metadata": {
      "needs_background": "light"
     },
     "output_type": "display_data"
    }
   ],
   "source": [
    "total_offers_per_user.plot(figsize = (15,5), use_index = False, title = 'Total number of offers per user');"
   ]
  },
  {
   "cell_type": "markdown",
   "metadata": {},
   "source": [
    "Let's check a couple of examples:"
   ]
  },
  {
   "cell_type": "code",
   "execution_count": 55,
   "metadata": {},
   "outputs": [
    {
     "data": {
      "text/html": [
       "<div>\n",
       "<style scoped>\n",
       "    .dataframe tbody tr th:only-of-type {\n",
       "        vertical-align: middle;\n",
       "    }\n",
       "\n",
       "    .dataframe tbody tr th {\n",
       "        vertical-align: top;\n",
       "    }\n",
       "\n",
       "    .dataframe thead th {\n",
       "        text-align: right;\n",
       "    }\n",
       "</style>\n",
       "<table border=\"1\" class=\"dataframe\">\n",
       "  <thead>\n",
       "    <tr style=\"text-align: right;\">\n",
       "      <th></th>\n",
       "      <th>event</th>\n",
       "      <th>id</th>\n",
       "      <th>time</th>\n",
       "      <th>amount</th>\n",
       "      <th>offer_id</th>\n",
       "      <th>reward</th>\n",
       "      <th>event_num</th>\n",
       "    </tr>\n",
       "  </thead>\n",
       "  <tbody>\n",
       "    <tr>\n",
       "      <th>2276</th>\n",
       "      <td>offer received</td>\n",
       "      <td>94de646f7b6041228ca7dec82adb97d2</td>\n",
       "      <td>0</td>\n",
       "      <td>NaN</td>\n",
       "      <td>f19421c1d4aa40978ebb69ca19b0e20d</td>\n",
       "      <td>0.0</td>\n",
       "      <td>0</td>\n",
       "    </tr>\n",
       "    <tr>\n",
       "      <th>16010</th>\n",
       "      <td>offer viewed</td>\n",
       "      <td>94de646f7b6041228ca7dec82adb97d2</td>\n",
       "      <td>6</td>\n",
       "      <td>NaN</td>\n",
       "      <td>f19421c1d4aa40978ebb69ca19b0e20d</td>\n",
       "      <td>0.0</td>\n",
       "      <td>1</td>\n",
       "    </tr>\n",
       "    <tr>\n",
       "      <th>24531</th>\n",
       "      <td>transaction</td>\n",
       "      <td>94de646f7b6041228ca7dec82adb97d2</td>\n",
       "      <td>30</td>\n",
       "      <td>7.41</td>\n",
       "      <td>NaN</td>\n",
       "      <td>NaN</td>\n",
       "      <td>-1</td>\n",
       "    </tr>\n",
       "    <tr>\n",
       "      <th>24532</th>\n",
       "      <td>offer completed</td>\n",
       "      <td>94de646f7b6041228ca7dec82adb97d2</td>\n",
       "      <td>30</td>\n",
       "      <td>NaN</td>\n",
       "      <td>f19421c1d4aa40978ebb69ca19b0e20d</td>\n",
       "      <td>0.0</td>\n",
       "      <td>2</td>\n",
       "    </tr>\n",
       "    <tr>\n",
       "      <th>42252</th>\n",
       "      <td>transaction</td>\n",
       "      <td>94de646f7b6041228ca7dec82adb97d2</td>\n",
       "      <td>102</td>\n",
       "      <td>1.47</td>\n",
       "      <td>NaN</td>\n",
       "      <td>NaN</td>\n",
       "      <td>-1</td>\n",
       "    </tr>\n",
       "    <tr>\n",
       "      <th>55475</th>\n",
       "      <td>offer received</td>\n",
       "      <td>94de646f7b6041228ca7dec82adb97d2</td>\n",
       "      <td>168</td>\n",
       "      <td>NaN</td>\n",
       "      <td>9b98b8c7a33c4b65b9aebfe6a799e6d9</td>\n",
       "      <td>0.0</td>\n",
       "      <td>0</td>\n",
       "    </tr>\n",
       "    <tr>\n",
       "      <th>75256</th>\n",
       "      <td>offer viewed</td>\n",
       "      <td>94de646f7b6041228ca7dec82adb97d2</td>\n",
       "      <td>186</td>\n",
       "      <td>NaN</td>\n",
       "      <td>9b98b8c7a33c4b65b9aebfe6a799e6d9</td>\n",
       "      <td>0.0</td>\n",
       "      <td>1</td>\n",
       "    </tr>\n",
       "    <tr>\n",
       "      <th>77624</th>\n",
       "      <td>transaction</td>\n",
       "      <td>94de646f7b6041228ca7dec82adb97d2</td>\n",
       "      <td>192</td>\n",
       "      <td>2.62</td>\n",
       "      <td>NaN</td>\n",
       "      <td>NaN</td>\n",
       "      <td>-1</td>\n",
       "    </tr>\n",
       "    <tr>\n",
       "      <th>81725</th>\n",
       "      <td>transaction</td>\n",
       "      <td>94de646f7b6041228ca7dec82adb97d2</td>\n",
       "      <td>204</td>\n",
       "      <td>0.59</td>\n",
       "      <td>NaN</td>\n",
       "      <td>NaN</td>\n",
       "      <td>-1</td>\n",
       "    </tr>\n",
       "    <tr>\n",
       "      <th>93913</th>\n",
       "      <td>transaction</td>\n",
       "      <td>94de646f7b6041228ca7dec82adb97d2</td>\n",
       "      <td>246</td>\n",
       "      <td>2.28</td>\n",
       "      <td>NaN</td>\n",
       "      <td>NaN</td>\n",
       "      <td>-1</td>\n",
       "    </tr>\n",
       "  </tbody>\n",
       "</table>\n",
       "</div>"
      ],
      "text/plain": [
       "                 event                                id  time  amount  \\\n",
       "2276    offer received  94de646f7b6041228ca7dec82adb97d2     0     NaN   \n",
       "16010     offer viewed  94de646f7b6041228ca7dec82adb97d2     6     NaN   \n",
       "24531      transaction  94de646f7b6041228ca7dec82adb97d2    30    7.41   \n",
       "24532  offer completed  94de646f7b6041228ca7dec82adb97d2    30     NaN   \n",
       "42252      transaction  94de646f7b6041228ca7dec82adb97d2   102    1.47   \n",
       "55475   offer received  94de646f7b6041228ca7dec82adb97d2   168     NaN   \n",
       "75256     offer viewed  94de646f7b6041228ca7dec82adb97d2   186     NaN   \n",
       "77624      transaction  94de646f7b6041228ca7dec82adb97d2   192    2.62   \n",
       "81725      transaction  94de646f7b6041228ca7dec82adb97d2   204    0.59   \n",
       "93913      transaction  94de646f7b6041228ca7dec82adb97d2   246    2.28   \n",
       "\n",
       "                               offer_id  reward  event_num  \n",
       "2276   f19421c1d4aa40978ebb69ca19b0e20d     0.0          0  \n",
       "16010  f19421c1d4aa40978ebb69ca19b0e20d     0.0          1  \n",
       "24531                               NaN     NaN         -1  \n",
       "24532  f19421c1d4aa40978ebb69ca19b0e20d     0.0          2  \n",
       "42252                               NaN     NaN         -1  \n",
       "55475  9b98b8c7a33c4b65b9aebfe6a799e6d9     0.0          0  \n",
       "75256  9b98b8c7a33c4b65b9aebfe6a799e6d9     0.0          1  \n",
       "77624                               NaN     NaN         -1  \n",
       "81725                               NaN     NaN         -1  \n",
       "93913                               NaN     NaN         -1  "
      ]
     },
     "execution_count": 55,
     "metadata": {},
     "output_type": "execute_result"
    }
   ],
   "source": [
    "transcript2[transcript2['id'] == total_offers_per_user.index[0]].sort_values('time').head(10)"
   ]
  },
  {
   "cell_type": "markdown",
   "metadata": {},
   "source": [
    "As we already knew, we have offers and transactions mixed.\n",
    "\n",
    "It will be better to separate both concepts in separate tables, for a nicer handling.\n",
    "\n",
    "We well check the information on the least represented customers:"
   ]
  },
  {
   "cell_type": "code",
   "execution_count": 56,
   "metadata": {},
   "outputs": [
    {
     "data": {
      "text/html": [
       "<div>\n",
       "<style scoped>\n",
       "    .dataframe tbody tr th:only-of-type {\n",
       "        vertical-align: middle;\n",
       "    }\n",
       "\n",
       "    .dataframe tbody tr th {\n",
       "        vertical-align: top;\n",
       "    }\n",
       "\n",
       "    .dataframe thead th {\n",
       "        text-align: right;\n",
       "    }\n",
       "</style>\n",
       "<table border=\"1\" class=\"dataframe\">\n",
       "  <thead>\n",
       "    <tr style=\"text-align: right;\">\n",
       "      <th></th>\n",
       "      <th>event</th>\n",
       "      <th>id</th>\n",
       "      <th>time</th>\n",
       "      <th>amount</th>\n",
       "      <th>offer_id</th>\n",
       "      <th>reward</th>\n",
       "      <th>event_num</th>\n",
       "    </tr>\n",
       "  </thead>\n",
       "  <tbody>\n",
       "    <tr>\n",
       "      <th>116832</th>\n",
       "      <td>offer received</td>\n",
       "      <td>1bfe13d2453c4185a6486c6817e0d568</td>\n",
       "      <td>336</td>\n",
       "      <td>NaN</td>\n",
       "      <td>ae264e3637204a6fb9bb56bc8210ddfd</td>\n",
       "      <td>0.0</td>\n",
       "      <td>0</td>\n",
       "    </tr>\n",
       "    <tr>\n",
       "      <th>144455</th>\n",
       "      <td>offer viewed</td>\n",
       "      <td>1bfe13d2453c4185a6486c6817e0d568</td>\n",
       "      <td>384</td>\n",
       "      <td>NaN</td>\n",
       "      <td>ae264e3637204a6fb9bb56bc8210ddfd</td>\n",
       "      <td>0.0</td>\n",
       "      <td>1</td>\n",
       "    </tr>\n",
       "    <tr>\n",
       "      <th>201981</th>\n",
       "      <td>offer received</td>\n",
       "      <td>22617705eec442e0b7b43e5c5f56fb17</td>\n",
       "      <td>504</td>\n",
       "      <td>NaN</td>\n",
       "      <td>f19421c1d4aa40978ebb69ca19b0e20d</td>\n",
       "      <td>0.0</td>\n",
       "      <td>0</td>\n",
       "    </tr>\n",
       "    <tr>\n",
       "      <th>214403</th>\n",
       "      <td>offer viewed</td>\n",
       "      <td>22617705eec442e0b7b43e5c5f56fb17</td>\n",
       "      <td>504</td>\n",
       "      <td>NaN</td>\n",
       "      <td>f19421c1d4aa40978ebb69ca19b0e20d</td>\n",
       "      <td>0.0</td>\n",
       "      <td>1</td>\n",
       "    </tr>\n",
       "    <tr>\n",
       "      <th>253904</th>\n",
       "      <td>offer received</td>\n",
       "      <td>3045af4e98794a04a5542d3eac939b1f</td>\n",
       "      <td>576</td>\n",
       "      <td>NaN</td>\n",
       "      <td>4d5c57ea9a6940dd891ad53e9dbe8da0</td>\n",
       "      <td>0.0</td>\n",
       "      <td>0</td>\n",
       "    </tr>\n",
       "    <tr>\n",
       "      <th>260855</th>\n",
       "      <td>offer viewed</td>\n",
       "      <td>3045af4e98794a04a5542d3eac939b1f</td>\n",
       "      <td>576</td>\n",
       "      <td>NaN</td>\n",
       "      <td>4d5c57ea9a6940dd891ad53e9dbe8da0</td>\n",
       "      <td>0.0</td>\n",
       "      <td>1</td>\n",
       "    </tr>\n",
       "    <tr>\n",
       "      <th>112524</th>\n",
       "      <td>offer received</td>\n",
       "      <td>3a4e53046c544134bb1e7782248631d1</td>\n",
       "      <td>336</td>\n",
       "      <td>NaN</td>\n",
       "      <td>9b98b8c7a33c4b65b9aebfe6a799e6d9</td>\n",
       "      <td>0.0</td>\n",
       "      <td>0</td>\n",
       "    </tr>\n",
       "    <tr>\n",
       "      <th>203287</th>\n",
       "      <td>offer received</td>\n",
       "      <td>3a4e53046c544134bb1e7782248631d1</td>\n",
       "      <td>504</td>\n",
       "      <td>NaN</td>\n",
       "      <td>9b98b8c7a33c4b65b9aebfe6a799e6d9</td>\n",
       "      <td>0.0</td>\n",
       "      <td>0</td>\n",
       "    </tr>\n",
       "    <tr>\n",
       "      <th>249251</th>\n",
       "      <td>offer received</td>\n",
       "      <td>912b9f623b9e4b4eb99b6dc919f09a93</td>\n",
       "      <td>576</td>\n",
       "      <td>NaN</td>\n",
       "      <td>4d5c57ea9a6940dd891ad53e9dbe8da0</td>\n",
       "      <td>0.0</td>\n",
       "      <td>0</td>\n",
       "    </tr>\n",
       "    <tr>\n",
       "      <th>269722</th>\n",
       "      <td>offer viewed</td>\n",
       "      <td>912b9f623b9e4b4eb99b6dc919f09a93</td>\n",
       "      <td>594</td>\n",
       "      <td>NaN</td>\n",
       "      <td>4d5c57ea9a6940dd891ad53e9dbe8da0</td>\n",
       "      <td>0.0</td>\n",
       "      <td>1</td>\n",
       "    </tr>\n",
       "    <tr>\n",
       "      <th>159562</th>\n",
       "      <td>offer received</td>\n",
       "      <td>afd41b230f924f9ca8f5ed6249616114</td>\n",
       "      <td>408</td>\n",
       "      <td>NaN</td>\n",
       "      <td>0b1e1539f2cc45b7b9fa7c272da2e1d7</td>\n",
       "      <td>0.0</td>\n",
       "      <td>0</td>\n",
       "    </tr>\n",
       "    <tr>\n",
       "      <th>254042</th>\n",
       "      <td>offer received</td>\n",
       "      <td>afd41b230f924f9ca8f5ed6249616114</td>\n",
       "      <td>576</td>\n",
       "      <td>NaN</td>\n",
       "      <td>ae264e3637204a6fb9bb56bc8210ddfd</td>\n",
       "      <td>0.0</td>\n",
       "      <td>0</td>\n",
       "    </tr>\n",
       "    <tr>\n",
       "      <th>161100</th>\n",
       "      <td>offer received</td>\n",
       "      <td>cae5e211053f4121a389a7da4d631f7f</td>\n",
       "      <td>408</td>\n",
       "      <td>NaN</td>\n",
       "      <td>fafdcd668e3743c1bb461111dcafc2a4</td>\n",
       "      <td>0.0</td>\n",
       "      <td>0</td>\n",
       "    </tr>\n",
       "    <tr>\n",
       "      <th>173847</th>\n",
       "      <td>offer viewed</td>\n",
       "      <td>cae5e211053f4121a389a7da4d631f7f</td>\n",
       "      <td>420</td>\n",
       "      <td>NaN</td>\n",
       "      <td>fafdcd668e3743c1bb461111dcafc2a4</td>\n",
       "      <td>0.0</td>\n",
       "      <td>1</td>\n",
       "    </tr>\n",
       "    <tr>\n",
       "      <th>263150</th>\n",
       "      <td>transaction</td>\n",
       "      <td>da7a7c0dcfcb41a8acc7864a53cf60fb</td>\n",
       "      <td>582</td>\n",
       "      <td>0.35</td>\n",
       "      <td>NaN</td>\n",
       "      <td>NaN</td>\n",
       "      <td>-1</td>\n",
       "    </tr>\n",
       "    <tr>\n",
       "      <th>56114</th>\n",
       "      <td>offer received</td>\n",
       "      <td>df9fc9a86ca84ef5aedde8925d5838ba</td>\n",
       "      <td>168</td>\n",
       "      <td>NaN</td>\n",
       "      <td>2906b810c7d4411798c6938adc9daaa5</td>\n",
       "      <td>0.0</td>\n",
       "      <td>0</td>\n",
       "    </tr>\n",
       "    <tr>\n",
       "      <th>162890</th>\n",
       "      <td>offer received</td>\n",
       "      <td>e63e42480aae4ede9f07cac49c8c3f78</td>\n",
       "      <td>408</td>\n",
       "      <td>NaN</td>\n",
       "      <td>2906b810c7d4411798c6938adc9daaa5</td>\n",
       "      <td>0.0</td>\n",
       "      <td>0</td>\n",
       "    </tr>\n",
       "    <tr>\n",
       "      <th>257415</th>\n",
       "      <td>offer received</td>\n",
       "      <td>e63e42480aae4ede9f07cac49c8c3f78</td>\n",
       "      <td>576</td>\n",
       "      <td>NaN</td>\n",
       "      <td>2906b810c7d4411798c6938adc9daaa5</td>\n",
       "      <td>0.0</td>\n",
       "      <td>0</td>\n",
       "    </tr>\n",
       "    <tr>\n",
       "      <th>201922</th>\n",
       "      <td>offer received</td>\n",
       "      <td>fccc9279ba56411f80ffe8ce7e0935cd</td>\n",
       "      <td>504</td>\n",
       "      <td>NaN</td>\n",
       "      <td>2906b810c7d4411798c6938adc9daaa5</td>\n",
       "      <td>0.0</td>\n",
       "      <td>0</td>\n",
       "    </tr>\n",
       "    <tr>\n",
       "      <th>232509</th>\n",
       "      <td>offer viewed</td>\n",
       "      <td>fccc9279ba56411f80ffe8ce7e0935cd</td>\n",
       "      <td>534</td>\n",
       "      <td>NaN</td>\n",
       "      <td>2906b810c7d4411798c6938adc9daaa5</td>\n",
       "      <td>0.0</td>\n",
       "      <td>1</td>\n",
       "    </tr>\n",
       "  </tbody>\n",
       "</table>\n",
       "</div>"
      ],
      "text/plain": [
       "                 event                                id  time  amount  \\\n",
       "116832  offer received  1bfe13d2453c4185a6486c6817e0d568   336     NaN   \n",
       "144455    offer viewed  1bfe13d2453c4185a6486c6817e0d568   384     NaN   \n",
       "201981  offer received  22617705eec442e0b7b43e5c5f56fb17   504     NaN   \n",
       "214403    offer viewed  22617705eec442e0b7b43e5c5f56fb17   504     NaN   \n",
       "253904  offer received  3045af4e98794a04a5542d3eac939b1f   576     NaN   \n",
       "260855    offer viewed  3045af4e98794a04a5542d3eac939b1f   576     NaN   \n",
       "112524  offer received  3a4e53046c544134bb1e7782248631d1   336     NaN   \n",
       "203287  offer received  3a4e53046c544134bb1e7782248631d1   504     NaN   \n",
       "249251  offer received  912b9f623b9e4b4eb99b6dc919f09a93   576     NaN   \n",
       "269722    offer viewed  912b9f623b9e4b4eb99b6dc919f09a93   594     NaN   \n",
       "159562  offer received  afd41b230f924f9ca8f5ed6249616114   408     NaN   \n",
       "254042  offer received  afd41b230f924f9ca8f5ed6249616114   576     NaN   \n",
       "161100  offer received  cae5e211053f4121a389a7da4d631f7f   408     NaN   \n",
       "173847    offer viewed  cae5e211053f4121a389a7da4d631f7f   420     NaN   \n",
       "263150     transaction  da7a7c0dcfcb41a8acc7864a53cf60fb   582    0.35   \n",
       "56114   offer received  df9fc9a86ca84ef5aedde8925d5838ba   168     NaN   \n",
       "162890  offer received  e63e42480aae4ede9f07cac49c8c3f78   408     NaN   \n",
       "257415  offer received  e63e42480aae4ede9f07cac49c8c3f78   576     NaN   \n",
       "201922  offer received  fccc9279ba56411f80ffe8ce7e0935cd   504     NaN   \n",
       "232509    offer viewed  fccc9279ba56411f80ffe8ce7e0935cd   534     NaN   \n",
       "\n",
       "                                offer_id  reward  event_num  \n",
       "116832  ae264e3637204a6fb9bb56bc8210ddfd     0.0          0  \n",
       "144455  ae264e3637204a6fb9bb56bc8210ddfd     0.0          1  \n",
       "201981  f19421c1d4aa40978ebb69ca19b0e20d     0.0          0  \n",
       "214403  f19421c1d4aa40978ebb69ca19b0e20d     0.0          1  \n",
       "253904  4d5c57ea9a6940dd891ad53e9dbe8da0     0.0          0  \n",
       "260855  4d5c57ea9a6940dd891ad53e9dbe8da0     0.0          1  \n",
       "112524  9b98b8c7a33c4b65b9aebfe6a799e6d9     0.0          0  \n",
       "203287  9b98b8c7a33c4b65b9aebfe6a799e6d9     0.0          0  \n",
       "249251  4d5c57ea9a6940dd891ad53e9dbe8da0     0.0          0  \n",
       "269722  4d5c57ea9a6940dd891ad53e9dbe8da0     0.0          1  \n",
       "159562  0b1e1539f2cc45b7b9fa7c272da2e1d7     0.0          0  \n",
       "254042  ae264e3637204a6fb9bb56bc8210ddfd     0.0          0  \n",
       "161100  fafdcd668e3743c1bb461111dcafc2a4     0.0          0  \n",
       "173847  fafdcd668e3743c1bb461111dcafc2a4     0.0          1  \n",
       "263150                               NaN     NaN         -1  \n",
       "56114   2906b810c7d4411798c6938adc9daaa5     0.0          0  \n",
       "162890  2906b810c7d4411798c6938adc9daaa5     0.0          0  \n",
       "257415  2906b810c7d4411798c6938adc9daaa5     0.0          0  \n",
       "201922  2906b810c7d4411798c6938adc9daaa5     0.0          0  \n",
       "232509  2906b810c7d4411798c6938adc9daaa5     0.0          1  "
      ]
     },
     "execution_count": 56,
     "metadata": {},
     "output_type": "execute_result"
    }
   ],
   "source": [
    "transcript2[transcript2['id'].isin(total_offers_per_user[total_offers_per_user <= 2].index)].sort_values(['id', 'time'])"
   ]
  },
  {
   "cell_type": "markdown",
   "metadata": {},
   "source": [
    "In this case, we can see that, from the tail of the distributions, there are a lot of offers but just one transaction.\n",
    "\n",
    "We are now segregating the our transcript dataframe into transactions and offers: "
   ]
  },
  {
   "cell_type": "code",
   "execution_count": 57,
   "metadata": {},
   "outputs": [
    {
     "name": "stderr",
     "output_type": "stream",
     "text": [
      "C:\\ProgramData\\Anaconda3\\lib\\site-packages\\pandas\\core\\frame.py:3940: SettingWithCopyWarning: \n",
      "A value is trying to be set on a copy of a slice from a DataFrame\n",
      "\n",
      "See the caveats in the documentation: http://pandas.pydata.org/pandas-docs/stable/indexing.html#indexing-view-versus-copy\n",
      "  errors=errors)\n"
     ]
    },
    {
     "data": {
      "text/html": [
       "<div>\n",
       "<style scoped>\n",
       "    .dataframe tbody tr th:only-of-type {\n",
       "        vertical-align: middle;\n",
       "    }\n",
       "\n",
       "    .dataframe tbody tr th {\n",
       "        vertical-align: top;\n",
       "    }\n",
       "\n",
       "    .dataframe thead th {\n",
       "        text-align: right;\n",
       "    }\n",
       "</style>\n",
       "<table border=\"1\" class=\"dataframe\">\n",
       "  <thead>\n",
       "    <tr style=\"text-align: right;\">\n",
       "      <th></th>\n",
       "      <th>event</th>\n",
       "      <th>id</th>\n",
       "      <th>time</th>\n",
       "      <th>amount</th>\n",
       "      <th>event_num</th>\n",
       "    </tr>\n",
       "  </thead>\n",
       "  <tbody>\n",
       "    <tr>\n",
       "      <th>12654</th>\n",
       "      <td>transaction</td>\n",
       "      <td>02c083884c7d45b39cc68e1314fec56c</td>\n",
       "      <td>0</td>\n",
       "      <td>0.83</td>\n",
       "      <td>-1</td>\n",
       "    </tr>\n",
       "    <tr>\n",
       "      <th>12657</th>\n",
       "      <td>transaction</td>\n",
       "      <td>9fa9ae8f57894cc9a3b8a9bbe0fc1b2f</td>\n",
       "      <td>0</td>\n",
       "      <td>34.56</td>\n",
       "      <td>-1</td>\n",
       "    </tr>\n",
       "    <tr>\n",
       "      <th>12659</th>\n",
       "      <td>transaction</td>\n",
       "      <td>54890f68699049c2a04d415abc25e717</td>\n",
       "      <td>0</td>\n",
       "      <td>13.23</td>\n",
       "      <td>-1</td>\n",
       "    </tr>\n",
       "    <tr>\n",
       "      <th>12670</th>\n",
       "      <td>transaction</td>\n",
       "      <td>b2f1cd155b864803ad8334cdf13c4bd2</td>\n",
       "      <td>0</td>\n",
       "      <td>19.51</td>\n",
       "      <td>-1</td>\n",
       "    </tr>\n",
       "    <tr>\n",
       "      <th>12671</th>\n",
       "      <td>transaction</td>\n",
       "      <td>fe97aa22dd3e48c8b143116a8403dd52</td>\n",
       "      <td>0</td>\n",
       "      <td>18.97</td>\n",
       "      <td>-1</td>\n",
       "    </tr>\n",
       "  </tbody>\n",
       "</table>\n",
       "</div>"
      ],
      "text/plain": [
       "             event                                id  time  amount  event_num\n",
       "12654  transaction  02c083884c7d45b39cc68e1314fec56c     0    0.83         -1\n",
       "12657  transaction  9fa9ae8f57894cc9a3b8a9bbe0fc1b2f     0   34.56         -1\n",
       "12659  transaction  54890f68699049c2a04d415abc25e717     0   13.23         -1\n",
       "12670  transaction  b2f1cd155b864803ad8334cdf13c4bd2     0   19.51         -1\n",
       "12671  transaction  fe97aa22dd3e48c8b143116a8403dd52     0   18.97         -1"
      ]
     },
     "execution_count": 57,
     "metadata": {},
     "output_type": "execute_result"
    }
   ],
   "source": [
    "transactions = transcript2[~transcript2['amount'].isna()]\n",
    "transactions.drop(['offer_id', 'reward'], axis = 1, inplace = True)\n",
    "transactions.head()"
   ]
  },
  {
   "cell_type": "code",
   "execution_count": 58,
   "metadata": {},
   "outputs": [
    {
     "data": {
      "text/html": [
       "<div>\n",
       "<style scoped>\n",
       "    .dataframe tbody tr th:only-of-type {\n",
       "        vertical-align: middle;\n",
       "    }\n",
       "\n",
       "    .dataframe tbody tr th {\n",
       "        vertical-align: top;\n",
       "    }\n",
       "\n",
       "    .dataframe thead th {\n",
       "        text-align: right;\n",
       "    }\n",
       "</style>\n",
       "<table border=\"1\" class=\"dataframe\">\n",
       "  <thead>\n",
       "    <tr style=\"text-align: right;\">\n",
       "      <th></th>\n",
       "      <th>event</th>\n",
       "      <th>id</th>\n",
       "      <th>time</th>\n",
       "      <th>offer_id</th>\n",
       "      <th>reward</th>\n",
       "      <th>event_num</th>\n",
       "    </tr>\n",
       "  </thead>\n",
       "  <tbody>\n",
       "    <tr>\n",
       "      <th>0</th>\n",
       "      <td>offer received</td>\n",
       "      <td>78afa995795e4d85b5d9ceeca43f5fef</td>\n",
       "      <td>0</td>\n",
       "      <td>9b98b8c7a33c4b65b9aebfe6a799e6d9</td>\n",
       "      <td>0.0</td>\n",
       "      <td>0</td>\n",
       "    </tr>\n",
       "    <tr>\n",
       "      <th>1</th>\n",
       "      <td>offer received</td>\n",
       "      <td>a03223e636434f42ac4c3df47e8bac43</td>\n",
       "      <td>0</td>\n",
       "      <td>0b1e1539f2cc45b7b9fa7c272da2e1d7</td>\n",
       "      <td>0.0</td>\n",
       "      <td>0</td>\n",
       "    </tr>\n",
       "    <tr>\n",
       "      <th>2</th>\n",
       "      <td>offer received</td>\n",
       "      <td>e2127556f4f64592b11af22de27a7932</td>\n",
       "      <td>0</td>\n",
       "      <td>2906b810c7d4411798c6938adc9daaa5</td>\n",
       "      <td>0.0</td>\n",
       "      <td>0</td>\n",
       "    </tr>\n",
       "    <tr>\n",
       "      <th>3</th>\n",
       "      <td>offer received</td>\n",
       "      <td>8ec6ce2a7e7949b1bf142def7d0e0586</td>\n",
       "      <td>0</td>\n",
       "      <td>fafdcd668e3743c1bb461111dcafc2a4</td>\n",
       "      <td>0.0</td>\n",
       "      <td>0</td>\n",
       "    </tr>\n",
       "    <tr>\n",
       "      <th>4</th>\n",
       "      <td>offer received</td>\n",
       "      <td>68617ca6246f4fbc85e91a2a49552598</td>\n",
       "      <td>0</td>\n",
       "      <td>4d5c57ea9a6940dd891ad53e9dbe8da0</td>\n",
       "      <td>0.0</td>\n",
       "      <td>0</td>\n",
       "    </tr>\n",
       "  </tbody>\n",
       "</table>\n",
       "</div>"
      ],
      "text/plain": [
       "            event                                id  time  \\\n",
       "0  offer received  78afa995795e4d85b5d9ceeca43f5fef     0   \n",
       "1  offer received  a03223e636434f42ac4c3df47e8bac43     0   \n",
       "2  offer received  e2127556f4f64592b11af22de27a7932     0   \n",
       "3  offer received  8ec6ce2a7e7949b1bf142def7d0e0586     0   \n",
       "4  offer received  68617ca6246f4fbc85e91a2a49552598     0   \n",
       "\n",
       "                           offer_id  reward  event_num  \n",
       "0  9b98b8c7a33c4b65b9aebfe6a799e6d9     0.0          0  \n",
       "1  0b1e1539f2cc45b7b9fa7c272da2e1d7     0.0          0  \n",
       "2  2906b810c7d4411798c6938adc9daaa5     0.0          0  \n",
       "3  fafdcd668e3743c1bb461111dcafc2a4     0.0          0  \n",
       "4  4d5c57ea9a6940dd891ad53e9dbe8da0     0.0          0  "
      ]
     },
     "execution_count": 58,
     "metadata": {},
     "output_type": "execute_result"
    }
   ],
   "source": [
    "offers = transcript2[~transcript2['offer_id'].isna()]\n",
    "offers.drop('amount', axis = 1, inplace = True)\n",
    "offers.head()"
   ]
  },
  {
   "cell_type": "markdown",
   "metadata": {},
   "source": [
    "So, now, let's go back to extracting insights.\n",
    "\n",
    "First, we will group to see the total amount spent by each user, it maximum, mean, and the distribution of amounts of the top 100 spenders:"
   ]
  },
  {
   "cell_type": "code",
   "execution_count": 59,
   "metadata": {},
   "outputs": [
    {
     "name": "stdout",
     "output_type": "stream",
     "text": [
      "1608.69\n",
      "107.0968735673784\n"
     ]
    },
    {
     "data": {
      "text/html": [
       "<div>\n",
       "<style scoped>\n",
       "    .dataframe tbody tr th:only-of-type {\n",
       "        vertical-align: middle;\n",
       "    }\n",
       "\n",
       "    .dataframe tbody tr th {\n",
       "        vertical-align: top;\n",
       "    }\n",
       "\n",
       "    .dataframe thead th {\n",
       "        text-align: right;\n",
       "    }\n",
       "</style>\n",
       "<table border=\"1\" class=\"dataframe\">\n",
       "  <thead>\n",
       "    <tr style=\"text-align: right;\">\n",
       "      <th></th>\n",
       "      <th>id</th>\n",
       "      <th>amount</th>\n",
       "    </tr>\n",
       "  </thead>\n",
       "  <tbody>\n",
       "    <tr>\n",
       "      <th>3929</th>\n",
       "      <td>3c8d541112a74af99e88abbd0692f00e</td>\n",
       "      <td>1608.69</td>\n",
       "    </tr>\n",
       "    <tr>\n",
       "      <th>15693</th>\n",
       "      <td>f1d65ae63f174b8f80fa063adcaa63b7</td>\n",
       "      <td>1365.66</td>\n",
       "    </tr>\n",
       "    <tr>\n",
       "      <th>11422</th>\n",
       "      <td>ae6f43089b674728a50b8727252d3305</td>\n",
       "      <td>1327.74</td>\n",
       "    </tr>\n",
       "    <tr>\n",
       "      <th>6366</th>\n",
       "      <td>626df8678e2a4953b9098246418c9cfa</td>\n",
       "      <td>1321.42</td>\n",
       "    </tr>\n",
       "    <tr>\n",
       "      <th>7492</th>\n",
       "      <td>73afdeca19e349b98f09e928644610f8</td>\n",
       "      <td>1319.97</td>\n",
       "    </tr>\n",
       "    <tr>\n",
       "      <th>5358</th>\n",
       "      <td>52959f19113e4241a8cb3bef486c6412</td>\n",
       "      <td>1292.86</td>\n",
       "    </tr>\n",
       "    <tr>\n",
       "      <th>11334</th>\n",
       "      <td>ad1f0a409ae642bc9a43f31f56c130fc</td>\n",
       "      <td>1258.19</td>\n",
       "    </tr>\n",
       "    <tr>\n",
       "      <th>13672</th>\n",
       "      <td>d240308de0ee4cf8bb6072816268582b</td>\n",
       "      <td>1251.99</td>\n",
       "    </tr>\n",
       "    <tr>\n",
       "      <th>9673</th>\n",
       "      <td>946fc0d3ecc4492aa4cc06cf6b1492c3</td>\n",
       "      <td>1232.40</td>\n",
       "    </tr>\n",
       "    <tr>\n",
       "      <th>6484</th>\n",
       "      <td>6406abad8e2c4b8584e4f68003de148d</td>\n",
       "      <td>1211.76</td>\n",
       "    </tr>\n",
       "  </tbody>\n",
       "</table>\n",
       "</div>"
      ],
      "text/plain": [
       "                                     id   amount\n",
       "3929   3c8d541112a74af99e88abbd0692f00e  1608.69\n",
       "15693  f1d65ae63f174b8f80fa063adcaa63b7  1365.66\n",
       "11422  ae6f43089b674728a50b8727252d3305  1327.74\n",
       "6366   626df8678e2a4953b9098246418c9cfa  1321.42\n",
       "7492   73afdeca19e349b98f09e928644610f8  1319.97\n",
       "5358   52959f19113e4241a8cb3bef486c6412  1292.86\n",
       "11334  ad1f0a409ae642bc9a43f31f56c130fc  1258.19\n",
       "13672  d240308de0ee4cf8bb6072816268582b  1251.99\n",
       "9673   946fc0d3ecc4492aa4cc06cf6b1492c3  1232.40\n",
       "6484   6406abad8e2c4b8584e4f68003de148d  1211.76"
      ]
     },
     "execution_count": 59,
     "metadata": {},
     "output_type": "execute_result"
    }
   ],
   "source": [
    "spend_per_user = transactions.groupby('id')['amount'].sum().reset_index().sort_values('amount', ascending = False)\n",
    "print(spend_per_user['amount'].max())\n",
    "print(spend_per_user['amount'].mean())\n",
    "spend_per_user.head(10)"
   ]
  },
  {
   "cell_type": "code",
   "execution_count": 60,
   "metadata": {},
   "outputs": [
    {
     "data": {
      "image/png": "[encoded data removed]",
      "text/plain": [
       "<Figure size 1080x360 with 1 Axes>"
      ]
     },
     "metadata": {
      "needs_background": "light"
     },
     "output_type": "display_data"
    }
   ],
   "source": [
    "plt.bar(range(0,100), spend_per_user[:100]['amount'])\n",
    "plt.ylim(ymax = spend_per_user['amount'].max(), ymin = 0)\n",
    "plt.title('Top 100 spenders');"
   ]
  },
  {
   "cell_type": "markdown",
   "metadata": {},
   "source": [
    "Now, let's do the analogous with the offers received by each user (without the informational emails):"
   ]
  },
  {
   "cell_type": "code",
   "execution_count": 61,
   "metadata": {},
   "outputs": [
    {
     "data": {
      "text/html": [
       "<div>\n",
       "<style scoped>\n",
       "    .dataframe tbody tr th:only-of-type {\n",
       "        vertical-align: middle;\n",
       "    }\n",
       "\n",
       "    .dataframe tbody tr th {\n",
       "        vertical-align: top;\n",
       "    }\n",
       "\n",
       "    .dataframe thead th {\n",
       "        text-align: right;\n",
       "    }\n",
       "</style>\n",
       "<table border=\"1\" class=\"dataframe\">\n",
       "  <thead>\n",
       "    <tr style=\"text-align: right;\">\n",
       "      <th></th>\n",
       "      <th>id</th>\n",
       "      <th>offer_id</th>\n",
       "    </tr>\n",
       "  </thead>\n",
       "  <tbody>\n",
       "    <tr>\n",
       "      <th>16927</th>\n",
       "      <td>ffff82501cea40309d5fdd7edcca4a07</td>\n",
       "      <td>6</td>\n",
       "    </tr>\n",
       "    <tr>\n",
       "      <th>8837</th>\n",
       "      <td>8582150967d2440e93a857b4ef460f43</td>\n",
       "      <td>6</td>\n",
       "    </tr>\n",
       "    <tr>\n",
       "      <th>11661</th>\n",
       "      <td>aea4564b32c5480cbdf1c5813d2aa279</td>\n",
       "      <td>6</td>\n",
       "    </tr>\n",
       "    <tr>\n",
       "      <th>2106</th>\n",
       "      <td>211c1fdfe7e047e3b88cf267824ca6df</td>\n",
       "      <td>6</td>\n",
       "    </tr>\n",
       "    <tr>\n",
       "      <th>13964</th>\n",
       "      <td>d24693b4f6d141538c41138995cf1ade</td>\n",
       "      <td>6</td>\n",
       "    </tr>\n",
       "    <tr>\n",
       "      <th>5663</th>\n",
       "      <td>5572f20d70d84447b09413776106aea1</td>\n",
       "      <td>6</td>\n",
       "    </tr>\n",
       "    <tr>\n",
       "      <th>8866</th>\n",
       "      <td>86044a1798d646e18b43cd813f7a79c5</td>\n",
       "      <td>6</td>\n",
       "    </tr>\n",
       "    <tr>\n",
       "      <th>15686</th>\n",
       "      <td>ecd437c130854cb9abb2672f35e76f26</td>\n",
       "      <td>6</td>\n",
       "    </tr>\n",
       "    <tr>\n",
       "      <th>3709</th>\n",
       "      <td>38999f1dd0d44dc2b2f8278d2409681a</td>\n",
       "      <td>6</td>\n",
       "    </tr>\n",
       "    <tr>\n",
       "      <th>3710</th>\n",
       "      <td>389bc3fa690240e798340f5a15918d5c</td>\n",
       "      <td>6</td>\n",
       "    </tr>\n",
       "  </tbody>\n",
       "</table>\n",
       "</div>"
      ],
      "text/plain": [
       "                                     id  offer_id\n",
       "16927  ffff82501cea40309d5fdd7edcca4a07         6\n",
       "8837   8582150967d2440e93a857b4ef460f43         6\n",
       "11661  aea4564b32c5480cbdf1c5813d2aa279         6\n",
       "2106   211c1fdfe7e047e3b88cf267824ca6df         6\n",
       "13964  d24693b4f6d141538c41138995cf1ade         6\n",
       "5663   5572f20d70d84447b09413776106aea1         6\n",
       "8866   86044a1798d646e18b43cd813f7a79c5         6\n",
       "15686  ecd437c130854cb9abb2672f35e76f26         6\n",
       "3709   38999f1dd0d44dc2b2f8278d2409681a         6\n",
       "3710   389bc3fa690240e798340f5a15918d5c         6"
      ]
     },
     "execution_count": 61,
     "metadata": {},
     "output_type": "execute_result"
    }
   ],
   "source": [
    "# offers include all the evolution of every offer. So we are interested in the offers sent:\n",
    "offers_per_user = offers[offers['event_num']==0].groupby('id')['offer_id'].count().reset_index().sort_values('offer_id', ascending = False)\n",
    "offers_per_user.head(10)"
   ]
  },
  {
   "cell_type": "code",
   "execution_count": 62,
   "metadata": {},
   "outputs": [
    {
     "name": "stdout",
     "output_type": "stream",
     "text": [
      "6\n",
      "3.6059782608695654\n"
     ]
    }
   ],
   "source": [
    "print(offers_per_user['offer_id'].max())\n",
    "print(offers_per_user['offer_id'].mean())"
   ]
  },
  {
   "cell_type": "code",
   "execution_count": 63,
   "metadata": {},
   "outputs": [
    {
     "data": {
      "image/png": "[encoded data removed]",
      "text/plain": [
       "<Figure size 1080x360 with 1 Axes>"
      ]
     },
     "metadata": {
      "needs_background": "light"
     },
     "output_type": "display_data"
    }
   ],
   "source": [
    "plt.bar(range(0,100), offers_per_user[:100]['offer_id'])\n",
    "plt.ylim(ymax = offers_per_user['offer_id'].max(), ymin = 0)\n",
    "plt.title('Top 100 users with most offers');"
   ]
  },
  {
   "cell_type": "markdown",
   "metadata": {},
   "source": [
    "Now, we are going to calculate the successful offers per user:"
   ]
  },
  {
   "cell_type": "code",
   "execution_count": 64,
   "metadata": {
    "scrolled": true
   },
   "outputs": [],
   "source": [
    "# Successful offers per user:\n",
    "succ_offers_per_user = offers[offers['event_num']==2].groupby('id')['offer_id'].count().reset_index().sort_values('offer_id', ascending = False)"
   ]
  },
  {
   "cell_type": "markdown",
   "metadata": {
    "scrolled": true
   },
   "source": [
    "Let's merge those tables and get new insights:"
   ]
  },
  {
   "cell_type": "code",
   "execution_count": 65,
   "metadata": {},
   "outputs": [],
   "source": [
    "aux1 = pd.merge(offers_per_user, spend_per_user, on=['id'], how='left').fillna(0)\n",
    "totals_per_user = pd.merge(aux1, succ_offers_per_user, on=['id'], how='left').fillna(0)\n",
    "totals_per_user.rename({'offer_id_x':'tot_offers_received', 'offer_id_y':'tot_offers_succesful'}, axis = 1, inplace = True)\n",
    "totals_per_user['offer_success_ratio'] = totals_per_user['tot_offers_succesful']/ totals_per_user['tot_offers_received']"
   ]
  },
  {
   "cell_type": "markdown",
   "metadata": {},
   "source": [
    "Now, we proceed to study the existing relationships in our offers:\n",
    "\n",
    "<br>\n",
    "\n",
    "<img src='images/economics.jpeg' width=500>\n",
    "\n",
    "<br>\n",
    "\n",
    "\n",
    "Let's see whether there is a relationship between the number of offers received and the mean amount spent by each user:"
   ]
  },
  {
   "cell_type": "code",
   "execution_count": 66,
   "metadata": {},
   "outputs": [
    {
     "data": {
      "text/html": [
       "<div>\n",
       "<style scoped>\n",
       "    .dataframe tbody tr th:only-of-type {\n",
       "        vertical-align: middle;\n",
       "    }\n",
       "\n",
       "    .dataframe tbody tr th {\n",
       "        vertical-align: top;\n",
       "    }\n",
       "\n",
       "    .dataframe thead th {\n",
       "        text-align: right;\n",
       "    }\n",
       "</style>\n",
       "<table border=\"1\" class=\"dataframe\">\n",
       "  <thead>\n",
       "    <tr style=\"text-align: right;\">\n",
       "      <th></th>\n",
       "      <th>tot_offers_received</th>\n",
       "      <th>mean_amount</th>\n",
       "    </tr>\n",
       "  </thead>\n",
       "  <tbody>\n",
       "    <tr>\n",
       "      <th>0</th>\n",
       "      <td>1</td>\n",
       "      <td>84.240872</td>\n",
       "    </tr>\n",
       "    <tr>\n",
       "      <th>1</th>\n",
       "      <td>2</td>\n",
       "      <td>87.368896</td>\n",
       "    </tr>\n",
       "    <tr>\n",
       "      <th>2</th>\n",
       "      <td>3</td>\n",
       "      <td>99.383500</td>\n",
       "    </tr>\n",
       "    <tr>\n",
       "      <th>3</th>\n",
       "      <td>4</td>\n",
       "      <td>109.292645</td>\n",
       "    </tr>\n",
       "    <tr>\n",
       "      <th>4</th>\n",
       "      <td>5</td>\n",
       "      <td>118.215565</td>\n",
       "    </tr>\n",
       "    <tr>\n",
       "      <th>5</th>\n",
       "      <td>6</td>\n",
       "      <td>119.412113</td>\n",
       "    </tr>\n",
       "  </tbody>\n",
       "</table>\n",
       "</div>"
      ],
      "text/plain": [
       "   tot_offers_received  mean_amount\n",
       "0                    1    84.240872\n",
       "1                    2    87.368896\n",
       "2                    3    99.383500\n",
       "3                    4   109.292645\n",
       "4                    5   118.215565\n",
       "5                    6   119.412113"
      ]
     },
     "execution_count": 66,
     "metadata": {},
     "output_type": "execute_result"
    },
    {
     "data": {
      "image/png": "[encoded data removed]",
      "text/plain": [
       "<Figure size 1080x360 with 1 Axes>"
      ]
     },
     "metadata": {
      "needs_background": "light"
     },
     "output_type": "display_data"
    }
   ],
   "source": [
    "offers_amount = totals_per_user.groupby(['tot_offers_received'])['amount'].mean().reset_index().rename({'amount':'mean_amount'}, axis=1)\n",
    "plt.bar(offers_amount['tot_offers_received'], offers_amount['mean_amount'])\n",
    "plt.title('Relationship between total offers received and customer spending')\n",
    "offers_amount"
   ]
  },
  {
   "cell_type": "code",
   "execution_count": 67,
   "metadata": {},
   "outputs": [
    {
     "data": {
      "image/png": "[encoded data removed]",
      "text/plain": [
       "<Figure size 1080x504 with 1 Axes>"
      ]
     },
     "metadata": {
      "needs_background": "light"
     },
     "output_type": "display_data"
    }
   ],
   "source": [
    "fig_boxplot = plt.figure(figsize=[15,7])\n",
    "a = sns.boxplot(totals_per_user['amount'], totals_per_user['tot_offers_received'], orient = 'h')\n",
    "plt.title('Boxplot of offers received and amount spent per user');"
   ]
  },
  {
   "cell_type": "markdown",
   "metadata": {},
   "source": [
    "Now, let's see if sending more or less offers to the user has an inpact on the offer success ratio:"
   ]
  },
  {
   "cell_type": "code",
   "execution_count": 68,
   "metadata": {},
   "outputs": [
    {
     "data": {
      "text/html": [
       "<div>\n",
       "<style scoped>\n",
       "    .dataframe tbody tr th:only-of-type {\n",
       "        vertical-align: middle;\n",
       "    }\n",
       "\n",
       "    .dataframe tbody tr th {\n",
       "        vertical-align: top;\n",
       "    }\n",
       "\n",
       "    .dataframe thead th {\n",
       "        text-align: right;\n",
       "    }\n",
       "</style>\n",
       "<table border=\"1\" class=\"dataframe\">\n",
       "  <thead>\n",
       "    <tr style=\"text-align: right;\">\n",
       "      <th></th>\n",
       "      <th>tot_offers_received</th>\n",
       "      <th>mean_offer_success_ratio</th>\n",
       "    </tr>\n",
       "  </thead>\n",
       "  <tbody>\n",
       "    <tr>\n",
       "      <th>0</th>\n",
       "      <td>1</td>\n",
       "      <td>0.514019</td>\n",
       "    </tr>\n",
       "    <tr>\n",
       "      <th>1</th>\n",
       "      <td>2</td>\n",
       "      <td>0.545111</td>\n",
       "    </tr>\n",
       "    <tr>\n",
       "      <th>2</th>\n",
       "      <td>3</td>\n",
       "      <td>0.551466</td>\n",
       "    </tr>\n",
       "    <tr>\n",
       "      <th>3</th>\n",
       "      <td>4</td>\n",
       "      <td>0.554793</td>\n",
       "    </tr>\n",
       "    <tr>\n",
       "      <th>4</th>\n",
       "      <td>5</td>\n",
       "      <td>0.547867</td>\n",
       "    </tr>\n",
       "    <tr>\n",
       "      <th>5</th>\n",
       "      <td>6</td>\n",
       "      <td>0.542680</td>\n",
       "    </tr>\n",
       "  </tbody>\n",
       "</table>\n",
       "</div>"
      ],
      "text/plain": [
       "   tot_offers_received  mean_offer_success_ratio\n",
       "0                    1                  0.514019\n",
       "1                    2                  0.545111\n",
       "2                    3                  0.551466\n",
       "3                    4                  0.554793\n",
       "4                    5                  0.547867\n",
       "5                    6                  0.542680"
      ]
     },
     "execution_count": 68,
     "metadata": {},
     "output_type": "execute_result"
    },
    {
     "data": {
      "image/png": "[encoded data removed]",
      "text/plain": [
       "<Figure size 1080x360 with 1 Axes>"
      ]
     },
     "metadata": {
      "needs_background": "light"
     },
     "output_type": "display_data"
    }
   ],
   "source": [
    "offer_success_ratio = (totals_per_user.groupby(['tot_offers_received'])['offer_success_ratio']\n",
    "                                       .mean()\n",
    "                                       .reset_index()\n",
    "                                       .rename({'offer_success_ratio':'mean_offer_success_ratio'}, axis=1)\n",
    "                      )\n",
    "\n",
    "plt.bar(offer_success_ratio['tot_offers_received'], offer_success_ratio['mean_offer_success_ratio'])\n",
    "plt.title('Offer success ratio per number of offers received')\n",
    "offer_success_ratio"
   ]
  },
  {
   "cell_type": "markdown",
   "metadata": {},
   "source": [
    "It seems that the number of offers sent has no impact on the success ratio of the offers.\n",
    "\n",
    "Finally, we will check if there is a relationship between the success ratio of the offers sent to a client and their spending:"
   ]
  },
  {
   "cell_type": "code",
   "execution_count": 69,
   "metadata": {},
   "outputs": [
    {
     "data": {
      "text/html": [
       "<div>\n",
       "<style scoped>\n",
       "    .dataframe tbody tr th:only-of-type {\n",
       "        vertical-align: middle;\n",
       "    }\n",
       "\n",
       "    .dataframe tbody tr th {\n",
       "        vertical-align: top;\n",
       "    }\n",
       "\n",
       "    .dataframe thead th {\n",
       "        text-align: right;\n",
       "    }\n",
       "</style>\n",
       "<table border=\"1\" class=\"dataframe\">\n",
       "  <thead>\n",
       "    <tr style=\"text-align: right;\">\n",
       "      <th></th>\n",
       "      <th>offer_success_ratio</th>\n",
       "      <th>mean_amount</th>\n",
       "    </tr>\n",
       "  </thead>\n",
       "  <tbody>\n",
       "    <tr>\n",
       "      <th>0</th>\n",
       "      <td>0.000000</td>\n",
       "      <td>17.346861</td>\n",
       "    </tr>\n",
       "    <tr>\n",
       "      <th>1</th>\n",
       "      <td>0.166667</td>\n",
       "      <td>29.082619</td>\n",
       "    </tr>\n",
       "    <tr>\n",
       "      <th>2</th>\n",
       "      <td>0.200000</td>\n",
       "      <td>31.352850</td>\n",
       "    </tr>\n",
       "    <tr>\n",
       "      <th>3</th>\n",
       "      <td>0.250000</td>\n",
       "      <td>34.187032</td>\n",
       "    </tr>\n",
       "    <tr>\n",
       "      <th>4</th>\n",
       "      <td>0.333333</td>\n",
       "      <td>46.039110</td>\n",
       "    </tr>\n",
       "    <tr>\n",
       "      <th>5</th>\n",
       "      <td>0.400000</td>\n",
       "      <td>54.585753</td>\n",
       "    </tr>\n",
       "    <tr>\n",
       "      <th>6</th>\n",
       "      <td>0.500000</td>\n",
       "      <td>72.351770</td>\n",
       "    </tr>\n",
       "    <tr>\n",
       "      <th>7</th>\n",
       "      <td>0.600000</td>\n",
       "      <td>95.042754</td>\n",
       "    </tr>\n",
       "    <tr>\n",
       "      <th>8</th>\n",
       "      <td>0.666667</td>\n",
       "      <td>103.598478</td>\n",
       "    </tr>\n",
       "    <tr>\n",
       "      <th>9</th>\n",
       "      <td>0.750000</td>\n",
       "      <td>134.182789</td>\n",
       "    </tr>\n",
       "    <tr>\n",
       "      <th>10</th>\n",
       "      <td>0.800000</td>\n",
       "      <td>175.808259</td>\n",
       "    </tr>\n",
       "    <tr>\n",
       "      <th>11</th>\n",
       "      <td>0.833333</td>\n",
       "      <td>174.613235</td>\n",
       "    </tr>\n",
       "    <tr>\n",
       "      <th>12</th>\n",
       "      <td>1.000000</td>\n",
       "      <td>195.790359</td>\n",
       "    </tr>\n",
       "  </tbody>\n",
       "</table>\n",
       "</div>"
      ],
      "text/plain": [
       "    offer_success_ratio  mean_amount\n",
       "0              0.000000    17.346861\n",
       "1              0.166667    29.082619\n",
       "2              0.200000    31.352850\n",
       "3              0.250000    34.187032\n",
       "4              0.333333    46.039110\n",
       "5              0.400000    54.585753\n",
       "6              0.500000    72.351770\n",
       "7              0.600000    95.042754\n",
       "8              0.666667   103.598478\n",
       "9              0.750000   134.182789\n",
       "10             0.800000   175.808259\n",
       "11             0.833333   174.613235\n",
       "12             1.000000   195.790359"
      ]
     },
     "execution_count": 69,
     "metadata": {},
     "output_type": "execute_result"
    },
    {
     "data": {
      "image/png": "[encoded data removed]",
      "text/plain": [
       "<Figure size 1080x360 with 1 Axes>"
      ]
     },
     "metadata": {
      "needs_background": "light"
     },
     "output_type": "display_data"
    }
   ],
   "source": [
    "success_ratio_amount = totals_per_user.groupby(['offer_success_ratio'])['amount'].mean().reset_index().rename({'amount':'mean_amount'}, axis=1)\n",
    "plt.bar(success_ratio_amount['offer_success_ratio'], success_ratio_amount['mean_amount'], width = 0.03)\n",
    "plt.title('Relationship between the offer success ratio and the mean customer spendings')\n",
    "success_ratio_amount"
   ]
  },
  {
   "cell_type": "code",
   "execution_count": 70,
   "metadata": {},
   "outputs": [
    {
     "data": {
      "image/png": "[encoded data removed]",
      "text/plain": [
       "<Figure size 1080x504 with 1 Axes>"
      ]
     },
     "metadata": {
      "needs_background": "light"
     },
     "output_type": "display_data"
    }
   ],
   "source": [
    "fig_boxplot = plt.figure(figsize=[15,7])\n",
    "a = sns.boxplot(totals_per_user['amount'], totals_per_user['offer_success_ratio'], orient = 'h')\n",
    "plt.title('Boxplot of offers success ratio and amount spent per user');"
   ]
  },
  {
   "cell_type": "markdown",
   "metadata": {},
   "source": [
    "We can also see here a strong positive correlation between the offer success ratio and the mean amount spent.\n",
    "\n",
    "These conclussions can be sumarized by studying the correlations among the variables of this table:"
   ]
  },
  {
   "cell_type": "code",
   "execution_count": 71,
   "metadata": {},
   "outputs": [
    {
     "data": {
      "text/html": [
       "<div>\n",
       "<style scoped>\n",
       "    .dataframe tbody tr th:only-of-type {\n",
       "        vertical-align: middle;\n",
       "    }\n",
       "\n",
       "    .dataframe tbody tr th {\n",
       "        vertical-align: top;\n",
       "    }\n",
       "\n",
       "    .dataframe thead th {\n",
       "        text-align: right;\n",
       "    }\n",
       "</style>\n",
       "<table border=\"1\" class=\"dataframe\">\n",
       "  <thead>\n",
       "    <tr style=\"text-align: right;\">\n",
       "      <th></th>\n",
       "      <th>tot_offers_received</th>\n",
       "      <th>amount</th>\n",
       "      <th>tot_offers_succesful</th>\n",
       "      <th>offer_success_ratio</th>\n",
       "    </tr>\n",
       "  </thead>\n",
       "  <tbody>\n",
       "    <tr>\n",
       "      <th>tot_offers_received</th>\n",
       "      <td>1.000000</td>\n",
       "      <td>0.084203</td>\n",
       "      <td>0.405815</td>\n",
       "      <td>0.007721</td>\n",
       "    </tr>\n",
       "    <tr>\n",
       "      <th>amount</th>\n",
       "      <td>0.084203</td>\n",
       "      <td>1.000000</td>\n",
       "      <td>0.573025</td>\n",
       "      <td>0.578805</td>\n",
       "    </tr>\n",
       "    <tr>\n",
       "      <th>tot_offers_succesful</th>\n",
       "      <td>0.405815</td>\n",
       "      <td>0.573025</td>\n",
       "      <td>1.000000</td>\n",
       "      <td>0.864550</td>\n",
       "    </tr>\n",
       "    <tr>\n",
       "      <th>offer_success_ratio</th>\n",
       "      <td>0.007721</td>\n",
       "      <td>0.578805</td>\n",
       "      <td>0.864550</td>\n",
       "      <td>1.000000</td>\n",
       "    </tr>\n",
       "  </tbody>\n",
       "</table>\n",
       "</div>"
      ],
      "text/plain": [
       "                      tot_offers_received    amount  tot_offers_succesful  \\\n",
       "tot_offers_received              1.000000  0.084203              0.405815   \n",
       "amount                           0.084203  1.000000              0.573025   \n",
       "tot_offers_succesful             0.405815  0.573025              1.000000   \n",
       "offer_success_ratio              0.007721  0.578805              0.864550   \n",
       "\n",
       "                      offer_success_ratio  \n",
       "tot_offers_received              0.007721  \n",
       "amount                           0.578805  \n",
       "tot_offers_succesful             0.864550  \n",
       "offer_success_ratio              1.000000  "
      ]
     },
     "execution_count": 71,
     "metadata": {},
     "output_type": "execute_result"
    },
    {
     "data": {
      "image/png": "[encoded data removed]",
      "text/plain": [
       "<Figure size 1080x360 with 2 Axes>"
      ]
     },
     "metadata": {
      "needs_background": "light"
     },
     "output_type": "display_data"
    }
   ],
   "source": [
    "correlations = totals_per_user.corr()\n",
    "sns.heatmap(correlations)\n",
    "plt.title('Existing correlations between offers sent, offers successful, offer success ratio and amount spent by customer')\n",
    "correlations"
   ]
  },
  {
   "cell_type": "markdown",
   "metadata": {},
   "source": [
    "**Merging the information:**\n",
    "\n",
    "This is useful information, so we will anex it to our clean_profile dataframe:"
   ]
  },
  {
   "cell_type": "code",
   "execution_count": 72,
   "metadata": {},
   "outputs": [],
   "source": [
    "clean_profile_expanded = pd.merge(clean_profile, totals_per_user, on='id', how='left')"
   ]
  },
  {
   "cell_type": "markdown",
   "metadata": {},
   "source": [
    "**Sex and age and success ratio:**\n",
    "\n",
    "Now, we can see, for instance, that our success ratio depends on the gender:"
   ]
  },
  {
   "cell_type": "code",
   "execution_count": 73,
   "metadata": {},
   "outputs": [
    {
     "data": {
      "text/plain": [
       "gender\n",
       "F    0.704036\n",
       "M    0.536959\n",
       "O    0.687283\n",
       "Name: offer_success_ratio, dtype: float64"
      ]
     },
     "execution_count": 73,
     "metadata": {},
     "output_type": "execute_result"
    },
    {
     "data": {
      "image/png": "[encoded data removed]",
      "text/plain": [
       "<Figure size 1080x360 with 1 Axes>"
      ]
     },
     "metadata": {
      "needs_background": "light"
     },
     "output_type": "display_data"
    }
   ],
   "source": [
    "success_ratio_per_genre = clean_profile_expanded.groupby('gender')['offer_success_ratio'].mean()\n",
    "success_ratio_per_genre.plot('bar', color=['b', 'orange', 'g'], legend = True, title = 'Success ratio per sex')\n",
    "success_ratio_per_genre"
   ]
  },
  {
   "cell_type": "code",
   "execution_count": 74,
   "metadata": {},
   "outputs": [
    {
     "data": {
      "text/plain": [
       "age_group\n",
       "prime    0.577248\n",
       "wise     0.644902\n",
       "young    0.484497\n",
       "Name: offer_success_ratio, dtype: float64"
      ]
     },
     "execution_count": 74,
     "metadata": {},
     "output_type": "execute_result"
    },
    {
     "data": {
      "image/png": "[encoded data removed]",
      "text/plain": [
       "<Figure size 1080x360 with 1 Axes>"
      ]
     },
     "metadata": {
      "needs_background": "light"
     },
     "output_type": "display_data"
    }
   ],
   "source": [
    "success_ratio_per_age_group = clean_profile_expanded.groupby('age_group')['offer_success_ratio'].mean()\n",
    "success_ratio_per_age_group.plot('bar', legend = True, title = 'Success ratio per age group')\n",
    "success_ratio_per_age_group"
   ]
  },
  {
   "cell_type": "markdown",
   "metadata": {},
   "source": [
    "Also, there are several customers with no info on regarding transactions:"
   ]
  },
  {
   "cell_type": "code",
   "execution_count": 75,
   "metadata": {
    "scrolled": false
   },
   "outputs": [
    {
     "data": {
      "text/plain": [
       "61"
      ]
     },
     "execution_count": 75,
     "metadata": {},
     "output_type": "execute_result"
    }
   ],
   "source": [
    "clean_profile_expanded[clean_profile_expanded['amount'].isna()].shape[0]"
   ]
  },
  {
   "cell_type": "code",
   "execution_count": 76,
   "metadata": {},
   "outputs": [],
   "source": [
    "customer_wo_info = list(clean_profile_expanded[clean_profile_expanded['amount'].isna()]['id'])"
   ]
  },
  {
   "cell_type": "code",
   "execution_count": 77,
   "metadata": {},
   "outputs": [
    {
     "name": "stdout",
     "output_type": "stream",
     "text": [
      "(331, 7)\n"
     ]
    },
    {
     "data": {
      "text/html": [
       "<div>\n",
       "<style scoped>\n",
       "    .dataframe tbody tr th:only-of-type {\n",
       "        vertical-align: middle;\n",
       "    }\n",
       "\n",
       "    .dataframe tbody tr th {\n",
       "        vertical-align: top;\n",
       "    }\n",
       "\n",
       "    .dataframe thead th {\n",
       "        text-align: right;\n",
       "    }\n",
       "</style>\n",
       "<table border=\"1\" class=\"dataframe\">\n",
       "  <thead>\n",
       "    <tr style=\"text-align: right;\">\n",
       "      <th></th>\n",
       "      <th>event</th>\n",
       "      <th>id</th>\n",
       "      <th>time</th>\n",
       "      <th>amount</th>\n",
       "      <th>offer_id</th>\n",
       "      <th>reward</th>\n",
       "      <th>event_num</th>\n",
       "    </tr>\n",
       "  </thead>\n",
       "  <tbody>\n",
       "    <tr>\n",
       "      <th>13747</th>\n",
       "      <td>transaction</td>\n",
       "      <td>43ffb6ce475d4ccba9828e4a07a4c31f</td>\n",
       "      <td>0</td>\n",
       "      <td>18.60</td>\n",
       "      <td>NaN</td>\n",
       "      <td>NaN</td>\n",
       "      <td>-1</td>\n",
       "    </tr>\n",
       "    <tr>\n",
       "      <th>16224</th>\n",
       "      <td>transaction</td>\n",
       "      <td>4eb999a6a45a4f3896e250e531ae90fb</td>\n",
       "      <td>6</td>\n",
       "      <td>8.74</td>\n",
       "      <td>NaN</td>\n",
       "      <td>NaN</td>\n",
       "      <td>-1</td>\n",
       "    </tr>\n",
       "    <tr>\n",
       "      <th>16379</th>\n",
       "      <td>transaction</td>\n",
       "      <td>eb540099db834cf59001f83a4561aef3</td>\n",
       "      <td>6</td>\n",
       "      <td>4.74</td>\n",
       "      <td>NaN</td>\n",
       "      <td>NaN</td>\n",
       "      <td>-1</td>\n",
       "    </tr>\n",
       "    <tr>\n",
       "      <th>17466</th>\n",
       "      <td>transaction</td>\n",
       "      <td>cb8291d29fcd482b8793aa18c970a71b</td>\n",
       "      <td>6</td>\n",
       "      <td>2.17</td>\n",
       "      <td>NaN</td>\n",
       "      <td>NaN</td>\n",
       "      <td>-1</td>\n",
       "    </tr>\n",
       "    <tr>\n",
       "      <th>21242</th>\n",
       "      <td>transaction</td>\n",
       "      <td>ab36b436924042459401a8e140795a7e</td>\n",
       "      <td>18</td>\n",
       "      <td>8.93</td>\n",
       "      <td>NaN</td>\n",
       "      <td>NaN</td>\n",
       "      <td>-1</td>\n",
       "    </tr>\n",
       "  </tbody>\n",
       "</table>\n",
       "</div>"
      ],
      "text/plain": [
       "             event                                id  time  amount offer_id  \\\n",
       "13747  transaction  43ffb6ce475d4ccba9828e4a07a4c31f     0   18.60      NaN   \n",
       "16224  transaction  4eb999a6a45a4f3896e250e531ae90fb     6    8.74      NaN   \n",
       "16379  transaction  eb540099db834cf59001f83a4561aef3     6    4.74      NaN   \n",
       "17466  transaction  cb8291d29fcd482b8793aa18c970a71b     6    2.17      NaN   \n",
       "21242  transaction  ab36b436924042459401a8e140795a7e    18    8.93      NaN   \n",
       "\n",
       "       reward  event_num  \n",
       "13747     NaN         -1  \n",
       "16224     NaN         -1  \n",
       "16379     NaN         -1  \n",
       "17466     NaN         -1  \n",
       "21242     NaN         -1  "
      ]
     },
     "execution_count": 77,
     "metadata": {},
     "output_type": "execute_result"
    }
   ],
   "source": [
    "print(transcript2[transcript2['id'].isin(customer_wo_info)].shape)\n",
    "transcript2[transcript2['id'].isin(customer_wo_info)].head()"
   ]
  },
  {
   "cell_type": "markdown",
   "metadata": {},
   "source": [
    "We see that those customers spent some money, and perhaps they did receive some informational offers, but didn't receive any discounts. Let's fix this in our table:"
   ]
  },
  {
   "cell_type": "code",
   "execution_count": 78,
   "metadata": {},
   "outputs": [
    {
     "data": {
      "text/plain": [
       "155    155.64\n",
       "683     26.49\n",
       "745      6.95\n",
       "770     83.34\n",
       "956     42.63\n",
       "Name: amount, dtype: float64"
      ]
     },
     "execution_count": 78,
     "metadata": {},
     "output_type": "execute_result"
    }
   ],
   "source": [
    "transcript_missing_custs = transcript2[transcript2['id'].isin(customer_wo_info)]\n",
    "missing_custs_dict = dict(transcript_missing_custs.groupby('id')['amount'].sum())\n",
    "\n",
    "missing_index = clean_profile_expanded[clean_profile_expanded['amount'].isna()].index\n",
    "clean_profile_expanded.loc[missing_index,'amount'] = clean_profile_expanded['id'].apply(lambda x: missing_custs_dict[x] if x in missing_custs_dict.keys() else 0)\n",
    "\n",
    "clean_profile_expanded.loc[missing_index,'amount'].head()"
   ]
  },
  {
   "cell_type": "markdown",
   "metadata": {},
   "source": [
    "Finally, we now replace the offer values of those lines with zeroes:"
   ]
  },
  {
   "cell_type": "code",
   "execution_count": 79,
   "metadata": {},
   "outputs": [],
   "source": [
    "clean_profile_expanded.fillna(0, inplace = True)"
   ]
  },
  {
   "cell_type": "markdown",
   "metadata": {},
   "source": [
    "Now, as we remember from earlier exploration, not all users from our clean_profile table did match our transcript tables, as we dropped some users without information on some vital regards.\n",
    "\n",
    "As we have abundant data, let's filter it by those customers from whom we have all the information:"
   ]
  },
  {
   "cell_type": "code",
   "execution_count": 80,
   "metadata": {},
   "outputs": [
    {
     "name": "stdout",
     "output_type": "stream",
     "text": [
      "250102\n",
      "123957\n",
      "126145\n",
      "250102\n"
     ]
    }
   ],
   "source": [
    "clean_transcript = transcript2[transcript2['id'].isin(clean_profile_expanded['id'])]\n",
    "clean_transactions = transactions[transactions['id'].isin(clean_profile_expanded['id'])]\n",
    "clean_offers = offers[offers['id'].isin(clean_profile_expanded['id'])]\n",
    "\n",
    "print(len(clean_transcript))\n",
    "print(len(clean_transactions))\n",
    "print(len(clean_offers))\n",
    "print(len(clean_transactions) + len(clean_offers))"
   ]
  },
  {
   "cell_type": "code",
   "execution_count": 81,
   "metadata": {},
   "outputs": [
    {
     "name": "stdout",
     "output_type": "stream",
     "text": [
      "14822\n",
      "14492\n",
      "14764\n"
     ]
    }
   ],
   "source": [
    "print(len(clean_transcript['id'].unique()))\n",
    "print(len(clean_transactions['id'].unique()))\n",
    "print(len(clean_offers['id'].unique()))"
   ]
  },
  {
   "cell_type": "markdown",
   "metadata": {},
   "source": [
    "Those sanity checks confirm all is OK. \n",
    "\n",
    "If using clean_transactions and clean_offers, we have to keep in mind that not all clients received offers, neither all of them performed transactions."
   ]
  },
  {
   "cell_type": "markdown",
   "metadata": {},
   "source": [
    "## 4) Merging and feature engineering"
   ]
  },
  {
   "cell_type": "markdown",
   "metadata": {},
   "source": [
    "After examining our data and having provided our first insights, we are now ready to do some feature engineering.\n",
    "\n",
    "In order to do so, we will now proceed to merge the clean_offers and clean_transactions dataframes, and we will include the insight we will extract to the clean_profile_expanded.\n",
    "\n"
   ]
  },
  {
   "cell_type": "markdown",
   "metadata": {},
   "source": [
    "### 4.1) Offers division\n",
    "\n",
    "<br>\n",
    "\n",
    "We currently face a big problem that we need to assess before continuing:\n",
    "\n",
    "<br>\n",
    "\n",
    "<img src=\"images/cards.jpg\" width = 500/>\n",
    "\n",
    "\n",
    "<br>\n",
    "\n"
   ]
  },
  {
   "cell_type": "code",
   "execution_count": 82,
   "metadata": {
    "scrolled": true
   },
   "outputs": [
    {
     "data": {
      "text/html": [
       "<div>\n",
       "<style scoped>\n",
       "    .dataframe tbody tr th:only-of-type {\n",
       "        vertical-align: middle;\n",
       "    }\n",
       "\n",
       "    .dataframe tbody tr th {\n",
       "        vertical-align: top;\n",
       "    }\n",
       "\n",
       "    .dataframe thead th {\n",
       "        text-align: right;\n",
       "    }\n",
       "</style>\n",
       "<table border=\"1\" class=\"dataframe\">\n",
       "  <thead>\n",
       "    <tr style=\"text-align: right;\">\n",
       "      <th></th>\n",
       "      <th>id</th>\n",
       "      <th>offer_id</th>\n",
       "      <th>event_num</th>\n",
       "    </tr>\n",
       "  </thead>\n",
       "  <tbody>\n",
       "    <tr>\n",
       "      <th>7666</th>\n",
       "      <td>2dab8c385a2440b78b432ecb72d68787</td>\n",
       "      <td>2298d6c36e964ae4a3e7e9706d1fb8c2</td>\n",
       "      <td>12</td>\n",
       "    </tr>\n",
       "    <tr>\n",
       "      <th>16889</th>\n",
       "      <td>61f661b7070c4063880a85b22f1fe0e4</td>\n",
       "      <td>2906b810c7d4411798c6938adc9daaa5</td>\n",
       "      <td>12</td>\n",
       "    </tr>\n",
       "    <tr>\n",
       "      <th>6625</th>\n",
       "      <td>281d463f31e74ecaa4451d169868c5d7</td>\n",
       "      <td>2298d6c36e964ae4a3e7e9706d1fb8c2</td>\n",
       "      <td>12</td>\n",
       "    </tr>\n",
       "    <tr>\n",
       "      <th>18866</th>\n",
       "      <td>6d2db3aad94648259e539920fc2cf2a6</td>\n",
       "      <td>f19421c1d4aa40978ebb69ca19b0e20d</td>\n",
       "      <td>12</td>\n",
       "    </tr>\n",
       "    <tr>\n",
       "      <th>36528</th>\n",
       "      <td>d3209835a40a423fbf2c967218d00bcd</td>\n",
       "      <td>ae264e3637204a6fb9bb56bc8210ddfd</td>\n",
       "      <td>12</td>\n",
       "    </tr>\n",
       "  </tbody>\n",
       "</table>\n",
       "</div>"
      ],
      "text/plain": [
       "                                     id                          offer_id  \\\n",
       "7666   2dab8c385a2440b78b432ecb72d68787  2298d6c36e964ae4a3e7e9706d1fb8c2   \n",
       "16889  61f661b7070c4063880a85b22f1fe0e4  2906b810c7d4411798c6938adc9daaa5   \n",
       "6625   281d463f31e74ecaa4451d169868c5d7  2298d6c36e964ae4a3e7e9706d1fb8c2   \n",
       "18866  6d2db3aad94648259e539920fc2cf2a6  f19421c1d4aa40978ebb69ca19b0e20d   \n",
       "36528  d3209835a40a423fbf2c967218d00bcd  ae264e3637204a6fb9bb56bc8210ddfd   \n",
       "\n",
       "       event_num  \n",
       "7666          12  \n",
       "16889         12  \n",
       "6625          12  \n",
       "18866         12  \n",
       "36528         12  "
      ]
     },
     "execution_count": 82,
     "metadata": {},
     "output_type": "execute_result"
    }
   ],
   "source": [
    "clean_offers.groupby(['id', 'offer_id'])['event_num'].count().reset_index().sort_values('event_num', ascending = False).head()"
   ]
  },
  {
   "cell_type": "markdown",
   "metadata": {},
   "source": [
    "As we see, there is not a unique combination of id and offer_id in the tables (as we also saw above), as the same offer has been sent to the same customer several times, in different moments of time.\n",
    "\n",
    "Also, the same exact offer has multiple values, as it is shown its evolution, from received to completed, going through viewed:"
   ]
  },
  {
   "cell_type": "code",
   "execution_count": 83,
   "metadata": {},
   "outputs": [
    {
     "data": {
      "text/html": [
       "<div>\n",
       "<style scoped>\n",
       "    .dataframe tbody tr th:only-of-type {\n",
       "        vertical-align: middle;\n",
       "    }\n",
       "\n",
       "    .dataframe tbody tr th {\n",
       "        vertical-align: top;\n",
       "    }\n",
       "\n",
       "    .dataframe thead th {\n",
       "        text-align: right;\n",
       "    }\n",
       "</style>\n",
       "<table border=\"1\" class=\"dataframe\">\n",
       "  <thead>\n",
       "    <tr style=\"text-align: right;\">\n",
       "      <th></th>\n",
       "      <th>event</th>\n",
       "      <th>id</th>\n",
       "      <th>time</th>\n",
       "      <th>offer_id</th>\n",
       "      <th>reward</th>\n",
       "      <th>event_num</th>\n",
       "    </tr>\n",
       "  </thead>\n",
       "  <tbody>\n",
       "    <tr>\n",
       "      <th>4301</th>\n",
       "      <td>offer received</td>\n",
       "      <td>d3209835a40a423fbf2c967218d00bcd</td>\n",
       "      <td>0</td>\n",
       "      <td>ae264e3637204a6fb9bb56bc8210ddfd</td>\n",
       "      <td>0.0</td>\n",
       "      <td>0</td>\n",
       "    </tr>\n",
       "    <tr>\n",
       "      <th>26706</th>\n",
       "      <td>offer viewed</td>\n",
       "      <td>d3209835a40a423fbf2c967218d00bcd</td>\n",
       "      <td>36</td>\n",
       "      <td>ae264e3637204a6fb9bb56bc8210ddfd</td>\n",
       "      <td>0.0</td>\n",
       "      <td>1</td>\n",
       "    </tr>\n",
       "    <tr>\n",
       "      <th>35998</th>\n",
       "      <td>offer completed</td>\n",
       "      <td>d3209835a40a423fbf2c967218d00bcd</td>\n",
       "      <td>72</td>\n",
       "      <td>ae264e3637204a6fb9bb56bc8210ddfd</td>\n",
       "      <td>0.0</td>\n",
       "      <td>2</td>\n",
       "    </tr>\n",
       "    <tr>\n",
       "      <th>57537</th>\n",
       "      <td>offer received</td>\n",
       "      <td>d3209835a40a423fbf2c967218d00bcd</td>\n",
       "      <td>168</td>\n",
       "      <td>ae264e3637204a6fb9bb56bc8210ddfd</td>\n",
       "      <td>0.0</td>\n",
       "      <td>0</td>\n",
       "    </tr>\n",
       "    <tr>\n",
       "      <th>84070</th>\n",
       "      <td>offer viewed</td>\n",
       "      <td>d3209835a40a423fbf2c967218d00bcd</td>\n",
       "      <td>210</td>\n",
       "      <td>ae264e3637204a6fb9bb56bc8210ddfd</td>\n",
       "      <td>0.0</td>\n",
       "      <td>1</td>\n",
       "    </tr>\n",
       "    <tr>\n",
       "      <th>92637</th>\n",
       "      <td>offer completed</td>\n",
       "      <td>d3209835a40a423fbf2c967218d00bcd</td>\n",
       "      <td>240</td>\n",
       "      <td>ae264e3637204a6fb9bb56bc8210ddfd</td>\n",
       "      <td>0.0</td>\n",
       "      <td>2</td>\n",
       "    </tr>\n",
       "    <tr>\n",
       "      <th>205881</th>\n",
       "      <td>offer received</td>\n",
       "      <td>d3209835a40a423fbf2c967218d00bcd</td>\n",
       "      <td>504</td>\n",
       "      <td>ae264e3637204a6fb9bb56bc8210ddfd</td>\n",
       "      <td>0.0</td>\n",
       "      <td>0</td>\n",
       "    </tr>\n",
       "    <tr>\n",
       "      <th>219621</th>\n",
       "      <td>offer viewed</td>\n",
       "      <td>d3209835a40a423fbf2c967218d00bcd</td>\n",
       "      <td>510</td>\n",
       "      <td>ae264e3637204a6fb9bb56bc8210ddfd</td>\n",
       "      <td>0.0</td>\n",
       "      <td>1</td>\n",
       "    </tr>\n",
       "    <tr>\n",
       "      <th>249451</th>\n",
       "      <td>offer received</td>\n",
       "      <td>d3209835a40a423fbf2c967218d00bcd</td>\n",
       "      <td>576</td>\n",
       "      <td>ae264e3637204a6fb9bb56bc8210ddfd</td>\n",
       "      <td>0.0</td>\n",
       "      <td>0</td>\n",
       "    </tr>\n",
       "    <tr>\n",
       "      <th>275441</th>\n",
       "      <td>offer viewed</td>\n",
       "      <td>d3209835a40a423fbf2c967218d00bcd</td>\n",
       "      <td>606</td>\n",
       "      <td>ae264e3637204a6fb9bb56bc8210ddfd</td>\n",
       "      <td>0.0</td>\n",
       "      <td>1</td>\n",
       "    </tr>\n",
       "    <tr>\n",
       "      <th>277897</th>\n",
       "      <td>offer completed</td>\n",
       "      <td>d3209835a40a423fbf2c967218d00bcd</td>\n",
       "      <td>612</td>\n",
       "      <td>ae264e3637204a6fb9bb56bc8210ddfd</td>\n",
       "      <td>0.0</td>\n",
       "      <td>2</td>\n",
       "    </tr>\n",
       "    <tr>\n",
       "      <th>277898</th>\n",
       "      <td>offer completed</td>\n",
       "      <td>d3209835a40a423fbf2c967218d00bcd</td>\n",
       "      <td>612</td>\n",
       "      <td>ae264e3637204a6fb9bb56bc8210ddfd</td>\n",
       "      <td>0.0</td>\n",
       "      <td>2</td>\n",
       "    </tr>\n",
       "  </tbody>\n",
       "</table>\n",
       "</div>"
      ],
      "text/plain": [
       "                  event                                id  time  \\\n",
       "4301     offer received  d3209835a40a423fbf2c967218d00bcd     0   \n",
       "26706      offer viewed  d3209835a40a423fbf2c967218d00bcd    36   \n",
       "35998   offer completed  d3209835a40a423fbf2c967218d00bcd    72   \n",
       "57537    offer received  d3209835a40a423fbf2c967218d00bcd   168   \n",
       "84070      offer viewed  d3209835a40a423fbf2c967218d00bcd   210   \n",
       "92637   offer completed  d3209835a40a423fbf2c967218d00bcd   240   \n",
       "205881   offer received  d3209835a40a423fbf2c967218d00bcd   504   \n",
       "219621     offer viewed  d3209835a40a423fbf2c967218d00bcd   510   \n",
       "249451   offer received  d3209835a40a423fbf2c967218d00bcd   576   \n",
       "275441     offer viewed  d3209835a40a423fbf2c967218d00bcd   606   \n",
       "277897  offer completed  d3209835a40a423fbf2c967218d00bcd   612   \n",
       "277898  offer completed  d3209835a40a423fbf2c967218d00bcd   612   \n",
       "\n",
       "                                offer_id  reward  event_num  \n",
       "4301    ae264e3637204a6fb9bb56bc8210ddfd     0.0          0  \n",
       "26706   ae264e3637204a6fb9bb56bc8210ddfd     0.0          1  \n",
       "35998   ae264e3637204a6fb9bb56bc8210ddfd     0.0          2  \n",
       "57537   ae264e3637204a6fb9bb56bc8210ddfd     0.0          0  \n",
       "84070   ae264e3637204a6fb9bb56bc8210ddfd     0.0          1  \n",
       "92637   ae264e3637204a6fb9bb56bc8210ddfd     0.0          2  \n",
       "205881  ae264e3637204a6fb9bb56bc8210ddfd     0.0          0  \n",
       "219621  ae264e3637204a6fb9bb56bc8210ddfd     0.0          1  \n",
       "249451  ae264e3637204a6fb9bb56bc8210ddfd     0.0          0  \n",
       "275441  ae264e3637204a6fb9bb56bc8210ddfd     0.0          1  \n",
       "277897  ae264e3637204a6fb9bb56bc8210ddfd     0.0          2  \n",
       "277898  ae264e3637204a6fb9bb56bc8210ddfd     0.0          2  "
      ]
     },
     "execution_count": 83,
     "metadata": {},
     "output_type": "execute_result"
    }
   ],
   "source": [
    "clean_offers[(clean_offers['id'] == 'd3209835a40a423fbf2c967218d00bcd')&\n",
    "             (clean_offers['offer_id'] == 'ae264e3637204a6fb9bb56bc8210ddfd')]"
   ]
  },
  {
   "cell_type": "markdown",
   "metadata": {},
   "source": [
    "**TWO DECISIONS:**\n",
    "\n",
    "\n",
    "\n",
    "We decide to further **divide this dataset in two: the received offers and the completed offers.**\n",
    "    \n",
    "We also decide to **drop the viewed offers in the process**, as we are not interested in the information they might give us (at least, for now):"
   ]
  },
  {
   "cell_type": "code",
   "execution_count": 84,
   "metadata": {},
   "outputs": [],
   "source": [
    "vals = ['time', 'id','offer_id']\n",
    "clean_offers_rec = clean_offers[clean_offers['event_num'] == 0].sort_values(vals)[['id', 'offer_id', 'time']]\n",
    "clean_offers_completed = clean_offers[clean_offers['event_num'] == 2].sort_values(vals)[['id', 'offer_id', 'time', 'event_num']]"
   ]
  },
  {
   "cell_type": "markdown",
   "metadata": {},
   "source": [
    "### 4.2) Automerging"
   ]
  },
  {
   "cell_type": "markdown",
   "metadata": {},
   "source": [
    "Before merging both datasets, we need to uniquely identify each offer.\n",
    "\n",
    "We do so by joining the customer and offer id fields, and adding a counter (starting in 0 for the earliest offer sent) for each time the same offer is presented to the same customer.\n",
    "\n",
    "We do it so for both dataframes.\n",
    "\n",
    "The idea in my head is that we are performing a \"shuffle\":\n",
    "\n",
    "<br>\n",
    "\n",
    "<img src=\"images/shuffle.jpg\" width = 500/>\n",
    "\n",
    "<br>\n",
    "\n",
    "Then, we will merge the two dataframes using that columns created.\n",
    "\n",
    "**In doing so, we assume that, when in conflict, the offer redeem is the first sent, which is logical (and the best we can do, with the available information), but not necesarily true.**\n",
    "\n",
    "That shouldn't be much of a problem:\n",
    "\n"
   ]
  },
  {
   "cell_type": "code",
   "execution_count": 85,
   "metadata": {},
   "outputs": [],
   "source": [
    "# Creating the columns and making some ammendments to both datasets:\n",
    "\n",
    "for df in [clean_offers_rec, clean_offers_completed]:\n",
    "    df['cust_offer_id'] = df['id'] + '_' + df['offer_id'].apply(lambda x: x[-5:])\n",
    "    df['aux'] = df.groupby(['cust_offer_id']).cumcount()\n",
    "    df['aux'] = df['aux'].apply(lambda x: str(x))\n",
    "    df['cust_offer_id'] = df['cust_offer_id'] +\"_\" + df['aux']\n",
    "    df.drop('aux', axis = 1, inplace = True)"
   ]
  },
  {
   "cell_type": "code",
   "execution_count": 86,
   "metadata": {},
   "outputs": [
    {
     "data": {
      "text/plain": [
       "Index(['id', 'offer_id', 'time', 'event_num', 'cust_offer_id'], dtype='object')"
      ]
     },
     "execution_count": 86,
     "metadata": {},
     "output_type": "execute_result"
    }
   ],
   "source": [
    "clean_offers_completed.columns"
   ]
  },
  {
   "cell_type": "code",
   "execution_count": 87,
   "metadata": {},
   "outputs": [],
   "source": [
    "# Joining them to create matched_offers:\n",
    "\n",
    "matched_offers = pd.merge(clean_offers_rec, \n",
    "                          clean_offers_completed[['cust_offer_id', 'time', 'event_num']], \n",
    "                          on=['cust_offer_id'], \n",
    "                          how='left')"
   ]
  },
  {
   "cell_type": "markdown",
   "metadata": {},
   "source": [
    "Now, a small sanity check:"
   ]
  },
  {
   "cell_type": "code",
   "execution_count": 88,
   "metadata": {},
   "outputs": [],
   "source": [
    "# We are checking that there are no duplicated records to the left, as a result of the merge:\n",
    "assert clean_offers_rec.shape[0] == matched_offers[matched_offers['event_num'].isna()].shape[0] + clean_offers_completed.shape[0]"
   ]
  },
  {
   "cell_type": "code",
   "execution_count": 89,
   "metadata": {},
   "outputs": [],
   "source": [
    "# Now, we rename the columns present in both dataframes before the merge, so it is clearly stated what they represent:\n",
    "matched_offers.rename({'time_x':'time_sent', 'time_y':'time_comp'},\n",
    "                      axis = 1,\n",
    "                      inplace = True)"
   ]
  },
  {
   "cell_type": "markdown",
   "metadata": {},
   "source": [
    "Now, we can easily calculate how long took to each fullfilled offer to get to that state. We can then perform another sanity check: no time should be negative:"
   ]
  },
  {
   "cell_type": "code",
   "execution_count": 90,
   "metadata": {},
   "outputs": [
    {
     "data": {
      "text/plain": [
       "0"
      ]
     },
     "execution_count": 90,
     "metadata": {},
     "output_type": "execute_result"
    }
   ],
   "source": [
    "matched_offers['time_diff'] = matched_offers['time_comp'] - matched_offers['time_sent']\n",
    "len(matched_offers[matched_offers['time_diff']<0])"
   ]
  },
  {
   "cell_type": "markdown",
   "metadata": {},
   "source": [
    "We display now the maximum values for the calculated times, and present the records associated to those times:"
   ]
  },
  {
   "cell_type": "code",
   "execution_count": 91,
   "metadata": {},
   "outputs": [
    {
     "name": "stdout",
     "output_type": "stream",
     "text": [
      "[714. 708. 696. 690. 684.]\n"
     ]
    },
    {
     "data": {
      "text/html": [
       "<div>\n",
       "<style scoped>\n",
       "    .dataframe tbody tr th:only-of-type {\n",
       "        vertical-align: middle;\n",
       "    }\n",
       "\n",
       "    .dataframe tbody tr th {\n",
       "        vertical-align: top;\n",
       "    }\n",
       "\n",
       "    .dataframe thead th {\n",
       "        text-align: right;\n",
       "    }\n",
       "</style>\n",
       "<table border=\"1\" class=\"dataframe\">\n",
       "  <thead>\n",
       "    <tr style=\"text-align: right;\">\n",
       "      <th></th>\n",
       "      <th>id</th>\n",
       "      <th>offer_id</th>\n",
       "      <th>time_sent</th>\n",
       "      <th>cust_offer_id</th>\n",
       "      <th>time_comp</th>\n",
       "      <th>event_num</th>\n",
       "      <th>time_diff</th>\n",
       "    </tr>\n",
       "  </thead>\n",
       "  <tbody>\n",
       "    <tr>\n",
       "      <th>533</th>\n",
       "      <td>0ff34474e5b245b79f396d4c5ddef96c</td>\n",
       "      <td>2298d6c36e964ae4a3e7e9706d1fb8c2</td>\n",
       "      <td>0</td>\n",
       "      <td>0ff34474e5b245b79f396d4c5ddef96c_fb8c2_0</td>\n",
       "      <td>708.0</td>\n",
       "      <td>2.0</td>\n",
       "      <td>708.0</td>\n",
       "    </tr>\n",
       "    <tr>\n",
       "      <th>1121</th>\n",
       "      <td>231e1e33467647bbba31f6ba36d88541</td>\n",
       "      <td>0b1e1539f2cc45b7b9fa7c272da2e1d7</td>\n",
       "      <td>0</td>\n",
       "      <td>231e1e33467647bbba31f6ba36d88541_2e1d7_0</td>\n",
       "      <td>708.0</td>\n",
       "      <td>2.0</td>\n",
       "      <td>708.0</td>\n",
       "    </tr>\n",
       "    <tr>\n",
       "      <th>1693</th>\n",
       "      <td>329b390a8e19481ab081d99e4e813835</td>\n",
       "      <td>fafdcd668e3743c1bb461111dcafc2a4</td>\n",
       "      <td>0</td>\n",
       "      <td>329b390a8e19481ab081d99e4e813835_fc2a4_0</td>\n",
       "      <td>690.0</td>\n",
       "      <td>2.0</td>\n",
       "      <td>690.0</td>\n",
       "    </tr>\n",
       "    <tr>\n",
       "      <th>2461</th>\n",
       "      <td>46c68b0d9eb74bff8666bdb2f86a620d</td>\n",
       "      <td>0b1e1539f2cc45b7b9fa7c272da2e1d7</td>\n",
       "      <td>0</td>\n",
       "      <td>46c68b0d9eb74bff8666bdb2f86a620d_2e1d7_0</td>\n",
       "      <td>690.0</td>\n",
       "      <td>2.0</td>\n",
       "      <td>690.0</td>\n",
       "    </tr>\n",
       "    <tr>\n",
       "      <th>2815</th>\n",
       "      <td>512191a2ec58463fafd3fd544bf7bed6</td>\n",
       "      <td>2298d6c36e964ae4a3e7e9706d1fb8c2</td>\n",
       "      <td>0</td>\n",
       "      <td>512191a2ec58463fafd3fd544bf7bed6_fb8c2_0</td>\n",
       "      <td>708.0</td>\n",
       "      <td>2.0</td>\n",
       "      <td>708.0</td>\n",
       "    </tr>\n",
       "  </tbody>\n",
       "</table>\n",
       "</div>"
      ],
      "text/plain": [
       "                                    id                          offer_id  \\\n",
       "533   0ff34474e5b245b79f396d4c5ddef96c  2298d6c36e964ae4a3e7e9706d1fb8c2   \n",
       "1121  231e1e33467647bbba31f6ba36d88541  0b1e1539f2cc45b7b9fa7c272da2e1d7   \n",
       "1693  329b390a8e19481ab081d99e4e813835  fafdcd668e3743c1bb461111dcafc2a4   \n",
       "2461  46c68b0d9eb74bff8666bdb2f86a620d  0b1e1539f2cc45b7b9fa7c272da2e1d7   \n",
       "2815  512191a2ec58463fafd3fd544bf7bed6  2298d6c36e964ae4a3e7e9706d1fb8c2   \n",
       "\n",
       "      time_sent                             cust_offer_id  time_comp  \\\n",
       "533           0  0ff34474e5b245b79f396d4c5ddef96c_fb8c2_0      708.0   \n",
       "1121          0  231e1e33467647bbba31f6ba36d88541_2e1d7_0      708.0   \n",
       "1693          0  329b390a8e19481ab081d99e4e813835_fc2a4_0      690.0   \n",
       "2461          0  46c68b0d9eb74bff8666bdb2f86a620d_2e1d7_0      690.0   \n",
       "2815          0  512191a2ec58463fafd3fd544bf7bed6_fb8c2_0      708.0   \n",
       "\n",
       "      event_num  time_diff  \n",
       "533         2.0      708.0  \n",
       "1121        2.0      708.0  \n",
       "1693        2.0      690.0  \n",
       "2461        2.0      690.0  \n",
       "2815        2.0      708.0  "
      ]
     },
     "execution_count": 91,
     "metadata": {},
     "output_type": "execute_result"
    }
   ],
   "source": [
    "max_vals = matched_offers['time_diff'].sort_values(ascending = False).unique()[:5]\n",
    "print(max_vals)\n",
    "matched_offers[matched_offers['time_diff'].isin(max_vals)].head()"
   ]
  },
  {
   "cell_type": "markdown",
   "metadata": {},
   "source": [
    "Finally, we will fill the missing values resulting from our merge, with coherent values:\n",
    "    \n",
    "* reward should be set to 0, as the offer has not been redeemed.\n",
    "\n",
    "* event_c, as reward, should be set to 0, as it is the corresponding status of a received offer (we will prescind from this point of the \"viewed\" status)."
   ]
  },
  {
   "cell_type": "code",
   "execution_count": 92,
   "metadata": {},
   "outputs": [],
   "source": [
    "dict_to_fill = {'event_num':0}\n",
    "\n",
    "for key in dict_to_fill.keys():\n",
    "    matched_offers[key].fillna(dict_to_fill[key], inplace = True)\n",
    "    \n",
    "# We now perform again the \"time_diff\" calculation, so \"time_diff\" values incorporate the new arranges in \"time_comp\"\n",
    "    \n",
    "matched_offers['time_diff'] = matched_offers['time_comp'] - matched_offers['time_sent']"
   ]
  },
  {
   "cell_type": "markdown",
   "metadata": {},
   "source": [
    "### 4.3) New features for our profile dataframe"
   ]
  },
  {
   "cell_type": "markdown",
   "metadata": {},
   "source": [
    "<img src=\"images/Features.jpeg\" width = 400/>\n",
    "\n",
    "Now, we are going to include this information within the clean_profile_expanded dataframe.\n",
    "\n",
    "We will do it so, by passing the mean, max and min waiting time values per user, for all offers for that user:"
   ]
  },
  {
   "cell_type": "code",
   "execution_count": 93,
   "metadata": {},
   "outputs": [],
   "source": [
    "reply_times_per_user = matched_offers.groupby('id')['time_diff'].agg(['mean', 'max', 'min']).reset_index()\n",
    "\n",
    "renaming_cols_dict = dict(zip(['mean', 'max', 'min'], ['mean_resp_t', 'max_resp_t', 'min_resp_t']))\n",
    "\n",
    "reply_times_per_user.rename(renaming_cols_dict, axis = 1, inplace = True)"
   ]
  },
  {
   "cell_type": "markdown",
   "metadata": {},
   "source": [
    "Now, many of our users have never replied to an offer, plus some even haven't receive one (obviating the informationals).\n",
    "\n",
    "Let's see how many of our customers we don't any have information on this regard:"
   ]
  },
  {
   "cell_type": "code",
   "execution_count": 94,
   "metadata": {},
   "outputs": [],
   "source": [
    "clean_profile_expanded = pd.merge(clean_profile_expanded, reply_times_per_user, on='id', how='left')"
   ]
  },
  {
   "cell_type": "code",
   "execution_count": 95,
   "metadata": {},
   "outputs": [
    {
     "name": "stdout",
     "output_type": "stream",
     "text": [
      "2839\n"
     ]
    },
    {
     "data": {
      "text/html": [
       "<div>\n",
       "<style scoped>\n",
       "    .dataframe tbody tr th:only-of-type {\n",
       "        vertical-align: middle;\n",
       "    }\n",
       "\n",
       "    .dataframe tbody tr th {\n",
       "        vertical-align: top;\n",
       "    }\n",
       "\n",
       "    .dataframe thead th {\n",
       "        text-align: right;\n",
       "    }\n",
       "</style>\n",
       "<table border=\"1\" class=\"dataframe\">\n",
       "  <thead>\n",
       "    <tr style=\"text-align: right;\">\n",
       "      <th></th>\n",
       "      <th>age</th>\n",
       "      <th>gender</th>\n",
       "      <th>id</th>\n",
       "      <th>income</th>\n",
       "      <th>date_bmo</th>\n",
       "      <th>year_bmo</th>\n",
       "      <th>month_bmo</th>\n",
       "      <th>day_bmo</th>\n",
       "      <th>seniority</th>\n",
       "      <th>age_group</th>\n",
       "      <th>tot_offers_received</th>\n",
       "      <th>amount</th>\n",
       "      <th>tot_offers_succesful</th>\n",
       "      <th>offer_success_ratio</th>\n",
       "      <th>mean_resp_t</th>\n",
       "      <th>max_resp_t</th>\n",
       "      <th>min_resp_t</th>\n",
       "    </tr>\n",
       "  </thead>\n",
       "  <tbody>\n",
       "    <tr>\n",
       "      <th>10</th>\n",
       "      <td>61</td>\n",
       "      <td>F</td>\n",
       "      <td>a448667f336b42c9a66fc5ffd5d73772</td>\n",
       "      <td>40000.0</td>\n",
       "      <td>2018-05-01</td>\n",
       "      <td>2018</td>\n",
       "      <td>5</td>\n",
       "      <td>1</td>\n",
       "      <td>86</td>\n",
       "      <td>wise</td>\n",
       "      <td>2.0</td>\n",
       "      <td>20.78</td>\n",
       "      <td>0.0</td>\n",
       "      <td>0.0</td>\n",
       "      <td>NaN</td>\n",
       "      <td>NaN</td>\n",
       "      <td>NaN</td>\n",
       "    </tr>\n",
       "    <tr>\n",
       "      <th>17</th>\n",
       "      <td>46</td>\n",
       "      <td>F</td>\n",
       "      <td>7429a044884842d6862f516c38b1156f</td>\n",
       "      <td>59000.0</td>\n",
       "      <td>2017-09-11</td>\n",
       "      <td>2017</td>\n",
       "      <td>9</td>\n",
       "      <td>11</td>\n",
       "      <td>318</td>\n",
       "      <td>prime</td>\n",
       "      <td>3.0</td>\n",
       "      <td>2.88</td>\n",
       "      <td>0.0</td>\n",
       "      <td>0.0</td>\n",
       "      <td>NaN</td>\n",
       "      <td>NaN</td>\n",
       "      <td>NaN</td>\n",
       "    </tr>\n",
       "    <tr>\n",
       "      <th>28</th>\n",
       "      <td>20</td>\n",
       "      <td>F</td>\n",
       "      <td>02c083884c7d45b39cc68e1314fec56c</td>\n",
       "      <td>30000.0</td>\n",
       "      <td>2016-07-11</td>\n",
       "      <td>2016</td>\n",
       "      <td>7</td>\n",
       "      <td>11</td>\n",
       "      <td>745</td>\n",
       "      <td>young</td>\n",
       "      <td>2.0</td>\n",
       "      <td>29.89</td>\n",
       "      <td>0.0</td>\n",
       "      <td>0.0</td>\n",
       "      <td>NaN</td>\n",
       "      <td>NaN</td>\n",
       "      <td>NaN</td>\n",
       "    </tr>\n",
       "    <tr>\n",
       "      <th>41</th>\n",
       "      <td>45</td>\n",
       "      <td>M</td>\n",
       "      <td>186d6403f5824c739555b732f4af3f16</td>\n",
       "      <td>48000.0</td>\n",
       "      <td>2017-10-06</td>\n",
       "      <td>2017</td>\n",
       "      <td>10</td>\n",
       "      <td>6</td>\n",
       "      <td>293</td>\n",
       "      <td>prime</td>\n",
       "      <td>3.0</td>\n",
       "      <td>17.00</td>\n",
       "      <td>0.0</td>\n",
       "      <td>0.0</td>\n",
       "      <td>NaN</td>\n",
       "      <td>NaN</td>\n",
       "      <td>NaN</td>\n",
       "    </tr>\n",
       "    <tr>\n",
       "      <th>50</th>\n",
       "      <td>77</td>\n",
       "      <td>M</td>\n",
       "      <td>d8af520c4a8a4c77b921098d7d838c4d</td>\n",
       "      <td>51000.0</td>\n",
       "      <td>2016-07-30</td>\n",
       "      <td>2016</td>\n",
       "      <td>7</td>\n",
       "      <td>30</td>\n",
       "      <td>726</td>\n",
       "      <td>wise</td>\n",
       "      <td>3.0</td>\n",
       "      <td>23.81</td>\n",
       "      <td>0.0</td>\n",
       "      <td>0.0</td>\n",
       "      <td>NaN</td>\n",
       "      <td>NaN</td>\n",
       "      <td>NaN</td>\n",
       "    </tr>\n",
       "  </tbody>\n",
       "</table>\n",
       "</div>"
      ],
      "text/plain": [
       "    age gender                                id   income   date_bmo  \\\n",
       "10   61      F  a448667f336b42c9a66fc5ffd5d73772  40000.0 2018-05-01   \n",
       "17   46      F  7429a044884842d6862f516c38b1156f  59000.0 2017-09-11   \n",
       "28   20      F  02c083884c7d45b39cc68e1314fec56c  30000.0 2016-07-11   \n",
       "41   45      M  186d6403f5824c739555b732f4af3f16  48000.0 2017-10-06   \n",
       "50   77      M  d8af520c4a8a4c77b921098d7d838c4d  51000.0 2016-07-30   \n",
       "\n",
       "    year_bmo  month_bmo  day_bmo  seniority age_group  tot_offers_received  \\\n",
       "10      2018          5        1         86      wise                  2.0   \n",
       "17      2017          9       11        318     prime                  3.0   \n",
       "28      2016          7       11        745     young                  2.0   \n",
       "41      2017         10        6        293     prime                  3.0   \n",
       "50      2016          7       30        726      wise                  3.0   \n",
       "\n",
       "    amount  tot_offers_succesful  offer_success_ratio  mean_resp_t  \\\n",
       "10   20.78                   0.0                  0.0          NaN   \n",
       "17    2.88                   0.0                  0.0          NaN   \n",
       "28   29.89                   0.0                  0.0          NaN   \n",
       "41   17.00                   0.0                  0.0          NaN   \n",
       "50   23.81                   0.0                  0.0          NaN   \n",
       "\n",
       "    max_resp_t  min_resp_t  \n",
       "10         NaN         NaN  \n",
       "17         NaN         NaN  \n",
       "28         NaN         NaN  \n",
       "41         NaN         NaN  \n",
       "50         NaN         NaN  "
      ]
     },
     "execution_count": 95,
     "metadata": {},
     "output_type": "execute_result"
    }
   ],
   "source": [
    "# Checking how many users don't have ever used an offer:\n",
    "print(clean_profile_expanded[clean_profile_expanded['mean_resp_t'].isna()]['id'].count())\n",
    "clean_profile_expanded[clean_profile_expanded['mean_resp_t'].isna()].head()"
   ]
  },
  {
   "cell_type": "markdown",
   "metadata": {},
   "source": [
    "### 4.4) Merging offers with transactions"
   ]
  },
  {
   "cell_type": "markdown",
   "metadata": {},
   "source": [
    "Now, it is the clean_transactions turn:\n",
    "\n",
    "We will merge this table to the matched_offers, to obtain the transactional value of each redeemed offer:"
   ]
  },
  {
   "cell_type": "code",
   "execution_count": 96,
   "metadata": {},
   "outputs": [],
   "source": [
    "# We assume for the following procedures that the combination id-time of a purchase is unique.\n",
    "# Here we verify it before continuing:\n",
    "\n",
    "unique_id_times = set(clean_transactions['id'] + clean_transactions['time'].astype('str'))\n",
    "\n",
    "assert len(clean_transactions) == len(unique_id_times)"
   ]
  },
  {
   "cell_type": "code",
   "execution_count": 97,
   "metadata": {},
   "outputs": [
    {
     "data": {
      "text/html": [
       "<div>\n",
       "<style scoped>\n",
       "    .dataframe tbody tr th:only-of-type {\n",
       "        vertical-align: middle;\n",
       "    }\n",
       "\n",
       "    .dataframe tbody tr th {\n",
       "        vertical-align: top;\n",
       "    }\n",
       "\n",
       "    .dataframe thead th {\n",
       "        text-align: right;\n",
       "    }\n",
       "</style>\n",
       "<table border=\"1\" class=\"dataframe\">\n",
       "  <thead>\n",
       "    <tr style=\"text-align: right;\">\n",
       "      <th></th>\n",
       "      <th>id</th>\n",
       "      <th>offer_id</th>\n",
       "      <th>time_sent</th>\n",
       "      <th>cust_offer_id</th>\n",
       "      <th>time_comp</th>\n",
       "      <th>event_num</th>\n",
       "      <th>time_diff</th>\n",
       "      <th>amount</th>\n",
       "    </tr>\n",
       "  </thead>\n",
       "  <tbody>\n",
       "    <tr>\n",
       "      <th>0</th>\n",
       "      <td>0020c2b971eb4e9188eac86d93036a77</td>\n",
       "      <td>fafdcd668e3743c1bb461111dcafc2a4</td>\n",
       "      <td>0</td>\n",
       "      <td>0020c2b971eb4e9188eac86d93036a77_fc2a4_0</td>\n",
       "      <td>54.0</td>\n",
       "      <td>2.0</td>\n",
       "      <td>54.0</td>\n",
       "      <td>17.63</td>\n",
       "    </tr>\n",
       "    <tr>\n",
       "      <th>1</th>\n",
       "      <td>005500a7188546ff8a767329a2f7c76a</td>\n",
       "      <td>ae264e3637204a6fb9bb56bc8210ddfd</td>\n",
       "      <td>0</td>\n",
       "      <td>005500a7188546ff8a767329a2f7c76a_0ddfd_0</td>\n",
       "      <td>NaN</td>\n",
       "      <td>0.0</td>\n",
       "      <td>NaN</td>\n",
       "      <td>0.00</td>\n",
       "    </tr>\n",
       "    <tr>\n",
       "      <th>2</th>\n",
       "      <td>0056df74b63b4298809f0b375a304cf4</td>\n",
       "      <td>9b98b8c7a33c4b65b9aebfe6a799e6d9</td>\n",
       "      <td>0</td>\n",
       "      <td>0056df74b63b4298809f0b375a304cf4_9e6d9_0</td>\n",
       "      <td>132.0</td>\n",
       "      <td>2.0</td>\n",
       "      <td>132.0</td>\n",
       "      <td>27.86</td>\n",
       "    </tr>\n",
       "    <tr>\n",
       "      <th>3</th>\n",
       "      <td>00715b6e55c3431cb56ff7307eb19675</td>\n",
       "      <td>ae264e3637204a6fb9bb56bc8210ddfd</td>\n",
       "      <td>0</td>\n",
       "      <td>00715b6e55c3431cb56ff7307eb19675_0ddfd_0</td>\n",
       "      <td>12.0</td>\n",
       "      <td>2.0</td>\n",
       "      <td>12.0</td>\n",
       "      <td>27.26</td>\n",
       "    </tr>\n",
       "    <tr>\n",
       "      <th>4</th>\n",
       "      <td>00840a2ca5d2408e982d56544dc14ffd</td>\n",
       "      <td>2906b810c7d4411798c6938adc9daaa5</td>\n",
       "      <td>0</td>\n",
       "      <td>00840a2ca5d2408e982d56544dc14ffd_daaa5_0</td>\n",
       "      <td>540.0</td>\n",
       "      <td>2.0</td>\n",
       "      <td>540.0</td>\n",
       "      <td>6.05</td>\n",
       "    </tr>\n",
       "  </tbody>\n",
       "</table>\n",
       "</div>"
      ],
      "text/plain": [
       "                                 id                          offer_id  \\\n",
       "0  0020c2b971eb4e9188eac86d93036a77  fafdcd668e3743c1bb461111dcafc2a4   \n",
       "1  005500a7188546ff8a767329a2f7c76a  ae264e3637204a6fb9bb56bc8210ddfd   \n",
       "2  0056df74b63b4298809f0b375a304cf4  9b98b8c7a33c4b65b9aebfe6a799e6d9   \n",
       "3  00715b6e55c3431cb56ff7307eb19675  ae264e3637204a6fb9bb56bc8210ddfd   \n",
       "4  00840a2ca5d2408e982d56544dc14ffd  2906b810c7d4411798c6938adc9daaa5   \n",
       "\n",
       "   time_sent                             cust_offer_id  time_comp  event_num  \\\n",
       "0          0  0020c2b971eb4e9188eac86d93036a77_fc2a4_0       54.0        2.0   \n",
       "1          0  005500a7188546ff8a767329a2f7c76a_0ddfd_0        NaN        0.0   \n",
       "2          0  0056df74b63b4298809f0b375a304cf4_9e6d9_0      132.0        2.0   \n",
       "3          0  00715b6e55c3431cb56ff7307eb19675_0ddfd_0       12.0        2.0   \n",
       "4          0  00840a2ca5d2408e982d56544dc14ffd_daaa5_0      540.0        2.0   \n",
       "\n",
       "   time_diff  amount  \n",
       "0       54.0   17.63  \n",
       "1        NaN    0.00  \n",
       "2      132.0   27.86  \n",
       "3       12.0   27.26  \n",
       "4      540.0    6.05  "
      ]
     },
     "execution_count": 97,
     "metadata": {},
     "output_type": "execute_result"
    }
   ],
   "source": [
    "expanded_matched_offers = pd.merge(matched_offers,\n",
    "                                   clean_transactions[['id', 'time', 'amount']],\n",
    "                                   left_on = ['id', 'time_comp'],\n",
    "                                   right_on = ['id', 'time'],\n",
    "                                   how = 'left')\n",
    "\n",
    "expanded_matched_offers.drop('time', axis = 1, inplace = True)\n",
    "\n",
    "expanded_matched_offers['amount'].fillna(0, inplace = True)\n",
    "\n",
    "assert expanded_matched_offers.shape[0] == matched_offers.shape[0]\n",
    "\n",
    "expanded_matched_offers.head()"
   ]
  },
  {
   "cell_type": "markdown",
   "metadata": {},
   "source": [
    "Appart from that, we can also try to determine how long ago had been the last purchase performed before sending the offer:"
   ]
  },
  {
   "cell_type": "code",
   "execution_count": 98,
   "metadata": {},
   "outputs": [],
   "source": [
    "prov = pd.merge(matched_offers,\n",
    "                clean_transactions[['id', 'time', 'amount']],\n",
    "                on=['id'],\n",
    "                how = 'left')\n",
    "\n",
    "# Filtering the dataframe to keep only those purchases that occured previously to an offer, calculating the time difference\n",
    "# and selecting the minimums of those differences:\n",
    "\n",
    "prov = prov[(prov['time'] >= prov['time_sent'])]\n",
    "prov['t_fr_lst_pur'] =prov['time'] - prov['time_sent']\n",
    "\n",
    "agg_dict = {'t_fr_lst_pur':'min', 'amount':'mean'}\n",
    "last_purchase_times = prov.groupby('cust_offer_id').agg(agg_dict).reset_index()\n",
    "last_purchase_times.rename({'amount':'mean_am'}, axis=1, inplace=True)"
   ]
  },
  {
   "cell_type": "code",
   "execution_count": 99,
   "metadata": {},
   "outputs": [],
   "source": [
    "expanded_matched_offers = expanded_matched_offers.merge(last_purchase_times, on=['cust_offer_id'], how='left')"
   ]
  },
  {
   "cell_type": "markdown",
   "metadata": {},
   "source": [
    "It is possible that many offers have been sent to customers that had still not bought anything. Let's check how many of these cases there are:"
   ]
  },
  {
   "cell_type": "code",
   "execution_count": 100,
   "metadata": {},
   "outputs": [
    {
     "data": {
      "text/plain": [
       "3383"
      ]
     },
     "execution_count": 100,
     "metadata": {},
     "output_type": "execute_result"
    }
   ],
   "source": [
    "len(expanded_matched_offers[expanded_matched_offers['t_fr_lst_pur'].isna()])"
   ]
  },
  {
   "cell_type": "markdown",
   "metadata": {},
   "source": [
    "Before modelling, we will have to decide what to do with these values."
   ]
  },
  {
   "cell_type": "code",
   "execution_count": 101,
   "metadata": {},
   "outputs": [
    {
     "data": {
      "text/html": [
       "<div>\n",
       "<style scoped>\n",
       "    .dataframe tbody tr th:only-of-type {\n",
       "        vertical-align: middle;\n",
       "    }\n",
       "\n",
       "    .dataframe tbody tr th {\n",
       "        vertical-align: top;\n",
       "    }\n",
       "\n",
       "    .dataframe thead th {\n",
       "        text-align: right;\n",
       "    }\n",
       "</style>\n",
       "<table border=\"1\" class=\"dataframe\">\n",
       "  <thead>\n",
       "    <tr style=\"text-align: right;\">\n",
       "      <th></th>\n",
       "      <th>id</th>\n",
       "      <th>time</th>\n",
       "      <th>pur_interval</th>\n",
       "    </tr>\n",
       "  </thead>\n",
       "  <tbody>\n",
       "    <tr>\n",
       "      <th>0</th>\n",
       "      <td>0009655768c64bdeb2e877511632db8f</td>\n",
       "      <td>414</td>\n",
       "      <td>186</td>\n",
       "    </tr>\n",
       "    <tr>\n",
       "      <th>1</th>\n",
       "      <td>0009655768c64bdeb2e877511632db8f</td>\n",
       "      <td>528</td>\n",
       "      <td>114</td>\n",
       "    </tr>\n",
       "    <tr>\n",
       "      <th>2</th>\n",
       "      <td>0009655768c64bdeb2e877511632db8f</td>\n",
       "      <td>552</td>\n",
       "      <td>24</td>\n",
       "    </tr>\n",
       "    <tr>\n",
       "      <th>3</th>\n",
       "      <td>0009655768c64bdeb2e877511632db8f</td>\n",
       "      <td>576</td>\n",
       "      <td>24</td>\n",
       "    </tr>\n",
       "    <tr>\n",
       "      <th>4</th>\n",
       "      <td>0009655768c64bdeb2e877511632db8f</td>\n",
       "      <td>660</td>\n",
       "      <td>84</td>\n",
       "    </tr>\n",
       "  </tbody>\n",
       "</table>\n",
       "</div>"
      ],
      "text/plain": [
       "                                 id  time  pur_interval\n",
       "0  0009655768c64bdeb2e877511632db8f   414           186\n",
       "1  0009655768c64bdeb2e877511632db8f   528           114\n",
       "2  0009655768c64bdeb2e877511632db8f   552            24\n",
       "3  0009655768c64bdeb2e877511632db8f   576            24\n",
       "4  0009655768c64bdeb2e877511632db8f   660            84"
      ]
     },
     "execution_count": 101,
     "metadata": {},
     "output_type": "execute_result"
    }
   ],
   "source": [
    "automerged_cln_trans = clean_transactions.merge(clean_transactions, on='id')\n",
    "\n",
    "automerged_cln_trans = automerged_cln_trans[automerged_cln_trans['time_x']>automerged_cln_trans['time_y']]\n",
    "\n",
    "automerged_cln_trans['pur_interval'] = automerged_cln_trans['time_x'] - automerged_cln_trans['time_y']\n",
    "\n",
    "interval_btw_purchs = automerged_cln_trans.groupby(['id', 'time_x'])['pur_interval'].min().reset_index()\n",
    "\n",
    "interval_btw_purchs.rename({'time_x':'time'}, axis=1, inplace=True)\n",
    "\n",
    "interval_btw_purchs.head()"
   ]
  },
  {
   "cell_type": "code",
   "execution_count": 102,
   "metadata": {},
   "outputs": [],
   "source": [
    "clean_transactions = clean_transactions.merge(interval_btw_purchs, on=['id', 'time'], how='left')"
   ]
  },
  {
   "cell_type": "markdown",
   "metadata": {},
   "source": [
    "### 4.5) More features for our profile dataframe"
   ]
  },
  {
   "cell_type": "markdown",
   "metadata": {},
   "source": [
    "<img src=\"images/feature_factory.png\" width = 400/>\n",
    "\n",
    "With that information, aggregating by user we can determine how much each user spent in all our offers, and by merging, we include that information also in our profile dataframe:"
   ]
  },
  {
   "cell_type": "code",
   "execution_count": 103,
   "metadata": {},
   "outputs": [
    {
     "data": {
      "text/plain": [
       "333"
      ]
     },
     "execution_count": 103,
     "metadata": {},
     "output_type": "execute_result"
    }
   ],
   "source": [
    "clean_profile_expanded = pd.merge(clean_profile_expanded, \n",
    "                                  clean_transactions.groupby('id')['amount'].count().reset_index().rename({'amount':'nbr_pur'}, axis=1), \n",
    "                                  on='id', \n",
    "                                  how='left')\n",
    "\n",
    "clean_profile_expanded[clean_profile_expanded['nbr_pur'].isna()].shape[0]"
   ]
  },
  {
   "cell_type": "code",
   "execution_count": 104,
   "metadata": {},
   "outputs": [
    {
     "data": {
      "text/plain": [
       "61"
      ]
     },
     "execution_count": 104,
     "metadata": {},
     "output_type": "execute_result"
    }
   ],
   "source": [
    "clean_profile_expanded = pd.merge(clean_profile_expanded,\n",
    "                                  expanded_matched_offers.groupby('id')['amount'].sum().reset_index(),\n",
    "                                  on = ['id'],\n",
    "                                  how = 'left')\n",
    "\n",
    "clean_profile_expanded.rename({'amount_x':'tot_am_spent', 'amount_y':'tot_am_offers'}, axis = 1, inplace = True)\n",
    "\n",
    "# Again, sanity check: there should be only 61 rows:\n",
    "clean_profile_expanded[clean_profile_expanded['tot_am_offers'].isna()].shape[0]"
   ]
  },
  {
   "cell_type": "code",
   "execution_count": 105,
   "metadata": {},
   "outputs": [
    {
     "data": {
      "text/plain": [
       "61"
      ]
     },
     "execution_count": 105,
     "metadata": {},
     "output_type": "execute_result"
    }
   ],
   "source": [
    "clean_profile_expanded = pd.merge(clean_profile_expanded,\n",
    "                                  clean_transactions.groupby('id')['pur_interval'].mean().reset_index(),\n",
    "                                  on = ['id'],\n",
    "                                  how = 'left')\n",
    "\n",
    "# Again, sanity check: 61 rows:\n",
    "clean_profile_expanded[clean_profile_expanded['tot_am_offers'].isna()].shape[0]"
   ]
  },
  {
   "cell_type": "markdown",
   "metadata": {},
   "source": [
    "### 4.6) Features from portfolio to our matches dataframe"
   ]
  },
  {
   "cell_type": "markdown",
   "metadata": {},
   "source": [
    "We now merge our expanded matched offers dataframe with the portfolio dataframe, to incorporate the information that it contains:"
   ]
  },
  {
   "cell_type": "code",
   "execution_count": 106,
   "metadata": {},
   "outputs": [],
   "source": [
    "total_matched_offers = pd.merge(expanded_matched_offers,\n",
    "                               portfolio[['id','difficulty', 'web', 'email', 'mobile', 'social', 'reward']],\n",
    "                               left_on = ['offer_id'],\n",
    "                               right_on = ['id'],\n",
    "                               how = 'left')\n",
    "\n",
    "total_matched_offers.drop('id_y', axis=1, inplace=True)\n",
    "total_matched_offers.rename({'id_x':'id'}, axis=1, inplace=True)"
   ]
  },
  {
   "cell_type": "code",
   "execution_count": 107,
   "metadata": {},
   "outputs": [
    {
     "data": {
      "text/plain": [
       "20757"
      ]
     },
     "execution_count": 107,
     "metadata": {},
     "output_type": "execute_result"
    }
   ],
   "source": [
    "total_matched_offers[total_matched_offers['time_comp'].isna()]['id'].count()"
   ]
  },
  {
   "cell_type": "markdown",
   "metadata": {},
   "source": [
    "### 4.7) Incorporating our user propensity to offers"
   ]
  },
  {
   "cell_type": "markdown",
   "metadata": {},
   "source": [
    "<img src=\"images/Offers.jpg\" width = 400/>\n",
    "\n",
    "Now, the last of our features to be included, we are going to take a last glance to our expanded profile table, to categorize our users in function to their propensity to exploiting our offers.\n",
    "\n",
    "Then we will pass this information to our table.\n",
    "\n",
    "But first, let's take a closer look to the number of users by offer percentage of completions:"
   ]
  },
  {
   "cell_type": "code",
   "execution_count": 108,
   "metadata": {},
   "outputs": [
    {
     "data": {
      "image/png": "[encoded data removed]",
      "text/plain": [
       "<Figure size 1080x360 with 1 Axes>"
      ]
     },
     "metadata": {
      "needs_background": "light"
     },
     "output_type": "display_data"
    }
   ],
   "source": [
    "# We will also check the \"low number effect\" of users with low offer counts:\n",
    "\n",
    "# n_offers, filters users with that number and above\n",
    "# can be changed at will here:\n",
    "n_offers=2\n",
    "\n",
    "# calculi:\n",
    "success_ratios = clean_profile_expanded['offer_success_ratio'].value_counts()\n",
    "success_ratios2 = clean_profile_expanded[clean_profile_expanded['tot_offers_received']>=n_offers]['offer_success_ratio'].value_counts()\n",
    "\n",
    "# graphs:\n",
    "plt.bar(success_ratios.index, success_ratios, width=0.05, label='all users')\n",
    "plt.bar(success_ratios2.index, success_ratios2, width=0.05, label='users with at least {} offers'.format(n_offers))\n",
    "plt.legend()\n",
    "plt.title('Customer totals per percentage of offers acepted');"
   ]
  },
  {
   "cell_type": "code",
   "execution_count": 109,
   "metadata": {},
   "outputs": [
    {
     "data": {
      "text/plain": [
       "1.0    316\n",
       "0.0    302\n",
       "Name: offer_success_ratio, dtype: int64"
      ]
     },
     "execution_count": 109,
     "metadata": {},
     "output_type": "execute_result"
    }
   ],
   "source": [
    "clean_profile_expanded[clean_profile_expanded['tot_offers_received'] < n_offers]['offer_success_ratio'].value_counts()"
   ]
  },
  {
   "cell_type": "markdown",
   "metadata": {},
   "source": [
    "We also wanted to inspect how many _\"lowballers\"_ (people with low offer accounts, that are counted into our statistics) could have on our totals.\n",
    "\n",
    "After this inspection, we take a modelling decision:\n",
    "\n",
    "Ussers with acceptance values of 0.35 and and below and n_offers>1 will be assigned a 0 (non interested, do not send offers)\n",
    "Ussers with acceptance values of 0.65 and above and n_offers>1 will be assigned a 1 (interested, send offers)\n",
    "Ussers inbetween those values and users with n_offers=1 will be assigned a 0.5 (shelter value for the model, indecisive)\n",
    "\n",
    "n_offers is set at 1 as the minimum, because the maximum of (non informative) offers received by a customer is 6. Going higher seemed excessive.\n",
    "\n",
    "Now, we apply this rule to our clean_profile_expanded dataframe:"
   ]
  },
  {
   "cell_type": "code",
   "execution_count": 110,
   "metadata": {},
   "outputs": [],
   "source": [
    "# Function for distributing scores in function of 'offer_success_ratio'\n",
    "def scoring_fun(x):\n",
    "    \n",
    "    if x>0.65:\n",
    "        return 1\n",
    "    elif x<0.35:\n",
    "        return 0\n",
    "    else:\n",
    "        return 0.5\n",
    "\n",
    "# Applying function:\n",
    "clean_profile_expanded['score'] = clean_profile_expanded['offer_success_ratio'].apply(scoring_fun)\n",
    "\n",
    "# Correcting for those customers to which we didn't send enough emails:\n",
    "clean_profile_expanded.loc[clean_profile_expanded['tot_offers_received']<=n_offers-1, 'score'] = 0.5"
   ]
  },
  {
   "cell_type": "markdown",
   "metadata": {},
   "source": [
    "We now must drop the column used to define our client scores, and also, *'tot_offers_succesful'*, very related to it, to avoid having our target variable in our features:"
   ]
  },
  {
   "cell_type": "code",
   "execution_count": 111,
   "metadata": {},
   "outputs": [
    {
     "data": {
      "text/plain": [
       "<matplotlib.axes._subplots.AxesSubplot at 0x24840f84e48>"
      ]
     },
     "execution_count": 111,
     "metadata": {},
     "output_type": "execute_result"
    },
    {
     "data": {
      "image/png": "[encoded data removed]",
      "text/plain": [
       "<Figure size 1080x360 with 1 Axes>"
      ]
     },
     "metadata": {
      "needs_background": "light"
     },
     "output_type": "display_data"
    }
   ],
   "source": [
    "clean_profile_expanded.corr()['offer_success_ratio'].plot('bar')"
   ]
  },
  {
   "cell_type": "code",
   "execution_count": 112,
   "metadata": {},
   "outputs": [],
   "source": [
    "# Dropping our column and the related column:\n",
    "clean_profile_expanded.drop(['offer_success_ratio', 'tot_offers_succesful'], axis=1, inplace=True)"
   ]
  },
  {
   "cell_type": "markdown",
   "metadata": {},
   "source": [
    "### 4.8) Passing this information to our offers table"
   ]
  },
  {
   "cell_type": "code",
   "execution_count": 113,
   "metadata": {},
   "outputs": [
    {
     "data": {
      "text/plain": [
       "0"
      ]
     },
     "execution_count": 113,
     "metadata": {},
     "output_type": "execute_result"
    }
   ],
   "source": [
    "total_matched_offers = pd.merge(total_matched_offers, \n",
    "                                clean_profile_expanded[['id', 'score']], \n",
    "                                on='id', \n",
    "                                how='left')\n",
    "\n",
    "# Sanity check: as we filtered offer and transaction tables by customers we had information on, there should be no null values:\n",
    "total_matched_offers[total_matched_offers['score'].isna()].shape[0]"
   ]
  },
  {
   "cell_type": "markdown",
   "metadata": {},
   "source": [
    "### 4.9) Final touches"
   ]
  },
  {
   "cell_type": "markdown",
   "metadata": {},
   "source": [
    "<img src=\"images/cherry.jpg\" width = 400/>\n",
    "\n",
    "Now we have our two definitive tables:\n",
    "    \n",
    "* clean_profile_expanded\n",
    "\n",
    "* total_matched_offers\n",
    "\n",
    "That will use for our models.\n",
    "\n",
    "But before, we need to address some issues, like the nulls present still in our derived features. The moment has come that we decide on what to do with each one of them:"
   ]
  },
  {
   "cell_type": "code",
   "execution_count": 114,
   "metadata": {},
   "outputs": [],
   "source": [
    "nullcols_cpe = {col:clean_profile_expanded[col].isna().sum() for col in clean_profile_expanded.columns if clean_profile_expanded[col].isna().sum()>0}\n",
    "nullcols_tmo = {col:total_matched_offers[col].isna().sum() for col in total_matched_offers.columns if total_matched_offers[col].isna().sum()>0}"
   ]
  },
  {
   "cell_type": "markdown",
   "metadata": {},
   "source": [
    "First we go after clean_profile_expanded:"
   ]
  },
  {
   "cell_type": "code",
   "execution_count": 115,
   "metadata": {},
   "outputs": [
    {
     "data": {
      "text/plain": [
       "{'mean_resp_t': 2839,\n",
       " 'max_resp_t': 2839,\n",
       " 'min_resp_t': 2839,\n",
       " 'nbr_pur': 333,\n",
       " 'tot_am_offers': 61,\n",
       " 'pur_interval': 652}"
      ]
     },
     "execution_count": 115,
     "metadata": {},
     "output_type": "execute_result"
    }
   ],
   "source": [
    "nullcols_cpe"
   ]
  },
  {
   "cell_type": "code",
   "execution_count": 116,
   "metadata": {},
   "outputs": [
    {
     "data": {
      "text/plain": [
       "array([ 1., nan])"
      ]
     },
     "execution_count": 116,
     "metadata": {},
     "output_type": "execute_result"
    }
   ],
   "source": [
    "clean_profile_expanded[clean_profile_expanded['pur_interval'].isna()]['nbr_pur'].unique()"
   ]
  },
  {
   "cell_type": "markdown",
   "metadata": {},
   "source": [
    "We decide the following:\n",
    "    \n",
    "**mean_resp_t, max_resp_t, min_resp_t**\n",
    "\n",
    "Time responses to an offer. Nulls are users that never responded to offers. For our ML to make sense of these variables, we will substitute these values per the double of the maximum value found in the respective column.\n",
    "\n",
    "**tot_am_offers:**\n",
    "\n",
    "Users that have not performed any purchase. Seems sensible to assign them a 0.\n",
    "\n",
    "**nbr_pur:**\n",
    "\n",
    "Users that have not performed any purchases. 0 will be assigned.\n",
    "\n",
    "**pur_interval:**\n",
    "\n",
    "Users that have performed just one or no purchases, so the method previously used to determine pur_interval failed. We will segregate those users: those who have one purchase will be assigned transactions['time'].max()/2, those with no purchases will be assigned the maximum value found in the column multiplied by two."
   ]
  },
  {
   "cell_type": "code",
   "execution_count": 117,
   "metadata": {},
   "outputs": [],
   "source": [
    "cols = ['mean_resp_t', 'max_resp_t', 'min_resp_t', 'pur_interval']\n",
    "\n",
    "for col in cols:\n",
    "    val = 2 * clean_profile_expanded[col].max()\n",
    "    clean_profile_expanded[col].fillna(val, inplace = True)\n",
    "    \n",
    "clean_profile_expanded['tot_am_offers'].fillna(0, inplace = True)\n",
    "clean_profile_expanded['nbr_pur'].fillna(0, inplace = True)\n",
    "\n",
    "clean_profile_expanded.loc[clean_profile_expanded['nbr_pur'] ==1, 'pur_interval'] = 0"
   ]
  },
  {
   "cell_type": "code",
   "execution_count": 118,
   "metadata": {},
   "outputs": [
    {
     "data": {
      "text/plain": [
       "[]"
      ]
     },
     "execution_count": 118,
     "metadata": {},
     "output_type": "execute_result"
    }
   ],
   "source": [
    "[col for col in clean_profile_expanded.columns if clean_profile_expanded[col].isna().sum()>0]"
   ]
  },
  {
   "cell_type": "markdown",
   "metadata": {},
   "source": [
    "Let's see now the situation on total_matched_offers:"
   ]
  },
  {
   "cell_type": "code",
   "execution_count": 119,
   "metadata": {},
   "outputs": [
    {
     "data": {
      "text/plain": [
       "{'time_comp': 20757, 'time_diff': 20757, 't_fr_lst_pur': 3383, 'mean_am': 3383}"
      ]
     },
     "execution_count": 119,
     "metadata": {},
     "output_type": "execute_result"
    }
   ],
   "source": [
    "nullcols_tmo"
   ]
  },
  {
   "cell_type": "markdown",
   "metadata": {},
   "source": [
    "Now, nulls on these columns come from left joins in which no coincidence was found.\n",
    "\n",
    "**time_comp:**\n",
    "    \n",
    "Time of the offer completion. Nulls will be replaced by zeros.\n",
    "\n",
    "**time_diff:**\n",
    "    \n",
    "Time difference between offer sending and its completion. As we don't know this value at the moment of sending an offer, we will drop this column. We will do that later.\n",
    "\n",
    "**t_fr_lst_pur:**\n",
    "    \n",
    "Time from last purchase. If no previous purchase was performed, it will be assigned to double of the maximum found in the feature.\n",
    "\n",
    "**mean_am:**\n",
    "    \n",
    "Mean ammount spent in previous purchases. 0 will be assigned."
   ]
  },
  {
   "cell_type": "code",
   "execution_count": 120,
   "metadata": {},
   "outputs": [],
   "source": [
    "total_matched_offers['time_comp'].fillna(0, inplace=True)\n",
    "\n",
    "t_fr_lst_pur_max = total_matched_offers['t_fr_lst_pur'].max()\n",
    "total_matched_offers['t_fr_lst_pur'].fillna(t_fr_lst_pur_max, inplace=True)\n",
    "\n",
    "total_matched_offers['mean_am'].fillna(0, inplace=True)"
   ]
  },
  {
   "cell_type": "code",
   "execution_count": 121,
   "metadata": {},
   "outputs": [
    {
     "data": {
      "text/plain": [
       "['time_diff']"
      ]
     },
     "execution_count": 121,
     "metadata": {},
     "output_type": "execute_result"
    }
   ],
   "source": [
    "[col for col in total_matched_offers.columns if total_matched_offers[col].isna().sum()>0]"
   ]
  },
  {
   "cell_type": "markdown",
   "metadata": {},
   "source": [
    "Finally, as we explained above, we initially decided that we would use the following code:\n",
    "\n",
    "0 - offer received\n",
    "1 - offer read\n",
    "2 - offer completed\n",
    "\n",
    "But, as we are not going to use the \"viewed\" information for our purposes, we decided to prescind for those values.\n",
    "\n",
    "Now, there are currently only two values present:\n",
    "\n",
    "0 - offer received\n",
    "2 - offer completed\n",
    "\n",
    "Those values are present in the 'event_c' (from *event completed* in our total_matched_offers dataframe:"
   ]
  },
  {
   "cell_type": "code",
   "execution_count": 122,
   "metadata": {},
   "outputs": [
    {
     "data": {
      "text/plain": [
       "2.0    32444\n",
       "0.0    20757\n",
       "Name: event_num, dtype: int64"
      ]
     },
     "execution_count": 122,
     "metadata": {},
     "output_type": "execute_result"
    }
   ],
   "source": [
    "total_matched_offers['event_num'].value_counts()"
   ]
  },
  {
   "cell_type": "markdown",
   "metadata": {},
   "source": [
    "So, as it is more sensible, we will use the values 0 and 1 to define those states, and create an \"y\" column for them, as it is customary:"
   ]
  },
  {
   "cell_type": "code",
   "execution_count": 123,
   "metadata": {},
   "outputs": [],
   "source": [
    "total_matched_offers['y'] = total_matched_offers['event_num'].apply(lambda x: x if x==0 else 1).astype('int')\n",
    "\n",
    "# We now drop the original column to avoid a column in our feature space that fits EXACTLY our target variable:\n",
    "total_matched_offers.drop('event_num', axis=1, inplace=True)"
   ]
  },
  {
   "cell_type": "markdown",
   "metadata": {},
   "source": [
    "We will select the appropriate features from each tablel later.\n",
    "\n",
    "Now we will save these files into our workspace:"
   ]
  },
  {
   "cell_type": "code",
   "execution_count": 124,
   "metadata": {},
   "outputs": [],
   "source": [
    "path = 'treated_data'\n",
    "\n",
    "if not os.path.exists(path):\n",
    "    os.mkdir(path)\n",
    "\n",
    "clean_profile_expanded_path = os.path.join(path, 'clean_profile_expanded.csv')\n",
    "total_matched_offers_path = os.path.join(path, 'total_matched_offers.csv')\n",
    "\n",
    "clean_profile_expanded.to_csv(clean_profile_expanded_path, sep = ';', index=False)\n",
    "total_matched_offers.to_csv(total_matched_offers_path, sep = ';', index=False)"
   ]
  }
 ],
 "metadata": {
  "kernelspec": {
   "display_name": "Python 3",
   "language": "python",
   "name": "python3"
  },
  "language_info": {
   "codemirror_mode": {
    "name": "ipython",
    "version": 3
   },
   "file_extension": ".py",
   "mimetype": "text/x-python",
   "name": "python",
   "nbconvert_exporter": "python",
   "pygments_lexer": "ipython3",
   "version": "3.7.3"
  }
 },
 "nbformat": 4,
 "nbformat_minor": 2
}
