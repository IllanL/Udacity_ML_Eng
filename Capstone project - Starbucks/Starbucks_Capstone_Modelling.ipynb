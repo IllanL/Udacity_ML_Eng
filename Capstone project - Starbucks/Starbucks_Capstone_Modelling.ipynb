{
 "cells": [
  {
   "cell_type": "markdown",
   "metadata": {},
   "source": [
    "# Starbucks - Capstone project\n",
    "\n",
    "<br>\n",
    "<br>\n",
    "\n",
    "<img src='images/st02.png' width = 400>\n",
    "\n",
    "<br>\n",
    "\n",
    "\n",
    "# Modelling\n",
    "\n",
    "Along our first script we have explored our data, adapting formats, making it look prettier, and extracting several new features in the process.\n",
    "\n",
    "This first part was more the _\"Data Engineering-like\"_ part of the job.\n",
    "\n",
    "In this second part, we will focus in our models:"
   ]
  },
  {
   "cell_type": "markdown",
   "metadata": {},
   "source": [
    "# 1) Loading required packages and reading in the files"
   ]
  },
  {
   "cell_type": "code",
   "execution_count": 1,
   "metadata": {},
   "outputs": [],
   "source": [
    "import pandas as pd\n",
    "import numpy as np\n",
    "import math\n",
    "import json\n",
    "import os\n",
    "import datetime as dt\n",
    "\n",
    "from collections import Counter\n",
    "\n",
    "from sklearn.metrics import explained_variance_score\n",
    "from sklearn.model_selection import train_test_split\n",
    "from sklearn.metrics import confusion_matrix\n",
    "from sklearn.preprocessing import MinMaxScaler\n",
    "from sklearn.metrics import explained_variance_score\n",
    "from sklearn.metrics import accuracy_score\n",
    "from sklearn.model_selection import cross_validate\n",
    "from sklearn.model_selection import GridSearchCV\n",
    "\n",
    "from sklearn.decomposition import PCA\n",
    "from sklearn.cluster import DBSCAN\n",
    "from sklearn.cluster import KMeans\n",
    "\n",
    "from sklearn.naive_bayes import MultinomialNB\n",
    "from sklearn.naive_bayes import BernoulliNB\n",
    "from sklearn.naive_bayes import GaussianNB\n",
    "from sklearn.linear_model import LinearRegression\n",
    "from sklearn.linear_model import LogisticRegression\n",
    "from sklearn.linear_model import SGDClassifier\n",
    "from sklearn.svm import SVC\n",
    "from sklearn.neighbors import NearestNeighbors\n",
    "from sklearn.ensemble import RandomForestClassifier\n",
    "\n",
    "import matplotlib.pyplot as plt\n",
    "import seaborn as sns\n",
    "%matplotlib inline"
   ]
  },
  {
   "cell_type": "code",
   "execution_count": 2,
   "metadata": {},
   "outputs": [],
   "source": [
    "plt.rcParams['figure.figsize'] = [15, 5]"
   ]
  },
  {
   "cell_type": "code",
   "execution_count": 3,
   "metadata": {},
   "outputs": [],
   "source": [
    "# read in the csv files created along our first script:\n",
    "\n",
    "clean_profile_expanded = pd.read_csv('treated_data/clean_profile_expanded.csv', sep=';', )\n",
    "total_matched_offers = pd.read_csv('treated_data/total_matched_offers.csv', sep=';')"
   ]
  },
  {
   "cell_type": "markdown",
   "metadata": {},
   "source": [
    "# 2) Customer segmentation"
   ]
  },
  {
   "cell_type": "markdown",
   "metadata": {},
   "source": [
    "## 2.1) Customer benchmark"
   ]
  },
  {
   "cell_type": "markdown",
   "metadata": {},
   "source": [
    "<img src='images/h2.JPG' width=400>\n",
    "\n",
    "That has been a lot of trouble, but for a reason.\n",
    "\n",
    "Now we have several features at our disposal in our clean_profile_expanded dataframe."
   ]
  },
  {
   "cell_type": "markdown",
   "metadata": {},
   "source": [
    "**GENERAL BENCHMARK:**\n",
    "    \n",
    "We will define the current success ratio rate as the following:\n",
    "\n",
    "* $n_{sc}$ = number of susceptible clients\n",
    "\n",
    "* $n_{tc}$ = number of total clients\n",
    "\n",
    "$SR_{clients} = \\frac{n_{sc}}{n_{tc}}$\n",
    "\n",
    "The first benchmark for our model will be:"
   ]
  },
  {
   "cell_type": "code",
   "execution_count": 4,
   "metadata": {},
   "outputs": [
    {
     "data": {
      "text/plain": [
       "0.5319392917369309"
      ]
     },
     "execution_count": 4,
     "metadata": {},
     "output_type": "execute_result"
    }
   ],
   "source": [
    "(clean_profile_expanded['score'] == 1).sum()/clean_profile_expanded.shape[0]"
   ]
  },
  {
   "cell_type": "markdown",
   "metadata": {},
   "source": [
    "So, at this moment, the massive emailing campaign is getting to the right clients with a probability of about 53,2%."
   ]
  },
  {
   "cell_type": "markdown",
   "metadata": {},
   "source": [
    "## 2.2) Normalization and feature engineering"
   ]
  },
  {
   "cell_type": "markdown",
   "metadata": {},
   "source": [
    " ### 2.2.1) Feature analysis"
   ]
  },
  {
   "cell_type": "markdown",
   "metadata": {},
   "source": [
    "We could see above a glance of the different success rates the offers have on the customers.\n",
    "\n",
    "At this point, we want to remember that we decided to divide our users in highly succeptible to our offers, somewhat curious and those not at all interested:"
   ]
  },
  {
   "cell_type": "code",
   "execution_count": 5,
   "metadata": {},
   "outputs": [
    {
     "data": {
      "image/png": "[encoded data removed]",
      "text/plain": [
       "<Figure size 1080x360 with 1 Axes>"
      ]
     },
     "metadata": {
      "needs_background": "light"
     },
     "output_type": "display_data"
    }
   ],
   "source": [
    "clean_profile_expanded['score'].value_counts().plot('bar');"
   ]
  },
  {
   "cell_type": "markdown",
   "metadata": {},
   "source": [
    "We can see that, in general, our customer base responds well to our offers.\n",
    "\n",
    "Also, the ammount of people we cannot decide whether are interested or not, does not constitute a big group.\n",
    "\n",
    "Now, we are going to check the correlation of the rest of our variables with our target variable.\n",
    "\n",
    "But, before, there are some characteristics that are not properly treated: indeed, sex, or group age have not been numerically defined, so there will be no information on their correlations, although we have seen in our exploration that these variables have an inpact on our target variable (the offer acceptance rate):"
   ]
  },
  {
   "cell_type": "code",
   "execution_count": 6,
   "metadata": {},
   "outputs": [],
   "source": [
    "pos = len(clean_profile_expanded.columns) - 1\n",
    "\n",
    "for col in ['gender', 'age_group']:\n",
    "    col_dict = dict(clean_profile_expanded.groupby(col)['score'].mean())\n",
    "    clean_profile_expanded.insert(pos, col+'_n', clean_profile_expanded[col].apply(lambda x: col_dict[x]))"
   ]
  },
  {
   "cell_type": "code",
   "execution_count": 7,
   "metadata": {},
   "outputs": [
    {
     "data": {
      "text/plain": [
       "age                    0.134886\n",
       "income                 0.293226\n",
       "year_bmo              -0.244421\n",
       "month_bmo              0.031364\n",
       "day_bmo               -0.004198\n",
       "seniority              0.247225\n",
       "tot_offers_received    0.037260\n",
       "tot_am_spent           0.513247\n",
       "mean_resp_t           -0.660342\n",
       "max_resp_t            -0.632907\n",
       "min_resp_t            -0.675990\n",
       "nbr_pur                0.343184\n",
       "tot_am_offers          0.399995\n",
       "pur_interval          -0.257820\n",
       "age_group_n            0.150874\n",
       "gender_n               0.213288\n",
       "score                  1.000000\n",
       "Name: score, dtype: float64"
      ]
     },
     "execution_count": 7,
     "metadata": {},
     "output_type": "execute_result"
    },
    {
     "data": {
      "image/png": "[encoded data removed]",
      "text/plain": [
       "<Figure size 1080x360 with 1 Axes>"
      ]
     },
     "metadata": {
      "needs_background": "light"
     },
     "output_type": "display_data"
    }
   ],
   "source": [
    "clean_profile_expanded.corr()['score'].plot('bar')\n",
    "clean_profile_expanded.corr()['score']"
   ]
  },
  {
   "cell_type": "markdown",
   "metadata": {},
   "source": [
    "We can see that we have several strong correlations, both positive and negative.\n",
    "\n",
    "Now, let's put face to these correlations:"
   ]
  },
  {
   "cell_type": "code",
   "execution_count": 8,
   "metadata": {
    "scrolled": false
   },
   "outputs": [
    {
     "data": {
      "image/png": "[encoded data removed]",
      "text/plain": [
       "<Figure size 1080x5040 with 16 Axes>"
      ]
     },
     "metadata": {
      "needs_background": "light"
     },
     "output_type": "display_data"
    }
   ],
   "source": [
    "num_cols_list = list(clean_profile_expanded.corr()['score'].index)\n",
    "\n",
    "num_cols_list.remove('score')\n",
    "\n",
    "fig, ax = plt.subplots(len(num_cols_list), figsize = (15,70))\n",
    "\n",
    "\n",
    "\n",
    "for i, col in enumerate(num_cols_list):\n",
    "    \n",
    "    x_vals = clean_profile_expanded[col].unique()\n",
    "    y_vals = np.array(clean_profile_expanded.groupby(col)['score'].mean()).reshape(1, -1)\n",
    "    \n",
    "    ax[i].title.set_text('Score dependency on {}'.format(col))\n",
    "    ax[i].set_ylim([0, 1])\n",
    "    ax[i].scatter(x_vals, y_vals)"
   ]
  },
  {
   "cell_type": "markdown",
   "metadata": {},
   "source": [
    "But also, we suspect many of our variables are intercorrelated. Particularly, the max, min and mean times of response to an offer should be heavily correlated among themselves.\n",
    "\n",
    "Let's check it out:"
   ]
  },
  {
   "cell_type": "code",
   "execution_count": 9,
   "metadata": {},
   "outputs": [
    {
     "data": {
      "text/plain": [
       "<matplotlib.axes._subplots.AxesSubplot at 0x24845b0ff28>"
      ]
     },
     "execution_count": 9,
     "metadata": {},
     "output_type": "execute_result"
    },
    {
     "data": {
      "image/png": "[encoded data removed]",
      "text/plain": [
       "<Figure size 864x576 with 2 Axes>"
      ]
     },
     "metadata": {
      "needs_background": "light"
     },
     "output_type": "display_data"
    }
   ],
   "source": [
    "cust_feat_list = list(clean_profile_expanded.columns)\n",
    "cust_feat_list.remove('score')\n",
    "\n",
    "figure1 = plt.figure(figsize = (12,8))\n",
    "cust_corr_matrix_df = clean_profile_expanded[cust_feat_list].corr()\n",
    "sns.heatmap(cust_corr_matrix_df.abs())"
   ]
  },
  {
   "cell_type": "markdown",
   "metadata": {},
   "source": [
    "We can see that we guessed correctly about the max, min and mean response times.\n",
    "\n",
    "But we have also several other high correlations. We are going now to take a closer look, by signaling those correlations that trespass some threshold:"
   ]
  },
  {
   "cell_type": "code",
   "execution_count": 10,
   "metadata": {},
   "outputs": [
    {
     "data": {
      "text/plain": [
       "age                                [age_group_n]\n",
       "income                                        []\n",
       "year_bmo                                      []\n",
       "month_bmo                                     []\n",
       "day_bmo                                       []\n",
       "seniority                              [nbr_pur]\n",
       "tot_offers_received                           []\n",
       "tot_am_spent                     [tot_am_offers]\n",
       "mean_resp_t             [max_resp_t, min_resp_t]\n",
       "max_resp_t             [mean_resp_t, min_resp_t]\n",
       "min_resp_t             [mean_resp_t, max_resp_t]\n",
       "nbr_pur                              [seniority]\n",
       "tot_am_offers                     [tot_am_spent]\n",
       "pur_interval                                  []\n",
       "age_group_n                                [age]\n",
       "gender_n                                      []\n",
       "dtype: object"
      ]
     },
     "execution_count": 10,
     "metadata": {},
     "output_type": "execute_result"
    }
   ],
   "source": [
    "threshold = 0.4\n",
    "cust_corr_matrix_df.apply(lambda x: list(set(x[x>threshold].index) - set([x.name])))                       "
   ]
  },
  {
   "cell_type": "markdown",
   "metadata": {},
   "source": [
    "Appart from those stated above, we have also high correlations between:\n",
    "\n",
    "**age - age_group_n**\n",
    "\n",
    "We were expecting this one. Even when the relationship between these two values is not direct, the second is in some way derived from the first (we have grouped people by age and deducted their behavior from those groups).\n",
    "\n",
    "We will drop the later.\n",
    "    \n",
    "**seniority - nbr_pur**\n",
    "\n",
    "Seems reasonable that a certain correlation exists between the number of years a client has been registered, and the number of purchases the same client has performed. But both variables doesn't share a common origin that could lead us to suspect, both are derived from the same information. We will keep both.\n",
    "\n",
    "**tot_am_spent - tot_am_offers**\n",
    "\n",
    "These variables represent the money a client has spent in general, and the ammount the same client has spent on offers. As before, a certain level of correlation is expected but again, these two pieces of information don't share a common origin.\n",
    "\n",
    "But, perhaps for this case, the substitution of one of the variables (or both) for some combination might be more insightful.\n",
    "We will try:\n",
    "\n",
    "*non_offers_spent* = *tot_am_spent* - *tot_am_offers*\n",
    "\n",
    "*offers_spend_share* = *tot_am_offers* / *tot_am_spent*"
   ]
  },
  {
   "cell_type": "code",
   "execution_count": 11,
   "metadata": {},
   "outputs": [
    {
     "data": {
      "text/html": [
       "<div>\n",
       "<style scoped>\n",
       "    .dataframe tbody tr th:only-of-type {\n",
       "        vertical-align: middle;\n",
       "    }\n",
       "\n",
       "    .dataframe tbody tr th {\n",
       "        vertical-align: top;\n",
       "    }\n",
       "\n",
       "    .dataframe thead th {\n",
       "        text-align: right;\n",
       "    }\n",
       "</style>\n",
       "<table border=\"1\" class=\"dataframe\">\n",
       "  <thead>\n",
       "    <tr style=\"text-align: right;\">\n",
       "      <th></th>\n",
       "      <th>tot_am_spent</th>\n",
       "      <th>tot_am_offers</th>\n",
       "      <th>non_offers_spent</th>\n",
       "      <th>offers_spend_share</th>\n",
       "      <th>score</th>\n",
       "    </tr>\n",
       "  </thead>\n",
       "  <tbody>\n",
       "    <tr>\n",
       "      <th>tot_am_spent</th>\n",
       "      <td>1.000000</td>\n",
       "      <td>0.690424</td>\n",
       "      <td>0.866389</td>\n",
       "      <td>0.115802</td>\n",
       "      <td>0.513247</td>\n",
       "    </tr>\n",
       "    <tr>\n",
       "      <th>tot_am_offers</th>\n",
       "      <td>0.690424</td>\n",
       "      <td>1.000000</td>\n",
       "      <td>0.236928</td>\n",
       "      <td>0.443865</td>\n",
       "      <td>0.399995</td>\n",
       "    </tr>\n",
       "    <tr>\n",
       "      <th>non_offers_spent</th>\n",
       "      <td>0.866389</td>\n",
       "      <td>0.236928</td>\n",
       "      <td>1.000000</td>\n",
       "      <td>-0.152100</td>\n",
       "      <td>0.413167</td>\n",
       "    </tr>\n",
       "    <tr>\n",
       "      <th>offers_spend_share</th>\n",
       "      <td>0.115802</td>\n",
       "      <td>0.443865</td>\n",
       "      <td>-0.152100</td>\n",
       "      <td>1.000000</td>\n",
       "      <td>0.415306</td>\n",
       "    </tr>\n",
       "    <tr>\n",
       "      <th>score</th>\n",
       "      <td>0.513247</td>\n",
       "      <td>0.399995</td>\n",
       "      <td>0.413167</td>\n",
       "      <td>0.415306</td>\n",
       "      <td>1.000000</td>\n",
       "    </tr>\n",
       "  </tbody>\n",
       "</table>\n",
       "</div>"
      ],
      "text/plain": [
       "                    tot_am_spent  tot_am_offers  non_offers_spent  \\\n",
       "tot_am_spent            1.000000       0.690424          0.866389   \n",
       "tot_am_offers           0.690424       1.000000          0.236928   \n",
       "non_offers_spent        0.866389       0.236928          1.000000   \n",
       "offers_spend_share      0.115802       0.443865         -0.152100   \n",
       "score                   0.513247       0.399995          0.413167   \n",
       "\n",
       "                    offers_spend_share     score  \n",
       "tot_am_spent                  0.115802  0.513247  \n",
       "tot_am_offers                 0.443865  0.399995  \n",
       "non_offers_spent             -0.152100  0.413167  \n",
       "offers_spend_share            1.000000  0.415306  \n",
       "score                         0.415306  1.000000  "
      ]
     },
     "execution_count": 11,
     "metadata": {},
     "output_type": "execute_result"
    },
    {
     "data": {
      "image/png": "[encoded data removed]",
      "text/plain": [
       "<Figure size 1080x360 with 1 Axes>"
      ]
     },
     "metadata": {
      "needs_background": "light"
     },
     "output_type": "display_data"
    }
   ],
   "source": [
    "# Creating the new variables:\n",
    "\n",
    "pos = len(clean_profile_expanded.columns) - 1\n",
    "\n",
    "clean_profile_expanded.insert(pos,\n",
    "                              'non_offers_spent', \n",
    "                              clean_profile_expanded['tot_am_spent'] - clean_profile_expanded['tot_am_offers'])\n",
    "\n",
    "\n",
    "clean_profile_expanded.insert(pos + 1,\n",
    "                              'offers_spend_share', \n",
    "                              clean_profile_expanded['tot_am_offers'] / clean_profile_expanded['tot_am_spent'])\n",
    "\n",
    "\n",
    "# Checking the correlations:\n",
    "\n",
    "corr_cols = ['tot_am_spent', 'tot_am_offers', 'non_offers_spent', 'offers_spend_share', 'score']\n",
    "\n",
    "correlations = clean_profile_expanded[corr_cols].corr()\n",
    "\n",
    "correlations['score'].plot('bar')\n",
    "correlations"
   ]
  },
  {
   "cell_type": "markdown",
   "metadata": {},
   "source": [
    "So, we decide to drop the columns as stated above, plus: *tot_am_spent* and *offers_spend_share*, because of their combination of correlation to our target variable, and interdependence.\n",
    "\n",
    "So, at end the columns we will drop are:"
   ]
  },
  {
   "cell_type": "code",
   "execution_count": 12,
   "metadata": {},
   "outputs": [
    {
     "data": {
      "text/plain": [
       "<matplotlib.axes._subplots.AxesSubplot at 0x24846666b00>"
      ]
     },
     "execution_count": 12,
     "metadata": {},
     "output_type": "execute_result"
    },
    {
     "data": {
      "image/png": "[encoded data removed]",
      "text/plain": [
       "<Figure size 864x576 with 2 Axes>"
      ]
     },
     "metadata": {
      "needs_background": "light"
     },
     "output_type": "display_data"
    }
   ],
   "source": [
    "# Columns to be dropped:\n",
    "dr_cols = ['gender', \n",
    "           'date_bmo', \n",
    "           'year_bmo', \n",
    "           'month_bmo', \n",
    "           'day_bmo',\n",
    "           'age_group',\n",
    "           'min_resp_t', \n",
    "           'max_resp_t', \n",
    "           'tot_am_spent', \n",
    "           'offers_spend_share',\n",
    "           'age_group_n']\n",
    "\n",
    "clean_profile_for_mod = clean_profile_expanded.drop(dr_cols, axis=1)\n",
    "\n",
    "# And the resulting correlation plot:\n",
    "figure2 = plt.figure(figsize = (12,8))\n",
    "sns.heatmap(clean_profile_for_mod.corr())"
   ]
  },
  {
   "cell_type": "markdown",
   "metadata": {},
   "source": [
    "Now, after the cleanse, we have:"
   ]
  },
  {
   "cell_type": "code",
   "execution_count": 13,
   "metadata": {},
   "outputs": [
    {
     "data": {
      "text/plain": [
       "age                                    []\n",
       "income                                 []\n",
       "seniority                       [nbr_pur]\n",
       "tot_offers_received                    []\n",
       "mean_resp_t                            []\n",
       "nbr_pur                       [seniority]\n",
       "tot_am_offers                          []\n",
       "pur_interval                           []\n",
       "gender_n                               []\n",
       "non_offers_spent                  [score]\n",
       "score                  [non_offers_spent]\n",
       "dtype: object"
      ]
     },
     "execution_count": 13,
     "metadata": {},
     "output_type": "execute_result"
    }
   ],
   "source": [
    "threshold = 0.4\n",
    "clean_profile_for_mod.corr().apply(lambda x: list(set(x[x>threshold].index) - set([x.name])))"
   ]
  },
  {
   "cell_type": "markdown",
   "metadata": {},
   "source": [
    "### 2.2.2) Normalization"
   ]
  },
  {
   "cell_type": "markdown",
   "metadata": {},
   "source": [
    "We will now proceed to normalize our data, as we can see it is still non normalized:"
   ]
  },
  {
   "cell_type": "code",
   "execution_count": 14,
   "metadata": {},
   "outputs": [
    {
     "data": {
      "text/html": [
       "<div>\n",
       "<style scoped>\n",
       "    .dataframe tbody tr th:only-of-type {\n",
       "        vertical-align: middle;\n",
       "    }\n",
       "\n",
       "    .dataframe tbody tr th {\n",
       "        vertical-align: top;\n",
       "    }\n",
       "\n",
       "    .dataframe thead th {\n",
       "        text-align: right;\n",
       "    }\n",
       "</style>\n",
       "<table border=\"1\" class=\"dataframe\">\n",
       "  <thead>\n",
       "    <tr style=\"text-align: right;\">\n",
       "      <th></th>\n",
       "      <th>age</th>\n",
       "      <th>id</th>\n",
       "      <th>income</th>\n",
       "      <th>seniority</th>\n",
       "      <th>tot_offers_received</th>\n",
       "      <th>mean_resp_t</th>\n",
       "      <th>nbr_pur</th>\n",
       "      <th>tot_am_offers</th>\n",
       "      <th>pur_interval</th>\n",
       "      <th>gender_n</th>\n",
       "      <th>non_offers_spent</th>\n",
       "      <th>score</th>\n",
       "    </tr>\n",
       "  </thead>\n",
       "  <tbody>\n",
       "    <tr>\n",
       "      <th>0</th>\n",
       "      <td>55</td>\n",
       "      <td>0610b486422d4921ae7d2bf64640c50b</td>\n",
       "      <td>112000.0</td>\n",
       "      <td>376</td>\n",
       "      <td>1.0</td>\n",
       "      <td>120.0</td>\n",
       "      <td>3.0</td>\n",
       "      <td>23.22</td>\n",
       "      <td>255.0</td>\n",
       "      <td>0.730299</td>\n",
       "      <td>53.79</td>\n",
       "      <td>0.5</td>\n",
       "    </tr>\n",
       "    <tr>\n",
       "      <th>1</th>\n",
       "      <td>75</td>\n",
       "      <td>78afa995795e4d85b5d9ceeca43f5fef</td>\n",
       "      <td>100000.0</td>\n",
       "      <td>443</td>\n",
       "      <td>3.0</td>\n",
       "      <td>80.0</td>\n",
       "      <td>7.0</td>\n",
       "      <td>41.61</td>\n",
       "      <td>67.0</td>\n",
       "      <td>0.730299</td>\n",
       "      <td>117.66</td>\n",
       "      <td>1.0</td>\n",
       "    </tr>\n",
       "    <tr>\n",
       "      <th>2</th>\n",
       "      <td>68</td>\n",
       "      <td>e2127556f4f64592b11af22de27a7932</td>\n",
       "      <td>70000.0</td>\n",
       "      <td>91</td>\n",
       "      <td>3.0</td>\n",
       "      <td>66.0</td>\n",
       "      <td>3.0</td>\n",
       "      <td>18.42</td>\n",
       "      <td>117.0</td>\n",
       "      <td>0.541136</td>\n",
       "      <td>39.31</td>\n",
       "      <td>1.0</td>\n",
       "    </tr>\n",
       "    <tr>\n",
       "      <th>3</th>\n",
       "      <td>65</td>\n",
       "      <td>389bc3fa690240e798340f5a15918d5c</td>\n",
       "      <td>53000.0</td>\n",
       "      <td>167</td>\n",
       "      <td>6.0</td>\n",
       "      <td>134.4</td>\n",
       "      <td>3.0</td>\n",
       "      <td>36.43</td>\n",
       "      <td>270.0</td>\n",
       "      <td>0.541136</td>\n",
       "      <td>0.00</td>\n",
       "      <td>1.0</td>\n",
       "    </tr>\n",
       "    <tr>\n",
       "      <th>4</th>\n",
       "      <td>58</td>\n",
       "      <td>2eeac8d8feae4a8cad5a6af0499a211d</td>\n",
       "      <td>51000.0</td>\n",
       "      <td>257</td>\n",
       "      <td>2.0</td>\n",
       "      <td>120.0</td>\n",
       "      <td>4.0</td>\n",
       "      <td>7.14</td>\n",
       "      <td>118.0</td>\n",
       "      <td>0.541136</td>\n",
       "      <td>8.48</td>\n",
       "      <td>0.5</td>\n",
       "    </tr>\n",
       "  </tbody>\n",
       "</table>\n",
       "</div>"
      ],
      "text/plain": [
       "   age                                id    income  seniority  \\\n",
       "0   55  0610b486422d4921ae7d2bf64640c50b  112000.0        376   \n",
       "1   75  78afa995795e4d85b5d9ceeca43f5fef  100000.0        443   \n",
       "2   68  e2127556f4f64592b11af22de27a7932   70000.0         91   \n",
       "3   65  389bc3fa690240e798340f5a15918d5c   53000.0        167   \n",
       "4   58  2eeac8d8feae4a8cad5a6af0499a211d   51000.0        257   \n",
       "\n",
       "   tot_offers_received  mean_resp_t  nbr_pur  tot_am_offers  pur_interval  \\\n",
       "0                  1.0        120.0      3.0          23.22         255.0   \n",
       "1                  3.0         80.0      7.0          41.61          67.0   \n",
       "2                  3.0         66.0      3.0          18.42         117.0   \n",
       "3                  6.0        134.4      3.0          36.43         270.0   \n",
       "4                  2.0        120.0      4.0           7.14         118.0   \n",
       "\n",
       "   gender_n  non_offers_spent  score  \n",
       "0  0.730299             53.79    0.5  \n",
       "1  0.730299            117.66    1.0  \n",
       "2  0.541136             39.31    1.0  \n",
       "3  0.541136              0.00    1.0  \n",
       "4  0.541136              8.48    0.5  "
      ]
     },
     "execution_count": 14,
     "metadata": {},
     "output_type": "execute_result"
    }
   ],
   "source": [
    "clean_profile_for_mod.head()"
   ]
  },
  {
   "cell_type": "markdown",
   "metadata": {},
   "source": [
    "We will use _MinMaxScaler_, which will make the following transformation:\n",
    "    \n",
    "$\\frac{x-x_{min}}{x_{max}-x_{min}}$"
   ]
  },
  {
   "cell_type": "code",
   "execution_count": 15,
   "metadata": {},
   "outputs": [],
   "source": [
    "aux = clean_profile_for_mod.drop('id', axis=1)\n",
    "# aux['inv_mrt'] = aux['mean_resp_t'].apply(lambda x: 1/x if x!=0 else 1)\n",
    "# aux['inv_tao'] = aux['tot_am_offers'].apply(lambda x: 1/x if x!=0 else 1)\n",
    "# aux['inv_pur_int'] = aux['pur_interval'].apply(lambda x: 1/x if x!=0 else 1)\n",
    "\n",
    "scaled_xy = pd.DataFrame(MinMaxScaler().fit(aux).transform(aux), columns = aux.columns)\n",
    "\n",
    "scaled_x = scaled_xy.drop('score', axis=1)\n",
    "y = scaled_xy['score']"
   ]
  },
  {
   "cell_type": "markdown",
   "metadata": {},
   "source": [
    "### 2.2.3) PCA Analysis"
   ]
  },
  {
   "cell_type": "markdown",
   "metadata": {},
   "source": [
    "Now, we will perform a PCA analysis, to see if we can reduce the dimensionality of our problem, and use a more convenient combination of our variables, in advantage fokr our models.\n",
    "\n",
    "But first, let's plot our correlations between our normalized features and our target variable:"
   ]
  },
  {
   "cell_type": "code",
   "execution_count": 16,
   "metadata": {},
   "outputs": [
    {
     "data": {
      "image/png": "[encoded data removed]",
      "text/plain": [
       "<Figure size 1584x360 with 1 Axes>"
      ]
     },
     "metadata": {
      "needs_background": "light"
     },
     "output_type": "display_data"
    }
   ],
   "source": [
    "corr_series= pd.Series([])\n",
    "for col in scaled_x:\n",
    "    correl = np.corrcoef(clean_profile_for_mod['score'], scaled_x[col])[0][1]\n",
    "    corr_series[col] = correl\n",
    "\n",
    "fig_n = plt.figure(figsize=(22,5))\n",
    "plt.bar(corr_series.sort_values().index, corr_series.sort_values())\n",
    "plt.grid(axis='y')"
   ]
  },
  {
   "cell_type": "markdown",
   "metadata": {},
   "source": [
    "And now, let's perform a PCA analyisis, performing the linear transformation and examining the weight of each component in the transformed space:"
   ]
  },
  {
   "cell_type": "code",
   "execution_count": 17,
   "metadata": {},
   "outputs": [
    {
     "data": {
      "text/plain": [
       "<matplotlib.legend.Legend at 0x24847db2e80>"
      ]
     },
     "execution_count": 17,
     "metadata": {},
     "output_type": "execute_result"
    },
    {
     "data": {
      "image/png": "[encoded data removed]",
      "text/plain": [
       "<Figure size 1080x360 with 2 Axes>"
      ]
     },
     "metadata": {
      "needs_background": "light"
     },
     "output_type": "display_data"
    }
   ],
   "source": [
    "pca_mod = PCA()\n",
    "pca_mod = pca_mod.fit(scaled_x)\n",
    "\n",
    "exp_var_ratio = pca_mod.explained_variance_ratio_\n",
    "components = range(len(exp_var_ratio))\n",
    "\n",
    "plt.title('Explained variance per principal component')\n",
    "plt.bar(components, exp_var_ratio, label = 'explained_var')\n",
    "plt.grid(axis='y')\n",
    "plt.legend(loc=2)\n",
    "\n",
    "ax2=plt.twinx()\n",
    "ax2.set_ylim([0, 1])\n",
    "plt.plot(components, np.cumsum(exp_var_ratio), 'r', label = 'cumulative')\n",
    "plt.legend(loc=1)"
   ]
  },
  {
   "cell_type": "markdown",
   "metadata": {},
   "source": [
    "We can see that our first variable explains more of the 40% of the variance in our features space.\n",
    "\n",
    "Also, the second variable explains an additional 24%, and with the third component (10%) we would have about 75% of our feature's variance under control.\n",
    "\n",
    "Let's take a closer look to those component's composition in terms of our features:"
   ]
  },
  {
   "cell_type": "code",
   "execution_count": 18,
   "metadata": {
    "scrolled": false
   },
   "outputs": [
    {
     "data": {
      "image/png": "[encoded data removed]",
      "text/plain": [
       "<Figure size 1584x3600 with 10 Axes>"
      ]
     },
     "metadata": {
      "needs_background": "light"
     },
     "output_type": "display_data"
    }
   ],
   "source": [
    "n = 10\n",
    "fig2, ax = plt.subplots(n, figsize = (22,5*n))\n",
    "\n",
    "for i in range(0,n):\n",
    "    ax[i].title.set_text('Principal component {} composition'.format(i))\n",
    "    ax[i].bar(scaled_x.columns, pca_mod.components_[i])"
   ]
  },
  {
   "cell_type": "markdown",
   "metadata": {},
   "source": [
    "We can see that this base does not differ much from our original. \n",
    "\n",
    "Appart from some interrelation between age and income, found in two of the principal components of the transformed space, for the rest there is always a strong relationship with one of ou original features, and weak relationships with the rest.\n",
    "\n",
    "This means that our new base is almost identical to our features base.\n",
    "\n",
    "Also, some of the least autoexplanatory variables (e.g.: *tot_am_offers*) are those that explain the most our target variable.\n",
    "\n",
    "This means we cannot drop those columns, and then, is not that we cannot reduce the dimensionality of our problem, but that performing a PCA decomposition yields little to no gain from our original situation.\n",
    "\n",
    "For these reasons, we will not perform such decomposition."
   ]
  },
  {
   "cell_type": "markdown",
   "metadata": {},
   "source": [
    "## 2.3) Customer clustering and benchmark models"
   ]
  },
  {
   "cell_type": "markdown",
   "metadata": {},
   "source": [
    "Now, before going for other models, we want to use two unsupervised clustering algorithms to divide our customer base, and we will see if the resulting clusters give us some insights that might be useful.\n",
    "\n",
    "We will use DBSCAN and K-Means:"
   ]
  },
  {
   "cell_type": "markdown",
   "metadata": {},
   "source": [
    "### 2.3.1) DBSCAN"
   ]
  },
  {
   "cell_type": "markdown",
   "metadata": {},
   "source": [
    "DBSCAN is a density-based algorithm.\n",
    "\n",
    "The main hyperparameter is the minimum number of samples each cluster shall contain.\n",
    "\n",
    "As the number of resulting clusters is a more intuitive measure, we will define a list of minima and try out all of them, to see the resulting number of clusters:"
   ]
  },
  {
   "cell_type": "code",
   "execution_count": 19,
   "metadata": {},
   "outputs": [
    {
     "name": "stdout",
     "output_type": "stream",
     "text": [
      "10 [-1  0  1  2  3  4  5]\n",
      "20 [-1  0  1  2  3  4  5]\n",
      "50 [-1  0  1  2  3  4  5]\n",
      "100 [-1  0  1  2  3  4  5]\n",
      "150 [-1  0  1  2  3  4]\n",
      "200 [-1  0  1  2  3]\n",
      "500 [-1  0  1  2]\n",
      "1000 [-1  0  1  2]\n"
     ]
    }
   ],
   "source": [
    "for i in [10, 20, 50, 100, 150, 200, 500, 1000]:\n",
    "\n",
    "    dbscan_model = DBSCAN(min_samples = i)\n",
    "\n",
    "    fitted_dbscan_model = dbscan_model.fit(scaled_x)\n",
    "    groups = np.unique(fitted_dbscan_model.labels_)\n",
    "    print(i, groups)"
   ]
  },
  {
   "cell_type": "markdown",
   "metadata": {},
   "source": [
    "We will keep 200 as the min_samples, for a total 4 clusters, and a fifth of 'unclassifiable' (-1):"
   ]
  },
  {
   "cell_type": "code",
   "execution_count": 20,
   "metadata": {},
   "outputs": [],
   "source": [
    "dbscan_model = DBSCAN(min_samples = 200)\n",
    "fitted_dbscan_model = dbscan_model.fit(scaled_x)"
   ]
  },
  {
   "cell_type": "markdown",
   "metadata": {},
   "source": [
    "Let's see how many elements each cluster has:"
   ]
  },
  {
   "cell_type": "code",
   "execution_count": 21,
   "metadata": {},
   "outputs": [
    {
     "data": {
      "text/plain": [
       "Counter({0: 5555, 1: 6400, 2: 598, 3: 1873, -1: 399})"
      ]
     },
     "execution_count": 21,
     "metadata": {},
     "output_type": "execute_result"
    }
   ],
   "source": [
    "Counter(fitted_dbscan_model.labels_)"
   ]
  },
  {
   "cell_type": "markdown",
   "metadata": {},
   "source": [
    "And now, we want to append its cluster to each element of our dataframe and group by cluster, to extract some insight:"
   ]
  },
  {
   "cell_type": "code",
   "execution_count": 22,
   "metadata": {},
   "outputs": [
    {
     "data": {
      "text/html": [
       "<div>\n",
       "<style scoped>\n",
       "    .dataframe tbody tr th:only-of-type {\n",
       "        vertical-align: middle;\n",
       "    }\n",
       "\n",
       "    .dataframe tbody tr th {\n",
       "        vertical-align: top;\n",
       "    }\n",
       "\n",
       "    .dataframe thead th {\n",
       "        text-align: right;\n",
       "    }\n",
       "</style>\n",
       "<table border=\"1\" class=\"dataframe\">\n",
       "  <thead>\n",
       "    <tr style=\"text-align: right;\">\n",
       "      <th></th>\n",
       "      <th>age</th>\n",
       "      <th>income</th>\n",
       "      <th>seniority</th>\n",
       "      <th>tot_offers_received</th>\n",
       "      <th>mean_resp_t</th>\n",
       "      <th>nbr_pur</th>\n",
       "      <th>tot_am_offers</th>\n",
       "      <th>pur_interval</th>\n",
       "      <th>gender_n</th>\n",
       "      <th>non_offers_spent</th>\n",
       "      <th>score</th>\n",
       "    </tr>\n",
       "    <tr>\n",
       "      <th>dbscan_group</th>\n",
       "      <th></th>\n",
       "      <th></th>\n",
       "      <th></th>\n",
       "      <th></th>\n",
       "      <th></th>\n",
       "      <th></th>\n",
       "      <th></th>\n",
       "      <th></th>\n",
       "      <th></th>\n",
       "      <th></th>\n",
       "      <th></th>\n",
       "    </tr>\n",
       "  </thead>\n",
       "  <tbody>\n",
       "    <tr>\n",
       "      <th>-1</th>\n",
       "      <td>58.385965</td>\n",
       "      <td>74142.857143</td>\n",
       "      <td>365.889724</td>\n",
       "      <td>3.541353</td>\n",
       "      <td>1321.803759</td>\n",
       "      <td>1.626566</td>\n",
       "      <td>32.979148</td>\n",
       "      <td>1145.162911</td>\n",
       "      <td>0.629525</td>\n",
       "      <td>65.947268</td>\n",
       "      <td>0.110276</td>\n",
       "    </tr>\n",
       "    <tr>\n",
       "      <th>0</th>\n",
       "      <td>57.788839</td>\n",
       "      <td>72347.434743</td>\n",
       "      <td>541.023582</td>\n",
       "      <td>3.632223</td>\n",
       "      <td>74.373159</td>\n",
       "      <td>8.637444</td>\n",
       "      <td>56.452868</td>\n",
       "      <td>87.852013</td>\n",
       "      <td>0.729109</td>\n",
       "      <td>97.243795</td>\n",
       "      <td>0.820612</td>\n",
       "    </tr>\n",
       "    <tr>\n",
       "      <th>1</th>\n",
       "      <td>52.970937</td>\n",
       "      <td>63771.406250</td>\n",
       "      <td>597.839219</td>\n",
       "      <td>3.709062</td>\n",
       "      <td>86.909375</td>\n",
       "      <td>9.726719</td>\n",
       "      <td>43.687717</td>\n",
       "      <td>81.739035</td>\n",
       "      <td>0.541136</td>\n",
       "      <td>79.040758</td>\n",
       "      <td>0.699219</td>\n",
       "    </tr>\n",
       "    <tr>\n",
       "      <th>2</th>\n",
       "      <td>53.357860</td>\n",
       "      <td>56929.765886</td>\n",
       "      <td>269.177258</td>\n",
       "      <td>3.036789</td>\n",
       "      <td>1428.000000</td>\n",
       "      <td>4.591973</td>\n",
       "      <td>0.000000</td>\n",
       "      <td>115.945187</td>\n",
       "      <td>0.728756</td>\n",
       "      <td>27.434080</td>\n",
       "      <td>0.073579</td>\n",
       "    </tr>\n",
       "    <tr>\n",
       "      <th>3</th>\n",
       "      <td>48.664709</td>\n",
       "      <td>51241.324079</td>\n",
       "      <td>324.205019</td>\n",
       "      <td>3.233849</td>\n",
       "      <td>1428.000000</td>\n",
       "      <td>5.515216</td>\n",
       "      <td>0.000000</td>\n",
       "      <td>115.640001</td>\n",
       "      <td>0.541136</td>\n",
       "      <td>21.258932</td>\n",
       "      <td>0.049386</td>\n",
       "    </tr>\n",
       "  </tbody>\n",
       "</table>\n",
       "</div>"
      ],
      "text/plain": [
       "                    age        income   seniority  tot_offers_received  \\\n",
       "dbscan_group                                                             \n",
       "-1            58.385965  74142.857143  365.889724             3.541353   \n",
       " 0            57.788839  72347.434743  541.023582             3.632223   \n",
       " 1            52.970937  63771.406250  597.839219             3.709062   \n",
       " 2            53.357860  56929.765886  269.177258             3.036789   \n",
       " 3            48.664709  51241.324079  324.205019             3.233849   \n",
       "\n",
       "              mean_resp_t   nbr_pur  tot_am_offers  pur_interval  gender_n  \\\n",
       "dbscan_group                                                                 \n",
       "-1            1321.803759  1.626566      32.979148   1145.162911  0.629525   \n",
       " 0              74.373159  8.637444      56.452868     87.852013  0.729109   \n",
       " 1              86.909375  9.726719      43.687717     81.739035  0.541136   \n",
       " 2            1428.000000  4.591973       0.000000    115.945187  0.728756   \n",
       " 3            1428.000000  5.515216       0.000000    115.640001  0.541136   \n",
       "\n",
       "              non_offers_spent     score  \n",
       "dbscan_group                              \n",
       "-1                   65.947268  0.110276  \n",
       " 0                   97.243795  0.820612  \n",
       " 1                   79.040758  0.699219  \n",
       " 2                   27.434080  0.073579  \n",
       " 3                   21.258932  0.049386  "
      ]
     },
     "execution_count": 22,
     "metadata": {},
     "output_type": "execute_result"
    }
   ],
   "source": [
    "clean_profile_for_mod = clean_profile_for_mod.copy()\n",
    "clean_profile_for_mod['dbscan_group'] = fitted_dbscan_model.labels_\n",
    "clean_profile_for_mod.groupby('dbscan_group').mean()"
   ]
  },
  {
   "cell_type": "markdown",
   "metadata": {},
   "source": [
    "We can see that:\n",
    "\n",
    "We find clearly defined differences in clusters in the following variables:\n",
    "    \n",
    "- mean_resp_t\n",
    "\n",
    "- nbr_pur\n",
    "\n",
    "- tot_am_offers\n",
    "\n",
    "- non_offers_spent\n",
    "\n",
    "And clearly defined differences in the following variables:\n",
    "    \n",
    "- age\n",
    "\n",
    "- seniority\n",
    "\n",
    "- gender_n\n",
    "\n",
    "\n",
    "And slight differences in the following variables:\n",
    "    \n",
    "- age\n",
    "\n",
    "Also, and more importantly, there is a *CLEAR PATTERN* in our target variable:\n",
    "\n",
    "Clusters 0 and 1: clients highly susceptible to our offers\n",
    "Cluster 2 and 3 (and -1): no-go for offers\n",
    "\n",
    "So, this means that, in regards of our target variable, our clusters are useful, and that we can use them to create a simple model:"
   ]
  },
  {
   "cell_type": "code",
   "execution_count": 23,
   "metadata": {},
   "outputs": [
    {
     "name": "stdout",
     "output_type": "stream",
     "text": [
      "[[0.17112985 0.         0.11777403]\n",
      " [0.02057336 0.         0.15858347]\n",
      " [0.0018887  0.         0.53005059]]\n",
      "0.7011804384485666\n"
     ]
    }
   ],
   "source": [
    "def dbmeans_scoring_fun(x):\n",
    "    if x in [0,1]:\n",
    "        return 1\n",
    "    else:\n",
    "        return 0\n",
    "    \n",
    "def assesing_function(fun, series, y):\n",
    "    \n",
    "    y_hat = series.apply(fun)\n",
    "    \n",
    "    if (y==0.5).any():\n",
    "        y = 2*y\n",
    "        y_hat = 2*y_hat\n",
    "        \n",
    "    cm = confusion_matrix(2*y, 2*y_hat)\n",
    "    norm_cm = cm/cm.sum()\n",
    "    acc = np.matrix.trace(norm_cm)\n",
    "\n",
    "    print(norm_cm)\n",
    "    print(acc)\n",
    "    \n",
    "    return cm, norm_cm, acc\n",
    "\n",
    "dbmeans_cm, dbmeans_norm_cm, dbmeans_acc = assesing_function(dbmeans_scoring_fun, \n",
    "                                                             clean_profile_for_mod['dbscan_group'], \n",
    "                                                             y)"
   ]
  },
  {
   "cell_type": "markdown",
   "metadata": {},
   "source": [
    "We can see that this model yields a 70% accuracy. \n",
    "\n",
    "This is much better than our defined benchmark.\n",
    "\n",
    "This accuracy is considering all the data, including also the clients marked with 0.5, considered \"dubious\", and that were to be left out of our models.\n",
    "\n",
    "In fact, if we dropped those clients, our results would be:"
   ]
  },
  {
   "cell_type": "code",
   "execution_count": 24,
   "metadata": {},
   "outputs": [],
   "source": [
    "def to_binary(norm_cm):\n",
    "    bi_norm_cm = norm_cm[[0,2]]/norm_cm[[0,2]].sum()\n",
    "    bi_acc = bi_norm_cm[0][0] + bi_norm_cm[1][2]\n",
    "    \n",
    "    print(bi_norm_cm)\n",
    "    print(bi_acc)\n",
    "    \n",
    "    return bi_norm_cm, bi_acc"
   ]
  },
  {
   "cell_type": "code",
   "execution_count": 25,
   "metadata": {},
   "outputs": [
    {
     "name": "stdout",
     "output_type": "stream",
     "text": [
      "[[0.20848057 0.         0.14347933]\n",
      " [0.00230093 0.         0.64573917]]\n",
      "0.854219738680253\n"
     ]
    }
   ],
   "source": [
    "_ = to_binary(dbmeans_norm_cm)"
   ]
  },
  {
   "cell_type": "markdown",
   "metadata": {},
   "source": [
    "We can see that, for the _\"binary case\"_ (only two labels, as a result of droping those marked with 0.5) our accuracy improves dramatically, to about 85,4%."
   ]
  },
  {
   "cell_type": "markdown",
   "metadata": {},
   "source": [
    "### 2.3.2) K-Means"
   ]
  },
  {
   "cell_type": "markdown",
   "metadata": {},
   "source": [
    "Let's try out now the Kmeans. We will use the same number of clusters as in the DBSCAN case, and add the resulting clusted also to our original dataframe, and group, and extract some insight:"
   ]
  },
  {
   "cell_type": "code",
   "execution_count": 26,
   "metadata": {},
   "outputs": [],
   "source": [
    "kmeans_model = KMeans(4)\n",
    "fitted_kmeans_model = kmeans_model.fit(scaled_x)"
   ]
  },
  {
   "cell_type": "code",
   "execution_count": 27,
   "metadata": {},
   "outputs": [
    {
     "data": {
      "text/html": [
       "<div>\n",
       "<style scoped>\n",
       "    .dataframe tbody tr th:only-of-type {\n",
       "        vertical-align: middle;\n",
       "    }\n",
       "\n",
       "    .dataframe tbody tr th {\n",
       "        vertical-align: top;\n",
       "    }\n",
       "\n",
       "    .dataframe thead th {\n",
       "        text-align: right;\n",
       "    }\n",
       "</style>\n",
       "<table border=\"1\" class=\"dataframe\">\n",
       "  <thead>\n",
       "    <tr style=\"text-align: right;\">\n",
       "      <th></th>\n",
       "      <th>age</th>\n",
       "      <th>income</th>\n",
       "      <th>seniority</th>\n",
       "      <th>tot_offers_received</th>\n",
       "      <th>mean_resp_t</th>\n",
       "      <th>nbr_pur</th>\n",
       "      <th>tot_am_offers</th>\n",
       "      <th>pur_interval</th>\n",
       "      <th>gender_n</th>\n",
       "      <th>non_offers_spent</th>\n",
       "      <th>score</th>\n",
       "      <th>dbscan_group</th>\n",
       "    </tr>\n",
       "    <tr>\n",
       "      <th>kmeans_group</th>\n",
       "      <th></th>\n",
       "      <th></th>\n",
       "      <th></th>\n",
       "      <th></th>\n",
       "      <th></th>\n",
       "      <th></th>\n",
       "      <th></th>\n",
       "      <th></th>\n",
       "      <th></th>\n",
       "      <th></th>\n",
       "      <th></th>\n",
       "      <th></th>\n",
       "    </tr>\n",
       "  </thead>\n",
       "  <tbody>\n",
       "    <tr>\n",
       "      <th>0</th>\n",
       "      <td>57.806069</td>\n",
       "      <td>72438.678398</td>\n",
       "      <td>541.232178</td>\n",
       "      <td>3.632968</td>\n",
       "      <td>74.299623</td>\n",
       "      <td>8.635123</td>\n",
       "      <td>57.606247</td>\n",
       "      <td>87.873454</td>\n",
       "      <td>0.729112</td>\n",
       "      <td>98.589348</td>\n",
       "      <td>0.821063</td>\n",
       "      <td>-0.002693</td>\n",
       "    </tr>\n",
       "    <tr>\n",
       "      <th>1</th>\n",
       "      <td>53.015126</td>\n",
       "      <td>63851.551536</td>\n",
       "      <td>598.348823</td>\n",
       "      <td>3.710276</td>\n",
       "      <td>86.498986</td>\n",
       "      <td>9.728052</td>\n",
       "      <td>44.521293</td>\n",
       "      <td>81.684635</td>\n",
       "      <td>0.541136</td>\n",
       "      <td>80.846582</td>\n",
       "      <td>0.700140</td>\n",
       "      <td>0.995010</td>\n",
       "    </tr>\n",
       "    <tr>\n",
       "      <th>2</th>\n",
       "      <td>54.797927</td>\n",
       "      <td>60936.528497</td>\n",
       "      <td>303.484456</td>\n",
       "      <td>3.117876</td>\n",
       "      <td>1426.997409</td>\n",
       "      <td>3.981865</td>\n",
       "      <td>0.012539</td>\n",
       "      <td>345.789275</td>\n",
       "      <td>0.728721</td>\n",
       "      <td>26.151023</td>\n",
       "      <td>0.065415</td>\n",
       "      <td>1.325130</td>\n",
       "    </tr>\n",
       "    <tr>\n",
       "      <th>3</th>\n",
       "      <td>49.334621</td>\n",
       "      <td>52967.165620</td>\n",
       "      <td>318.748431</td>\n",
       "      <td>3.267986</td>\n",
       "      <td>1426.951231</td>\n",
       "      <td>5.025592</td>\n",
       "      <td>0.010541</td>\n",
       "      <td>228.796017</td>\n",
       "      <td>0.541136</td>\n",
       "      <td>19.741598</td>\n",
       "      <td>0.048769</td>\n",
       "      <td>2.620473</td>\n",
       "    </tr>\n",
       "  </tbody>\n",
       "</table>\n",
       "</div>"
      ],
      "text/plain": [
       "                    age        income   seniority  tot_offers_received  \\\n",
       "kmeans_group                                                             \n",
       "0             57.806069  72438.678398  541.232178             3.632968   \n",
       "1             53.015126  63851.551536  598.348823             3.710276   \n",
       "2             54.797927  60936.528497  303.484456             3.117876   \n",
       "3             49.334621  52967.165620  318.748431             3.267986   \n",
       "\n",
       "              mean_resp_t   nbr_pur  tot_am_offers  pur_interval  gender_n  \\\n",
       "kmeans_group                                                                 \n",
       "0               74.299623  8.635123      57.606247     87.873454  0.729112   \n",
       "1               86.498986  9.728052      44.521293     81.684635  0.541136   \n",
       "2             1426.997409  3.981865       0.012539    345.789275  0.728721   \n",
       "3             1426.951231  5.025592       0.010541    228.796017  0.541136   \n",
       "\n",
       "              non_offers_spent     score  dbscan_group  \n",
       "kmeans_group                                            \n",
       "0                    98.589348  0.821063     -0.002693  \n",
       "1                    80.846582  0.700140      0.995010  \n",
       "2                    26.151023  0.065415      1.325130  \n",
       "3                    19.741598  0.048769      2.620473  "
      ]
     },
     "execution_count": 27,
     "metadata": {},
     "output_type": "execute_result"
    }
   ],
   "source": [
    "clean_profile_for_mod['kmeans_group'] = fitted_kmeans_model.labels_\n",
    "clean_profile_for_mod.groupby('kmeans_group').mean()"
   ]
  },
  {
   "cell_type": "markdown",
   "metadata": {},
   "source": [
    "We can see that:\n",
    "    \n",
    "**1) Again, we can see patterns in our feature behavior, in function of the cluster:**\n",
    "    \n",
    "We find clearly defined differences in clusters in the following variables:\n",
    "    \n",
    "- mean_resp_t\n",
    "\n",
    "- nbr_pur\n",
    "\n",
    "- tot_am_offers\n",
    "\n",
    "- non_offers_spent\n",
    "\n",
    "And clearly defined differences in the following variables:\n",
    "    \n",
    "- age\n",
    "\n",
    "- seniority\n",
    "\n",
    "- gender_n\n",
    "\n",
    "\n",
    "And slight differences in the following variables:\n",
    "    \n",
    "- age\n",
    "\n",
    "**2) Also: we can see that the clusters coincide with those resulting from the DBSCAN**\n",
    "\n",
    "As shows their average value, when grouped by the clusters resulting from the K-Means. This is especially true for our clusters of customers that are highly susceptible to our offers, and a little bit less, for the other two clusters."
   ]
  },
  {
   "cell_type": "code",
   "execution_count": 28,
   "metadata": {},
   "outputs": [],
   "source": [
    "grouped_df = clean_profile_for_mod.groupby('kmeans_group')['score'].mean()\n",
    "listed_vals = list(grouped_df[grouped_df>0.5].index)"
   ]
  },
  {
   "cell_type": "markdown",
   "metadata": {},
   "source": [
    "Now, we can do the same assignation as we did with the DBSCAN, and check the accuracy of this method.\n",
    "\n",
    "As the clusters are very similar to each other, we should expect similar results to the previous case:"
   ]
  },
  {
   "cell_type": "code",
   "execution_count": 29,
   "metadata": {},
   "outputs": [
    {
     "name": "stdout",
     "output_type": "stream",
     "text": [
      "[[0.17133221 0.         0.11757167]\n",
      " [0.02043845 0.         0.15871838]\n",
      " [0.         0.         0.53193929]]\n",
      "0.7032715008431704\n"
     ]
    }
   ],
   "source": [
    "def kmeans_scoring_fun(x):\n",
    "    if x in listed_vals:\n",
    "        return 1\n",
    "    else:\n",
    "        return 0\n",
    "\n",
    "kmeans_cm, kmeans_norm_cm, kmeans_acc = assesing_function(kmeans_scoring_fun, \n",
    "                                                          clean_profile_for_mod['kmeans_group'], \n",
    "                                                          y)"
   ]
  },
  {
   "cell_type": "code",
   "execution_count": 30,
   "metadata": {},
   "outputs": [
    {
     "name": "stdout",
     "output_type": "stream",
     "text": [
      "[[0.20872709 0.         0.1432328 ]\n",
      " [0.         0.         0.6480401 ]]\n",
      "0.8567671953324021\n"
     ]
    }
   ],
   "source": [
    "_ = to_binary(kmeans_norm_cm)"
   ]
  },
  {
   "cell_type": "markdown",
   "metadata": {},
   "source": [
    "Now, let's see whether it is possible to increase the accuracy of our methods by increasing the number of asociated clusters, or if our intuition was right, and we were using around the right number of clusters.\n",
    "\n",
    "For this, we will use the elbow method:"
   ]
  },
  {
   "cell_type": "code",
   "execution_count": 31,
   "metadata": {},
   "outputs": [],
   "source": [
    "elbow_m_results = pd.Series([])\n",
    "\n",
    "for i in range(1,21):\n",
    "    kmeans_model = KMeans(i)\n",
    "    fitted_kmeans_model = kmeans_model.fit(scaled_x)\n",
    "    elbow_m_results[i] = fitted_kmeans_model.inertia_"
   ]
  },
  {
   "cell_type": "code",
   "execution_count": 32,
   "metadata": {
    "scrolled": true
   },
   "outputs": [
    {
     "data": {
      "image/png": "[encoded data removed]",
      "text/plain": [
       "<Figure size 1080x360 with 1 Axes>"
      ]
     },
     "metadata": {
      "needs_background": "light"
     },
     "output_type": "display_data"
    }
   ],
   "source": [
    "vals = list(range(21))\n",
    "\n",
    "plt.title('KMeans inertia per number of centers (Elbow method)')\n",
    "plt.plot(elbow_m_results)\n",
    "plt.xticks(vals)\n",
    "plt.grid()"
   ]
  },
  {
   "cell_type": "markdown",
   "metadata": {},
   "source": [
    "We can see that we are clearly in the elbow region.\n",
    "\n",
    "From this point on, few more information can be extracted from the variables by grouping them in smaller regions, as those regions will be closer to each other, and share traits.\n",
    "\n",
    "This means that we have extracted all the information we could from these clustering algorithms.\n",
    "\n",
    "One last insight: as these methods have taught us, we have some features that clearly distinguish those two clusters containing our customers susceptible to our offers, from those who contain those who are not.\n",
    "\n",
    "These variables are the following:"
   ]
  },
  {
   "cell_type": "code",
   "execution_count": 33,
   "metadata": {},
   "outputs": [],
   "source": [
    "imp_feats_list = ['seniority', 'mean_resp_t', 'nbr_pur', 'tot_am_offers', 'pur_interval', 'gender_n', 'non_offers_spent']"
   ]
  },
  {
   "cell_type": "markdown",
   "metadata": {},
   "source": [
    "If necesary, we can reduce the dimensionality of our problem by keeping these variables, that it has been shown that have a clear  impact on our target characterization."
   ]
  },
  {
   "cell_type": "markdown",
   "metadata": {},
   "source": [
    "## 2.3) Customer segmentation benchmark model"
   ]
  },
  {
   "cell_type": "markdown",
   "metadata": {},
   "source": [
    "We divide our normalized dataframe in train and test, for trying out our models.\n",
    "\n",
    "We are going to define two sets of train and test data, one keeping the dubious clients, and the other without them.\n",
    "\n",
    "We will do this because we want to see if keeping our clients can help in the training of our models, which may yield a gain in terms of final accuracy (always, as we did with the previous clustering models, considering the binary case without dubious clients)."
   ]
  },
  {
   "cell_type": "code",
   "execution_count": 34,
   "metadata": {},
   "outputs": [],
   "source": [
    "# red_scaled_xy = scaled_xy[imp_feats_list]\n",
    "# bi_scaled_xy = red_scaled_xy.loc[y[y!=0.5].index, :]"
   ]
  },
  {
   "cell_type": "code",
   "execution_count": 35,
   "metadata": {},
   "outputs": [],
   "source": [
    "filtered_xy = scaled_xy[scaled_xy['score']!=0.5]\n",
    "filtered_xy_train, filtered_xy_test = train_test_split(filtered_xy, random_state=37, train_size=0.7)\n",
    "\n",
    "bi_x_train = filtered_xy_train.drop('score', axis = 1)\n",
    "bi_y_train = filtered_xy_train['score']\n",
    "\n",
    "bi_x_test = filtered_xy_test.drop('score', axis = 1)\n",
    "bi_y_test = filtered_xy_test['score']"
   ]
  },
  {
   "cell_type": "code",
   "execution_count": 36,
   "metadata": {},
   "outputs": [],
   "source": [
    "xy_train, xy_test = train_test_split(scaled_xy, random_state=37, train_size=0.7)\n",
    "\n",
    "tri_x_train = xy_train.drop('score', axis = 1)\n",
    "tri_y_train = xy_train['score']\n",
    "\n",
    "tri_x_test = xy_test.drop('score', axis = 1)\n",
    "tri_y_test = xy_test['score']"
   ]
  },
  {
   "cell_type": "markdown",
   "metadata": {},
   "source": [
    "### 2.3.1) Models behaviour comparison"
   ]
  },
  {
   "cell_type": "markdown",
   "metadata": {},
   "source": [
    "Over this data we are going to try out now a set of different machine learning models, and see what accuracies we receive, both for the binary and ternary cases (so we can see whether there are any discrepancies in their behavior between the two scenarios):"
   ]
  },
  {
   "cell_type": "code",
   "execution_count": 37,
   "metadata": {},
   "outputs": [
    {
     "name": "stdout",
     "output_type": "stream",
     "text": [
      "GaussianNB(priors=None, var_smoothing=1e-09) \n",
      "\n",
      "[[0.26672928 0.08264851]\n",
      " [0.0227753  0.62784691]]\n",
      "0.8945761915942709\n",
      "[[0.27882772 0.0791564 ]\n",
      " [0.01889893 0.62311695]]\n",
      "0.901944672692413\n",
      "\n",
      "\n",
      "LinearRegression(copy_X=True, fit_intercept=True, n_jobs=None, normalize=False) \n",
      "\n",
      "[[0.2801127  0.06926509]\n",
      " [0.02970181 0.6209204 ]]\n",
      "0.9010331063629959\n",
      "[[0.29033142 0.0676527 ]\n",
      " [0.02766365 0.61435223]]\n",
      "0.9046836483155299\n",
      "\n",
      "\n",
      "LogisticRegression(C=1.0, class_weight=None, dual=False, fit_intercept=True,\n",
      "                   intercept_scaling=1, l1_ratio=None, max_iter=100,\n",
      "                   multi_class='auto', n_jobs=None, penalty='l2',\n",
      "                   random_state=None, solver='lbfgs', tol=0.0001, verbose=0,\n",
      "                   warm_start=False) \n",
      "\n",
      "[[0.26567269 0.0837051 ]\n",
      " [0.01361822 0.63700399]]\n",
      "0.9026766846677624\n",
      "[[0.27471925 0.08326486]\n",
      " [0.00958641 0.63242947]]\n",
      "0.9071487263763354\n",
      "\n",
      "\n",
      "RandomForestClassifier(bootstrap=True, ccp_alpha=0.0, class_weight=None,\n",
      "                       criterion='gini', max_depth=None, max_features='auto',\n",
      "                       max_leaf_nodes=None, max_samples=None,\n",
      "                       min_impurity_decrease=0.0, min_impurity_split=None,\n",
      "                       min_samples_leaf=1, min_samples_split=2,\n",
      "                       min_weight_fraction_leaf=0.0, n_estimators=100,\n",
      "                       n_jobs=None, oob_score=False, random_state=None,\n",
      "                       verbose=0, warm_start=False) \n",
      "\n",
      "[[0.34937779 0.        ]\n",
      " [0.         0.65062221]]\n",
      "1.0\n",
      "[[0.34100247 0.01698165]\n",
      " [0.01643385 0.62558203]]\n",
      "0.9665844973979731\n",
      "\n",
      "\n"
     ]
    }
   ],
   "source": [
    "models = [GaussianNB(), LinearRegression(), LogisticRegression(), RandomForestClassifier()]\n",
    "\n",
    "for model in models:\n",
    "    \n",
    "    print(model, '\\n')\n",
    "    model = model\n",
    "    fitted_model = model.fit(bi_x_train, bi_y_train)\n",
    "\n",
    "    y_train_hat = pd.Series(fitted_model.predict(bi_x_train))\n",
    "    \n",
    "    if ((y_train_hat<1)&(y_train_hat>0)).any():\n",
    "        y_train_hat = y_train_hat.apply(lambda x: 1 if x>0.65 else 0)\n",
    "        \n",
    "    _ = assesing_function(lambda x: x, y_train_hat, bi_y_train)\n",
    "\n",
    "    y_test_hat = pd.Series(fitted_model.predict(bi_x_test))\n",
    "    \n",
    "    if ((y_test_hat<1)&(y_test_hat>0)).any():\n",
    "        y_test_hat = y_test_hat.apply(lambda x: 1 if x>0.65 else 0)\n",
    "        \n",
    "    _ = assesing_function(lambda x: x, y_test_hat, bi_y_test)\n",
    "    \n",
    "    print('\\n')"
   ]
  },
  {
   "cell_type": "markdown",
   "metadata": {},
   "source": [
    "We can see that the best behavior is obtained with the RandomForestClassifier.\n",
    "\n",
    "We are going now to try out a simple linear regression model for comparison, and then we will use the RandomForestClassifier as our definitive model.\n",
    "\n",
    "We will apply them both to the binary scenario (two labels: 1 and 0) and the ternary scenario (three labels: 0, 1 and 0.5 for the indecisive)."
   ]
  },
  {
   "cell_type": "markdown",
   "metadata": {},
   "source": [
    "### 2.3.2) Linear regression"
   ]
  },
  {
   "cell_type": "markdown",
   "metadata": {},
   "source": [
    "**Using two categories**\n",
    "\n",
    "We begin by applying our linear regression model to our binary case, where we have only two labels: 0 and 1:"
   ]
  },
  {
   "cell_type": "code",
   "execution_count": 38,
   "metadata": {},
   "outputs": [
    {
     "data": {
      "text/plain": [
       "array([ 0.06768767,  0.2211958 ,  0.09702664, -0.19793232, -0.66412691,\n",
       "        0.43886399,  1.1612625 ,  0.03510424,  0.06724872,  0.60198385])"
      ]
     },
     "execution_count": 38,
     "metadata": {},
     "output_type": "execute_result"
    }
   ],
   "source": [
    "lr = LinearRegression()\n",
    "lr_fitted = lr.fit(bi_x_train, bi_y_train)\n",
    "lr_fitted.coef_"
   ]
  },
  {
   "cell_type": "code",
   "execution_count": 39,
   "metadata": {},
   "outputs": [
    {
     "name": "stdout",
     "output_type": "stream",
     "text": [
      "[[0.2801127  0.06926509]\n",
      " [0.02970181 0.6209204 ]]\n",
      "0.9010331063629959\n"
     ]
    }
   ],
   "source": [
    "def bin_scoring_fun(x):\n",
    "    \n",
    "    # We are setting this threshold by picking the same value we used to categorize our customer behavior\n",
    "    # during the data manipulation script:\n",
    "    \n",
    "    if x>0.65:\n",
    "        return 1\n",
    "    else:\n",
    "        return 0\n",
    "    \n",
    "def assessing_results_fun(sc_fun, x, y, print_handler=True):\n",
    "    \n",
    "    y_hat = np.fromiter(map(sc_fun, lr_fitted.predict(x)), dtype=np.int)\n",
    "    \n",
    "    if (y==0.5).any():\n",
    "        y = 2*y\n",
    "        y_hat = 2*y_hat\n",
    "\n",
    "    cm = confusion_matrix(y, y_hat)\n",
    "    norm_cm = cm/cm.sum()\n",
    "    acc = np.matrix.trace(norm_cm)\n",
    "    \n",
    "    if print_handler:\n",
    "        print(norm_cm)\n",
    "        print(acc)\n",
    "    \n",
    "    return y_hat, cm, norm_cm, acc\n",
    "\n",
    "\n",
    "bin_y_train_hat, train_bin_lr_cm, norm_train_bin_lr_cm, train_bin_acc = assessing_results_fun(bin_scoring_fun, \n",
    "                                                                                              bi_x_train, \n",
    "                                                                                              bi_y_train)"
   ]
  },
  {
   "cell_type": "code",
   "execution_count": 40,
   "metadata": {},
   "outputs": [
    {
     "name": "stdout",
     "output_type": "stream",
     "text": [
      "[[0.29033142 0.0676527 ]\n",
      " [0.02766365 0.61435223]]\n",
      "0.9046836483155299\n"
     ]
    }
   ],
   "source": [
    "bin_y_test_hat, test_bin_lr_cm, norm_test_bin_lr_cm, test_bin_acc = assessing_results_fun(bin_scoring_fun, \n",
    "                                                                                          bi_x_test, \n",
    "                                                                                          bi_y_test)"
   ]
  },
  {
   "cell_type": "markdown",
   "metadata": {},
   "source": [
    "We can see that we obtain an accuracy of 90%, similar for both the train and test cases, meaning that there is no overfitting and that our model behaves well."
   ]
  },
  {
   "cell_type": "markdown",
   "metadata": {},
   "source": [
    "**Using three categories**\n",
    "\n",
    "Now, let's analyze the data with three labels: 0, 1 and 0.5:"
   ]
  },
  {
   "cell_type": "code",
   "execution_count": 41,
   "metadata": {},
   "outputs": [
    {
     "data": {
      "text/plain": [
       "array([ 0.05471925,  0.19152016,  0.04271864, -0.17861811, -0.56648402,\n",
       "        0.44723532,  1.32173229,  0.01045344,  0.06336777,  0.72167368])"
      ]
     },
     "execution_count": 41,
     "metadata": {},
     "output_type": "execute_result"
    }
   ],
   "source": [
    "lr = LinearRegression()\n",
    "lr_2_fitted = lr.fit(tri_x_train, tri_y_train)\n",
    "lr_2_fitted.coef_"
   ]
  },
  {
   "cell_type": "code",
   "execution_count": 42,
   "metadata": {},
   "outputs": [
    {
     "name": "stdout",
     "output_type": "stream",
     "text": [
      "[[0.22935338 0.         0.05647104]\n",
      " [0.05502554 0.         0.12306061]\n",
      " [0.02524814 0.         0.51084128]]\n",
      "0.7401946612701167\n",
      "\n",
      "binary results:\n",
      "\n",
      "[[0.27904795 0.         0.06870677]\n",
      " [0.03071872 0.         0.62152656]]\n",
      "0.90057451049361\n"
     ]
    }
   ],
   "source": [
    "def trice_scoring_fun(x):\n",
    "    \n",
    "    # We are setting these thresholds by picking the same values we used to categorize our customer behavior\n",
    "    # during the data manipulation script:\n",
    "    \n",
    "    if x>0.65:\n",
    "        return 1\n",
    "    elif x<0.35:\n",
    "        return 0\n",
    "    else:\n",
    "        return 0.5\n",
    "    \n",
    "tri_y_train_hat, train_tri_lr_cm, norm_train_tri_lr_cm, train_tri_acc = assessing_results_fun(trice_scoring_fun, \n",
    "                                                                                              tri_x_train, \n",
    "                                                                                              tri_y_train)\n",
    "\n",
    "print('\\nbinary results:\\n')\n",
    "_ = to_binary(norm_train_tri_lr_cm)"
   ]
  },
  {
   "cell_type": "code",
   "execution_count": 43,
   "metadata": {},
   "outputs": [
    {
     "name": "stdout",
     "output_type": "stream",
     "text": [
      "[[0.23965827 0.         0.05642986]\n",
      " [0.06182554 0.         0.11982914]\n",
      " [0.02068345 0.         0.50157374]]\n",
      "0.7412320143884892\n",
      "\n",
      "binary results:\n",
      "\n",
      "[[0.29285714 0.         0.06895604]\n",
      " [0.02527473 0.         0.61291209]]\n",
      "0.9057692307692307\n"
     ]
    }
   ],
   "source": [
    "tri_y_test_hat, test_tri_lr_cm, norm_test_tri_lr_cm, test_tri_acc = assessing_results_fun(trice_scoring_fun, \n",
    "                                                                                          tri_x_test, \n",
    "                                                                                          tri_y_test)\n",
    "\n",
    "print('\\nbinary results:\\n')\n",
    "_ = to_binary(norm_test_tri_lr_cm)"
   ]
  },
  {
   "cell_type": "markdown",
   "metadata": {},
   "source": [
    "We can see that the results yielded by our model in our train and test scenarios are very similar, revealing again a stable behavior with no overfitting.\n",
    "\n",
    "We can see that we obtain values of accuracy of 75% when considering all the data.\n",
    "\n",
    "If we remove the 0.5 cases from our registers after using them for modelling, our accuracy is about 90% again.\n",
    "\n",
    "This means that our model is not learning anything from the data provided by the dubious cases.\n",
    "\n",
    "Finally, it is interesting to point out how this simple model obtains better results than the clustering models, which also obtain better results than the customer's general benchmark."
   ]
  },
  {
   "cell_type": "markdown",
   "metadata": {},
   "source": [
    "**Optimum threshold inspection**"
   ]
  },
  {
   "cell_type": "markdown",
   "metadata": {},
   "source": [
    "We set the discretization thresholds by picking the same values we used to categorize our customer behavior during the data manipulation script.\n",
    "\n",
    "We are going to analyze now if, by picking a different threshold, the results from the linear regression model can be improved, in terms of accuracy.\n",
    "\n",
    "We are going to try out an array of values between 0 and 1, with a step of 0.01, to look for the optimum threshold:"
   ]
  },
  {
   "cell_type": "code",
   "execution_count": 44,
   "metadata": {},
   "outputs": [],
   "source": [
    "def scoring_fun(thre):\n",
    "    \n",
    "    def scoring_inner_fun(x):\n",
    "    \n",
    "        if x>thre:\n",
    "            return 1\n",
    "        else:\n",
    "            return 0\n",
    "        \n",
    "    return scoring_inner_fun\n",
    "\n",
    "\n",
    "acc_vals = dict([])\n",
    "\n",
    "for val in np.linspace(0,1,101):\n",
    "\n",
    "    fixed_sc_fun = scoring_fun(val)\n",
    "    y, cm, lr_cm, acc = assessing_results_fun(fixed_sc_fun, bi_x_train, bi_y_train, False)\n",
    "    acc_vals[val] = acc"
   ]
  },
  {
   "cell_type": "markdown",
   "metadata": {},
   "source": [
    "Plotting the results and finding the maximum:"
   ]
  },
  {
   "cell_type": "code",
   "execution_count": 45,
   "metadata": {},
   "outputs": [
    {
     "name": "stdout",
     "output_type": "stream",
     "text": [
      "0.65 0.9010331063629959\n"
     ]
    },
    {
     "data": {
      "image/png": "[encoded data removed]",
      "text/plain": [
       "<Figure size 1080x360 with 1 Axes>"
      ]
     },
     "metadata": {
      "needs_background": "light"
     },
     "output_type": "display_data"
    }
   ],
   "source": [
    "acc_list = list(acc_vals.values())\n",
    "plt.plot(range(len(acc_list)), acc_list)\n",
    "max_key = max(acc_vals, key=acc_vals.get)\n",
    "print(max_key, acc_vals[max_key])"
   ]
  },
  {
   "cell_type": "markdown",
   "metadata": {},
   "source": [
    "The maximum value for the accuracy is obtained by setting the threshold to 0.65, the value we picked manually, reusing the value we used for dividing the customers.\n",
    "\n",
    "This seems coherent with what could be expected: if we discretized by using this threshold initially, the optimum now should be found at around this value. "
   ]
  },
  {
   "cell_type": "markdown",
   "metadata": {},
   "source": [
    "### 2.3.3) Random Forest Classifier"
   ]
  },
  {
   "cell_type": "markdown",
   "metadata": {},
   "source": [
    "Now, let's go for our model: the random forest classifier:"
   ]
  },
  {
   "cell_type": "markdown",
   "metadata": {},
   "source": [
    "**Using two categories**\n",
    "\n",
    "Labels 1 and 0:"
   ]
  },
  {
   "cell_type": "code",
   "execution_count": 46,
   "metadata": {},
   "outputs": [
    {
     "name": "stdout",
     "output_type": "stream",
     "text": [
      "Train\n",
      "\n",
      "[[0.34937779 0.        ]\n",
      " [0.         0.65062221]]\n",
      "1.0\n",
      "\n",
      "Test\n",
      "\n",
      "[[0.34018077 0.01780334]\n",
      " [0.01561216 0.62640373]]\n",
      "0.9665844973979731\n"
     ]
    }
   ],
   "source": [
    "rfc_model = RandomForestClassifier()\n",
    "fitted_rfc_model = rfc_model.fit(bi_x_train, bi_y_train)\n",
    "\n",
    "print('Train\\n')\n",
    "\n",
    "y_train_hat = pd.Series(fitted_rfc_model.predict(bi_x_train))\n",
    "_ = assesing_function(lambda x: x, y_train_hat, bi_y_train)\n",
    "\n",
    "print('\\nTest\\n')\n",
    "\n",
    "y_test_hat = pd.Series(fitted_rfc_model.predict(bi_x_test))\n",
    "_ = assesing_function(lambda x: x, y_test_hat, bi_y_test)"
   ]
  },
  {
   "cell_type": "markdown",
   "metadata": {},
   "source": [
    "We can see that we have obtained a train accuracy of 100% and a test accuracy of 96,65%.\n",
    "\n",
    "There might be some modest overfitting.\n",
    "\n",
    "Let's see if we can obtain some gains from our dubious customers by running the model with our full data."
   ]
  },
  {
   "cell_type": "markdown",
   "metadata": {},
   "source": [
    "**Using three categories**\n",
    "\n",
    "Labels: 1, 0 and 0.5:"
   ]
  },
  {
   "cell_type": "code",
   "execution_count": 47,
   "metadata": {},
   "outputs": [
    {
     "name": "stdout",
     "output_type": "stream",
     "text": [
      "Train\n",
      "\n",
      "[[0.28582442 0.         0.        ]\n",
      " [0.         0.17808615 0.        ]\n",
      " [0.         0.         0.53608943]]\n",
      "1.0\n",
      "\n",
      "binary results:\n",
      "\n",
      "[[0.34775472 0.         0.        ]\n",
      " [0.         0.         0.65224528]]\n",
      "1.0\n",
      "\n",
      "Test\n",
      "\n",
      "[[0.2778777  0.00899281 0.00921763]\n",
      " [0.02225719 0.12207734 0.03732014]\n",
      " [0.00944245 0.01731115 0.4955036 ]]\n",
      "0.8954586330935251\n",
      "\n",
      "binary results:\n",
      "\n",
      "[[0.33956044 0.01098901 0.01126374]\n",
      " [0.01153846 0.02115385 0.60549451]]\n",
      "0.945054945054945\n"
     ]
    }
   ],
   "source": [
    "rfc_model = RandomForestClassifier()\n",
    "fitted_rfc_model = rfc_model.fit(tri_x_train, 2*tri_y_train)\n",
    "\n",
    "print('Train\\n')\n",
    "\n",
    "y_train_hat = pd.Series(fitted_rfc_model.predict(tri_x_train))\n",
    "rfc_cm, norm_rfc_cm, rfc_acc = assesing_function(lambda x: x, y_train_hat, 2*tri_y_train)\n",
    "\n",
    "print('\\nbinary results:\\n')\n",
    "_ = to_binary(norm_rfc_cm)\n",
    "\n",
    "print('\\nTest\\n')\n",
    "\n",
    "y_test_hat = pd.Series(fitted_rfc_model.predict(tri_x_test))\n",
    "rfc_cm, norm_rfc_cm, rfc_acc = assesing_function(lambda x: x, y_test_hat, 2*tri_y_test)\n",
    "\n",
    "print('\\nbinary results:\\n')\n",
    "_ = to_binary(norm_rfc_cm)"
   ]
  },
  {
   "cell_type": "markdown",
   "metadata": {},
   "source": [
    "Again, we can see that we have obtained a train accuracy of 100% and a test accuracy of 94,5%, indicating that, for both cases, there might be some modest overfitting.\n",
    "\n",
    "Also, we can see that for this model, keeping the clients with scores of 0.5 has resulted in no gains for our model.\n",
    "\n",
    "We also want to point out the big improvement in accuracy for the full dataset results (almost 90% accuracy), when compared with the clustering models (70%) and the linear regression model (75%)."
   ]
  },
  {
   "cell_type": "markdown",
   "metadata": {},
   "source": [
    "**Model tunning: hyperparameters optimization**"
   ]
  },
  {
   "cell_type": "markdown",
   "metadata": {},
   "source": [
    "As we saw, there might be a little bit of overfitting for our vanilla model.\n",
    "\n",
    "The default characteristics are:"
   ]
  },
  {
   "cell_type": "code",
   "execution_count": 48,
   "metadata": {},
   "outputs": [
    {
     "data": {
      "text/plain": [
       "{'bootstrap': True,\n",
       " 'ccp_alpha': 0.0,\n",
       " 'class_weight': None,\n",
       " 'criterion': 'gini',\n",
       " 'max_depth': None,\n",
       " 'max_features': 'auto',\n",
       " 'max_leaf_nodes': None,\n",
       " 'max_samples': None,\n",
       " 'min_impurity_decrease': 0.0,\n",
       " 'min_impurity_split': None,\n",
       " 'min_samples_leaf': 1,\n",
       " 'min_samples_split': 2,\n",
       " 'min_weight_fraction_leaf': 0.0,\n",
       " 'n_estimators': 100,\n",
       " 'n_jobs': None,\n",
       " 'oob_score': False,\n",
       " 'random_state': None,\n",
       " 'verbose': 0,\n",
       " 'warm_start': False}"
      ]
     },
     "execution_count": 48,
     "metadata": {},
     "output_type": "execute_result"
    }
   ],
   "source": [
    "fitted_rfc_model.get_params()"
   ]
  },
  {
   "cell_type": "markdown",
   "metadata": {},
   "source": [
    "We are goint to tune three of the main characteristics of our algorithm:\n",
    "\n",
    "* max_depth\n",
    "\n",
    "* min_samples_split\n",
    "\n",
    "* min_samples_leaf"
   ]
  },
  {
   "cell_type": "code",
   "execution_count": 49,
   "metadata": {},
   "outputs": [],
   "source": [
    "max_depth = [2,3,4,5]\n",
    "min_samples_split =[2,3,4,5]\n",
    "min_samples_leaf = [1,2,3,4,5]\n",
    "\n",
    "param_grid = {'max_depth':max_depth, \n",
    "              'min_samples_split':min_samples_split, \n",
    "              'min_samples_leaf': min_samples_leaf}"
   ]
  },
  {
   "cell_type": "code",
   "execution_count": 50,
   "metadata": {},
   "outputs": [],
   "source": [
    "GS_rfc = GridSearchCV(estimator = fitted_rfc_model,\n",
    "                     param_grid = param_grid,\n",
    "                     cv = 5,\n",
    "                     scoring = 'accuracy',\n",
    "                     verbose = 0)"
   ]
  },
  {
   "cell_type": "code",
   "execution_count": 51,
   "metadata": {},
   "outputs": [
    {
     "data": {
      "text/plain": [
       "GridSearchCV(cv=5, error_score=nan,\n",
       "             estimator=RandomForestClassifier(bootstrap=True, ccp_alpha=0.0,\n",
       "                                              class_weight=None,\n",
       "                                              criterion='gini', max_depth=None,\n",
       "                                              max_features='auto',\n",
       "                                              max_leaf_nodes=None,\n",
       "                                              max_samples=None,\n",
       "                                              min_impurity_decrease=0.0,\n",
       "                                              min_impurity_split=None,\n",
       "                                              min_samples_leaf=1,\n",
       "                                              min_samples_split=2,\n",
       "                                              min_weight_fraction_leaf=0.0,\n",
       "                                              n_estimators=100, n_jobs=None,\n",
       "                                              oob_score=False,\n",
       "                                              random_state=None, verbose=0,\n",
       "                                              warm_start=False),\n",
       "             iid='deprecated', n_jobs=None,\n",
       "             param_grid={'max_depth': [2, 3, 4, 5],\n",
       "                         'min_samples_leaf': [1, 2, 3, 4, 5],\n",
       "                         'min_samples_split': [2, 3, 4, 5]},\n",
       "             pre_dispatch='2*n_jobs', refit=True, return_train_score=False,\n",
       "             scoring='accuracy', verbose=0)"
      ]
     },
     "execution_count": 51,
     "metadata": {},
     "output_type": "execute_result"
    }
   ],
   "source": [
    "GS_rfc.fit(bi_x_train, bi_y_train)"
   ]
  },
  {
   "cell_type": "markdown",
   "metadata": {},
   "source": [
    "Let's see what are the best model accuracy and hyperparameters:"
   ]
  },
  {
   "cell_type": "code",
   "execution_count": 52,
   "metadata": {},
   "outputs": [
    {
     "name": "stdout",
     "output_type": "stream",
     "text": [
      "0.9571494242416725\n",
      "{'max_depth': 5, 'min_samples_leaf': 3, 'min_samples_split': 2}\n"
     ]
    }
   ],
   "source": [
    "best_rfc = GS_rfc.best_estimator_\n",
    "print(GS_rfc.best_score_)\n",
    "print(GS_rfc.best_params_)"
   ]
  },
  {
   "cell_type": "markdown",
   "metadata": {},
   "source": [
    "And, finally, train it with our data for both the binary and ternary cases, and see the results:"
   ]
  },
  {
   "cell_type": "code",
   "execution_count": 53,
   "metadata": {},
   "outputs": [
    {
     "name": "stdout",
     "output_type": "stream",
     "text": [
      "Train\n",
      "\n",
      "[[0.32695468 0.0224231 ]\n",
      " [0.01596619 0.63465602]]\n",
      "0.961610706738671\n",
      "\n",
      "Test\n",
      "\n",
      "[[0.33470282 0.02328129]\n",
      " [0.01561216 0.62640373]]\n",
      "0.9611065461517393\n"
     ]
    }
   ],
   "source": [
    "rfc_model = best_rfc\n",
    "fitted_rfc_model = rfc_model.fit(bi_x_train, bi_y_train)\n",
    "\n",
    "print('Train\\n')\n",
    "\n",
    "y_train_hat = pd.Series(fitted_rfc_model.predict(bi_x_train))\n",
    "_ = assesing_function(lambda x: x, y_train_hat, bi_y_train)\n",
    "\n",
    "print('\\nTest\\n')\n",
    "\n",
    "y_test_hat = pd.Series(fitted_rfc_model.predict(bi_x_test))\n",
    "_ = assesing_function(lambda x: x, y_test_hat, bi_y_test)"
   ]
  },
  {
   "cell_type": "code",
   "execution_count": 54,
   "metadata": {},
   "outputs": [
    {
     "name": "stdout",
     "output_type": "stream",
     "text": [
      "Train\n",
      "\n",
      "[[0.26481642 0.00414378 0.01686422]\n",
      " [0.02447721 0.08807941 0.06552954]\n",
      " [0.01349138 0.00848029 0.51411776]]\n",
      "0.867013587742122\n",
      "\n",
      "binary results:\n",
      "\n",
      "[[0.32219486 0.00504162 0.02051823]\n",
      " [0.01641459 0.01031774 0.62551296]]\n",
      "0.9477078203775353\n",
      "\n",
      "Test\n",
      "\n",
      "[[0.27338129 0.00314748 0.01955935]\n",
      " [0.03057554 0.08048561 0.07059353]\n",
      " [0.01236511 0.00696942 0.50292266]]\n",
      "0.8567895683453237\n",
      "\n",
      "binary results:\n",
      "\n",
      "[[0.33406593 0.00384615 0.0239011 ]\n",
      " [0.01510989 0.00851648 0.61456044]]\n",
      "0.9486263736263737\n"
     ]
    }
   ],
   "source": [
    "rfc_model = best_rfc\n",
    "fitted_rfc_model = rfc_model.fit(tri_x_train, 2*tri_y_train)\n",
    "\n",
    "print('Train\\n')\n",
    "\n",
    "y_train_hat = pd.Series(fitted_rfc_model.predict(tri_x_train))\n",
    "rfc_cm, norm_rfc_cm, rfc_acc = assesing_function(lambda x: x, y_train_hat, 2*tri_y_train)\n",
    "\n",
    "print('\\nbinary results:\\n')\n",
    "_ = to_binary(norm_rfc_cm)\n",
    "\n",
    "print('\\nTest\\n')\n",
    "\n",
    "y_test_hat = pd.Series(fitted_rfc_model.predict(tri_x_test))\n",
    "rfc_cm, norm_rfc_cm, rfc_acc = assesing_function(lambda x: x, y_test_hat, 2*tri_y_test)\n",
    "\n",
    "print('\\nbinary results:\\n')\n",
    "_ = to_binary(norm_rfc_cm)"
   ]
  },
  {
   "cell_type": "markdown",
   "metadata": {},
   "source": [
    "We can see that we have now more coherence between the train and test results, meaning a more stable behavior in our algorithm, a sympthom of no (or at least, less) overfitting.\n",
    "\n",
    "This model obtains a 5% gain over the simple linear regression explored before (and about a 10% gain over the clustering algorithms).\n",
    "\n",
    "Again, no differences have been obtained from keeping our dubious customers. In fact, in any case, keeping them makes our model learn worse.\n",
    "\n",
    "This means that for training the model in production we should only keep our clients marked as 0 and 1, and drop the dubious."
   ]
  },
  {
   "cell_type": "markdown",
   "metadata": {},
   "source": [
    "# 3) General model"
   ]
  },
  {
   "cell_type": "markdown",
   "metadata": {},
   "source": [
    "## 3.1) Setting the benchmark"
   ]
  },
  {
   "cell_type": "markdown",
   "metadata": {},
   "source": [
    "**GENERAL BENCHMARK:**\n",
    "    \n",
    "As we did before, we will define the current success ratio rate as the following:\n",
    "\n",
    "* $n_{or}$ = number of offers redeemed\n",
    "\n",
    "* $n_{os}$ = number of offers sent\n",
    "\n",
    "\n",
    "$SR = \\frac{n_{or}}{n_{os}}$\n",
    "\n",
    "The first benchmark for our model will be:"
   ]
  },
  {
   "cell_type": "code",
   "execution_count": 55,
   "metadata": {},
   "outputs": [
    {
     "data": {
      "text/plain": [
       "0.6098381609368245"
      ]
     },
     "execution_count": 55,
     "metadata": {},
     "output_type": "execute_result"
    }
   ],
   "source": [
    "total_matched_offers['y'].sum()/total_matched_offers['y'].count()"
   ]
  },
  {
   "cell_type": "markdown",
   "metadata": {},
   "source": [
    "So, at this moment, the massive emailing campaign is getting a success probability of about 61%."
   ]
  },
  {
   "cell_type": "markdown",
   "metadata": {},
   "source": [
    "## 3.2) Normalization and feature engineering"
   ]
  },
  {
   "cell_type": "markdown",
   "metadata": {},
   "source": [
    " ### 2.2.1) Feature analysis"
   ]
  },
  {
   "cell_type": "markdown",
   "metadata": {},
   "source": [
    "As we did with our customer data, let's treat now our offers data:"
   ]
  },
  {
   "cell_type": "code",
   "execution_count": 56,
   "metadata": {},
   "outputs": [
    {
     "name": "stdout",
     "output_type": "stream",
     "text": [
      "<class 'pandas.core.frame.DataFrame'>\n",
      "RangeIndex: 53201 entries, 0 to 53200\n",
      "Data columns (total 17 columns):\n",
      "id               53201 non-null object\n",
      "offer_id         53201 non-null object\n",
      "time_sent        53201 non-null int64\n",
      "cust_offer_id    53201 non-null object\n",
      "time_comp        53201 non-null float64\n",
      "time_diff        32444 non-null float64\n",
      "amount           53201 non-null float64\n",
      "t_fr_lst_pur     53201 non-null float64\n",
      "mean_am          53201 non-null float64\n",
      "difficulty       53201 non-null int64\n",
      "web              53201 non-null int64\n",
      "email            53201 non-null int64\n",
      "mobile           53201 non-null int64\n",
      "social           53201 non-null int64\n",
      "reward           53201 non-null int64\n",
      "score            53201 non-null float64\n",
      "y                53201 non-null int64\n",
      "dtypes: float64(6), int64(8), object(3)\n",
      "memory usage: 6.9+ MB\n"
     ]
    }
   ],
   "source": [
    "total_matched_offers.info()"
   ]
  },
  {
   "cell_type": "markdown",
   "metadata": {},
   "source": [
    "We can see that our *time_diff* column presents some missing values.\n",
    "\n",
    "This was a design decission coming from the data manipulation. We kept this column as it was, because for modelling we will have to drop it (it has almost perfect correlation with our target variable, as only the offers that have been redeemed have a *time_diff* value, which is the time difference between reception and completion).\n",
    "\n",
    "This is also the case for *time_comp* (time of completion for that offer) and *amount* (amount of the purchase of the completion).\n",
    "\n",
    "We will drop also some other columns that contain text, but not numbers (*id*, *offer_id*, *cust_offer_id*).\n",
    "\n",
    "And also _email_, because it has only one different value:"
   ]
  },
  {
   "cell_type": "code",
   "execution_count": 57,
   "metadata": {},
   "outputs": [
    {
     "data": {
      "text/plain": [
       "array([1], dtype=int64)"
      ]
     },
     "execution_count": 57,
     "metadata": {},
     "output_type": "execute_result"
    }
   ],
   "source": [
    "total_matched_offers['email'].unique()"
   ]
  },
  {
   "cell_type": "markdown",
   "metadata": {},
   "source": [
    "...so it does not provide information of any kind.\n",
    "\n",
    "So, dropping our columns, we have:"
   ]
  },
  {
   "cell_type": "code",
   "execution_count": 58,
   "metadata": {},
   "outputs": [
    {
     "data": {
      "text/html": [
       "<div>\n",
       "<style scoped>\n",
       "    .dataframe tbody tr th:only-of-type {\n",
       "        vertical-align: middle;\n",
       "    }\n",
       "\n",
       "    .dataframe tbody tr th {\n",
       "        vertical-align: top;\n",
       "    }\n",
       "\n",
       "    .dataframe thead th {\n",
       "        text-align: right;\n",
       "    }\n",
       "</style>\n",
       "<table border=\"1\" class=\"dataframe\">\n",
       "  <thead>\n",
       "    <tr style=\"text-align: right;\">\n",
       "      <th></th>\n",
       "      <th>time_sent</th>\n",
       "      <th>t_fr_lst_pur</th>\n",
       "      <th>mean_am</th>\n",
       "      <th>difficulty</th>\n",
       "      <th>web</th>\n",
       "      <th>mobile</th>\n",
       "      <th>social</th>\n",
       "      <th>reward</th>\n",
       "      <th>score</th>\n",
       "      <th>y</th>\n",
       "    </tr>\n",
       "  </thead>\n",
       "  <tbody>\n",
       "    <tr>\n",
       "      <th>0</th>\n",
       "      <td>0</td>\n",
       "      <td>54.0</td>\n",
       "      <td>24.607500</td>\n",
       "      <td>10</td>\n",
       "      <td>1</td>\n",
       "      <td>1</td>\n",
       "      <td>1</td>\n",
       "      <td>2</td>\n",
       "      <td>1.0</td>\n",
       "      <td>1</td>\n",
       "    </tr>\n",
       "    <tr>\n",
       "      <th>1</th>\n",
       "      <td>0</td>\n",
       "      <td>204.0</td>\n",
       "      <td>5.090000</td>\n",
       "      <td>10</td>\n",
       "      <td>0</td>\n",
       "      <td>1</td>\n",
       "      <td>1</td>\n",
       "      <td>10</td>\n",
       "      <td>0.0</td>\n",
       "      <td>0</td>\n",
       "    </tr>\n",
       "    <tr>\n",
       "      <th>2</th>\n",
       "      <td>0</td>\n",
       "      <td>132.0</td>\n",
       "      <td>28.828000</td>\n",
       "      <td>5</td>\n",
       "      <td>1</td>\n",
       "      <td>1</td>\n",
       "      <td>0</td>\n",
       "      <td>5</td>\n",
       "      <td>1.0</td>\n",
       "      <td>1</td>\n",
       "    </tr>\n",
       "    <tr>\n",
       "      <th>3</th>\n",
       "      <td>0</td>\n",
       "      <td>12.0</td>\n",
       "      <td>25.008000</td>\n",
       "      <td>10</td>\n",
       "      <td>0</td>\n",
       "      <td>1</td>\n",
       "      <td>1</td>\n",
       "      <td>10</td>\n",
       "      <td>1.0</td>\n",
       "      <td>1</td>\n",
       "    </tr>\n",
       "    <tr>\n",
       "      <th>4</th>\n",
       "      <td>0</td>\n",
       "      <td>132.0</td>\n",
       "      <td>3.701765</td>\n",
       "      <td>10</td>\n",
       "      <td>1</td>\n",
       "      <td>1</td>\n",
       "      <td>0</td>\n",
       "      <td>2</td>\n",
       "      <td>0.5</td>\n",
       "      <td>1</td>\n",
       "    </tr>\n",
       "  </tbody>\n",
       "</table>\n",
       "</div>"
      ],
      "text/plain": [
       "   time_sent  t_fr_lst_pur    mean_am  difficulty  web  mobile  social  \\\n",
       "0          0          54.0  24.607500          10    1       1       1   \n",
       "1          0         204.0   5.090000          10    0       1       1   \n",
       "2          0         132.0  28.828000           5    1       1       0   \n",
       "3          0          12.0  25.008000          10    0       1       1   \n",
       "4          0         132.0   3.701765          10    1       1       0   \n",
       "\n",
       "   reward  score  y  \n",
       "0       2    1.0  1  \n",
       "1      10    0.0  0  \n",
       "2       5    1.0  1  \n",
       "3      10    1.0  1  \n",
       "4       2    0.5  1  "
      ]
     },
     "execution_count": 58,
     "metadata": {},
     "output_type": "execute_result"
    }
   ],
   "source": [
    "cols_to_drop = ['id', 'offer_id', 'cust_offer_id', # Text\n",
    "                'time_comp', 'time_diff', 'amount', # Not known in the momment of sending the offer, would be almost perfectly\n",
    "                                                    # correlated with y\n",
    "                'email'] # Only one value: 1. No information\n",
    "red_tot_matched_offers = total_matched_offers.drop(cols_to_drop, axis=1)\n",
    "red_tot_matched_offers.head()"
   ]
  },
  {
   "cell_type": "markdown",
   "metadata": {},
   "source": [
    "Let's add a new feature, which is the inverse of the time from last purchase (seems reasonable to assume that the probability of someone using an offer goes with the inverse of the time of their last purchase, and not directly):"
   ]
  },
  {
   "cell_type": "code",
   "execution_count": 59,
   "metadata": {},
   "outputs": [],
   "source": [
    "red_tot_matched_offers.insert(2,\n",
    "                              'inv_t_fr_lst_pur', \n",
    "                              red_tot_matched_offers['t_fr_lst_pur'].apply(lambda x: 1/x if x!=0 else 1))"
   ]
  },
  {
   "cell_type": "markdown",
   "metadata": {},
   "source": [
    "Finally, we can now check our correlations:"
   ]
  },
  {
   "cell_type": "code",
   "execution_count": 60,
   "metadata": {
    "scrolled": false
   },
   "outputs": [
    {
     "data": {
      "text/html": [
       "<div>\n",
       "<style scoped>\n",
       "    .dataframe tbody tr th:only-of-type {\n",
       "        vertical-align: middle;\n",
       "    }\n",
       "\n",
       "    .dataframe tbody tr th {\n",
       "        vertical-align: top;\n",
       "    }\n",
       "\n",
       "    .dataframe thead th {\n",
       "        text-align: right;\n",
       "    }\n",
       "</style>\n",
       "<table border=\"1\" class=\"dataframe\">\n",
       "  <thead>\n",
       "    <tr style=\"text-align: right;\">\n",
       "      <th></th>\n",
       "      <th>time_sent</th>\n",
       "      <th>t_fr_lst_pur</th>\n",
       "      <th>inv_t_fr_lst_pur</th>\n",
       "      <th>mean_am</th>\n",
       "      <th>difficulty</th>\n",
       "      <th>web</th>\n",
       "      <th>mobile</th>\n",
       "      <th>social</th>\n",
       "      <th>reward</th>\n",
       "      <th>score</th>\n",
       "      <th>y</th>\n",
       "    </tr>\n",
       "  </thead>\n",
       "  <tbody>\n",
       "    <tr>\n",
       "      <th>time_sent</th>\n",
       "      <td>1.000000</td>\n",
       "      <td>0.020940</td>\n",
       "      <td>0.068852</td>\n",
       "      <td>-0.025795</td>\n",
       "      <td>-0.005462</td>\n",
       "      <td>0.005246</td>\n",
       "      <td>0.003815</td>\n",
       "      <td>-0.000010</td>\n",
       "      <td>-0.000693</td>\n",
       "      <td>0.008077</td>\n",
       "      <td>-0.030990</td>\n",
       "    </tr>\n",
       "    <tr>\n",
       "      <th>t_fr_lst_pur</th>\n",
       "      <td>0.020940</td>\n",
       "      <td>1.000000</td>\n",
       "      <td>-0.246067</td>\n",
       "      <td>-0.132971</td>\n",
       "      <td>0.044337</td>\n",
       "      <td>0.021852</td>\n",
       "      <td>-0.058222</td>\n",
       "      <td>-0.088997</td>\n",
       "      <td>-0.021898</td>\n",
       "      <td>-0.338195</td>\n",
       "      <td>-0.445322</td>\n",
       "    </tr>\n",
       "    <tr>\n",
       "      <th>inv_t_fr_lst_pur</th>\n",
       "      <td>0.068852</td>\n",
       "      <td>-0.246067</td>\n",
       "      <td>1.000000</td>\n",
       "      <td>-0.005944</td>\n",
       "      <td>-0.019644</td>\n",
       "      <td>-0.003924</td>\n",
       "      <td>0.026294</td>\n",
       "      <td>0.044378</td>\n",
       "      <td>0.011127</td>\n",
       "      <td>0.105505</td>\n",
       "      <td>0.124605</td>\n",
       "    </tr>\n",
       "    <tr>\n",
       "      <th>mean_am</th>\n",
       "      <td>-0.025795</td>\n",
       "      <td>-0.132971</td>\n",
       "      <td>-0.005944</td>\n",
       "      <td>1.000000</td>\n",
       "      <td>0.001420</td>\n",
       "      <td>-0.006417</td>\n",
       "      <td>0.002105</td>\n",
       "      <td>0.007603</td>\n",
       "      <td>0.007467</td>\n",
       "      <td>0.294725</td>\n",
       "      <td>0.264848</td>\n",
       "    </tr>\n",
       "    <tr>\n",
       "      <th>difficulty</th>\n",
       "      <td>-0.005462</td>\n",
       "      <td>0.044337</td>\n",
       "      <td>-0.019644</td>\n",
       "      <td>0.001420</td>\n",
       "      <td>1.000000</td>\n",
       "      <td>-0.030382</td>\n",
       "      <td>-0.883877</td>\n",
       "      <td>-0.356739</td>\n",
       "      <td>0.063028</td>\n",
       "      <td>-0.032726</td>\n",
       "      <td>-0.092147</td>\n",
       "    </tr>\n",
       "    <tr>\n",
       "      <th>web</th>\n",
       "      <td>0.005246</td>\n",
       "      <td>0.021852</td>\n",
       "      <td>-0.003924</td>\n",
       "      <td>-0.006417</td>\n",
       "      <td>-0.030382</td>\n",
       "      <td>1.000000</td>\n",
       "      <td>-0.144193</td>\n",
       "      <td>-0.294676</td>\n",
       "      <td>-0.602862</td>\n",
       "      <td>0.010201</td>\n",
       "      <td>0.048665</td>\n",
       "    </tr>\n",
       "    <tr>\n",
       "      <th>mobile</th>\n",
       "      <td>0.003815</td>\n",
       "      <td>-0.058222</td>\n",
       "      <td>0.026294</td>\n",
       "      <td>0.002105</td>\n",
       "      <td>-0.883877</td>\n",
       "      <td>-0.144193</td>\n",
       "      <td>1.000000</td>\n",
       "      <td>0.489327</td>\n",
       "      <td>0.031647</td>\n",
       "      <td>0.031239</td>\n",
       "      <td>0.082996</td>\n",
       "    </tr>\n",
       "    <tr>\n",
       "      <th>social</th>\n",
       "      <td>-0.000010</td>\n",
       "      <td>-0.088997</td>\n",
       "      <td>0.044378</td>\n",
       "      <td>0.007603</td>\n",
       "      <td>-0.356739</td>\n",
       "      <td>-0.294676</td>\n",
       "      <td>0.489327</td>\n",
       "      <td>1.000000</td>\n",
       "      <td>0.322984</td>\n",
       "      <td>0.025993</td>\n",
       "      <td>0.058639</td>\n",
       "    </tr>\n",
       "    <tr>\n",
       "      <th>reward</th>\n",
       "      <td>-0.000693</td>\n",
       "      <td>-0.021898</td>\n",
       "      <td>0.011127</td>\n",
       "      <td>0.007467</td>\n",
       "      <td>0.063028</td>\n",
       "      <td>-0.602862</td>\n",
       "      <td>0.031647</td>\n",
       "      <td>0.322984</td>\n",
       "      <td>1.000000</td>\n",
       "      <td>-0.035267</td>\n",
       "      <td>-0.125660</td>\n",
       "    </tr>\n",
       "    <tr>\n",
       "      <th>score</th>\n",
       "      <td>0.008077</td>\n",
       "      <td>-0.338195</td>\n",
       "      <td>0.105505</td>\n",
       "      <td>0.294725</td>\n",
       "      <td>-0.032726</td>\n",
       "      <td>0.010201</td>\n",
       "      <td>0.031239</td>\n",
       "      <td>0.025993</td>\n",
       "      <td>-0.035267</td>\n",
       "      <td>1.000000</td>\n",
       "      <td>0.715047</td>\n",
       "    </tr>\n",
       "    <tr>\n",
       "      <th>y</th>\n",
       "      <td>-0.030990</td>\n",
       "      <td>-0.445322</td>\n",
       "      <td>0.124605</td>\n",
       "      <td>0.264848</td>\n",
       "      <td>-0.092147</td>\n",
       "      <td>0.048665</td>\n",
       "      <td>0.082996</td>\n",
       "      <td>0.058639</td>\n",
       "      <td>-0.125660</td>\n",
       "      <td>0.715047</td>\n",
       "      <td>1.000000</td>\n",
       "    </tr>\n",
       "  </tbody>\n",
       "</table>\n",
       "</div>"
      ],
      "text/plain": [
       "                  time_sent  t_fr_lst_pur  inv_t_fr_lst_pur   mean_am  \\\n",
       "time_sent          1.000000      0.020940          0.068852 -0.025795   \n",
       "t_fr_lst_pur       0.020940      1.000000         -0.246067 -0.132971   \n",
       "inv_t_fr_lst_pur   0.068852     -0.246067          1.000000 -0.005944   \n",
       "mean_am           -0.025795     -0.132971         -0.005944  1.000000   \n",
       "difficulty        -0.005462      0.044337         -0.019644  0.001420   \n",
       "web                0.005246      0.021852         -0.003924 -0.006417   \n",
       "mobile             0.003815     -0.058222          0.026294  0.002105   \n",
       "social            -0.000010     -0.088997          0.044378  0.007603   \n",
       "reward            -0.000693     -0.021898          0.011127  0.007467   \n",
       "score              0.008077     -0.338195          0.105505  0.294725   \n",
       "y                 -0.030990     -0.445322          0.124605  0.264848   \n",
       "\n",
       "                  difficulty       web    mobile    social    reward  \\\n",
       "time_sent          -0.005462  0.005246  0.003815 -0.000010 -0.000693   \n",
       "t_fr_lst_pur        0.044337  0.021852 -0.058222 -0.088997 -0.021898   \n",
       "inv_t_fr_lst_pur   -0.019644 -0.003924  0.026294  0.044378  0.011127   \n",
       "mean_am             0.001420 -0.006417  0.002105  0.007603  0.007467   \n",
       "difficulty          1.000000 -0.030382 -0.883877 -0.356739  0.063028   \n",
       "web                -0.030382  1.000000 -0.144193 -0.294676 -0.602862   \n",
       "mobile             -0.883877 -0.144193  1.000000  0.489327  0.031647   \n",
       "social             -0.356739 -0.294676  0.489327  1.000000  0.322984   \n",
       "reward              0.063028 -0.602862  0.031647  0.322984  1.000000   \n",
       "score              -0.032726  0.010201  0.031239  0.025993 -0.035267   \n",
       "y                  -0.092147  0.048665  0.082996  0.058639 -0.125660   \n",
       "\n",
       "                     score         y  \n",
       "time_sent         0.008077 -0.030990  \n",
       "t_fr_lst_pur     -0.338195 -0.445322  \n",
       "inv_t_fr_lst_pur  0.105505  0.124605  \n",
       "mean_am           0.294725  0.264848  \n",
       "difficulty       -0.032726 -0.092147  \n",
       "web               0.010201  0.048665  \n",
       "mobile            0.031239  0.082996  \n",
       "social            0.025993  0.058639  \n",
       "reward           -0.035267 -0.125660  \n",
       "score             1.000000  0.715047  \n",
       "y                 0.715047  1.000000  "
      ]
     },
     "execution_count": 60,
     "metadata": {},
     "output_type": "execute_result"
    },
    {
     "data": {
      "image/png": "[encoded data removed]",
      "text/plain": [
       "<Figure size 1080x360 with 2 Axes>"
      ]
     },
     "metadata": {
      "needs_background": "light"
     },
     "output_type": "display_data"
    }
   ],
   "source": [
    "mo_corrs = red_tot_matched_offers.corr()\n",
    "sns.heatmap(abs(mo_corrs))\n",
    "mo_corrs"
   ]
  },
  {
   "cell_type": "code",
   "execution_count": 61,
   "metadata": {},
   "outputs": [
    {
     "data": {
      "image/png": "[encoded data removed]",
      "text/plain": [
       "<Figure size 1080x360 with 1 Axes>"
      ]
     },
     "metadata": {
      "needs_background": "light"
     },
     "output_type": "display_data"
    }
   ],
   "source": [
    "mo_corrs['y'].plot('bar', title='Target variable correlation');"
   ]
  },
  {
   "cell_type": "markdown",
   "metadata": {},
   "source": [
    "We can see that our assumption was wrong, and seems that the probability of completion of an offer is directly (although with negative correlation), and not inversely related to the time of last purchase.\n",
    "\n",
    "In any case, we will preserve the column, in case it can provide some insight to our models.\n",
    "\n",
    "We can also see that some of our variables are slightly correlated with each other, but it doesn't a problem."
   ]
  },
  {
   "cell_type": "markdown",
   "metadata": {},
   "source": [
    "### 3.2.2) Normalization"
   ]
  },
  {
   "cell_type": "markdown",
   "metadata": {},
   "source": [
    "As we did previously, we nor normalize our data using MinMaxScaler.\n",
    "\n",
    "In this case, we do not have two diferent sets of data: offers are only fulfilled (1) or they are not (0):"
   ]
  },
  {
   "cell_type": "code",
   "execution_count": 62,
   "metadata": {},
   "outputs": [],
   "source": [
    "scaled_xy = pd.DataFrame(MinMaxScaler().fit(red_tot_matched_offers).transform(red_tot_matched_offers), \n",
    "                         columns = red_tot_matched_offers.columns)\n",
    "\n",
    "xy_train, xy_test = train_test_split(scaled_xy, random_state=37, train_size=0.7)\n",
    "\n",
    "x_train = xy_train.drop('y', axis=1)\n",
    "y_train = xy_train['y']\n",
    "\n",
    "x_test = xy_test.drop('y', axis=1)\n",
    "y_test = xy_test['y']"
   ]
  },
  {
   "cell_type": "markdown",
   "metadata": {},
   "source": [
    "## 3.3) Models"
   ]
  },
  {
   "cell_type": "markdown",
   "metadata": {},
   "source": [
    "### 3.3.1) Benchmark model"
   ]
  },
  {
   "cell_type": "markdown",
   "metadata": {},
   "source": [
    "As benchmark model, we will use a simple linear regression:"
   ]
  },
  {
   "cell_type": "code",
   "execution_count": 63,
   "metadata": {},
   "outputs": [
    {
     "name": "stdout",
     "output_type": "stream",
     "text": [
      "Train\n",
      "\n",
      "[[0.34411923 0.04656284]\n",
      " [0.10107411 0.50824382]]\n",
      "0.8523630504833513\n",
      "\n",
      "Test\n",
      "\n",
      "[[0.34565503 0.04329303]\n",
      " [0.09905394 0.511998  ]]\n",
      "0.8576530292588185\n"
     ]
    }
   ],
   "source": [
    "lr = LinearRegression()\n",
    "lr_fitted = lr.fit(x_train, y_train)\n",
    "\n",
    "print('Train\\n')\n",
    "\n",
    "y_train_hat = pd.Series(lr_fitted.predict(x_train)).apply(lambda x: 1 if x>0.65 else 0)\n",
    "_ = assesing_function(lambda x: x, y_train_hat, y_train)\n",
    "\n",
    "print('\\nTest\\n')\n",
    "\n",
    "y_test_hat = pd.Series(lr_fitted.predict(x_test)).apply(lambda x: 1 if x>0.65 else 0)\n",
    "_ = assesing_function(lambda x: x, y_test_hat, y_test)"
   ]
  },
  {
   "cell_type": "markdown",
   "metadata": {},
   "source": [
    "We can see that our behavior is consistent, and there is no signal of overfitting.\n",
    "\n",
    "Let's look at which features are the most important in determining our target variable:"
   ]
  },
  {
   "cell_type": "code",
   "execution_count": 64,
   "metadata": {},
   "outputs": [
    {
     "data": {
      "image/png": "[encoded data removed]",
      "text/plain": [
       "<Figure size 1080x360 with 1 Axes>"
      ]
     },
     "metadata": {
      "needs_background": "light"
     },
     "output_type": "display_data"
    }
   ],
   "source": [
    "plt.bar(x_train.columns, lr_fitted.coef_)\n",
    "plt.title('Feature weights in target variable');"
   ]
  },
  {
   "cell_type": "markdown",
   "metadata": {},
   "source": [
    "It seems that the time from last purchase, the mean ammount the client has spent up to the moment of the offer, the reward and the client's score (0, 0.5 or 1) are the most importan features, determining the success of an offer.\n",
    "\n",
    "On the other hand, the medium selected for the offer seems to be of no importance."
   ]
  },
  {
   "cell_type": "markdown",
   "metadata": {},
   "source": [
    "### 3.3.2) Model behavior comparison"
   ]
  },
  {
   "cell_type": "markdown",
   "metadata": {},
   "source": [
    "Now, let's run a series of models in order to select our horse.\n",
    "\n",
    "This time we will use a cross validation to be more sure of our selection:"
   ]
  },
  {
   "cell_type": "code",
   "execution_count": 65,
   "metadata": {},
   "outputs": [
    {
     "data": {
      "text/plain": [
       "{'MultinomialNB': 0.8234435238787693,\n",
       " 'BernoulliNB': 0.8548905337066941,\n",
       " 'GaussianNB': 0.8699276171822282,\n",
       " 'LogisticRegression': 0.8800214961565176,\n",
       " 'SVC': 0.8778974006767696,\n",
       " 'SGDClassifier': 0.8777659330169236,\n",
       " 'RandomForestClassifier': 0.9005661125607931}"
      ]
     },
     "execution_count": 65,
     "metadata": {},
     "output_type": "execute_result"
    }
   ],
   "source": [
    "models = {'MultinomialNB': MultinomialNB(), \n",
    "          'BernoulliNB': BernoulliNB(), \n",
    "          'GaussianNB': GaussianNB(), \n",
    "          'LogisticRegression': LogisticRegression(),\n",
    "          'SVC': SVC(),\n",
    "          'SGDClassifier': SGDClassifier(), \n",
    "          'RandomForestClassifier': RandomForestClassifier()}\n",
    "\n",
    "model_acc_dict = dict([])\n",
    "\n",
    "for model_name, model in models.items():\n",
    "    \n",
    "    cv = cross_validate(estimator=model, \n",
    "                        X=scaled_xy.drop('y', axis=1), \n",
    "                        y=scaled_xy['y'].astype('int'), \n",
    "                        scoring='accuracy')\n",
    "    \n",
    "    model_acc_dict[model_name] = cv['test_score'].mean()\n",
    "    \n",
    "model_acc_dict"
   ]
  },
  {
   "cell_type": "markdown",
   "metadata": {},
   "source": [
    "Again, the RandomForestClassifier seems to be the most promising."
   ]
  },
  {
   "cell_type": "markdown",
   "metadata": {},
   "source": [
    "### 3.3.3) Random forest classifier"
   ]
  },
  {
   "cell_type": "markdown",
   "metadata": {},
   "source": [
    "**Untunned model**"
   ]
  },
  {
   "cell_type": "markdown",
   "metadata": {},
   "source": [
    "Let's see the behavior of the vanilla model:"
   ]
  },
  {
   "cell_type": "code",
   "execution_count": 66,
   "metadata": {},
   "outputs": [
    {
     "name": "stdout",
     "output_type": "stream",
     "text": [
      "Train\n",
      "\n",
      "[[3.90682062e-01 0.00000000e+00]\n",
      " [8.05585392e-05 6.09237379e-01]]\n",
      "0.9999194414607948\n",
      "\n",
      "Test\n",
      "\n",
      "[[0.34220913 0.04673893]\n",
      " [0.04774137 0.56331057]]\n",
      "0.9055197042791805\n"
     ]
    }
   ],
   "source": [
    "rfg = RandomForestClassifier()\n",
    "rfg_fitted = rfg.fit(x_train, y_train)\n",
    "\n",
    "print('Train\\n')\n",
    "\n",
    "y_train_hat = pd.Series(rfg_fitted.predict(x_train))\n",
    "_ = assesing_function(lambda x: x, y_train_hat, y_train)\n",
    "\n",
    "print('\\nTest\\n')\n",
    "\n",
    "y_test_hat = pd.Series(rfg_fitted.predict(x_test))\n",
    "_ = assesing_function(lambda x: x, y_test_hat, y_test)"
   ]
  },
  {
   "cell_type": "markdown",
   "metadata": {},
   "source": [
    "As it happened to us before in the customer case, the difference in accuracy obtained between the train and test scenarios signals a certain ammount of overfitting.\n",
    "\n",
    "So, as we did before, we are going to tune our model, to make it more stable:"
   ]
  },
  {
   "cell_type": "markdown",
   "metadata": {},
   "source": [
    "**Model tunning: hyperparameters optimization**"
   ]
  },
  {
   "cell_type": "code",
   "execution_count": 67,
   "metadata": {},
   "outputs": [
    {
     "data": {
      "text/plain": [
       "GridSearchCV(cv=5, error_score=nan,\n",
       "             estimator=RandomForestClassifier(bootstrap=True, ccp_alpha=0.0,\n",
       "                                              class_weight=None,\n",
       "                                              criterion='gini', max_depth=None,\n",
       "                                              max_features='auto',\n",
       "                                              max_leaf_nodes=None,\n",
       "                                              max_samples=None,\n",
       "                                              min_impurity_decrease=0.0,\n",
       "                                              min_impurity_split=None,\n",
       "                                              min_samples_leaf=1,\n",
       "                                              min_samples_split=2,\n",
       "                                              min_weight_fraction_leaf=0.0,\n",
       "                                              n_estimators=100, n_jobs=None,\n",
       "                                              oob_score=False,\n",
       "                                              random_state=None, verbose=0,\n",
       "                                              warm_start=False),\n",
       "             iid='deprecated', n_jobs=None,\n",
       "             param_grid={'max_depth': [2, 3, 4, 5],\n",
       "                         'min_samples_leaf': [1, 2, 3, 4, 5],\n",
       "                         'min_samples_split': [2, 3, 4, 5]},\n",
       "             pre_dispatch='2*n_jobs', refit=True, return_train_score=False,\n",
       "             scoring='accuracy', verbose=0)"
      ]
     },
     "execution_count": 67,
     "metadata": {},
     "output_type": "execute_result"
    }
   ],
   "source": [
    "GS_rfg = GridSearchCV(estimator = RandomForestClassifier(),\n",
    "                     param_grid = param_grid,\n",
    "                     cv = 5,\n",
    "                     scoring = 'accuracy',\n",
    "                     verbose = 0)\n",
    "\n",
    "GS_rfg.fit(scaled_xy.drop('y', axis=1), scaled_xy['y'].astype('int'))"
   ]
  },
  {
   "cell_type": "markdown",
   "metadata": {},
   "source": [
    "Let's see the best model result and parameters:"
   ]
  },
  {
   "cell_type": "code",
   "execution_count": 68,
   "metadata": {},
   "outputs": [
    {
     "name": "stdout",
     "output_type": "stream",
     "text": [
      "0.9025209202877505\n",
      "{'max_depth': 5, 'min_samples_leaf': 4, 'min_samples_split': 2}\n"
     ]
    }
   ],
   "source": [
    "best_rfg = GS_rfg.best_estimator_\n",
    "print(GS_rfg.best_score_)\n",
    "print(GS_rfg.best_params_)"
   ]
  },
  {
   "cell_type": "markdown",
   "metadata": {},
   "source": [
    "...and, finally, let's train it and comment its results:"
   ]
  },
  {
   "cell_type": "code",
   "execution_count": 69,
   "metadata": {},
   "outputs": [
    {
     "name": "stdout",
     "output_type": "stream",
     "text": [
      "Train\n",
      "\n",
      "[[0.32531111 0.02406668]\n",
      " [0.0147922  0.63583001]]\n",
      "0.9611411129373093\n",
      "\n",
      "Test\n",
      "\n",
      "[[0.33251164 0.02547247]\n",
      " [0.01533826 0.62667762]]\n",
      "0.9591892632155574\n"
     ]
    }
   ],
   "source": [
    "rfg_model = best_rfg\n",
    "fitted_rfg_model = rfg_model.fit(bi_x_train, bi_y_train)\n",
    "\n",
    "print('Train\\n')\n",
    "\n",
    "y_train_hat = pd.Series(fitted_rfg_model.predict(bi_x_train))\n",
    "_ = assesing_function(lambda x: x, y_train_hat, bi_y_train)\n",
    "\n",
    "print('\\nTest\\n')\n",
    "\n",
    "y_test_hat = pd.Series(fitted_rfg_model.predict(bi_x_test))\n",
    "_ = assesing_function(lambda x: x, y_test_hat, bi_y_test)"
   ]
  },
  {
   "cell_type": "markdown",
   "metadata": {},
   "source": [
    "We can see that we have obtained accuracies of about 96% for both the train and test scenarios.\n",
    "\n",
    "This also reveals that the overfitting should be corrected.\n",
    "\n",
    "Again, note that this result is better than the one obtained in the benchmark model, which, in its turn, is also better than the general benchmark."
   ]
  },
  {
   "cell_type": "markdown",
   "metadata": {},
   "source": [
    "# 4) Conclussions"
   ]
  },
  {
   "cell_type": "markdown",
   "metadata": {},
   "source": [
    "## 4.1) Summing up"
   ]
  },
  {
   "cell_type": "markdown",
   "metadata": {},
   "source": [
    "Along this script we have created two models: one model for determining which customers are receptive to our offers, and another one for predicting if a particular offer is going to be succesful.\n",
    "\n",
    "In order to do so, we have inspected our data, normalized it, and then, run simple model to use it as benchmark, and later, run a battery of models, selected the most promising and we have tuned it in order to perfect its behavior, specially in terms of possible overfitting.\n",
    "\n",
    "For both cases, the model of our election has been a random forest classifier."
   ]
  },
  {
   "cell_type": "markdown",
   "metadata": {},
   "source": [
    "## 4.2) Customer characterization"
   ]
  },
  {
   "cell_type": "markdown",
   "metadata": {},
   "source": [
    "The general benchmark for this model was about 53% (that meant, considering all clients were susceptible to our offers).\n",
    "\n",
    "In the case of our customer characterization, we have also run some clustering algorithms that allowed us to get some insight in which of our customers are more prone to redeem our offers, and create a persona for those clients.\n",
    "\n",
    "As we have seen, we have been able also to use those clusters to create a minimodel over them, that yielded about 70% (considering all clients) or 85% (when dropping the dubious) accuracy, both when using DBSCAN and KMeans algorithms for such clustering.\n",
    "\n",
    "This already meant a significant improvement from our current situation.\n",
    "\n",
    "But we could do better: a simple linear regression yielded results of 75% and 90%.\n",
    "\n",
    "And, finally, a tuned random forest classifier took us to results of 80% and 95% in terms of accuracy."
   ]
  },
  {
   "cell_type": "markdown",
   "metadata": {},
   "source": [
    "## 4.3) Offers model"
   ]
  },
  {
   "cell_type": "markdown",
   "metadata": {},
   "source": [
    "For our general model, we started from a general benchmark of 61% (considering the previous success rate).\n",
    "\n",
    "A simple linear regression took that accuracy up to the 85% range, and also showed us that the most important features when determining the success of an offer were:\n",
    "    \n",
    "* the time past from that client's last purchase\n",
    "\n",
    "* the mean ammount the client has spent up to the moment of the offer\n",
    "\n",
    "* the offer reward\n",
    "\n",
    "* the client's score (0, 0.5 or 1)\n",
    "\n",
    "Again, after running a battery of models, we selected a random forest classifier as the model of our choice. That model, after fine tunning, got the accuracy up to 96%."
   ]
  },
  {
   "cell_type": "markdown",
   "metadata": {},
   "source": [
    "## 4.4) Possible further improvements"
   ]
  },
  {
   "cell_type": "markdown",
   "metadata": {},
   "source": [
    "There are certain features we could create both for the customers and offers datasets, and feed our models.\n",
    "\n",
    "Also, dimensionality reduction via PCA, or just by keeping the most prominent features, was not performed.\n",
    "\n",
    "Finally, the author has the concern of how would impact the results, if, instead of considering the client behaviour as discrete (0 and 1, with 0.5 as mark for 'dubious'), a continuous variable was used instead. This could take the prediction on the offers model beyond. Nevertheless, it would mean that the metrics for assessing the customers models employed would become less intuitive (which was the reason for the discrete approach in the first place)."
   ]
  },
  {
   "cell_type": "markdown",
   "metadata": {},
   "source": [
    "## 4.5 Final considerations"
   ]
  },
  {
   "cell_type": "markdown",
   "metadata": {},
   "source": [
    "Along this project we have tried to perfectionate the offer campaigns of a coffee retailer.\n",
    "\n",
    "Starting from the information on three files:\n",
    "    \n",
    "* portfolio.json - containing offer ids and meta data about each offer (duration, type, etc.)\n",
    "* profile.json - demographic data for each customer\n",
    "* transcript.json - records for transactions, offers received, offers viewed, and offers completed\n",
    "\n",
    "we have cleaned and treat that information, and used it to feed two models:\n",
    "\n",
    "* a first model that tells us whether a client is interested in our offers or not\n",
    "\n",
    "* a second model that tells us whether a particular offer will be successful\n",
    "\n",
    "Our models have obtained accuracies in the 95-96% range, when using a random forest classifier.\n",
    "\n",
    "For this particular problem, as the failures should not be very harmful, this means almost pinpointing our offers and our interested customers.\n",
    "\n",
    "What is best, it improves our current situation dramatically.\n",
    "\n",
    "In my opinion, this project reveals the true power of machine learning algorithms for dealing with certain kind of problems, and the reason for their present date popularity."
   ]
  }
 ],
 "metadata": {
  "kernelspec": {
   "display_name": "Python 3",
   "language": "python",
   "name": "python3"
  },
  "language_info": {
   "codemirror_mode": {
    "name": "ipython",
    "version": 3
   },
   "file_extension": ".py",
   "mimetype": "text/x-python",
   "name": "python",
   "nbconvert_exporter": "python",
   "pygments_lexer": "ipython3",
   "version": "3.7.3"
  }
 },
 "nbformat": 4,
 "nbformat_minor": 2
}
