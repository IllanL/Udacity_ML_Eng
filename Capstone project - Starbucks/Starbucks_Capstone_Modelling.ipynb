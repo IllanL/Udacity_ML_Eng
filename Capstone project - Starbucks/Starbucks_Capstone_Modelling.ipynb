{
 "cells": [
  {
   "cell_type": "markdown",
   "metadata": {},
   "source": [
    "# Starbucks - Capstone project\n",
    "\n",
    "# Modelling"
   ]
  },
  {
   "cell_type": "markdown",
   "metadata": {},
   "source": [
    "# 1) Loading required packages and reading in the files"
   ]
  },
  {
   "cell_type": "code",
   "execution_count": 1,
   "metadata": {},
   "outputs": [],
   "source": [
    "import pandas as pd\n",
    "import numpy as np\n",
    "import math\n",
    "import json\n",
    "import os\n",
    "import datetime as dt\n",
    "import matplotlib.pyplot as plt\n",
    "import seaborn as sns\n",
    "%matplotlib inline"
   ]
  },
  {
   "cell_type": "code",
   "execution_count": 2,
   "metadata": {},
   "outputs": [],
   "source": [
    "plt.rcParams['figure.figsize'] = [15, 5]"
   ]
  },
  {
   "cell_type": "code",
   "execution_count": 3,
   "metadata": {},
   "outputs": [],
   "source": [
    "# read in the csv files\n",
    "clean_profile_expanded = pd.read_csv('treated_data/clean_profile_expanded.csv', sep=';', )\n",
    "total_matched_offers = pd.read_csv('treated_data/total_matched_offers.csv', sep=';')"
   ]
  },
  {
   "cell_type": "code",
   "execution_count": 4,
   "metadata": {},
   "outputs": [
    {
     "data": {
      "text/html": [
       "<div>\n",
       "<style scoped>\n",
       "    .dataframe tbody tr th:only-of-type {\n",
       "        vertical-align: middle;\n",
       "    }\n",
       "\n",
       "    .dataframe tbody tr th {\n",
       "        vertical-align: top;\n",
       "    }\n",
       "\n",
       "    .dataframe thead th {\n",
       "        text-align: right;\n",
       "    }\n",
       "</style>\n",
       "<table border=\"1\" class=\"dataframe\">\n",
       "  <thead>\n",
       "    <tr style=\"text-align: right;\">\n",
       "      <th></th>\n",
       "      <th>age</th>\n",
       "      <th>became_member_on</th>\n",
       "      <th>gender</th>\n",
       "      <th>id</th>\n",
       "      <th>income</th>\n",
       "      <th>date_bmo</th>\n",
       "      <th>year_bmo</th>\n",
       "      <th>month_bmo</th>\n",
       "      <th>day_bmo</th>\n",
       "      <th>tot_offers_received</th>\n",
       "      <th>tot_am_spent</th>\n",
       "      <th>tot_offers_succesful</th>\n",
       "      <th>offer_success_ratio</th>\n",
       "      <th>mean_resp_t</th>\n",
       "      <th>max_resp_t</th>\n",
       "      <th>min_resp_t</th>\n",
       "      <th>nbr_pur</th>\n",
       "      <th>tot_am_offers</th>\n",
       "      <th>pur_interval</th>\n",
       "      <th>score</th>\n",
       "    </tr>\n",
       "  </thead>\n",
       "  <tbody>\n",
       "    <tr>\n",
       "      <th>0</th>\n",
       "      <td>55</td>\n",
       "      <td>20170715</td>\n",
       "      <td>F</td>\n",
       "      <td>0610b486422d4921ae7d2bf64640c50b</td>\n",
       "      <td>112000.0</td>\n",
       "      <td>2017-07-15</td>\n",
       "      <td>2017</td>\n",
       "      <td>7</td>\n",
       "      <td>15</td>\n",
       "      <td>1.0</td>\n",
       "      <td>77.01</td>\n",
       "      <td>1.0</td>\n",
       "      <td>1.000000</td>\n",
       "      <td>120.0</td>\n",
       "      <td>120.0</td>\n",
       "      <td>120.0</td>\n",
       "      <td>3.0</td>\n",
       "      <td>23.22</td>\n",
       "      <td>255.0</td>\n",
       "      <td>0.5</td>\n",
       "    </tr>\n",
       "    <tr>\n",
       "      <th>1</th>\n",
       "      <td>75</td>\n",
       "      <td>20170509</td>\n",
       "      <td>F</td>\n",
       "      <td>78afa995795e4d85b5d9ceeca43f5fef</td>\n",
       "      <td>100000.0</td>\n",
       "      <td>2017-05-09</td>\n",
       "      <td>2017</td>\n",
       "      <td>5</td>\n",
       "      <td>9</td>\n",
       "      <td>3.0</td>\n",
       "      <td>159.27</td>\n",
       "      <td>3.0</td>\n",
       "      <td>1.000000</td>\n",
       "      <td>80.0</td>\n",
       "      <td>132.0</td>\n",
       "      <td>6.0</td>\n",
       "      <td>7.0</td>\n",
       "      <td>63.33</td>\n",
       "      <td>67.0</td>\n",
       "      <td>1.0</td>\n",
       "    </tr>\n",
       "    <tr>\n",
       "      <th>2</th>\n",
       "      <td>68</td>\n",
       "      <td>20180426</td>\n",
       "      <td>M</td>\n",
       "      <td>e2127556f4f64592b11af22de27a7932</td>\n",
       "      <td>70000.0</td>\n",
       "      <td>2018-04-26</td>\n",
       "      <td>2018</td>\n",
       "      <td>4</td>\n",
       "      <td>26</td>\n",
       "      <td>3.0</td>\n",
       "      <td>57.73</td>\n",
       "      <td>2.0</td>\n",
       "      <td>0.666667</td>\n",
       "      <td>66.0</td>\n",
       "      <td>114.0</td>\n",
       "      <td>18.0</td>\n",
       "      <td>3.0</td>\n",
       "      <td>36.84</td>\n",
       "      <td>117.0</td>\n",
       "      <td>1.0</td>\n",
       "    </tr>\n",
       "    <tr>\n",
       "      <th>3</th>\n",
       "      <td>65</td>\n",
       "      <td>20180209</td>\n",
       "      <td>M</td>\n",
       "      <td>389bc3fa690240e798340f5a15918d5c</td>\n",
       "      <td>53000.0</td>\n",
       "      <td>2018-02-09</td>\n",
       "      <td>2018</td>\n",
       "      <td>2</td>\n",
       "      <td>9</td>\n",
       "      <td>6.0</td>\n",
       "      <td>36.43</td>\n",
       "      <td>5.0</td>\n",
       "      <td>0.833333</td>\n",
       "      <td>134.4</td>\n",
       "      <td>330.0</td>\n",
       "      <td>24.0</td>\n",
       "      <td>3.0</td>\n",
       "      <td>63.32</td>\n",
       "      <td>270.0</td>\n",
       "      <td>1.0</td>\n",
       "    </tr>\n",
       "    <tr>\n",
       "      <th>4</th>\n",
       "      <td>58</td>\n",
       "      <td>20171111</td>\n",
       "      <td>M</td>\n",
       "      <td>2eeac8d8feae4a8cad5a6af0499a211d</td>\n",
       "      <td>51000.0</td>\n",
       "      <td>2017-11-11</td>\n",
       "      <td>2017</td>\n",
       "      <td>11</td>\n",
       "      <td>11</td>\n",
       "      <td>2.0</td>\n",
       "      <td>15.62</td>\n",
       "      <td>1.0</td>\n",
       "      <td>0.500000</td>\n",
       "      <td>120.0</td>\n",
       "      <td>120.0</td>\n",
       "      <td>120.0</td>\n",
       "      <td>4.0</td>\n",
       "      <td>7.14</td>\n",
       "      <td>118.0</td>\n",
       "      <td>0.5</td>\n",
       "    </tr>\n",
       "  </tbody>\n",
       "</table>\n",
       "</div>"
      ],
      "text/plain": [
       "   age  became_member_on gender                                id    income  \\\n",
       "0   55          20170715      F  0610b486422d4921ae7d2bf64640c50b  112000.0   \n",
       "1   75          20170509      F  78afa995795e4d85b5d9ceeca43f5fef  100000.0   \n",
       "2   68          20180426      M  e2127556f4f64592b11af22de27a7932   70000.0   \n",
       "3   65          20180209      M  389bc3fa690240e798340f5a15918d5c   53000.0   \n",
       "4   58          20171111      M  2eeac8d8feae4a8cad5a6af0499a211d   51000.0   \n",
       "\n",
       "     date_bmo  year_bmo  month_bmo  day_bmo  tot_offers_received  \\\n",
       "0  2017-07-15      2017          7       15                  1.0   \n",
       "1  2017-05-09      2017          5        9                  3.0   \n",
       "2  2018-04-26      2018          4       26                  3.0   \n",
       "3  2018-02-09      2018          2        9                  6.0   \n",
       "4  2017-11-11      2017         11       11                  2.0   \n",
       "\n",
       "   tot_am_spent  tot_offers_succesful  offer_success_ratio  mean_resp_t  \\\n",
       "0         77.01                   1.0             1.000000        120.0   \n",
       "1        159.27                   3.0             1.000000         80.0   \n",
       "2         57.73                   2.0             0.666667         66.0   \n",
       "3         36.43                   5.0             0.833333        134.4   \n",
       "4         15.62                   1.0             0.500000        120.0   \n",
       "\n",
       "   max_resp_t  min_resp_t  nbr_pur  tot_am_offers  pur_interval  score  \n",
       "0       120.0       120.0      3.0          23.22         255.0    0.5  \n",
       "1       132.0         6.0      7.0          63.33          67.0    1.0  \n",
       "2       114.0        18.0      3.0          36.84         117.0    1.0  \n",
       "3       330.0        24.0      3.0          63.32         270.0    1.0  \n",
       "4       120.0       120.0      4.0           7.14         118.0    0.5  "
      ]
     },
     "execution_count": 4,
     "metadata": {},
     "output_type": "execute_result"
    }
   ],
   "source": [
    "clean_profile_expanded.head()"
   ]
  },
  {
   "cell_type": "markdown",
   "metadata": {},
   "source": [
    "# 2) Determining target variable and benchmark model"
   ]
  },
  {
   "cell_type": "markdown",
   "metadata": {},
   "source": [
    "That has been a lot of trouble, but for a reason.\n",
    "\n",
    "Now we have several features at our disposal in our clean_profile_expanded dataframe."
   ]
  },
  {
   "cell_type": "markdown",
   "metadata": {},
   "source": [
    "**GENERAL BENCHMARK:**\n",
    "    \n",
    "We will define the current success ratio rate as the following:\n",
    "\n",
    "$SR = n_{offers sent}/n_{offers redeemed}$\n",
    "\n",
    "The first benchmark for our model will be:"
   ]
  },
  {
   "cell_type": "code",
   "execution_count": 5,
   "metadata": {},
   "outputs": [
    {
     "data": {
      "text/plain": [
       "0.6098381609368245"
      ]
     },
     "execution_count": 5,
     "metadata": {},
     "output_type": "execute_result"
    }
   ],
   "source": [
    "total_matched_offers['y'].sum()/total_matched_offers['y'].count()  "
   ]
  },
  {
   "cell_type": "markdown",
   "metadata": {},
   "source": [
    "So, at this moment, the massive emailing campaign is getting a success probability of about 61%."
   ]
  },
  {
   "cell_type": "markdown",
   "metadata": {},
   "source": [
    "## 3) Customer segmentation"
   ]
  },
  {
   "cell_type": "markdown",
   "metadata": {},
   "source": [
    "We could see above a glance of the different success rates the offers have on the customers.\n",
    "\n",
    "We will now classify our users in highly succeptible to our offers, curious or not at all interested."
   ]
  },
  {
   "cell_type": "code",
   "execution_count": null,
   "metadata": {},
   "outputs": [],
   "source": []
  },
  {
   "cell_type": "code",
   "execution_count": null,
   "metadata": {},
   "outputs": [],
   "source": []
  },
  {
   "cell_type": "code",
   "execution_count": null,
   "metadata": {},
   "outputs": [],
   "source": []
  },
  {
   "cell_type": "code",
   "execution_count": null,
   "metadata": {},
   "outputs": [],
   "source": []
  },
  {
   "cell_type": "code",
   "execution_count": null,
   "metadata": {},
   "outputs": [],
   "source": []
  },
  {
   "cell_type": "code",
   "execution_count": null,
   "metadata": {},
   "outputs": [],
   "source": []
  }
 ],
 "metadata": {
  "kernelspec": {
   "display_name": "Python 3",
   "language": "python",
   "name": "python3"
  },
  "language_info": {
   "codemirror_mode": {
    "name": "ipython",
    "version": 3
   },
   "file_extension": ".py",
   "mimetype": "text/x-python",
   "name": "python",
   "nbconvert_exporter": "python",
   "pygments_lexer": "ipython3",
   "version": "3.7.3"
  }
 },
 "nbformat": 4,
 "nbformat_minor": 2
}
